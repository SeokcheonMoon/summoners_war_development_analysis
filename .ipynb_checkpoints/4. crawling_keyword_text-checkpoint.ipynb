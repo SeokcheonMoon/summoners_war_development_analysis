{
 "cells": [
  {
   "cell_type": "code",
   "execution_count": 1,
   "id": "b6c5d3c3-f84a-480a-81a0-4f2348badded",
   "metadata": {},
   "outputs": [],
   "source": [
    "import pandas as pd\n",
    "import copy\n",
    "import requests\n",
    "from tqdm.notebook import tqdm\n",
    "from tqdm import tqdm\n",
    "import numpy as np\n",
    "from selenium import webdriver\n",
    "from selenium.webdriver.common.by import By          # - 정보 획득\n",
    "from selenium.webdriver.common.keys import Keys\n",
    "# from engine_connect import create_engine_connect, db_connection\n",
    "from sqlalchemy import create_engine\n",
    "import os\n",
    "import re\n",
    "import time\n",
    "from bs4 import BeautifulSoup\n",
    "import warnings\n",
    "import pymysql\n",
    "import math\n",
    "warnings.filterwarnings(action='ignore')\n",
    "from selenium.webdriver.common.action_chains import ActionChains\n",
    "import json\n",
    "from lxml import html\n",
    "\n",
    "\n",
    "\n",
    "import time\n",
    "import datetime as dt # 사용시 datetime.dt 로 사용 # 현재 시간 사용\n",
    "from datetime import datetime # 사용시 함수로 바로 사용 #-> 시간 비교"
   ]
  },
  {
   "cell_type": "code",
   "execution_count": 2,
   "id": "f409da4a-535d-433d-9ee6-c29ba0aa3c00",
   "metadata": {},
   "outputs": [],
   "source": [
    "# * 웹 크롤링 동작\n",
    "from selenium import webdriver \n",
    "from selenium.webdriver.chrome.service import Service as ChromeService\n",
    "from webdriver_manager.chrome import ChromeDriverManager\n",
    "\n",
    "import time\n",
    "# ChromeDriver 실행\n",
    "\n",
    "from selenium.webdriver.chrome.options import Options\n",
    "\n",
    "# Chrome 브라우저 옵션 생성\n",
    "chrome_options = Options()\n",
    "\n",
    "# User-Agent 설정\n",
    "chrome_options.add_argument(\"--user-agent='Mozilla/5.0 (Windows NT 10.0; Win64; x64) AppleWebKit/537.36 (KHTML, like Gecko) Chrome/129.0.0.0 Safari/537.36\")\n",
    "\n",
    "# WebDriver 생성\n",
    "webdriver_manager_directory = ChromeDriverManager().install()"
   ]
  },
  {
   "cell_type": "markdown",
   "id": "92149009-7d93-4c7f-b6e7-2eb86b1db450",
   "metadata": {},
   "source": [
    "## 데이터 불러오기"
   ]
  },
  {
   "cell_type": "code",
   "execution_count": 3,
   "id": "39a2e14f-d8b4-4796-8077-3d1ea2ad1bca",
   "metadata": {},
   "outputs": [],
   "source": [
    "df_suggestion = pd.read_excel(\"dataset/df_suggestion.xlsx\", index_col=0)"
   ]
  },
  {
   "cell_type": "code",
   "execution_count": 4,
   "id": "085bf033-9590-45a7-b022-2fd4f72adda9",
   "metadata": {},
   "outputs": [],
   "source": [
    "# 폭주 키워드 데이터프레임\n",
    "df_suggestion_keyword_rampage = df_suggestion.query('title.str.contains(\"폭주\")')\n",
    "\n",
    "# 실시간 아레나 키워드 데이터프레임\n",
    "keywords = [\"실시간 아레나\", \"실레나\"]\n",
    "query_string = ' | '.join([f'title.str.contains(\"{keyword}\")' for keyword in keywords])\n",
    "df_suggestion_keyword_arena = df_suggestion.query(query_string)\n",
    "\n",
    "# df_suggestion_keyword_arena = df_suggestion.query('title.str.contains(\"실레나\")')"
   ]
  },
  {
   "cell_type": "code",
   "execution_count": 5,
   "id": "f17e08bc-6eae-49f7-bf16-d095262ae529",
   "metadata": {},
   "outputs": [
    {
     "data": {
      "text/html": [
       "<div>\n",
       "<style scoped>\n",
       "    .dataframe tbody tr th:only-of-type {\n",
       "        vertical-align: middle;\n",
       "    }\n",
       "\n",
       "    .dataframe tbody tr th {\n",
       "        vertical-align: top;\n",
       "    }\n",
       "\n",
       "    .dataframe thead th {\n",
       "        text-align: right;\n",
       "    }\n",
       "</style>\n",
       "<table border=\"1\" class=\"dataframe\">\n",
       "  <thead>\n",
       "    <tr style=\"text-align: right;\">\n",
       "      <th></th>\n",
       "      <th>title</th>\n",
       "      <th>url</th>\n",
       "      <th>date</th>\n",
       "      <th>like</th>\n",
       "    </tr>\n",
       "  </thead>\n",
       "  <tbody>\n",
       "    <tr>\n",
       "      <th>275</th>\n",
       "      <td>이벤트 코인으로 폭주룬 685개 샀는데요</td>\n",
       "      <td>https://cafe.naver.com/ArticleRead.nhn?clubid=...</td>\n",
       "      <td>2024.06.05.</td>\n",
       "      <td>0</td>\n",
       "    </tr>\n",
       "    <tr>\n",
       "      <th>318</th>\n",
       "      <td>개좆버러지같은 폭주겜</td>\n",
       "      <td>https://cafe.naver.com/ArticleRead.nhn?clubid=...</td>\n",
       "      <td>2024.05.26.</td>\n",
       "      <td>0</td>\n",
       "    </tr>\n",
       "    <tr>\n",
       "      <th>528</th>\n",
       "      <td>폭주를 '전략적'으로 사용할 수 있게끔 생각해본 방안 (+ 디버프 관련 한 스푼)</td>\n",
       "      <td>https://cafe.naver.com/ArticleRead.nhn?clubid=...</td>\n",
       "      <td>2024.03.24.</td>\n",
       "      <td>1</td>\n",
       "    </tr>\n",
       "    <tr>\n",
       "      <th>613</th>\n",
       "      <td>점령전 폭주 횟수좀 줄여주세요.;;;</td>\n",
       "      <td>https://cafe.naver.com/ArticleRead.nhn?clubid=...</td>\n",
       "      <td>2024.02.22.</td>\n",
       "      <td>0</td>\n",
       "    </tr>\n",
       "    <tr>\n",
       "      <th>745</th>\n",
       "      <td>모든 pvp컨텐츠 폭주 1턴제한, 역속성 패널티 강화(뎀감15, 뎀증10 프로씩) ...</td>\n",
       "      <td>https://cafe.naver.com/ArticleRead.nhn?clubid=...</td>\n",
       "      <td>2023.12.14.</td>\n",
       "      <td>0</td>\n",
       "    </tr>\n",
       "    <tr>\n",
       "      <th>...</th>\n",
       "      <td>...</td>\n",
       "      <td>...</td>\n",
       "      <td>...</td>\n",
       "      <td>...</td>\n",
       "    </tr>\n",
       "    <tr>\n",
       "      <th>6520</th>\n",
       "      <td>투스야 폭주가뭐어쨋다고???</td>\n",
       "      <td>https://cafe.naver.com/ArticleRead.nhn?clubid=...</td>\n",
       "      <td>2020.02.08.</td>\n",
       "      <td>0</td>\n",
       "    </tr>\n",
       "    <tr>\n",
       "      <th>6603</th>\n",
       "      <td>투스야뭐라고? 폭주확률이뭐?ㅆㅂ</td>\n",
       "      <td>https://cafe.naver.com/ArticleRead.nhn?clubid=...</td>\n",
       "      <td>2020.01.20.</td>\n",
       "      <td>0</td>\n",
       "    </tr>\n",
       "    <tr>\n",
       "      <th>6650</th>\n",
       "      <td>개 ㅅㅂ풍신수에 폭주패시브달앗나 시발</td>\n",
       "      <td>https://cafe.naver.com/ArticleRead.nhn?clubid=...</td>\n",
       "      <td>2020.01.11.</td>\n",
       "      <td>0</td>\n",
       "    </tr>\n",
       "    <tr>\n",
       "      <th>6651</th>\n",
       "      <td>하 풍신수개ㅆㅂ폭주 씹 시발진짜</td>\n",
       "      <td>https://cafe.naver.com/ArticleRead.nhn?clubid=...</td>\n",
       "      <td>2020.01.11.</td>\n",
       "      <td>0</td>\n",
       "    </tr>\n",
       "    <tr>\n",
       "      <th>6714</th>\n",
       "      <td>어찌 잠잠하다했다 폭주시발덱보정 ㅅㅂ</td>\n",
       "      <td>https://cafe.naver.com/ArticleRead.nhn?clubid=...</td>\n",
       "      <td>2020.01.02.</td>\n",
       "      <td>0</td>\n",
       "    </tr>\n",
       "  </tbody>\n",
       "</table>\n",
       "<p>102 rows × 4 columns</p>\n",
       "</div>"
      ],
      "text/plain": [
       "                                                  title  \\\n",
       "275                              이벤트 코인으로 폭주룬 685개 샀는데요   \n",
       "318                                         개좆버러지같은 폭주겜   \n",
       "528       폭주를 '전략적'으로 사용할 수 있게끔 생각해본 방안 (+ 디버프 관련 한 스푼)   \n",
       "613                                점령전 폭주 횟수좀 줄여주세요.;;;   \n",
       "745   모든 pvp컨텐츠 폭주 1턴제한, 역속성 패널티 강화(뎀감15, 뎀증10 프로씩) ...   \n",
       "...                                                 ...   \n",
       "6520                                    투스야 폭주가뭐어쨋다고???   \n",
       "6603                                  투스야뭐라고? 폭주확률이뭐?ㅆㅂ   \n",
       "6650                               개 ㅅㅂ풍신수에 폭주패시브달앗나 시발   \n",
       "6651                                  하 풍신수개ㅆㅂ폭주 씹 시발진짜   \n",
       "6714                               어찌 잠잠하다했다 폭주시발덱보정 ㅅㅂ   \n",
       "\n",
       "                                                    url         date  like  \n",
       "275   https://cafe.naver.com/ArticleRead.nhn?clubid=...  2024.06.05.     0  \n",
       "318   https://cafe.naver.com/ArticleRead.nhn?clubid=...  2024.05.26.     0  \n",
       "528   https://cafe.naver.com/ArticleRead.nhn?clubid=...  2024.03.24.     1  \n",
       "613   https://cafe.naver.com/ArticleRead.nhn?clubid=...  2024.02.22.     0  \n",
       "745   https://cafe.naver.com/ArticleRead.nhn?clubid=...  2023.12.14.     0  \n",
       "...                                                 ...          ...   ...  \n",
       "6520  https://cafe.naver.com/ArticleRead.nhn?clubid=...  2020.02.08.     0  \n",
       "6603  https://cafe.naver.com/ArticleRead.nhn?clubid=...  2020.01.20.     0  \n",
       "6650  https://cafe.naver.com/ArticleRead.nhn?clubid=...  2020.01.11.     0  \n",
       "6651  https://cafe.naver.com/ArticleRead.nhn?clubid=...  2020.01.11.     0  \n",
       "6714  https://cafe.naver.com/ArticleRead.nhn?clubid=...  2020.01.02.     0  \n",
       "\n",
       "[102 rows x 4 columns]"
      ]
     },
     "execution_count": 5,
     "metadata": {},
     "output_type": "execute_result"
    }
   ],
   "source": [
    "df_suggestion_keyword_rampage"
   ]
  },
  {
   "cell_type": "code",
   "execution_count": 6,
   "id": "12c74990-a211-4f18-ab5a-c42222c6993b",
   "metadata": {},
   "outputs": [
    {
     "data": {
      "text/html": [
       "<div>\n",
       "<style scoped>\n",
       "    .dataframe tbody tr th:only-of-type {\n",
       "        vertical-align: middle;\n",
       "    }\n",
       "\n",
       "    .dataframe tbody tr th {\n",
       "        vertical-align: top;\n",
       "    }\n",
       "\n",
       "    .dataframe thead th {\n",
       "        text-align: right;\n",
       "    }\n",
       "</style>\n",
       "<table border=\"1\" class=\"dataframe\">\n",
       "  <thead>\n",
       "    <tr style=\"text-align: right;\">\n",
       "      <th></th>\n",
       "      <th>title</th>\n",
       "      <th>url</th>\n",
       "      <th>date</th>\n",
       "      <th>like</th>\n",
       "    </tr>\n",
       "  </thead>\n",
       "  <tbody>\n",
       "    <tr>\n",
       "      <th>30</th>\n",
       "      <td>실레나 리플레이</td>\n",
       "      <td>https://cafe.naver.com/ArticleRead.nhn?clubid=...</td>\n",
       "      <td>2024.10.07.</td>\n",
       "      <td>1</td>\n",
       "    </tr>\n",
       "    <tr>\n",
       "      <th>112</th>\n",
       "      <td>실레나 프리벤 건의</td>\n",
       "      <td>https://cafe.naver.com/ArticleRead.nhn?clubid=...</td>\n",
       "      <td>2024.08.27.</td>\n",
       "      <td>0</td>\n",
       "    </tr>\n",
       "    <tr>\n",
       "      <th>131</th>\n",
       "      <td>실레나 즐겨찾기/룬 프리셋을 만들어주세요</td>\n",
       "      <td>https://cafe.naver.com/ArticleRead.nhn?clubid=...</td>\n",
       "      <td>2024.08.16.</td>\n",
       "      <td>1</td>\n",
       "    </tr>\n",
       "    <tr>\n",
       "      <th>149</th>\n",
       "      <td>실레나 할때 유형 표시 좀 해주세요</td>\n",
       "      <td>https://cafe.naver.com/ArticleRead.nhn?clubid=...</td>\n",
       "      <td>2024.08.07.</td>\n",
       "      <td>0</td>\n",
       "    </tr>\n",
       "    <tr>\n",
       "      <th>198</th>\n",
       "      <td>실레나 룬 버그?</td>\n",
       "      <td>https://cafe.naver.com/ArticleRead.nhn?clubid=...</td>\n",
       "      <td>2024.07.15.</td>\n",
       "      <td>0</td>\n",
       "    </tr>\n",
       "    <tr>\n",
       "      <th>...</th>\n",
       "      <td>...</td>\n",
       "      <td>...</td>\n",
       "      <td>...</td>\n",
       "      <td>...</td>\n",
       "    </tr>\n",
       "    <tr>\n",
       "      <th>6525</th>\n",
       "      <td>실레나 한탄합니다 운영자님.</td>\n",
       "      <td>https://cafe.naver.com/ArticleRead.nhn?clubid=...</td>\n",
       "      <td>2020.02.07.</td>\n",
       "      <td>0</td>\n",
       "    </tr>\n",
       "    <tr>\n",
       "      <th>6701</th>\n",
       "      <td>실레나 보상 형변석 추가좀</td>\n",
       "      <td>https://cafe.naver.com/ArticleRead.nhn?clubid=...</td>\n",
       "      <td>2020.01.04.</td>\n",
       "      <td>0</td>\n",
       "    </tr>\n",
       "    <tr>\n",
       "      <th>6702</th>\n",
       "      <td>실레나 보상에 추가해주세요.</td>\n",
       "      <td>https://cafe.naver.com/ArticleRead.nhn?clubid=...</td>\n",
       "      <td>2020.01.03.</td>\n",
       "      <td>0</td>\n",
       "    </tr>\n",
       "    <tr>\n",
       "      <th>6705</th>\n",
       "      <td>실레나 점수 개편좀 해주세요</td>\n",
       "      <td>https://cafe.naver.com/ArticleRead.nhn?clubid=...</td>\n",
       "      <td>2020.01.03.</td>\n",
       "      <td>0</td>\n",
       "    </tr>\n",
       "    <tr>\n",
       "      <th>6716</th>\n",
       "      <td>물극지,풍하프버그/ 물발키리/ 실레나보상,상점패치좀해주세요</td>\n",
       "      <td>https://cafe.naver.com/ArticleRead.nhn?clubid=...</td>\n",
       "      <td>2020.01.02.</td>\n",
       "      <td>0</td>\n",
       "    </tr>\n",
       "  </tbody>\n",
       "</table>\n",
       "<p>241 rows × 4 columns</p>\n",
       "</div>"
      ],
      "text/plain": [
       "                                 title  \\\n",
       "30                            실레나 리플레이   \n",
       "112                         실레나 프리벤 건의   \n",
       "131             실레나 즐겨찾기/룬 프리셋을 만들어주세요   \n",
       "149                실레나 할때 유형 표시 좀 해주세요   \n",
       "198                          실레나 룬 버그?   \n",
       "...                                ...   \n",
       "6525                   실레나 한탄합니다 운영자님.   \n",
       "6701                    실레나 보상 형변석 추가좀   \n",
       "6702                   실레나 보상에 추가해주세요.   \n",
       "6705                   실레나 점수 개편좀 해주세요   \n",
       "6716  물극지,풍하프버그/ 물발키리/ 실레나보상,상점패치좀해주세요   \n",
       "\n",
       "                                                    url         date  like  \n",
       "30    https://cafe.naver.com/ArticleRead.nhn?clubid=...  2024.10.07.     1  \n",
       "112   https://cafe.naver.com/ArticleRead.nhn?clubid=...  2024.08.27.     0  \n",
       "131   https://cafe.naver.com/ArticleRead.nhn?clubid=...  2024.08.16.     1  \n",
       "149   https://cafe.naver.com/ArticleRead.nhn?clubid=...  2024.08.07.     0  \n",
       "198   https://cafe.naver.com/ArticleRead.nhn?clubid=...  2024.07.15.     0  \n",
       "...                                                 ...          ...   ...  \n",
       "6525  https://cafe.naver.com/ArticleRead.nhn?clubid=...  2020.02.07.     0  \n",
       "6701  https://cafe.naver.com/ArticleRead.nhn?clubid=...  2020.01.04.     0  \n",
       "6702  https://cafe.naver.com/ArticleRead.nhn?clubid=...  2020.01.03.     0  \n",
       "6705  https://cafe.naver.com/ArticleRead.nhn?clubid=...  2020.01.03.     0  \n",
       "6716  https://cafe.naver.com/ArticleRead.nhn?clubid=...  2020.01.02.     0  \n",
       "\n",
       "[241 rows x 4 columns]"
      ]
     },
     "execution_count": 6,
     "metadata": {},
     "output_type": "execute_result"
    }
   ],
   "source": [
    "df_suggestion_keyword_arena"
   ]
  },
  {
   "cell_type": "markdown",
   "id": "4d9dd8a9-ede7-4333-b3cb-b1de24c733c6",
   "metadata": {},
   "source": [
    "## 데이터 크롤링"
   ]
  },
  {
   "cell_type": "markdown",
   "id": "1bed62f4-c26c-48b1-b516-581fdc7ed177",
   "metadata": {},
   "source": [
    "### 1. 폭주 키워드"
   ]
  },
  {
   "cell_type": "code",
   "execution_count": 7,
   "id": "ee958f82-f2ab-43e6-af2f-be447320920f",
   "metadata": {},
   "outputs": [],
   "source": [
    "# 1\n",
    "\n",
    "# 인터넷 창 오픈\n",
    "\n",
    "webdriver_manager_directory = ChromeDriverManager().install()\n",
    "correct_webdriver_manager_directory = os.path.join(os.path.dirname(webdriver_manager_directory), \"chromedriver.exe\")\n",
    "browser = webdriver.Chrome(service=ChromeService(executable_path=correct_webdriver_manager_directory), options=chrome_options)\n",
    "\n",
    "# 네이버 로그인\n",
    "browser.get(\"https://nid.naver.com/nidlogin.login\")"
   ]
  },
  {
   "cell_type": "code",
   "execution_count": 8,
   "id": "970605fe-5fab-4cdb-8c54-61a63e82727c",
   "metadata": {
    "scrolled": true
   },
   "outputs": [
    {
     "name": "stderr",
     "output_type": "stream",
     "text": [
      "  1%|█▏                                                                                                                        | 1/102 [00:06<11:03,  6.57s/it]"
     ]
    },
    {
     "name": "stdout",
     "output_type": "stream",
     "text": [
      "폭주 치피 전설만 한번을 안나오는데 확률 주작맞죠?\n"
     ]
    },
    {
     "name": "stderr",
     "output_type": "stream",
     "text": [
      "  2%|██▍                                                                                                                       | 2/102 [00:09<07:30,  4.51s/it]"
     ]
    },
    {
     "name": "stdout",
     "output_type": "stream",
     "text": [
      "실레나 좃같네\n"
     ]
    },
    {
     "name": "stderr",
     "output_type": "stream",
     "text": [
      "  3%|███▌                                                                                                                      | 3/102 [00:12<06:11,  3.75s/it]"
     ]
    },
    {
     "name": "stdout",
     "output_type": "stream",
     "text": [
      "솔로레이드가 가능해지고 실레나에 관심이 생겨서 조금씩 알아보기 시작했습니다.\n",
      "그런데 많은 분들이 실레나에서의 확률 게임에 분개하고 심지어 접는다는 분들도 종종 보여서 함께 플레이하는 유저로서 안타까웠습니다.\n",
      "'확률'은 게임에 있어서 불확실성을 더하기 때문에 플레이어에게 긴장과 동시에 쾌감, 혹은 절망을 안겨줍니다.\n",
      "하지만 너무 지나친 확률 게임은, 결국 유저가 자신의 힘보다 운의 힘이 더 강하다고 생각하게끔 만들어서 끝에는 포기하게 만듭니다.\n",
      "여기서 이전부터 대두되는 문제가 '폭주'여서, 어떻게 '폭주'를 바꾸면 서머너즈워가 전략게임에 가까워질까 고민했습니다.\n",
      "저는 폭주의 전략화를 위해 '폭주 게이지'를 제시합니다.\n",
      "현재 폭주는 자신의 턴에 22% 확률로 한 턴이 추가로 획득되는 메커니즘을 지니고 있습니다.\n",
      "저는 여기서 22%의 확률로 한 턴을 얻는 것이 아닌, 22%의 폭주게이지를 얻어 100%가 채워졌을 때 폭주 스택을 얻도록 하면 어떨지 생각해봤습니다.\n",
      "여기서 초과된 게이지는 다음 폭주 스택을 위한 게이지로 이전됩니다.\n",
      "몬스터의 턴에 폭주 스택 사용 버튼을 누르고 스킬을 사용하면, 그 몬스터가 한 턴을 더 얻는 방식으로 폭주 스택을 사용할 수 있습니다.\n",
      "일단 저는 폭주 스택을 최대 3스택까지 쌓을 수 있고, 이 폭주 스택과 폭주 게이지는 폭주 룬을 지닌 몬스터들끼리 공유하는 방식을 생각해봤습니다.\n",
      "방식이 이런 거지, 한 턴 당 쌓이는 게이지 양이나 최대 스택 등 세부 요소는 조정하면 되겠습니다.\n",
      "이렇게 하면 폭주가 지금보다는 전략적 요소에 가깝게 사용되고 여겨지지 않을까 생각해봅니다.\n",
      "이에 대해 생각하면서 이 개념을 디버프의 매커니즘에도 적용해볼 수 있겠다고 생각했습니다.\n",
      "예를 들면, 각 디버프에 해당하는 게이지를 만들어서 <기본 스킬에 달려있는 확률 + 효과 적중 - 효과 저항> 만큼 디버프 게이지를 채워서 100%가 됐을 때 디버프에 걸리는 식으로 말입니다.\n",
      "하지만 디버프끼리 지속 턴도 제각각이고, 여러모로 더 복잡해보여서 디버프에 관한 것은 조금 더 생각해볼 것 같습니다.\n",
      "제가 제시한 방안의 핵심은, 서머너즈워의 '전략게임화'입니다.\n",
      "물론 확률의 쾌감이 더 좋다는 분들도 있습니다.\n",
      "그런 점을 감안해서 PVE는 확률의 재미를 살려놓고, 대회에 영향이 가는 실레나만이라도, 혹은 이벤트성으로라도 한 번 시도되면 좋겠습니다. 대회에서 운으로 승패가 좌지우지 되는 장면이 나오는 건... 좀 그래요. 아니면 이 글을 게임사에서 보시기라도 한다면 정말 기쁠 것 같습니다...\n",
      "어릴 때 이노티아, 슈퍼액션히어로 등 컴투스 게임들을 좋아했어서 서머너즈워에도 유독 애정이 갑니다.\n",
      "부디 오래 함께 가는 게임과 유저가 되었으면 합니다.\n",
      "여러 의견 환영합니다.\n",
      "긴 글 읽어주셔서 감사합니다.\n"
     ]
    },
    {
     "name": "stderr",
     "output_type": "stream",
     "text": [
      "  4%|████▊                                                                                                                     | 4/102 [00:15<05:36,  3.43s/it]"
     ]
    },
    {
     "name": "stdout",
     "output_type": "stream",
     "text": [
      "공격하면 제 폭주는 한번 터질까 말까인데\n",
      "상대방 방덱은 폭주 3~4번씩 터지니까 이길게임도 못이기겠어요;;\n",
      "횟수좀 조정해주세요..\n"
     ]
    },
    {
     "name": "stderr",
     "output_type": "stream",
     "text": [
      "  5%|█████▉                                                                                                                    | 5/102 [00:18<05:06,  3.16s/it]"
     ]
    },
    {
     "name": "stdout",
     "output_type": "stream",
     "text": [
      "구라아니고 풍팬더 불뎀감 20 자체뎀감 20이라 오히려 역속성이 딜을 더 못박는 병11-신같은 경우가 있음 ㅋㅋ 어이가없어서 말이안나온다니까\n"
     ]
    },
    {
     "name": "stderr",
     "output_type": "stream",
     "text": [
      "  6%|███████▏                                                                                                                  | 6/102 [00:20<04:38,  2.90s/it]"
     ]
    },
    {
     "name": "stdout",
     "output_type": "stream",
     "text": [
      "나도 안터져도 되니깐 그냥 제한 좀 해줘\n",
      "폭주로 게임할거면 조합이나 전략이 뭐가 필요하냐\n",
      "그냥 운빨로 하지\n"
     ]
    },
    {
     "name": "stderr",
     "output_type": "stream",
     "text": [
      "  7%|████████▎                                                                                                                 | 7/102 [00:22<04:20,  2.74s/it]"
     ]
    },
    {
     "name": "stdout",
     "output_type": "stream",
     "text": [
      "대가리가 있으면?\n"
     ]
    },
    {
     "name": "stderr",
     "output_type": "stream",
     "text": [
      "  8%|█████████▌                                                                                                                | 8/102 [00:24<03:54,  2.50s/it]"
     ]
    },
    {
     "name": "stdout",
     "output_type": "stream",
     "text": [
      "내가 폭주 연속 터져서 짜릿하게 이긴 쾌감\n",
      "적 폭주 개터져서 개빡치고 폰 던질것 같은 분노\n",
      "솔직히 후자가 비교도 안되게 기억에 남습니다\n",
      "이것은 컴투스의 의도와 완전 다르단 얘깁니다.\n",
      "방덱만 폭주 제한 걸라는 얘기가 아니잖아요\n",
      "나도 제한 똑같이 걸테니 걸어달란 얘기잖아요.\n",
      "폭주 시스템에 환멸을 느껴 이탈하는 사람\n",
      "폭주 시스템에 엄청난 흥미를 느껴 즐겜하는 사람\n",
      "누가 더 많을까요?\n",
      "그렇다면 컴투스는 어느측 장단에 맞춰야할까요?\n",
      "수도없이 많이 지적돼왔지만\n",
      "이젠 조치해야합니다\n",
      "지금도 매우 늦었지만\n"
     ]
    },
    {
     "name": "stderr",
     "output_type": "stream",
     "text": [
      "  9%|██████████▊                                                                                                               | 9/102 [00:27<03:52,  2.50s/it]"
     ]
    },
    {
     "name": "stdout",
     "output_type": "stream",
     "text": [
      "폭주 존재 때문에 전략의 의미가 크게 훼손되고, 아 ㅆ..ㅂ 이게 왜져야돼? 하는 상황이 너무많이나옴. 점전 10공덱만 들어가도 최소한번이상 아슬아슬한 상황 나오거나 공실날 정도로 ㅈ같은 상황나오는데 게임의 재미가 안느껴지고 너무 억지라고만 생각이듬. 턴한번만 더가져가도 다른 모든 룬보다 기대값이 좋은데 2,3폭주 어쩔때는 4폭주 이지랄하면 뒤질일이 없는 놈이 뒤져버리고 갑자기 기도를 시작하게 됨(나도한번만..제발). 폭주제한하면 방성ㅇㅣ 불가능 하다고 하는데 그건 점령전을 뜯어고치고 진행방식을 바꿔야할 문제지, 병신같은 폭주로 방성 기도할일이 아니라고봄. (ex 방덱에 1밴 설정가능하게 한ㄷㅏ던지)\n",
      "이게임의 끝은 그냥 10날빌인데 왜 그러냐면 존나게 고민해서 정보찾고 카운터로 들어가도 턴한번 넘어가고 폭주개ㅈㄹ에 공실나면 내 노력, 뇌지컬이 의미없다고 느껴지기 때문 걍날빌쓰고 순식간에 10칼쓰고 접어버리는게 이득이기 때문임\n"
     ]
    },
    {
     "name": "stderr",
     "output_type": "stream",
     "text": [
      " 10%|███████████▊                                                                                                             | 10/102 [00:30<04:00,  2.62s/it]"
     ]
    },
    {
     "name": "stdout",
     "output_type": "stream",
     "text": [
      "폭주가 4번씩 뜨는게 말이 안되잖아요. 상성이고 전략이고 폭주가 5번 연속 뜨면 진다고요. 겜이 재미가 없어요 이럴때마다\n"
     ]
    },
    {
     "name": "stderr",
     "output_type": "stream",
     "text": [
      " 11%|█████████████                                                                                                            | 11/102 [00:32<03:57,  2.62s/it]"
     ]
    },
    {
     "name": "stdout",
     "output_type": "stream",
     "text": [
      "더러워서 안한다 겜.\n",
      "적당히 조작해야지\n"
     ]
    },
    {
     "name": "stderr",
     "output_type": "stream",
     "text": [
      " 12%|██████████████▏                                                                                                          | 12/102 [00:35<03:49,  2.55s/it]"
     ]
    },
    {
     "name": "stdout",
     "output_type": "stream",
     "text": [
      "무료 이벤트인데도 안나와서 속터지는데\n",
      "번개 써가며 돌겠나\n",
      "레이드땜에 접는다던 사람들 이해가 가네\n",
      "반십년 넘게한 고인물 상위 랭커들 폭주룬 비율이 2/3가 넘던데\n",
      "신규 유저들도 보는게 있는데 어느 세월에 폭주룬 풀 채우고 실레나 유입되서 경쟁이 활발해지겠냐\n",
      "향후 10년 보고 늦추다가 몇년 안가서 섭종하겠다던말이 와닿는다\n"
     ]
    },
    {
     "name": "stderr",
     "output_type": "stream",
     "text": [
      " 13%|███████████████▍                                                                                                         | 13/102 [00:38<03:53,  2.63s/it]"
     ]
    },
    {
     "name": "stdout",
     "output_type": "stream",
     "text": [
      "폭주 확률좀 제대로 만들어달라\n",
      "아니 개발자들이 그것도 못하나\n",
      "확률이 개판임.\n",
      "그냥 컴파일러사가 제공하는 랜덤함수 써라. 자체개발한거 쓰는거 같은데 그러니깐 개판이지.\n"
     ]
    },
    {
     "name": "stderr",
     "output_type": "stream",
     "text": [
      " 14%|████████████████▌                                                                                                        | 14/102 [00:40<03:46,  2.57s/it]"
     ]
    },
    {
     "name": "stdout",
     "output_type": "stream",
     "text": [
      "예전부터 생각했던 건데 아직도 그대로여서 한번 건의해봅니다.\n",
      "폭주 터지면 멈칫하면서 그냥 턴을 한번 더 먹게 되는데요.\n",
      "실레나 같은 것도 보면 사용하는 사람도\n",
      "그냥 턴을 바로 먹으니까 어 폭주 터진건가 ? 하면서 잠깐 멈칫하잖아요 ?\n",
      "예를 들어 턴을 한번 더먹는 애들은 폭주때매 턴이 다시온건지\n",
      "그냥 자기 스킬때문에 턴이 온건지도 모르겠고,\n",
      "뭔가 좀 표시를 잘 나게 해주면 더 나을 것 같은데요.\n",
      "폭주 터질때마다 주위에 오라가 생긴다던지해서\n",
      "그러면 뭔가 좀 더 재미있을텐데 ..\n",
      "물론 좀 더 빡치겠지만 .\n",
      "그리고 효과음 타격감도 좀 바꿔주세요.\n",
      "도대체 몇년을 변화없이 쓰는 건가요?\n",
      "몇번 건의해도 전혀 개선 안되네요 사운드는, 얼마나 건의를 해야 바뀔까요?\n",
      "뭐 하나 건의하면 몇년은 걸려야 반영해주니 ..\n"
     ]
    },
    {
     "name": "stderr",
     "output_type": "stream",
     "text": [
      " 15%|█████████████████▊                                                                                                       | 15/102 [00:43<03:54,  2.70s/it]"
     ]
    },
    {
     "name": "stdout",
     "output_type": "stream",
     "text": [
      "참다 참다 열받네요.\n",
      "레이드를 돌아도 왜 폭주 연마석만 드랍율 차이나나요?\n",
      "확률 동일하게 설정하셨다면 비슷한 값이 나와야 정상인데\n",
      "희귀연마석 획득 비율만 봐도 심각하게 차이납니다.\n",
      "예를들어 1500개에서 2000개 까지 파밍한후\n",
      "희귀, 영웅 연마석을 정리합니다.\n",
      "그리고 다시 2000개 까지 파밍합니다\n",
      "네?? 다른건 다 먹는데 폭주는 안나오네요??\n",
      "한번일까요??\n",
      "아닙니다 매번그럽니다.\n",
      "룬파밍은 통계적으로 확인하기 힘든건 사실이지만\n",
      "이건 누가봐도 확률 조작이네요\n",
      "확률조작한 의혹이 없다면\n",
      "당장 확률 공개요청합니다.\n",
      "------------------------------------------\n",
      "내용을 추가로 더 적어보자고하면\n",
      "이런 사소한 확률을 다르게 함으로써 매출의 영향\n",
      "(수요가 높은 특정재화를 파밍하기위해 이전보다 던전을 더 많이 돌아야하며, 추가적으로 크리스탈충전을 위한 구매가 더 많아짐)\n",
      "이 줄거라고 잘 알고있습니다.\n",
      "하지만, 굳이 이걸 이렇게 해야하나요??\n",
      "룬 부옵 강화수치 확률조작 의심\n",
      "룬 부옵 강화 2~3번 연속으로 붙은 확률조정 의심\n",
      "룬 부옵 연마 확률조작 의심\n",
      "룬 부옵 깡옵/% 옵션구성 확률조작 의심\n",
      "솔직히 다 매출의 영향이 있는 요소들임\n",
      "그리고 왜 이소리를 하느냐\n",
      "타게임(던파)를 하던시절\n",
      "괴랄같은 아이템강화확률인데\n",
      "아이템 희소성이 커서 그렇지 10강에서 12강 올리는\n",
      "난이도가\n",
      "서머너즈 영웅룽 같은옵 3번 붙을 활률이 더적음\n",
      "던파강화확률 정확하게 기억은 안나지만 11에서 12강\n",
      "확률이 33.3% 안됨\n",
      "근데 서머너즈워는 영웅룬 강화시 사실상 33.3%임\n",
      "근데 분명 개나소나 한가지 옵 몰빵 뜰확률이 생각보다 할만하다는 수준으로 판단( 룬파밍 횟수가 많음)\n",
      "처음은 33.3% 그다음 같은 옵강 확률 17.6%\n",
      "그다음 같은옵을 갈 확률 8.8%\n",
      "이 확률이 더 와닿게 되는건 합리적인 의심일까요??\n",
      "여러분의견이 어떤가요??\n",
      "선룬파밍후 후강화 100개정도해봐도\n",
      "3번 똑같은 옵 붙은적이 별로 없음.\n",
      "수치상\n",
      "첫 강화는 무의미\n",
      "100개중 똑같은 붙은 확률 17.6% 적용 17개\n",
      "다시 같은옵 붙은 확률 8.8% 적용시\n",
      "겨우 2개 안됨.\n",
      "얼추 맞아보이지 않나요??\n"
     ]
    },
    {
     "name": "stderr",
     "output_type": "stream",
     "text": [
      " 16%|██████████████████▉                                                                                                      | 16/102 [00:46<03:48,  2.66s/it]"
     ]
    },
    {
     "name": "stdout",
     "output_type": "stream",
     "text": [
      "폭주 확률조작좀 그만해라. 그렇게 조작하면 재밌냐?\n",
      "룬제작도 전부다 폭주말곤 제작안하지. 확률이 그렇게 조작되니.\n",
      "요즘 점령전 해보면 폭주확률이 10배 정도 많이 터진다. 방덱이.\n",
      "이렇게 까지 해야 재밌냐?\n",
      "맨날 확률조작하니 유저들 다 떠나고 다른겜돌도\n",
      "컴투스 거라면 절대 안한다.\n"
     ]
    },
    {
     "name": "stderr",
     "output_type": "stream",
     "text": [
      " 17%|████████████████████▏                                                                                                    | 17/102 [00:48<03:39,  2.58s/it]"
     ]
    },
    {
     "name": "stdout",
     "output_type": "stream",
     "text": [
      "안녕하세요, 폭주 카운트 기능 추가 건의드립니다.\n",
      "점령전이나 서버 방덱에서 본인과 상대 폭주룬 세트 수와 폭주 횟수 결과로 카운트해서 볼 수 있게 해주세요.\n",
      "폭주룬의 수치상 정량적 비교가 가능해지면 패배 요인 파악에 도움이 될 것 같습니다.\n",
      "(룬차이 or 덱구성 or 방덱 폭주 보정 or etc)\n",
      "더욱이 유저들이 언급하는 억까 폭주 판단의 요소로도 활용될 수 있을듯 하니 꼭 만들어주시면 좋겠습니다.\n",
      "감사합니다.\n"
     ]
    },
    {
     "name": "stderr",
     "output_type": "stream",
     "text": [
      " 18%|█████████████████████▎                                                                                                   | 18/102 [00:50<03:34,  2.56s/it]"
     ]
    },
    {
     "name": "stdout",
     "output_type": "stream",
     "text": [
      "인간적으로 폭주 횟수를 제한합시다.\n",
      "매턴 1회까지만 좀 해!!\n",
      "유저 말좀 들으라고\n",
      "유저가 느끼자나\n",
      "방덱 칠때마다 상대가 폭주가 터질것 같은 불길함을\n",
      "갖고 해야하는게 맞아??\n",
      "내 몹도 폭주 잘터질거라고 자신감 갖고 해야하는데\n",
      "자존감 떨어진상태로 하자나\n",
      "유저의 목소리를 잘 검토하고 반영만 해줘도\n",
      "자다가 떡이 생겨요\n"
     ]
    },
    {
     "name": "stderr",
     "output_type": "stream",
     "text": [
      " 19%|██████████████████████▌                                                                                                  | 19/102 [00:53<03:38,  2.63s/it]"
     ]
    },
    {
     "name": "stdout",
     "output_type": "stream",
     "text": [
      "공격 할때 마다 느끼는건데 상대 폭주 10번 가까이 터질 때 난 한번도 안터지는거 실화냐\n",
      "상대 몬스터 스킬 점령전 세마리 다 턴을 즉시 회복하는게 있었나\n",
      "내가 데리고 온 몬스터들 룬을 폭주를 안줬나 다시 확인해봤다 ㅋㅋㅋㅋ\n",
      "진짜 뭐있음 ㅋ 룬 과금 유돈가 ㅋㅋㅋㅋㅋㅋㅋ\n",
      "눈으로 확인 못하고 8마리가 턴 도는게 통계내기엔 턴수가 길지 않으니까 조작하는게 확실함 이거 ㅋㅋ\n"
     ]
    },
    {
     "name": "stderr",
     "output_type": "stream",
     "text": [
      " 20%|███████████████████████▋                                                                                                 | 20/102 [00:59<04:40,  3.42s/it]"
     ]
    },
    {
     "name": "stdout",
     "output_type": "stream",
     "text": [
      "추가 턴 획득 22% 이군요!! 하하하\n",
      "(덱은 전판에 폭주로 터지고 화나서 폭주 확률 여러분들한테 보여드리려고 아무거나 데려간겁니다. 훈수질 감사합니다만 바로 다음판에 정상덱 데려가서 이겼으니 너무 걱정들마셔요^^) 맥락 파악못하고 훈수부터 두는분들, 코리아 파이팅!\n"
     ]
    },
    {
     "name": "stderr",
     "output_type": "stream",
     "text": [
      " 21%|████████████████████████▉                                                                                                | 21/102 [01:02<04:35,  3.40s/it]"
     ]
    },
    {
     "name": "stdout",
     "output_type": "stream",
     "text": [
      "기절 걸어놓으면 뭐함\n",
      "벌떡 일어나서 다 쓸어버리는데\n",
      "폭주로 행동불가 해제시\n",
      "데미지 감소\n",
      "효적 감소\n",
      "빗맞음 확률 증가 해라 ㄱ같은 겜아\n"
     ]
    },
    {
     "name": "stderr",
     "output_type": "stream",
     "text": [
      " 22%|██████████████████████████                                                                                               | 22/102 [01:06<04:42,  3.53s/it]"
     ]
    },
    {
     "name": "stdout",
     "output_type": "stream",
     "text": [
      "분명 폭주확률은 22퍼센트인데\n",
      "암드나, 풍드나의 경우 폭주가 너무 잘터져서 분명 오류가 있을겁니다\n"
     ]
    },
    {
     "name": "stderr",
     "output_type": "stream",
     "text": [
      " 23%|███████████████████████████▎                                                                                             | 23/102 [01:09<04:38,  3.52s/it]"
     ]
    },
    {
     "name": "stdout",
     "output_type": "stream",
     "text": [
      "폭주 확률 조작좀 그만해라.\n",
      "점령 10판 하는동안 내 캐릭 폭주 0 회\n",
      "방어덱 대충 센거만 40번이 넘더라.\n",
      "조작좀 그만해라 겜 재미없에 왜 맨날 조작질하냐?\n",
      "컴튜스 게임 그러니깐 사람들이 안하지.\n",
      "신작 만들면 모하나 조작하는거 뻔한데 뭐하러해\n"
     ]
    },
    {
     "name": "stderr",
     "output_type": "stream",
     "text": [
      " 24%|████████████████████████████▍                                                                                            | 24/102 [01:13<04:37,  3.55s/it]"
     ]
    },
    {
     "name": "stdout",
     "output_type": "stream",
     "text": [
      "ㅡㅡ 어이없네\n",
      "물웅묘어디가니?\n"
     ]
    },
    {
     "name": "stderr",
     "output_type": "stream",
     "text": [
      " 25%|█████████████████████████████▋                                                                                           | 25/102 [01:16<04:22,  3.41s/it]"
     ]
    },
    {
     "name": "stdout",
     "output_type": "stream",
     "text": [
      "수면에 걸린적 때리면 빗맞음 걸리지 않는거 같이 다양한 효과를 추가해줬으면함\n",
      "기절에 걸린적은... 멀하면 좋지? 턴획득 불가를 하면 암라클이 미쳐 날뛰고...\n",
      "빙결에 걸린적이 턴획득하면 턴 종료 후 저항할 수 없는 슬로우 1턴\n"
     ]
    },
    {
     "name": "stderr",
     "output_type": "stream",
     "text": [
      " 25%|██████████████████████████████▊                                                                                          | 26/102 [01:20<04:23,  3.47s/it]"
     ]
    },
    {
     "name": "stdout",
     "output_type": "stream",
     "text": [
      "\n"
     ]
    },
    {
     "name": "stderr",
     "output_type": "stream",
     "text": [
      " 26%|████████████████████████████████                                                                                         | 27/102 [01:22<03:47,  3.03s/it]"
     ]
    },
    {
     "name": "stdout",
     "output_type": "stream",
     "text": [
      "\n"
     ]
    },
    {
     "name": "stderr",
     "output_type": "stream",
     "text": [
      " 27%|█████████████████████████████████▏                                                                                       | 28/102 [01:25<03:53,  3.16s/it]"
     ]
    },
    {
     "name": "stdout",
     "output_type": "stream",
     "text": [
      "나: 로보만 절망. 3폭주\n",
      "상대: 불류 흡혈. 켄이 개빠른 폭주라 가정하면 3폭주(신속이면 2폭주?)\n",
      "폭주 횟수 (나 vs 상대)\n",
      "불비라 폭주로 스턴 풀고 로보 빈사 만듦. 그럴수 있어(0 vs 1)\n",
      "불비라 폭주 터져서 로보가 정리될 때까지. 음? (0 vs 2)\n",
      "풍토템 폭주 안터지고 불비라 폭주 터져서 풍토템 정리됨. 엥? (0 vs 3)\n",
      "불비라+켄이 정리됨(1 vs 3)\n",
      "풍화백이 정리될 때까지(2 vs 3)\n",
      "흡혈1 vs 폭주2 남으니까 선심쓰듯 폭주 횟수 맞춰줌.\n",
      "근데 쓸데없이 물드루가 터져서 불류 기절 풀어줌(3 vs 3)\n",
      "인간적으로 풍토템이 방깍 못풀고 뒤질때까지 폭주 한번 안터진 건 선넘는거다.\n",
      "그나마 물드루 게업빨로 버틴거지.\n",
      "저분이 풍서퍼까지 있었으면.... 물드루도 병풍됨. 상상하기도 싫다.\n",
      "ps. 물드루, 물팔라가 역속성 풍화백은 스턴 계속 먹이는데,\n",
      "오히려 면역 없는 불비라는 스턴 계속 못먹임..\n",
      "이건 또 무슨? 반대가 되야 하는거 아닌가?(설마 저항도 맞추신건가...ㄷㄷ)\n",
      "나도 그렇지만 저분도 풍화백 스턴때문에 꽤나 어이없으셨을듯...\n",
      "(나 적중리더 vs 상대 공리더)\n"
     ]
    },
    {
     "name": "stderr",
     "output_type": "stream",
     "text": [
      " 28%|██████████████████████████████████▍                                                                                      | 29/102 [01:27<03:18,  2.72s/it]"
     ]
    },
    {
     "name": "stdout",
     "output_type": "stream",
     "text": [
      "점령전하는데 방덱 폭주쇼하는거 보면서 많은 생각들었다\n",
      "처음에는 3,4 폭주 터지는거 보면서 화나기도 했지만 그냥 그러려니 했어\n",
      "근데 분명히 내 몹 3마리 다 폭주인데 나보다 3배 터지는거 보면서\n",
      "이러다 없는 정 떨어질거 같아서 글 적는다 컴투스야\n",
      "실레나처럼 한번만 터지게 하던지 아무튼 좀 방지책 좀 내주면 좋겠다\n"
     ]
    },
    {
     "name": "stderr",
     "output_type": "stream",
     "text": [
      " 29%|███████████████████████████████████▌                                                                                     | 30/102 [01:29<03:06,  2.59s/it]"
     ]
    },
    {
     "name": "stdout",
     "output_type": "stream",
     "text": [
      "중간 중간 게임 접어야겠다 하는 순간들이 폭주로 인해 발생된다고 생각됩니다.\n",
      "룬 개 열심히 파밍하고 맞추고 조합짜고 그랬는데 여러 판 이겨도 가끔 있는 한판에서 억까당하면서 기분이 개~~잡쳐져서 하기가 싫어집니다.\n",
      "이게 몇 년 쌓이니까 이젠 접속하기가 싫어지는 단계.. 특히 길드전은 하기가 너무너무 싫어지는 컨텐츠가 된 것 같네요.\n"
     ]
    },
    {
     "name": "stderr",
     "output_type": "stream",
     "text": [
      " 30%|████████████████████████████████████▊                                                                                    | 31/102 [01:31<02:59,  2.53s/it]"
     ]
    },
    {
     "name": "stdout",
     "output_type": "stream",
     "text": [
      "폭주 그냥 모든컨텐츠 1턴으로 전부 다 제한두면안되는건가요?\n",
      "매번 점령전이나 길드전할때\n",
      "내몹 죽을때까지 폭주터져서 때리고\n",
      "폭주로 약화효과든 뭐든 다 해제하고\n",
      "PVP를 하기가 너무너무 힘듭니다\n",
      "이건 그냥 하지말라는것과 같은느낌이 강하게들어서 너무 화가나네요...\n",
      "게임에 흥미를 잃어버리게하는 시스템은 고쳐야하지 않나 싶습니다\n",
      "이런 의견에 반대하시는 분들도 충분이 있을거라 생각이들지만 어디서 하소연할곳도 없고 화는나고해서 못참고 질러봅니다\n",
      "불편하셨다면 죄송합니다\n"
     ]
    },
    {
     "name": "stderr",
     "output_type": "stream",
     "text": [
      " 31%|█████████████████████████████████████▉                                                                                   | 32/102 [01:34<03:02,  2.61s/it]"
     ]
    },
    {
     "name": "stdout",
     "output_type": "stream",
     "text": [
      "그냥 상대와 전투 시작하기 버튼 옆에 항복 버튼 만들어주시면 안되나요?\n",
      "그냥 패배점수나 후딱 먹고 끝내고싶네요.\n"
     ]
    },
    {
     "name": "stderr",
     "output_type": "stream",
     "text": [
      " 32%|███████████████████████████████████████▏                                                                                 | 33/102 [01:42<04:56,  4.30s/it]"
     ]
    },
    {
     "name": "stdout",
     "output_type": "stream",
     "text": [
      "이 정신나간 폭주, 진짜 더 이상은 스트레스 받아가면서 못하겠습니다. 절이 싫으면 중이 떠나는게 옳으나 떠날 때 한 마디는 하고 가야겠습니다.\n",
      "이 폭주 ㅈ망겜 적당히 방치하고 수정해주세요.\n",
      "전 지능 찾으러 계정팔고 떠납니다.\n"
     ]
    },
    {
     "name": "stderr",
     "output_type": "stream",
     "text": [
      " 33%|████████████████████████████████████████▎                                                                                | 34/102 [01:52<06:29,  5.73s/it]"
     ]
    },
    {
     "name": "stdout",
     "output_type": "stream",
     "text": [
      "물드루 3폭주 이후 빛요괴 3폭주 이후 물마도사 3폭주 나면 게임을 어떻게 진행하라는 건가요?\n",
      "솔직히 이야기 해줘요\n",
      "방덱 다 공개하고 들어가는 비동기 PVP에 폭주 아니면 변수 줄 자신이 없어서 어쩔수 없었다고\n"
     ]
    },
    {
     "name": "stderr",
     "output_type": "stream",
     "text": [
      " 34%|█████████████████████████████████████████▌                                                                               | 35/102 [01:59<07:05,  6.35s/it]"
     ]
    },
    {
     "name": "stdout",
     "output_type": "stream",
     "text": [
      "점령전 솔찍히 직장인들 칼 완전소비 많이 힘듭니다..직업 특성상 뭐.. 소비 다할수있는분도 계시겠지만 대체적으로 보면 칼도 많이 남고 거의 오더내리는 순간엔 화장실 찬스라고 화장실 변기통에 가서 점령전 칼써야됩니다.. 그리고 상위길드쪽은 사정을 잘 모르겠으나 아마 점토 8강이상 되면 휴가 내서 해야 되는 분들도 계실겁니다..\n",
      "그 외 폭주도 실레나처럼 한턴에 한 번으로 바꿔주셨으면 좋겠습니다.\n",
      "가끔 길드전 점령전 아레나 하다보면 이게 전략게임인가? 기도하는 게임인가? 운으로 싸우는게임인가? 게임의 정체성이 혼란스럽습니다\n",
      "점령전은 이번시즌은 아예 못건드니 다음시즌이라도 제발..꼭 여러방면으로 바꿔주셨음 좋겠네요 게임 대다수 유저가 직장인 인거 생각하면 점령전은 진짜 좀 바꿔주셨음 하네요\n"
     ]
    },
    {
     "name": "stderr",
     "output_type": "stream",
     "text": [
      " 35%|██████████████████████████████████████████▋                                                                              | 36/102 [02:06<07:10,  6.52s/it]"
     ]
    },
    {
     "name": "stdout",
     "output_type": "stream",
     "text": [
      "첫폭주 20프로. 연이어 폭주할수록 확률 줄어드는 시스템인데,\n",
      "원래턴 1번에 3연속 폭주 더해서 4연속 발광할 확률 몇프론데? 계산해보고 답글달아라 김피디.\n",
      "점령전 10판하면 그중에 3~4번은 이런일 생긴다.\n",
      "물늑인색기가 한턴에 3폭주 터져서 4턴씩 혼자서 방깍넣고 후드러패면 진짜 개빡친다.\n",
      "그래놓고 맨날천날 이상없다. 확률이라 그럼. 이지랄하냐.\n",
      "유저들이 개등신 호구냐. 욕은 욕대로 하면서 맨날 팩 사주니까 만만하냐.\n"
     ]
    },
    {
     "name": "stderr",
     "output_type": "stream",
     "text": [
      " 36%|███████████████████████████████████████████▉                                                                             | 37/102 [02:11<06:37,  6.11s/it]"
     ]
    },
    {
     "name": "stdout",
     "output_type": "stream",
     "text": [
      "스트리머 혜택은 그 순간 그랬다한들\n",
      "시간을 돌리는게 아닌이상 증명이 안돼\n",
      "방덱 폭주 테스트는 증명 해줄수 있잖아\n",
      "방덱 몹 누구누구 해서 몇회 결과 몇번 터짐\n",
      "명확하게 증명 되는 문제 아닙니까\n",
      "심지어 몇몇은 직접 테스트를 돌렸고\n",
      "방덱이 더 터진다고 엑셀로 정리도 했음\n",
      "이런거 당연히 게임사에서 해줘야할 일 아니냐고\n",
      "치명타 전과도 있으면 더 그래야지\n"
     ]
    },
    {
     "name": "stderr",
     "output_type": "stream",
     "text": [
      " 37%|█████████████████████████████████████████████                                                                            | 38/102 [02:14<05:31,  5.18s/it]"
     ]
    },
    {
     "name": "stdout",
     "output_type": "stream",
     "text": [
      "다 너무 재밌는데\n",
      "매번 폭주차이로 질때마다 게임이 너무 하기 싫습니다...\n",
      "빛암차이는 돈 쓰는 거니까 우대해준다 쳐도\n",
      "똑같은 폭주룬셋인데 방덱만 폭주가 훨씬 많이 터져서 질때가 많습니다.\n",
      "체감상 그런게 아니라고 생각합니다.\n",
      "절대적 횟수가 많습니다.\n",
      "방덱폭주 보정이 아니라면\n",
      "턴획득이 있는 몹들이 유독 잘터지는데 방덱에 유리한 몹들이 턴획득이 많거나 하는 이유가 있을것 같습니다.\n",
      "또 어떤 개인이 치명타 테스트해야 반응하는게 아니라\n",
      "이런 테스트 요청 및 검증도 게임사에서 제공하는게 맞지 않나요?\n",
      "테스트 검증 해주세요.\n"
     ]
    },
    {
     "name": "stderr",
     "output_type": "stream",
     "text": [
      " 38%|██████████████████████████████████████████████▎                                                                          | 39/102 [02:17<04:37,  4.41s/it]"
     ]
    },
    {
     "name": "stdout",
     "output_type": "stream",
     "text": [
      "폭주 발동 시 현재 스텟의 20%감소\n",
      "이거 패치 해놔\n"
     ]
    },
    {
     "name": "stderr",
     "output_type": "stream",
     "text": [
      " 39%|███████████████████████████████████████████████▍                                                                         | 40/102 [02:19<03:56,  3.82s/it]"
     ]
    },
    {
     "name": "stdout",
     "output_type": "stream",
     "text": [
      "상대 풍비라가 폭주로 풍팬을 치다가 반격 맞고 죽었는데\n",
      "물마도사 패시브로 부활 했습니다.\n",
      "근데 부활하고 바로 풍비라 폭주가 이어서 터져서 공격을 또 했는데\n",
      "이건 버그인가요?? 아니면 물마도사 패시브 메커니즘이 공격 게이지만 보전해주는 것이 아닌\n",
      "폭주 턴까지 보전해주는건가요???\n"
     ]
    },
    {
     "name": "stderr",
     "output_type": "stream",
     "text": [
      " 40%|████████████████████████████████████████████████▋                                                                        | 41/102 [02:23<03:52,  3.81s/it]"
     ]
    },
    {
     "name": "stdout",
     "output_type": "stream",
     "text": [
      "상대 말이 이랬으면 핸드폰에 엘보우 날리고 파운딩 줜1나 날렸다 ㅋㅋㅋㅋㅋ\n",
      "개역겹잖어 진짜 ㅋㅋㅋㅋㅋ\n"
     ]
    },
    {
     "name": "stderr",
     "output_type": "stream",
     "text": [
      " 41%|█████████████████████████████████████████████████▊                                                                       | 42/102 [02:26<03:36,  3.60s/it]"
     ]
    },
    {
     "name": "stdout",
     "output_type": "stream",
     "text": [
      "아니 죽을때까지 폭주 터지네 개짱나게 상대방덱은 디벞 ㅈㄴ 잘걸고 디벞 걸리면 폭주로 다 풀어버리고\n",
      "어떻게든 버텨서 이길거 같으면 귀신같이 상대 폭주 안터짐\n",
      "내꺼 폭주 ㅈㄴ 터짐\n",
      "그래놓고 확률 똑같다 ㅇㅈㄹ 내꺼 안터져도 되니깐 제한좀 해라\n",
      "그리고 ㄱㅈ같은 빛머메 빛요괴는 너프안하냐 아니 무슨 글로벌 게임 머시기 한다며 이렇게 밸런스 개똥망인데 무슨 글로벌이야 니들 돈버는것도 좋은데 좀 길게보자 맨날 오성만 처 만들지말고\n"
     ]
    },
    {
     "name": "stderr",
     "output_type": "stream",
     "text": [
      " 42%|███████████████████████████████████████████████████                                                                      | 43/102 [02:30<03:28,  3.53s/it]"
     ]
    },
    {
     "name": "stdout",
     "output_type": "stream",
     "text": [
      "이기기 쉬울것 같은 덱인데 폭주때문에 6번 덤벼서 6번 졌습니다.\n"
     ]
    },
    {
     "name": "stderr",
     "output_type": "stream",
     "text": [
      " 43%|████████████████████████████████████████████████████▏                                                                    | 44/102 [02:33<03:12,  3.31s/it]"
     ]
    },
    {
     "name": "stdout",
     "output_type": "stream",
     "text": [
      "특정 상황에서 상대방 방덱 3마리가 모조리 폭주가 연달아서 터질때가 있는데 이게 한두번이 아니라 빈번하게 발생합니다.\n",
      "제한을 걸든 보정을 하든 좀.. 신경써주셨으면 하네요.\n"
     ]
    },
    {
     "name": "stderr",
     "output_type": "stream",
     "text": [
      " 44%|█████████████████████████████████████████████████████▍                                                                   | 45/102 [02:35<02:55,  3.07s/it]"
     ]
    },
    {
     "name": "stdout",
     "output_type": "stream",
     "text": [
      "점령 폭주보정 ㅅ빨련들아 왜 해놨냐?\n",
      "방덱에만 왜 폭주가 더 들어오냐고 ㅅ빨련들아\n"
     ]
    },
    {
     "name": "stderr",
     "output_type": "stream",
     "text": [
      " 45%|██████████████████████████████████████████████████████▌                                                                  | 46/102 [02:38<02:52,  3.08s/it]"
     ]
    },
    {
     "name": "stdout",
     "output_type": "stream",
     "text": [
      "\n"
     ]
    },
    {
     "name": "stderr",
     "output_type": "stream",
     "text": [
      " 46%|███████████████████████████████████████████████████████▊                                                                 | 47/102 [02:42<03:00,  3.29s/it]"
     ]
    },
    {
     "name": "stdout",
     "output_type": "stream",
     "text": [
      "예전부터 길드 pvp를 플레이하다 보면 1턴에 3폭주 이상으로 허무하게 지기는 했으나 최근만큼 허무하지는 않네요.\n",
      "비라 출시 이후부터 대부분의 신규 캐릭터에 효과를 이것저것 붙여서 출시하고, 기존 캐릭도 대부분 상향 위주의 밸런스 패치를 하다보니\n",
      "스킬 한번한번이 이전보다 더 큰 효과를 발휘하게 되었기 때문에 자연적으로 폭주 턴획득 효과도 커지게 되었지요.\n",
      "여기서 문제가 생깁니다.\n",
      "이전보다 상대의 폭주 효과는 적게 발동하였더라도 허무하게 지는 경우가 많아지게 되니 유저들의 서머너즈워 pvp 경험은 점점 나빠지게 되었고 적지 않은 유저들이 피로감을 호소하게 됩니다.\n",
      "그로 인해서 오래 유지되었던 높은 티어의 길드들이 하나둘씩 해체되는 상황인데, 이건 컴투스 입장에서도 결코 좋은 상황이 아닙니다. 길드를 통해 알게 된 유저들이 좋아서 계속 서머너즈워를 플레이하는 유저도 있었을건데 그 길드가 해체되면 서머너즈워에 더 이상 매력이 없다고 판단하여 미련없이 접는 유저도 생기니까요.\n",
      "주력으로 미는 실레나에는 폭주 1턴당 1회 제한을 걸었는데 다른 모든 컨텐츠에도 폭주는 1턴 1회 제한을 두면 불합리하게 져서 유저들이 느끼는 스트레스는 조금은 완화되지 않을까 생각합니다.\n",
      "여기서부터는 다른 룬 세트 효과에 대해서 건의하려 합니다.\n",
      "룬 세트 효과는 제가 서머너즈워를 시작했던 약 6년 전에 비해 변동 사항이 아마 폭주 턴 획득 확률 소폭 너프 외에는 없는 것으로 기억합니다.\n",
      "이렇게 오랜 시간 룬 세트 효과의 변화가 거의 없다보니 유저들은 신속/폭주/의지 룬 세트의 효과가 다른 세트 효과에 비해 좋은 효과로 취급하고 있는 상황이며, 요즘에 메타의 변화에 따라 반격/파괴 등이 쓰이게 되었습니다.\n",
      "하지만, 활력/수호/고양/결의 단순한 체력, 방어력 스탯 증가 세트는 효과가 미미합니다.\n",
      "수호/결의는 2각성 물이누 방어력 비례 협공을 이용한 던전 파밍에 이용되고부터는 취급이 좋아지긴 했지만 여전히 그 외 사용처는 애매하다고 생각합니다.\n",
      "이전에는 체력, 방어력 15%가 적지 않은 수치였을지는 모르겠지만 연마, 변환, 고대 룬이 추가되면서 룬 하나가 올려줄 수 있는 스탯이 점점 높아지다보니 해당 세트들 옵션의 가치는 점점 떨어지게 되었습니다.\n",
      "그 외에도 특정 상황만 쓰이고 잘 쓰이지 않는 룬 세트들도 있습니다.\n",
      "따라서 유저들이 잘 쓰지 않는 룬 세트들에 대해 상향을 해주셨으면 합니다. 개인적으로는 단순한 세트 옵션의 수치 상향이 아닌 여러 메타를 창출할 만한 특수 효과가 생겼으면 좋겠습니다.\n",
      "예를 들면 활력에 전투 중 1회에 한해 턴 종료 시 해당 몬스터가 최대 체력의 30% 미만이면 최대 체력의 20% 회복이라던지요.\n",
      "그러면 지금의 단조로운 게임에서 다양한 룬 효과가 조합된 몬스터가 더 나오지 않을까 생각되어 건의드립니다.\n",
      "긴 글 읽어주셔서 감사합니다.\n"
     ]
    },
    {
     "name": "stderr",
     "output_type": "stream",
     "text": [
      " 47%|████████████████████████████████████████████████████████▉                                                                | 48/102 [02:46<03:10,  3.53s/it]"
     ]
    },
    {
     "name": "stdout",
     "output_type": "stream",
     "text": [
      "제목 그대로 실레나처럼 길드전 점령전에도 폭주 횟수에 제한을 두는 것이 어떨까 생각해봅니다.\n",
      "길드전 점령전 하시는 분들은 아시겠지만 폭주로 인해 승패가 갈리는 경우가 꽤 있죠?\n",
      "과연 이것을 전략 게임이라고 할 수 있을까요?\n",
      "폭주를 주는 것 또한 전략이라고 하실 수 있는데 3폭주 4폭주까지 대비해서 덱을 짜시는 분도 있을까요?\n",
      "전 없을 거라고 봅니다 ㅋㅋ\n",
      "이상 그냥 지껄여봤습니다.\n"
     ]
    },
    {
     "name": "stderr",
     "output_type": "stream",
     "text": [
      " 48%|██████████████████████████████████████████████████████████▏                                                              | 49/102 [02:49<02:57,  3.34s/it]"
     ]
    },
    {
     "name": "stdout",
     "output_type": "stream",
     "text": [
      "제목 그대로 실레나처럼 길드전 점령전에도 폭주 횟수에 제한을 두는 것이 어떨까 생각해봅니다.\n",
      "길드전 점령전 하시는 분들은 아시겠지만 폭주로 인해 승패가 갈리는 경우가 꽤 있죠?\n",
      "과연 이것을 전략 게임이라고 할 수 있을까요?\n",
      "폭주를 주는 것 또한 전략이라고 하실 수 있는데 3폭주 4폭주까지 대비해서 덱을 짜시는 분도 있을까요?\n",
      "전 없을 거라고 봅니다 ㅋㅋ\n",
      "이상 점령전 하다가 화나서 지껄여봤습니다.\n"
     ]
    },
    {
     "name": "stderr",
     "output_type": "stream",
     "text": [
      " 49%|███████████████████████████████████████████████████████████▎                                                             | 50/102 [02:52<02:51,  3.31s/it]"
     ]
    },
    {
     "name": "stdout",
     "output_type": "stream",
     "text": [
      "레이드 폭주 신속 연마석 변환석 왜 안나오나요?\n",
      "확률을 처 까든가 그냥 입다물고 계속 파밍 해야돼?\n",
      "이럴거면 레이드도 종류별로 던전을 처만들던가\n",
      "이딴경우가 어딨어 개편좀 해요 레이드좀\n",
      "레이드면 사람들이랑 같이하는게 레이드지 혼자 자사 돌리는게 레이드냐? ㅉㅉ\n"
     ]
    },
    {
     "name": "stderr",
     "output_type": "stream",
     "text": [
      " 50%|████████████████████████████████████████████████████████████▌                                                            | 51/102 [02:56<02:56,  3.47s/it]"
     ]
    },
    {
     "name": "stdout",
     "output_type": "stream",
     "text": [
      "양팀 4마리 모두 폭주를 낀 상태에서도 이렇게 폭주턴차이가 많이 나는건 이해불가임.\n",
      "그냥 폭주빨 없에고 정직하게 룬작과 조합만으로 승부를 나게해야지 말도 안되는 운빨턴수급 차이로\n",
      "게임이 터지니까 유저들도 실레나를 점점 떠나는게 현실.\n",
      "실레나 잘할라고 빡파밍했는데 이렇게 말도 안되는 이유로 계속 패배하다보면 왜 내가 밤낮으로 파밍을 해왔을까란 현타가 와서 그냥 안하게됩니다.\n",
      "재미를 위해 하는 겜이 이렇게 스트레스가 되는데 누가 버티겠습니까?\n",
      "이유가 명확한 패배를 해야 그에대한 전략을 짜고 부족함을 채우면서 더 열심히 겜을 하게 되는데 이런식으로 지면\n",
      "대책이고 뭐고 없습니다. 파밍할 시간에 기도나 열심히하는게 더 나은 현실.\n",
      "개발진들, 진짜 실레나가 전략겜으로 e스포츠로 거듭나기 위한다면 이부분에 대해서 고민 좀 해보세요.\n"
     ]
    },
    {
     "name": "stderr",
     "output_type": "stream",
     "text": [
      " 51%|█████████████████████████████████████████████████████████████▋                                                           | 52/102 [02:59<02:39,  3.19s/it]"
     ]
    },
    {
     "name": "stdout",
     "output_type": "stream",
     "text": [
      "불닭폭주4번터져서 5번쳐맞으니까 니들 조상까지파해쳐서 다 쳐죽이고싶은맘밖에안드는데 이게맞냐\n",
      "폭주한번만터지게 제한해달라고도안할게 두번이상안터지게해라 좀\n"
     ]
    },
    {
     "name": "stderr",
     "output_type": "stream",
     "text": [
      " 52%|██████████████████████████████████████████████████████████████▊                                                          | 53/102 [03:05<03:27,  4.24s/it]"
     ]
    },
    {
     "name": "stdout",
     "output_type": "stream",
     "text": [
      "\n"
     ]
    },
    {
     "name": "stderr",
     "output_type": "stream",
     "text": [
      " 53%|████████████████████████████████████████████████████████████████                                                         | 54/102 [03:08<02:56,  3.67s/it]"
     ]
    },
    {
     "name": "stdout",
     "output_type": "stream",
     "text": [
      "방어쪽 확률이 50% 정도 더 오르는것 같아요\n",
      "얼른 자수하세요!!\n",
      "그리고 줌인은 몬스터당 하루에 한번만 보게 해주세요!\n",
      "똑같은 내용의 줌인을 보면서 엄청 스트레스를 받고있는데\n",
      "이 게임을 계속해야할까? 라는 생각이 들어요\n",
      "줌인을 고집하시는 개발자분\n",
      "핸드폰으로 아누비스 줌인을 딱 10번만 연속으로 봐보세요\n",
      "대충 보지마시고 진짜 게임을 하는것처럼요\n"
     ]
    },
    {
     "name": "stderr",
     "output_type": "stream",
     "text": [
      " 54%|█████████████████████████████████████████████████████████████████▏                                                       | 55/102 [03:11<02:49,  3.60s/it]"
     ]
    },
    {
     "name": "stdout",
     "output_type": "stream",
     "text": [
      "4번 터지는건 아니지 않냐 진짜 ㅋㅋㅋㅋ 턴제 게임에서 한쪽에서 5번 턴을 먹는다고? 1회 제한은 님들이 별 시덥잖은 밸런스때문이라고 쳐도 2회로는 제한걸어야하는거 아니냐 ㅋㅋㅋ\n"
     ]
    },
    {
     "name": "stderr",
     "output_type": "stream",
     "text": [
      " 55%|██████████████████████████████████████████████████████████████████▍                                                      | 56/102 [03:16<03:10,  4.14s/it]"
     ]
    },
    {
     "name": "stdout",
     "output_type": "stream",
     "text": [
      "방덱 폭주 보정 이야기는 미신인거 다들 알고 계실테고.\n",
      "폭주룬 개편이 필요하다고 생각합니다.\n",
      "폭주룬은 턴을 획득하므로 인한 변수창출및 턴획득 기대치 업 이 주목적 입니다.\n",
      "3연폭주 4연폭주 같은 경우 폭주 운빨로 길전 점령전 아레나의 승리가 결정 되는경우는 문제가 된다고 생각합니다.\n",
      "실레나에서도 폭주 여부로 승리가 결정되는게 불합리하다고 생각해 제한한것으로 알고있습니다.\n",
      "폭주 1회 확률 22프로 2연속 12프로 3연속 6프로 4연속 3.5프로 가 현재라면\n",
      "폭주셋을 사용하므로써 기대할수 있는 턴은 (1*0.78)+(2*0.22)+(3*0.22*0.12)+(4*0.22*0.12*0.035)= 1.30xxxx 가 됩니다.\n",
      "즉 폭주셋을 사용하므로 각턴마다 1.3의 턴을 기대할수있게됩니다.\n",
      "폭주룬 자체를 턴마다 1회 발동으로 제한하고 확률을 30프로로 만든다면\n",
      "턴획득 기대 확률 자체는 그대로 두면서 더 적은 변수창출로 폭주운빨 망겜을 없앨수 있습니다.\n",
      "끝으로\n",
      "실레나 폭주 운빨망겜이 불합리하다고 생각하셔서 패치를 하셨다면 다른곳에서도 패치해야 맞지않을까 생각합니다.\n"
     ]
    },
    {
     "name": "stderr",
     "output_type": "stream",
     "text": [
      " 56%|███████████████████████████████████████████████████████████████████▌                                                     | 57/102 [03:22<03:21,  4.49s/it]"
     ]
    },
    {
     "name": "stdout",
     "output_type": "stream",
     "text": [
      "어떨까나요 ???\n"
     ]
    },
    {
     "name": "stderr",
     "output_type": "stream",
     "text": [
      " 57%|████████████████████████████████████████████████████████████████████▊                                                    | 58/102 [03:24<02:52,  3.92s/it]"
     ]
    },
    {
     "name": "stdout",
     "output_type": "stream",
     "text": [
      "상대방 연속으로 3연속터지고\n",
      "나는 대체 왜 안터지냐 씨벌\n",
      "혈압올라서 게임하겄냐\n",
      "이런 병신게임에 돈쓰고 시간 낭비를\n",
      "왜 했던건지 게임 지운다 씨벨\n"
     ]
    },
    {
     "name": "stderr",
     "output_type": "stream",
     "text": [
      " 58%|█████████████████████████████████████████████████████████████████████▉                                                   | 59/102 [03:27<02:28,  3.46s/it]"
     ]
    },
    {
     "name": "stdout",
     "output_type": "stream",
     "text": [
      "폭주제한안하니까 내가뒤지고있다만\n"
     ]
    },
    {
     "name": "stderr",
     "output_type": "stream",
     "text": [
      " 59%|███████████████████████████████████████████████████████████████████████▏                                                 | 60/102 [03:29<02:08,  3.06s/it]"
     ]
    },
    {
     "name": "stdout",
     "output_type": "stream",
     "text": [
      "22%ㅇㅈㄹ말고 뭐가22%냐 ㅋㅋ 폭주가 안터질 확률이 22%인거? 툭하면 몇연속으로 터지고 자빠졌는데 ㅋㅋ 진짜 까보면 뭐있다니까 폭주빨 ㅈㅁㄱ\n"
     ]
    },
    {
     "name": "stderr",
     "output_type": "stream",
     "text": [
      " 60%|████████████████████████████████████████████████████████████████████████▎                                                | 61/102 [03:31<01:55,  2.81s/it]"
     ]
    },
    {
     "name": "stdout",
     "output_type": "stream",
     "text": [
      "턴제겜에서 추가턴 획득 그자체만으로 개사긴데\n",
      "여러번 터지는건 아니라고봄. 지는판도 폭주 2번만 터져도 이기는데 이게 운빨겜이지 전략겜임?\n"
     ]
    },
    {
     "name": "stderr",
     "output_type": "stream",
     "text": [
      " 61%|█████████████████████████████████████████████████████████████████████████▌                                               | 62/102 [03:33<01:43,  2.60s/it]"
     ]
    },
    {
     "name": "stdout",
     "output_type": "stream",
     "text": [
      "진짜 길드전 물발 폭주 턴만먹으면 기본 2폭주냐 ㅋㅋㅋㅋ\n"
     ]
    },
    {
     "name": "stderr",
     "output_type": "stream",
     "text": [
      " 62%|██████████████████████████████████████████████████████████████████████████▋                                              | 63/102 [03:35<01:36,  2.46s/it]"
     ]
    },
    {
     "name": "stdout",
     "output_type": "stream",
     "text": [
      "폭주룬 먼가 개선이 좀 필요 해보입니다..\n",
      "실레나는 이제 개선이 되서 좀 그럭저럭인데 다른 곳은 폭주 특히 방댁 폭주 너무 심해요... 심한정도거 너무 선울 넘을때가 자주 일어납니다... 폭주룬 개선 부탁드립니다\n"
     ]
    },
    {
     "name": "stderr",
     "output_type": "stream",
     "text": [
      " 63%|███████████████████████████████████████████████████████████████████████████▉                                             | 64/102 [03:37<01:29,  2.36s/it]"
     ]
    },
    {
     "name": "stdout",
     "output_type": "stream",
     "text": [
      "행동불능 여러가지 종류\n",
      "기절 빙결 수면 등\n",
      "폭주로 턴다시 먹는거 폭주의 의도니까 그렇다치고..\n",
      "세개중에 하나정도는 폭주안터지는쪽으로 밸런스 맞추는안은 어떠한가?\n",
      "예를들어 기절상태에는 폭주가 안터지게 빙결 수면은 폭주로 턴다시먹더라도..\n",
      "그냥 폭주가 너무심해서...이정도면 양보되지 않나싶은데...\n",
      "섬린이생각이니 욕은 박지마시길..\n"
     ]
    },
    {
     "name": "stderr",
     "output_type": "stream",
     "text": [
      " 64%|█████████████████████████████████████████████████████████████████████████████                                            | 65/102 [03:40<01:26,  2.33s/it]"
     ]
    },
    {
     "name": "stdout",
     "output_type": "stream",
     "text": [
      "벌떡 폭주는 조금 조정해줬으면...\n",
      "행동 불능 상태에서 폭주는 일어나지 않는다. or 행동 불능 상태에서 폭주시 75%의 게이지만 채운다.\n",
      "그냥 일반 폭주는 그렇다쳐도 행동 불능 상태에서 폭주 터져서 턴 가져가는 것은 너무 사기 같아요...\n",
      "위에 둘중의 한가지 방향으로 개선했으면 어떤가 싶네요.\n"
     ]
    },
    {
     "name": "stderr",
     "output_type": "stream",
     "text": [
      " 65%|██████████████████████████████████████████████████████████████████████████████▎                                          | 66/102 [03:42<01:23,  2.33s/it]"
     ]
    },
    {
     "name": "stdout",
     "output_type": "stream",
     "text": [
      "피해를 입지 않고 턴 획득시 패시브로 한 턴을 추가로 획득하는데요, 이후에 폭주룬에 따른 턴 획득이 안터집니다.. 운의 문제가 아니라 단 한번도요\n",
      "확인 부탁드립니다\n"
     ]
    },
    {
     "name": "stderr",
     "output_type": "stream",
     "text": [
      " 66%|███████████████████████████████████████████████████████████████████████████████▍                                         | 67/102 [03:44<01:18,  2.24s/it]"
     ]
    },
    {
     "name": "stdout",
     "output_type": "stream",
     "text": [
      "실레나 뿐만 아니라 길/점령전 아레나 할 때 폭주 스트레스로 많이들 힘들어하죠...\n",
      "특시 실레나 할 때 다 이겨놓은 상태에서 상대방 폭주 -> 턴획득 해서 뒤집어지는 경우도 많구요...\n",
      "그래서 폭주룬을 사용하는걸 이렇게 바꾸면 어떨까 합니다.\n",
      "대전 격투겜(스파) 같은데 보면 하단에 게이지차는게 있고, 풀로 다 차면 필살기(?) 비슷하게 사용할 수 있는데요...\n",
      "실레나 아레나에서도 아래쪽에 폭주 게이지를 만드는겁니다.\n",
      "그래서 특정 조건(크리뎀지를 주던가, 피격당했는데 빚맞음이 뜨던가 하는) 발생 시 게이지가 점점 차오르고,\n",
      "게이지가 풀로 찼을 때, 나의 턴에서 그걸 사용하면 폭주 -> 턴획득 머 이런식....\n",
      "걍 뻘글이었음...\n"
     ]
    },
    {
     "name": "stderr",
     "output_type": "stream",
     "text": [
      " 67%|████████████████████████████████████████████████████████████████████████████████▋                                        | 68/102 [03:47<01:20,  2.35s/it]"
     ]
    },
    {
     "name": "stdout",
     "output_type": "stream",
     "text": [
      "폭주룬\n",
      "일정 확률로 1회 추가 공격을 할 수 있음.\n",
      "낮은 확률로 2회 이상 추가 공격 가능\n",
      "쿨타임 감소 룬\n",
      "일정 확률로 스킬 전체 쿨타임 1턴 감소\n",
      "2번 3번 스킬 활성화시 즉시 사용도 가능\n",
      "2번 3번 스킬 비활성화시 1번 스킬 사용.\n",
      "낮은 확률로 스킬 전체 쿨타임 2턴 이상 감소 및 활성 스킬 즉시 사용 가능\n",
      "서머에 쿨타임 감소룬은 있는데 폭주룬은 안보이네요\n",
      "폭주룬이라 하면.....\n",
      "일정 확률로 추가 공격이니까 쿨 감소 안되고 스킬 쓸 수 있게 하거나...\n",
      "폭주턴에는 평타만 칠 수 있게 해서 추가 공격에 메커니즘을 두던가...\n",
      "다른 룬은 몹 특색에 맞게 잘 만들어 주시고 폭주룬은 위에 써있는 쿨감룬으로 만들어서 왜 졸업룬으로 만드셨는지...\n",
      "폭주만의 특색있는 룬이였으면 합니다.\n"
     ]
    },
    {
     "name": "stderr",
     "output_type": "stream",
     "text": [
      " 68%|█████████████████████████████████████████████████████████████████████████████████▊                                       | 69/102 [03:49<01:16,  2.32s/it]"
     ]
    },
    {
     "name": "stdout",
     "output_type": "stream",
     "text": [
      "대가리 쥐어 짜내서 계산 다 때리고 들어가도\n",
      "폭주 터지면 답도 없고\n",
      "내 몹이 폭주 여러 번 터져서 득을 본다고 해도 재미 더럽게 없어요.\n",
      "운빨로 이겨서 뭐 할 건데요ㅋ\n",
      "그래도 명색이 상성도 있고 패시브, 액티브 있을 거 다 있는 턴제 게임인데\n",
      "오목에서 한 번에 오목 완성하는 수준이면은ㅋ\n",
      "그냥 하지 말라는 거랑 다를 바가 없잖아요ㅋ\n",
      "연속으로 터지는 확률 말고, 횟수만 좀 줄여주세요\n"
     ]
    },
    {
     "name": "stderr",
     "output_type": "stream",
     "text": [
      " 69%|███████████████████████████████████████████████████████████████████████████████████                                      | 70/102 [03:51<01:14,  2.33s/it]"
     ]
    },
    {
     "name": "stdout",
     "output_type": "stream",
     "text": [
      "며칠동안 길점령전하고 차포까지 하면서 유심히 살펴봤는데\n",
      "공덱 폭주는 터지는 걸 못 봤고\n",
      "방덱 폭주는 한두번이 기본이며 3턴 먹는 경우도 심심찮게 나옴.\n",
      "폭주 많이 터지면 손해보는 차포는 빛이누가 4턴을 그냥 잘만 먹던데(덕분에 보스전에서 우리 몹 뺏긴거 잡지도 못하고 턴만 왕창 먹고 실패함)\n",
      "그래 뭐 확률은 같은데 내가 피해망상 있는 놈이라고 욕할 수도 있겠죠.\n",
      "근데 요새 폭주당하는 게 너무 자주 있다보니 의심을 넘어서 버림\n"
     ]
    },
    {
     "name": "stderr",
     "output_type": "stream",
     "text": [
      " 70%|████████████████████████████████████████████████████████████████████████████████████▏                                    | 71/102 [03:53<01:10,  2.26s/it]"
     ]
    },
    {
     "name": "stdout",
     "output_type": "stream",
     "text": [
      "ㅅㅂ\n"
     ]
    },
    {
     "name": "stderr",
     "output_type": "stream",
     "text": [
      " 71%|█████████████████████████████████████████████████████████████████████████████████████▍                                   | 72/102 [03:56<01:13,  2.46s/it]"
     ]
    },
    {
     "name": "stdout",
     "output_type": "stream",
     "text": [
      "원래 방당1.2만뜨는조커인데 아팩을잘꼽은건지 딜도안나왔지만...\n",
      "뭐라할말이없음그냥좆같은폭주라서\n",
      "불닭 매턴 빠짐없이 끼욝 끼욝은기본이고\n",
      "빛팔라 3스바로안쓰고 평타 3스쓰는게 더역겹고\n",
      "그냥병신같음 언제까지 방덱폭주보정없다고 기피만할껀지참...\n"
     ]
    },
    {
     "name": "stderr",
     "output_type": "stream",
     "text": [
      " 72%|██████████████████████████████████████████████████████████████████████████████████████▌                                  | 73/102 [04:00<01:18,  2.70s/it]"
     ]
    },
    {
     "name": "stdout",
     "output_type": "stream",
     "text": [
      "\n"
     ]
    },
    {
     "name": "stderr",
     "output_type": "stream",
     "text": [
      " 73%|███████████████████████████████████████████████████████████████████████████████████████▊                                 | 74/102 [04:02<01:11,  2.57s/it]"
     ]
    },
    {
     "name": "stdout",
     "output_type": "stream",
     "text": [
      "폭주 및 공속 스탯 룬 삭제 부탁. 기본 공속이랑 스킬로 승부 보자. 리더스킬은 이런 경우 노답이니까 공속 리더스킬도 삭제하고. 그러면 턴제게임 다운 거 아니냐? 스킬 때문에 몬스터 구성하는 맛이 있고 공략도 다양해지고 턴제게임이고. 스트레스도 없고.\n"
     ]
    },
    {
     "name": "stderr",
     "output_type": "stream",
     "text": [
      " 74%|████████████████████████████████████████████████████████████████████████████████████████▉                                | 75/102 [04:24<03:51,  8.57s/it]"
     ]
    },
    {
     "name": "stdout",
     "output_type": "stream",
     "text": [
      "      개븅신같은 게임 지우는게 답이다      \n"
     ]
    },
    {
     "name": "stderr",
     "output_type": "stream",
     "text": [
      " 75%|██████████████████████████████████████████████████████████████████████████████████████████▏                              | 76/102 [04:47<05:29, 12.66s/it]"
     ]
    },
    {
     "name": "stdout",
     "output_type": "stream",
     "text": [
      "   ㅎㅎ 망겜 점점 접고싶어짐      \n"
     ]
    },
    {
     "name": "stderr",
     "output_type": "stream",
     "text": [
      " 75%|███████████████████████████████████████████████████████████████████████████████████████████▎                             | 77/102 [05:11<06:42, 16.10s/it]"
     ]
    },
    {
     "name": "stdout",
     "output_type": "stream",
     "text": [
      "    불닭 패시브돌아서 패배  시발.. \n"
     ]
    },
    {
     "name": "stderr",
     "output_type": "stream",
     "text": [
      " 76%|████████████████████████████████████████████████████████████████████████████████████████████▌                            | 78/102 [05:34<07:18, 18.25s/it]"
     ]
    },
    {
     "name": "stdout",
     "output_type": "stream",
     "text": [
      " 1. 몹당 1회만 터지도록한다.  2. 턴획득이아니라 공격게이지100%상승으로한다.  3. 턴획득시 스킬사용은하지못하고 1스만쓴다.(스킬쿨돌리기)         \n"
     ]
    },
    {
     "name": "stderr",
     "output_type": "stream",
     "text": [
      " 77%|█████████████████████████████████████████████████████████████████████████████████████████████▋                           | 79/102 [05:55<07:22, 19.24s/it]"
     ]
    },
    {
     "name": "stdout",
     "output_type": "stream",
     "text": [
      " 이제 개편 할 때 안됐나요? 폭주가 변수가 되는게 아니라 게임을 끝내버리고 있어요. 재수 없으면 상대랑 폭주 턴획득 차이가 5번 10번 나는데 어떻게 이깁니까? 이렇게 지면 기분 정말 뭣같은데 이런 뭣같은 상황이 너무도 자주 보여요. 몹 밸패도 좋지만 폭주도 어떻게좀 해주세요.       \n"
     ]
    },
    {
     "name": "stderr",
     "output_type": "stream",
     "text": [
      " 78%|██████████████████████████████████████████████████████████████████████████████████████████████▉                          | 80/102 [06:18<07:22, 20.09s/it]"
     ]
    },
    {
     "name": "stdout",
     "output_type": "stream",
     "text": [
      "     무슨 턴만 먹으면 폭주 연속 2번씩 터지냐 아레나, 길전, 점령전 무슨 턴만 쳐먹으면 3번씩 쳐때리는데 이거 맞냐? 폭주 첫번째 턴획득 확률을 줄여달라는게 아니라 2번 3번 쳐 폭주터질 확률좀 조정해라 무슨 이러니까 모든몹들이 폭주 미만잡이되고 의지 신속 뺴면 뭐 거진 잡룬취급받는거 아님?   \n"
     ]
    },
    {
     "name": "stderr",
     "output_type": "stream",
     "text": [
      " 79%|████████████████████████████████████████████████████████████████████████████████████████████████                         | 81/102 [06:40<07:14, 20.69s/it]"
     ]
    },
    {
     "name": "stdout",
     "output_type": "stream",
     "text": [
      "      한턴에 4번씩 때리는건 너무한거 아닌가 스킬을 두번써;; 이겨도 폭주 많이터지는 판은 기분이 죚같음  제한을 두던지 좀..;; 특히 물브라 폭주는 문제 많아보임.. 폭주패치가 싫다면 물브라 3스 약화효과 확률적으로 하나만 달도록 패치하던가.. 좀.. 대안을 내놔..  \n"
     ]
    },
    {
     "name": "stderr",
     "output_type": "stream",
     "text": [
      " 80%|█████████████████████████████████████████████████████████████████████████████████████████████████▎                       | 82/102 [07:01<06:58, 20.92s/it]"
     ]
    },
    {
     "name": "stdout",
     "output_type": "stream",
     "text": [
      "            \n"
     ]
    },
    {
     "name": "stderr",
     "output_type": "stream",
     "text": [
      " 81%|██████████████████████████████████████████████████████████████████████████████████████████████████▍                      | 83/102 [07:42<08:32, 26.99s/it]"
     ]
    },
    {
     "name": "stdout",
     "output_type": "stream",
     "text": [
      "\n"
     ]
    },
    {
     "name": "stderr",
     "output_type": "stream",
     "text": [
      " 82%|███████████████████████████████████████████████████████████████████████████████████████████████████▋                     | 84/102 [08:04<07:36, 25.39s/it]"
     ]
    },
    {
     "name": "stdout",
     "output_type": "stream",
     "text": [
      "           \n"
     ]
    },
    {
     "name": "stderr",
     "output_type": "stream",
     "text": [
      " 83%|████████████████████████████████████████████████████████████████████████████████████████████████████▊                    | 85/102 [08:26<06:55, 24.44s/it]"
     ]
    },
    {
     "name": "stdout",
     "output_type": "stream",
     "text": [
      "      폭주물브라 좀 패치해라.. 점령전 길드전 싹다 누가누가 물브라 많이가지고 있냐 싸움되어간다..     \n"
     ]
    },
    {
     "name": "stderr",
     "output_type": "stream",
     "text": [
      " 84%|██████████████████████████████████████████████████████████████████████████████████████████████████████                   | 86/102 [08:48<06:16, 23.54s/it]"
     ]
    },
    {
     "name": "stdout",
     "output_type": "stream",
     "text": [
      "            \n"
     ]
    },
    {
     "name": "stderr",
     "output_type": "stream",
     "text": [
      " 85%|███████████████████████████████████████████████████████████████████████████████████████████████████████▏                 | 87/102 [09:11<05:51, 23.43s/it]"
     ]
    },
    {
     "name": "stdout",
     "output_type": "stream",
     "text": [
      "  1.자기턴에 1번만터진다. - ㄹㅇ개념패치안  2.공격게이지 100%이회복된다. - 폭주너즈워의메타를 조금바꿀수있음  위두개로바꾸는게젤현명함 무슨게임이 다이긴걸 벌떡한방에 지고이기고를 판별하냐 이게 ㄹㅇ이스포츠냐?아님 변수냐? 이게변수야? 그리고 누가봐도이긴건데 상대방 꾸역꾸역 한마리남은걸로 버티고버티면서 어차피진건데 존나시간쳐끌고    ※성지예약:어차피 이렇게바뀌게되있음         \n"
     ]
    },
    {
     "name": "stderr",
     "output_type": "stream",
     "text": [
      " 86%|████████████████████████████████████████████████████████████████████████████████████████████████████████▍                | 88/102 [09:35<05:29, 23.54s/it]"
     ]
    },
    {
     "name": "stdout",
     "output_type": "stream",
     "text": [
      "    \n"
     ]
    },
    {
     "name": "stderr",
     "output_type": "stream",
     "text": [
      " 87%|█████████████████████████████████████████████████████████████████████████████████████████████████████████▌               | 89/102 [09:56<04:57, 22.92s/it]"
     ]
    },
    {
     "name": "stdout",
     "output_type": "stream",
     "text": [
      " 1.자기턴에 1번만터진다. - ㄹㅇ개념패치안  2.공격게이지 100%이회복된다. - 폭주너즈워의메타를 조금바꿀수있음  위두개로바꾸는게젤현명함 무슨게임이 다이긴걸 벌떡한방에 지고이기고를 판별하냐 이게 ㄹㅇ이스포츠냐?아님 변수냐? 이게변수야? 그리고 누가봐도이긴건데 상대방 꾸역꾸역 한마리남은걸로 버티고버티면서 어차피진건데 존나시간쳐끌고    ※성지예약:어차피 이렇게바뀌게되있음  \n"
     ]
    },
    {
     "name": "stderr",
     "output_type": "stream",
     "text": [
      " 88%|██████████████████████████████████████████████████████████████████████████████████████████████████████████▊              | 90/102 [10:37<05:41, 28.43s/it]"
     ]
    },
    {
     "name": "stdout",
     "output_type": "stream",
     "text": [
      "\n"
     ]
    },
    {
     "name": "stderr",
     "output_type": "stream",
     "text": [
      " 88%|██████████████████████████████████████████████████████████████████████████████████████████████████████████▊              | 90/102 [11:01<01:28,  7.35s/it]\n"
     ]
    },
    {
     "ename": "KeyboardInterrupt",
     "evalue": "",
     "output_type": "error",
     "traceback": [
      "\u001b[1;31m---------------------------------------------------------------------------\u001b[0m",
      "\u001b[1;31mKeyboardInterrupt\u001b[0m                         Traceback (most recent call last)",
      "Cell \u001b[1;32mIn[9], line 17\u001b[0m\n\u001b[0;32m     16\u001b[0m browser\u001b[38;5;241m.\u001b[39mimplicitly_wait(\u001b[38;5;241m20\u001b[39m)\n\u001b[1;32m---> 17\u001b[0m contents \u001b[38;5;241m=\u001b[39m \u001b[43mbrowser\u001b[49m\u001b[38;5;241;43m.\u001b[39;49m\u001b[43mfind_elements\u001b[49m\u001b[43m(\u001b[49m\u001b[43mBy\u001b[49m\u001b[38;5;241;43m.\u001b[39;49m\u001b[43mCSS_SELECTOR\u001b[49m\u001b[43m,\u001b[49m\u001b[43m \u001b[49m\u001b[43mvalue\u001b[49m\u001b[43m \u001b[49m\u001b[38;5;241;43m=\u001b[39;49m\u001b[43m \u001b[49m\u001b[38;5;124;43m\"\u001b[39;49m\u001b[38;5;124;43mdiv.se-text > div.se-component-content\u001b[39;49m\u001b[38;5;124;43m\"\u001b[39;49m\u001b[43m)\u001b[49m\n\u001b[0;32m     18\u001b[0m content \u001b[38;5;241m=\u001b[39m contents[\u001b[38;5;241m-\u001b[39m\u001b[38;5;241m1\u001b[39m]\u001b[38;5;241m.\u001b[39mtext\n",
      "File \u001b[1;32m~\\AppData\\Local\\Programs\\Python\\Python311\\Lib\\site-packages\\selenium\\webdriver\\remote\\webdriver.py:771\u001b[0m, in \u001b[0;36mWebDriver.find_elements\u001b[1;34m(self, by, value)\u001b[0m\n\u001b[0;32m    769\u001b[0m \u001b[38;5;66;03m# Return empty list if driver returns null\u001b[39;00m\n\u001b[0;32m    770\u001b[0m \u001b[38;5;66;03m# See https://github.com/SeleniumHQ/selenium/issues/4555\u001b[39;00m\n\u001b[1;32m--> 771\u001b[0m \u001b[38;5;28;01mreturn\u001b[39;00m \u001b[38;5;28;43mself\u001b[39;49m\u001b[38;5;241;43m.\u001b[39;49m\u001b[43mexecute\u001b[49m\u001b[43m(\u001b[49m\u001b[43mCommand\u001b[49m\u001b[38;5;241;43m.\u001b[39;49m\u001b[43mFIND_ELEMENTS\u001b[49m\u001b[43m,\u001b[49m\u001b[43m \u001b[49m\u001b[43m{\u001b[49m\u001b[38;5;124;43m\"\u001b[39;49m\u001b[38;5;124;43musing\u001b[39;49m\u001b[38;5;124;43m\"\u001b[39;49m\u001b[43m:\u001b[49m\u001b[43m \u001b[49m\u001b[43mby\u001b[49m\u001b[43m,\u001b[49m\u001b[43m \u001b[49m\u001b[38;5;124;43m\"\u001b[39;49m\u001b[38;5;124;43mvalue\u001b[39;49m\u001b[38;5;124;43m\"\u001b[39;49m\u001b[43m:\u001b[49m\u001b[43m \u001b[49m\u001b[43mvalue\u001b[49m\u001b[43m}\u001b[49m\u001b[43m)\u001b[49m[\u001b[38;5;124m\"\u001b[39m\u001b[38;5;124mvalue\u001b[39m\u001b[38;5;124m\"\u001b[39m] \u001b[38;5;129;01mor\u001b[39;00m []\n",
      "File \u001b[1;32m~\\AppData\\Local\\Programs\\Python\\Python311\\Lib\\site-packages\\selenium\\webdriver\\remote\\webdriver.py:345\u001b[0m, in \u001b[0;36mWebDriver.execute\u001b[1;34m(self, driver_command, params)\u001b[0m\n\u001b[0;32m    343\u001b[0m         params[\u001b[38;5;124m\"\u001b[39m\u001b[38;5;124msessionId\u001b[39m\u001b[38;5;124m\"\u001b[39m] \u001b[38;5;241m=\u001b[39m \u001b[38;5;28mself\u001b[39m\u001b[38;5;241m.\u001b[39msession_id\n\u001b[1;32m--> 345\u001b[0m response \u001b[38;5;241m=\u001b[39m \u001b[38;5;28;43mself\u001b[39;49m\u001b[38;5;241;43m.\u001b[39;49m\u001b[43mcommand_executor\u001b[49m\u001b[38;5;241;43m.\u001b[39;49m\u001b[43mexecute\u001b[49m\u001b[43m(\u001b[49m\u001b[43mdriver_command\u001b[49m\u001b[43m,\u001b[49m\u001b[43m \u001b[49m\u001b[43mparams\u001b[49m\u001b[43m)\u001b[49m\n\u001b[0;32m    346\u001b[0m \u001b[38;5;28;01mif\u001b[39;00m response:\n",
      "File \u001b[1;32m~\\AppData\\Local\\Programs\\Python\\Python311\\Lib\\site-packages\\selenium\\webdriver\\remote\\remote_connection.py:302\u001b[0m, in \u001b[0;36mRemoteConnection.execute\u001b[1;34m(self, command, params)\u001b[0m\n\u001b[0;32m    301\u001b[0m LOGGER\u001b[38;5;241m.\u001b[39mdebug(\u001b[38;5;124m\"\u001b[39m\u001b[38;5;132;01m%s\u001b[39;00m\u001b[38;5;124m \u001b[39m\u001b[38;5;132;01m%s\u001b[39;00m\u001b[38;5;124m \u001b[39m\u001b[38;5;132;01m%s\u001b[39;00m\u001b[38;5;124m\"\u001b[39m, command_info[\u001b[38;5;241m0\u001b[39m], url, \u001b[38;5;28mstr\u001b[39m(trimmed))\n\u001b[1;32m--> 302\u001b[0m \u001b[38;5;28;01mreturn\u001b[39;00m \u001b[38;5;28;43mself\u001b[39;49m\u001b[38;5;241;43m.\u001b[39;49m\u001b[43m_request\u001b[49m\u001b[43m(\u001b[49m\u001b[43mcommand_info\u001b[49m\u001b[43m[\u001b[49m\u001b[38;5;241;43m0\u001b[39;49m\u001b[43m]\u001b[49m\u001b[43m,\u001b[49m\u001b[43m \u001b[49m\u001b[43murl\u001b[49m\u001b[43m,\u001b[49m\u001b[43m \u001b[49m\u001b[43mbody\u001b[49m\u001b[38;5;241;43m=\u001b[39;49m\u001b[43mdata\u001b[49m\u001b[43m)\u001b[49m\n",
      "File \u001b[1;32m~\\AppData\\Local\\Programs\\Python\\Python311\\Lib\\site-packages\\selenium\\webdriver\\remote\\remote_connection.py:322\u001b[0m, in \u001b[0;36mRemoteConnection._request\u001b[1;34m(self, method, url, body)\u001b[0m\n\u001b[0;32m    321\u001b[0m \u001b[38;5;28;01mif\u001b[39;00m \u001b[38;5;28mself\u001b[39m\u001b[38;5;241m.\u001b[39mkeep_alive:\n\u001b[1;32m--> 322\u001b[0m     response \u001b[38;5;241m=\u001b[39m \u001b[38;5;28;43mself\u001b[39;49m\u001b[38;5;241;43m.\u001b[39;49m\u001b[43m_conn\u001b[49m\u001b[38;5;241;43m.\u001b[39;49m\u001b[43mrequest\u001b[49m\u001b[43m(\u001b[49m\u001b[43mmethod\u001b[49m\u001b[43m,\u001b[49m\u001b[43m \u001b[49m\u001b[43murl\u001b[49m\u001b[43m,\u001b[49m\u001b[43m \u001b[49m\u001b[43mbody\u001b[49m\u001b[38;5;241;43m=\u001b[39;49m\u001b[43mbody\u001b[49m\u001b[43m,\u001b[49m\u001b[43m \u001b[49m\u001b[43mheaders\u001b[49m\u001b[38;5;241;43m=\u001b[39;49m\u001b[43mheaders\u001b[49m\u001b[43m)\u001b[49m\n\u001b[0;32m    323\u001b[0m     statuscode \u001b[38;5;241m=\u001b[39m response\u001b[38;5;241m.\u001b[39mstatus\n",
      "File \u001b[1;32m~\\AppData\\Local\\Programs\\Python\\Python311\\Lib\\site-packages\\urllib3\\_request_methods.py:144\u001b[0m, in \u001b[0;36mRequestMethods.request\u001b[1;34m(self, method, url, body, fields, headers, json, **urlopen_kw)\u001b[0m\n\u001b[0;32m    143\u001b[0m \u001b[38;5;28;01melse\u001b[39;00m:\n\u001b[1;32m--> 144\u001b[0m     \u001b[38;5;28;01mreturn\u001b[39;00m \u001b[38;5;28;43mself\u001b[39;49m\u001b[38;5;241;43m.\u001b[39;49m\u001b[43mrequest_encode_body\u001b[49m\u001b[43m(\u001b[49m\n\u001b[0;32m    145\u001b[0m \u001b[43m        \u001b[49m\u001b[43mmethod\u001b[49m\u001b[43m,\u001b[49m\u001b[43m \u001b[49m\u001b[43murl\u001b[49m\u001b[43m,\u001b[49m\u001b[43m \u001b[49m\u001b[43mfields\u001b[49m\u001b[38;5;241;43m=\u001b[39;49m\u001b[43mfields\u001b[49m\u001b[43m,\u001b[49m\u001b[43m \u001b[49m\u001b[43mheaders\u001b[49m\u001b[38;5;241;43m=\u001b[39;49m\u001b[43mheaders\u001b[49m\u001b[43m,\u001b[49m\u001b[43m \u001b[49m\u001b[38;5;241;43m*\u001b[39;49m\u001b[38;5;241;43m*\u001b[39;49m\u001b[43murlopen_kw\u001b[49m\n\u001b[0;32m    146\u001b[0m \u001b[43m    \u001b[49m\u001b[43m)\u001b[49m\n",
      "File \u001b[1;32m~\\AppData\\Local\\Programs\\Python\\Python311\\Lib\\site-packages\\urllib3\\_request_methods.py:279\u001b[0m, in \u001b[0;36mRequestMethods.request_encode_body\u001b[1;34m(self, method, url, fields, headers, encode_multipart, multipart_boundary, **urlopen_kw)\u001b[0m\n\u001b[0;32m    277\u001b[0m extra_kw\u001b[38;5;241m.\u001b[39mupdate(urlopen_kw)\n\u001b[1;32m--> 279\u001b[0m \u001b[38;5;28;01mreturn\u001b[39;00m \u001b[38;5;28;43mself\u001b[39;49m\u001b[38;5;241;43m.\u001b[39;49m\u001b[43murlopen\u001b[49m\u001b[43m(\u001b[49m\u001b[43mmethod\u001b[49m\u001b[43m,\u001b[49m\u001b[43m \u001b[49m\u001b[43murl\u001b[49m\u001b[43m,\u001b[49m\u001b[43m \u001b[49m\u001b[38;5;241;43m*\u001b[39;49m\u001b[38;5;241;43m*\u001b[39;49m\u001b[43mextra_kw\u001b[49m\u001b[43m)\u001b[49m\n",
      "File \u001b[1;32m~\\AppData\\Local\\Programs\\Python\\Python311\\Lib\\site-packages\\urllib3\\poolmanager.py:444\u001b[0m, in \u001b[0;36mPoolManager.urlopen\u001b[1;34m(self, method, url, redirect, **kw)\u001b[0m\n\u001b[0;32m    443\u001b[0m \u001b[38;5;28;01melse\u001b[39;00m:\n\u001b[1;32m--> 444\u001b[0m     response \u001b[38;5;241m=\u001b[39m \u001b[43mconn\u001b[49m\u001b[38;5;241;43m.\u001b[39;49m\u001b[43murlopen\u001b[49m\u001b[43m(\u001b[49m\u001b[43mmethod\u001b[49m\u001b[43m,\u001b[49m\u001b[43m \u001b[49m\u001b[43mu\u001b[49m\u001b[38;5;241;43m.\u001b[39;49m\u001b[43mrequest_uri\u001b[49m\u001b[43m,\u001b[49m\u001b[43m \u001b[49m\u001b[38;5;241;43m*\u001b[39;49m\u001b[38;5;241;43m*\u001b[39;49m\u001b[43mkw\u001b[49m\u001b[43m)\u001b[49m\n\u001b[0;32m    446\u001b[0m redirect_location \u001b[38;5;241m=\u001b[39m redirect \u001b[38;5;129;01mand\u001b[39;00m response\u001b[38;5;241m.\u001b[39mget_redirect_location()\n",
      "File \u001b[1;32m~\\AppData\\Local\\Programs\\Python\\Python311\\Lib\\site-packages\\urllib3\\connectionpool.py:793\u001b[0m, in \u001b[0;36mHTTPConnectionPool.urlopen\u001b[1;34m(self, method, url, body, headers, retries, redirect, assert_same_host, timeout, pool_timeout, release_conn, chunked, body_pos, preload_content, decode_content, **response_kw)\u001b[0m\n\u001b[0;32m    792\u001b[0m \u001b[38;5;66;03m# Make the request on the HTTPConnection object\u001b[39;00m\n\u001b[1;32m--> 793\u001b[0m response \u001b[38;5;241m=\u001b[39m \u001b[38;5;28;43mself\u001b[39;49m\u001b[38;5;241;43m.\u001b[39;49m\u001b[43m_make_request\u001b[49m\u001b[43m(\u001b[49m\n\u001b[0;32m    794\u001b[0m \u001b[43m    \u001b[49m\u001b[43mconn\u001b[49m\u001b[43m,\u001b[49m\n\u001b[0;32m    795\u001b[0m \u001b[43m    \u001b[49m\u001b[43mmethod\u001b[49m\u001b[43m,\u001b[49m\n\u001b[0;32m    796\u001b[0m \u001b[43m    \u001b[49m\u001b[43murl\u001b[49m\u001b[43m,\u001b[49m\n\u001b[0;32m    797\u001b[0m \u001b[43m    \u001b[49m\u001b[43mtimeout\u001b[49m\u001b[38;5;241;43m=\u001b[39;49m\u001b[43mtimeout_obj\u001b[49m\u001b[43m,\u001b[49m\n\u001b[0;32m    798\u001b[0m \u001b[43m    \u001b[49m\u001b[43mbody\u001b[49m\u001b[38;5;241;43m=\u001b[39;49m\u001b[43mbody\u001b[49m\u001b[43m,\u001b[49m\n\u001b[0;32m    799\u001b[0m \u001b[43m    \u001b[49m\u001b[43mheaders\u001b[49m\u001b[38;5;241;43m=\u001b[39;49m\u001b[43mheaders\u001b[49m\u001b[43m,\u001b[49m\n\u001b[0;32m    800\u001b[0m \u001b[43m    \u001b[49m\u001b[43mchunked\u001b[49m\u001b[38;5;241;43m=\u001b[39;49m\u001b[43mchunked\u001b[49m\u001b[43m,\u001b[49m\n\u001b[0;32m    801\u001b[0m \u001b[43m    \u001b[49m\u001b[43mretries\u001b[49m\u001b[38;5;241;43m=\u001b[39;49m\u001b[43mretries\u001b[49m\u001b[43m,\u001b[49m\n\u001b[0;32m    802\u001b[0m \u001b[43m    \u001b[49m\u001b[43mresponse_conn\u001b[49m\u001b[38;5;241;43m=\u001b[39;49m\u001b[43mresponse_conn\u001b[49m\u001b[43m,\u001b[49m\n\u001b[0;32m    803\u001b[0m \u001b[43m    \u001b[49m\u001b[43mpreload_content\u001b[49m\u001b[38;5;241;43m=\u001b[39;49m\u001b[43mpreload_content\u001b[49m\u001b[43m,\u001b[49m\n\u001b[0;32m    804\u001b[0m \u001b[43m    \u001b[49m\u001b[43mdecode_content\u001b[49m\u001b[38;5;241;43m=\u001b[39;49m\u001b[43mdecode_content\u001b[49m\u001b[43m,\u001b[49m\n\u001b[0;32m    805\u001b[0m \u001b[43m    \u001b[49m\u001b[38;5;241;43m*\u001b[39;49m\u001b[38;5;241;43m*\u001b[39;49m\u001b[43mresponse_kw\u001b[49m\u001b[43m,\u001b[49m\n\u001b[0;32m    806\u001b[0m \u001b[43m\u001b[49m\u001b[43m)\u001b[49m\n\u001b[0;32m    808\u001b[0m \u001b[38;5;66;03m# Everything went great!\u001b[39;00m\n",
      "File \u001b[1;32m~\\AppData\\Local\\Programs\\Python\\Python311\\Lib\\site-packages\\urllib3\\connectionpool.py:537\u001b[0m, in \u001b[0;36mHTTPConnectionPool._make_request\u001b[1;34m(self, conn, method, url, body, headers, retries, timeout, chunked, response_conn, preload_content, decode_content, enforce_content_length)\u001b[0m\n\u001b[0;32m    536\u001b[0m \u001b[38;5;28;01mtry\u001b[39;00m:\n\u001b[1;32m--> 537\u001b[0m     response \u001b[38;5;241m=\u001b[39m \u001b[43mconn\u001b[49m\u001b[38;5;241;43m.\u001b[39;49m\u001b[43mgetresponse\u001b[49m\u001b[43m(\u001b[49m\u001b[43m)\u001b[49m\n\u001b[0;32m    538\u001b[0m \u001b[38;5;28;01mexcept\u001b[39;00m (BaseSSLError, \u001b[38;5;167;01mOSError\u001b[39;00m) \u001b[38;5;28;01mas\u001b[39;00m e:\n",
      "File \u001b[1;32m~\\AppData\\Local\\Programs\\Python\\Python311\\Lib\\site-packages\\urllib3\\connection.py:466\u001b[0m, in \u001b[0;36mHTTPConnection.getresponse\u001b[1;34m(self)\u001b[0m\n\u001b[0;32m    465\u001b[0m \u001b[38;5;66;03m# Get the response from http.client.HTTPConnection\u001b[39;00m\n\u001b[1;32m--> 466\u001b[0m httplib_response \u001b[38;5;241m=\u001b[39m \u001b[38;5;28;43msuper\u001b[39;49m\u001b[43m(\u001b[49m\u001b[43m)\u001b[49m\u001b[38;5;241;43m.\u001b[39;49m\u001b[43mgetresponse\u001b[49m\u001b[43m(\u001b[49m\u001b[43m)\u001b[49m\n\u001b[0;32m    468\u001b[0m \u001b[38;5;28;01mtry\u001b[39;00m:\n",
      "File \u001b[1;32m~\\AppData\\Local\\Programs\\Python\\Python311\\Lib\\http\\client.py:1378\u001b[0m, in \u001b[0;36mHTTPConnection.getresponse\u001b[1;34m(self)\u001b[0m\n\u001b[0;32m   1377\u001b[0m \u001b[38;5;28;01mtry\u001b[39;00m:\n\u001b[1;32m-> 1378\u001b[0m     \u001b[43mresponse\u001b[49m\u001b[38;5;241;43m.\u001b[39;49m\u001b[43mbegin\u001b[49m\u001b[43m(\u001b[49m\u001b[43m)\u001b[49m\n\u001b[0;32m   1379\u001b[0m \u001b[38;5;28;01mexcept\u001b[39;00m \u001b[38;5;167;01mConnectionError\u001b[39;00m:\n",
      "File \u001b[1;32m~\\AppData\\Local\\Programs\\Python\\Python311\\Lib\\http\\client.py:318\u001b[0m, in \u001b[0;36mHTTPResponse.begin\u001b[1;34m(self)\u001b[0m\n\u001b[0;32m    317\u001b[0m \u001b[38;5;28;01mwhile\u001b[39;00m \u001b[38;5;28;01mTrue\u001b[39;00m:\n\u001b[1;32m--> 318\u001b[0m     version, status, reason \u001b[38;5;241m=\u001b[39m \u001b[38;5;28;43mself\u001b[39;49m\u001b[38;5;241;43m.\u001b[39;49m\u001b[43m_read_status\u001b[49m\u001b[43m(\u001b[49m\u001b[43m)\u001b[49m\n\u001b[0;32m    319\u001b[0m     \u001b[38;5;28;01mif\u001b[39;00m status \u001b[38;5;241m!=\u001b[39m CONTINUE:\n",
      "File \u001b[1;32m~\\AppData\\Local\\Programs\\Python\\Python311\\Lib\\http\\client.py:279\u001b[0m, in \u001b[0;36mHTTPResponse._read_status\u001b[1;34m(self)\u001b[0m\n\u001b[0;32m    278\u001b[0m \u001b[38;5;28;01mdef\u001b[39;00m \u001b[38;5;21m_read_status\u001b[39m(\u001b[38;5;28mself\u001b[39m):\n\u001b[1;32m--> 279\u001b[0m     line \u001b[38;5;241m=\u001b[39m \u001b[38;5;28mstr\u001b[39m(\u001b[38;5;28mself\u001b[39m\u001b[38;5;241m.\u001b[39mfp\u001b[38;5;241m.\u001b[39mreadline(_MAXLINE \u001b[38;5;241m+\u001b[39m \u001b[38;5;241m1\u001b[39m), \u001b[38;5;124m\"\u001b[39m\u001b[38;5;124miso-8859-1\u001b[39m\u001b[38;5;124m\"\u001b[39m)\n\u001b[0;32m    280\u001b[0m     \u001b[38;5;28;01mif\u001b[39;00m \u001b[38;5;28mlen\u001b[39m(line) \u001b[38;5;241m>\u001b[39m _MAXLINE:\n",
      "File \u001b[1;32m~\\AppData\\Local\\Programs\\Python\\Python311\\Lib\\socket.py:706\u001b[0m, in \u001b[0;36mSocketIO.readinto\u001b[1;34m(self, b)\u001b[0m\n\u001b[0;32m    705\u001b[0m \u001b[38;5;28;01mtry\u001b[39;00m:\n\u001b[1;32m--> 706\u001b[0m     \u001b[38;5;28;01mreturn\u001b[39;00m \u001b[38;5;28;43mself\u001b[39;49m\u001b[38;5;241;43m.\u001b[39;49m\u001b[43m_sock\u001b[49m\u001b[38;5;241;43m.\u001b[39;49m\u001b[43mrecv_into\u001b[49m\u001b[43m(\u001b[49m\u001b[43mb\u001b[49m\u001b[43m)\u001b[49m\n\u001b[0;32m    707\u001b[0m \u001b[38;5;28;01mexcept\u001b[39;00m timeout:\n",
      "\u001b[1;31mKeyboardInterrupt\u001b[0m: ",
      "\nDuring handling of the above exception, another exception occurred:\n",
      "\u001b[1;31mKeyboardInterrupt\u001b[0m                         Traceback (most recent call last)",
      "Cell \u001b[1;32mIn[9], line 23\u001b[0m\n\u001b[0;32m     22\u001b[0m browser\u001b[38;5;241m.\u001b[39mimplicitly_wait(\u001b[38;5;241m20\u001b[39m)\n\u001b[1;32m---> 23\u001b[0m contents \u001b[38;5;241m=\u001b[39m \u001b[43mbrowser\u001b[49m\u001b[38;5;241;43m.\u001b[39;49m\u001b[43mfind_elements\u001b[49m\u001b[43m(\u001b[49m\u001b[43mBy\u001b[49m\u001b[38;5;241;43m.\u001b[39;49m\u001b[43mCSS_SELECTOR\u001b[49m\u001b[43m,\u001b[49m\u001b[43m \u001b[49m\u001b[43mvalue\u001b[49m\u001b[43m \u001b[49m\u001b[38;5;241;43m=\u001b[39;49m\u001b[43m \u001b[49m\u001b[38;5;124;43m\"\u001b[39;49m\u001b[38;5;124;43mdiv.NHN_Writeform_Main > p\u001b[39;49m\u001b[38;5;124;43m\"\u001b[39;49m\u001b[43m)\u001b[49m\n\u001b[0;32m     24\u001b[0m content \u001b[38;5;241m=\u001b[39m \u001b[38;5;124m\"\u001b[39m\u001b[38;5;124m\"\u001b[39m\n",
      "File \u001b[1;32m~\\AppData\\Local\\Programs\\Python\\Python311\\Lib\\site-packages\\selenium\\webdriver\\remote\\webdriver.py:771\u001b[0m, in \u001b[0;36mWebDriver.find_elements\u001b[1;34m(self, by, value)\u001b[0m\n\u001b[0;32m    769\u001b[0m \u001b[38;5;66;03m# Return empty list if driver returns null\u001b[39;00m\n\u001b[0;32m    770\u001b[0m \u001b[38;5;66;03m# See https://github.com/SeleniumHQ/selenium/issues/4555\u001b[39;00m\n\u001b[1;32m--> 771\u001b[0m \u001b[38;5;28;01mreturn\u001b[39;00m \u001b[38;5;28;43mself\u001b[39;49m\u001b[38;5;241;43m.\u001b[39;49m\u001b[43mexecute\u001b[49m\u001b[43m(\u001b[49m\u001b[43mCommand\u001b[49m\u001b[38;5;241;43m.\u001b[39;49m\u001b[43mFIND_ELEMENTS\u001b[49m\u001b[43m,\u001b[49m\u001b[43m \u001b[49m\u001b[43m{\u001b[49m\u001b[38;5;124;43m\"\u001b[39;49m\u001b[38;5;124;43musing\u001b[39;49m\u001b[38;5;124;43m\"\u001b[39;49m\u001b[43m:\u001b[49m\u001b[43m \u001b[49m\u001b[43mby\u001b[49m\u001b[43m,\u001b[49m\u001b[43m \u001b[49m\u001b[38;5;124;43m\"\u001b[39;49m\u001b[38;5;124;43mvalue\u001b[39;49m\u001b[38;5;124;43m\"\u001b[39;49m\u001b[43m:\u001b[49m\u001b[43m \u001b[49m\u001b[43mvalue\u001b[49m\u001b[43m}\u001b[49m\u001b[43m)\u001b[49m[\u001b[38;5;124m\"\u001b[39m\u001b[38;5;124mvalue\u001b[39m\u001b[38;5;124m\"\u001b[39m] \u001b[38;5;129;01mor\u001b[39;00m []\n",
      "File \u001b[1;32m~\\AppData\\Local\\Programs\\Python\\Python311\\Lib\\site-packages\\selenium\\webdriver\\remote\\webdriver.py:345\u001b[0m, in \u001b[0;36mWebDriver.execute\u001b[1;34m(self, driver_command, params)\u001b[0m\n\u001b[0;32m    343\u001b[0m         params[\u001b[38;5;124m\"\u001b[39m\u001b[38;5;124msessionId\u001b[39m\u001b[38;5;124m\"\u001b[39m] \u001b[38;5;241m=\u001b[39m \u001b[38;5;28mself\u001b[39m\u001b[38;5;241m.\u001b[39msession_id\n\u001b[1;32m--> 345\u001b[0m response \u001b[38;5;241m=\u001b[39m \u001b[38;5;28;43mself\u001b[39;49m\u001b[38;5;241;43m.\u001b[39;49m\u001b[43mcommand_executor\u001b[49m\u001b[38;5;241;43m.\u001b[39;49m\u001b[43mexecute\u001b[49m\u001b[43m(\u001b[49m\u001b[43mdriver_command\u001b[49m\u001b[43m,\u001b[49m\u001b[43m \u001b[49m\u001b[43mparams\u001b[49m\u001b[43m)\u001b[49m\n\u001b[0;32m    346\u001b[0m \u001b[38;5;28;01mif\u001b[39;00m response:\n",
      "File \u001b[1;32m~\\AppData\\Local\\Programs\\Python\\Python311\\Lib\\site-packages\\selenium\\webdriver\\remote\\remote_connection.py:302\u001b[0m, in \u001b[0;36mRemoteConnection.execute\u001b[1;34m(self, command, params)\u001b[0m\n\u001b[0;32m    301\u001b[0m LOGGER\u001b[38;5;241m.\u001b[39mdebug(\u001b[38;5;124m\"\u001b[39m\u001b[38;5;132;01m%s\u001b[39;00m\u001b[38;5;124m \u001b[39m\u001b[38;5;132;01m%s\u001b[39;00m\u001b[38;5;124m \u001b[39m\u001b[38;5;132;01m%s\u001b[39;00m\u001b[38;5;124m\"\u001b[39m, command_info[\u001b[38;5;241m0\u001b[39m], url, \u001b[38;5;28mstr\u001b[39m(trimmed))\n\u001b[1;32m--> 302\u001b[0m \u001b[38;5;28;01mreturn\u001b[39;00m \u001b[38;5;28;43mself\u001b[39;49m\u001b[38;5;241;43m.\u001b[39;49m\u001b[43m_request\u001b[49m\u001b[43m(\u001b[49m\u001b[43mcommand_info\u001b[49m\u001b[43m[\u001b[49m\u001b[38;5;241;43m0\u001b[39;49m\u001b[43m]\u001b[49m\u001b[43m,\u001b[49m\u001b[43m \u001b[49m\u001b[43murl\u001b[49m\u001b[43m,\u001b[49m\u001b[43m \u001b[49m\u001b[43mbody\u001b[49m\u001b[38;5;241;43m=\u001b[39;49m\u001b[43mdata\u001b[49m\u001b[43m)\u001b[49m\n",
      "File \u001b[1;32m~\\AppData\\Local\\Programs\\Python\\Python311\\Lib\\site-packages\\selenium\\webdriver\\remote\\remote_connection.py:322\u001b[0m, in \u001b[0;36mRemoteConnection._request\u001b[1;34m(self, method, url, body)\u001b[0m\n\u001b[0;32m    321\u001b[0m \u001b[38;5;28;01mif\u001b[39;00m \u001b[38;5;28mself\u001b[39m\u001b[38;5;241m.\u001b[39mkeep_alive:\n\u001b[1;32m--> 322\u001b[0m     response \u001b[38;5;241m=\u001b[39m \u001b[38;5;28;43mself\u001b[39;49m\u001b[38;5;241;43m.\u001b[39;49m\u001b[43m_conn\u001b[49m\u001b[38;5;241;43m.\u001b[39;49m\u001b[43mrequest\u001b[49m\u001b[43m(\u001b[49m\u001b[43mmethod\u001b[49m\u001b[43m,\u001b[49m\u001b[43m \u001b[49m\u001b[43murl\u001b[49m\u001b[43m,\u001b[49m\u001b[43m \u001b[49m\u001b[43mbody\u001b[49m\u001b[38;5;241;43m=\u001b[39;49m\u001b[43mbody\u001b[49m\u001b[43m,\u001b[49m\u001b[43m \u001b[49m\u001b[43mheaders\u001b[49m\u001b[38;5;241;43m=\u001b[39;49m\u001b[43mheaders\u001b[49m\u001b[43m)\u001b[49m\n\u001b[0;32m    323\u001b[0m     statuscode \u001b[38;5;241m=\u001b[39m response\u001b[38;5;241m.\u001b[39mstatus\n",
      "File \u001b[1;32m~\\AppData\\Local\\Programs\\Python\\Python311\\Lib\\site-packages\\urllib3\\_request_methods.py:144\u001b[0m, in \u001b[0;36mRequestMethods.request\u001b[1;34m(self, method, url, body, fields, headers, json, **urlopen_kw)\u001b[0m\n\u001b[0;32m    143\u001b[0m \u001b[38;5;28;01melse\u001b[39;00m:\n\u001b[1;32m--> 144\u001b[0m     \u001b[38;5;28;01mreturn\u001b[39;00m \u001b[38;5;28;43mself\u001b[39;49m\u001b[38;5;241;43m.\u001b[39;49m\u001b[43mrequest_encode_body\u001b[49m\u001b[43m(\u001b[49m\n\u001b[0;32m    145\u001b[0m \u001b[43m        \u001b[49m\u001b[43mmethod\u001b[49m\u001b[43m,\u001b[49m\u001b[43m \u001b[49m\u001b[43murl\u001b[49m\u001b[43m,\u001b[49m\u001b[43m \u001b[49m\u001b[43mfields\u001b[49m\u001b[38;5;241;43m=\u001b[39;49m\u001b[43mfields\u001b[49m\u001b[43m,\u001b[49m\u001b[43m \u001b[49m\u001b[43mheaders\u001b[49m\u001b[38;5;241;43m=\u001b[39;49m\u001b[43mheaders\u001b[49m\u001b[43m,\u001b[49m\u001b[43m \u001b[49m\u001b[38;5;241;43m*\u001b[39;49m\u001b[38;5;241;43m*\u001b[39;49m\u001b[43murlopen_kw\u001b[49m\n\u001b[0;32m    146\u001b[0m \u001b[43m    \u001b[49m\u001b[43m)\u001b[49m\n",
      "File \u001b[1;32m~\\AppData\\Local\\Programs\\Python\\Python311\\Lib\\site-packages\\urllib3\\_request_methods.py:279\u001b[0m, in \u001b[0;36mRequestMethods.request_encode_body\u001b[1;34m(self, method, url, fields, headers, encode_multipart, multipart_boundary, **urlopen_kw)\u001b[0m\n\u001b[0;32m    277\u001b[0m extra_kw\u001b[38;5;241m.\u001b[39mupdate(urlopen_kw)\n\u001b[1;32m--> 279\u001b[0m \u001b[38;5;28;01mreturn\u001b[39;00m \u001b[38;5;28;43mself\u001b[39;49m\u001b[38;5;241;43m.\u001b[39;49m\u001b[43murlopen\u001b[49m\u001b[43m(\u001b[49m\u001b[43mmethod\u001b[49m\u001b[43m,\u001b[49m\u001b[43m \u001b[49m\u001b[43murl\u001b[49m\u001b[43m,\u001b[49m\u001b[43m \u001b[49m\u001b[38;5;241;43m*\u001b[39;49m\u001b[38;5;241;43m*\u001b[39;49m\u001b[43mextra_kw\u001b[49m\u001b[43m)\u001b[49m\n",
      "File \u001b[1;32m~\\AppData\\Local\\Programs\\Python\\Python311\\Lib\\site-packages\\urllib3\\poolmanager.py:444\u001b[0m, in \u001b[0;36mPoolManager.urlopen\u001b[1;34m(self, method, url, redirect, **kw)\u001b[0m\n\u001b[0;32m    443\u001b[0m \u001b[38;5;28;01melse\u001b[39;00m:\n\u001b[1;32m--> 444\u001b[0m     response \u001b[38;5;241m=\u001b[39m \u001b[43mconn\u001b[49m\u001b[38;5;241;43m.\u001b[39;49m\u001b[43murlopen\u001b[49m\u001b[43m(\u001b[49m\u001b[43mmethod\u001b[49m\u001b[43m,\u001b[49m\u001b[43m \u001b[49m\u001b[43mu\u001b[49m\u001b[38;5;241;43m.\u001b[39;49m\u001b[43mrequest_uri\u001b[49m\u001b[43m,\u001b[49m\u001b[43m \u001b[49m\u001b[38;5;241;43m*\u001b[39;49m\u001b[38;5;241;43m*\u001b[39;49m\u001b[43mkw\u001b[49m\u001b[43m)\u001b[49m\n\u001b[0;32m    446\u001b[0m redirect_location \u001b[38;5;241m=\u001b[39m redirect \u001b[38;5;129;01mand\u001b[39;00m response\u001b[38;5;241m.\u001b[39mget_redirect_location()\n",
      "File \u001b[1;32m~\\AppData\\Local\\Programs\\Python\\Python311\\Lib\\site-packages\\urllib3\\connectionpool.py:793\u001b[0m, in \u001b[0;36mHTTPConnectionPool.urlopen\u001b[1;34m(self, method, url, body, headers, retries, redirect, assert_same_host, timeout, pool_timeout, release_conn, chunked, body_pos, preload_content, decode_content, **response_kw)\u001b[0m\n\u001b[0;32m    792\u001b[0m \u001b[38;5;66;03m# Make the request on the HTTPConnection object\u001b[39;00m\n\u001b[1;32m--> 793\u001b[0m response \u001b[38;5;241m=\u001b[39m \u001b[38;5;28;43mself\u001b[39;49m\u001b[38;5;241;43m.\u001b[39;49m\u001b[43m_make_request\u001b[49m\u001b[43m(\u001b[49m\n\u001b[0;32m    794\u001b[0m \u001b[43m    \u001b[49m\u001b[43mconn\u001b[49m\u001b[43m,\u001b[49m\n\u001b[0;32m    795\u001b[0m \u001b[43m    \u001b[49m\u001b[43mmethod\u001b[49m\u001b[43m,\u001b[49m\n\u001b[0;32m    796\u001b[0m \u001b[43m    \u001b[49m\u001b[43murl\u001b[49m\u001b[43m,\u001b[49m\n\u001b[0;32m    797\u001b[0m \u001b[43m    \u001b[49m\u001b[43mtimeout\u001b[49m\u001b[38;5;241;43m=\u001b[39;49m\u001b[43mtimeout_obj\u001b[49m\u001b[43m,\u001b[49m\n\u001b[0;32m    798\u001b[0m \u001b[43m    \u001b[49m\u001b[43mbody\u001b[49m\u001b[38;5;241;43m=\u001b[39;49m\u001b[43mbody\u001b[49m\u001b[43m,\u001b[49m\n\u001b[0;32m    799\u001b[0m \u001b[43m    \u001b[49m\u001b[43mheaders\u001b[49m\u001b[38;5;241;43m=\u001b[39;49m\u001b[43mheaders\u001b[49m\u001b[43m,\u001b[49m\n\u001b[0;32m    800\u001b[0m \u001b[43m    \u001b[49m\u001b[43mchunked\u001b[49m\u001b[38;5;241;43m=\u001b[39;49m\u001b[43mchunked\u001b[49m\u001b[43m,\u001b[49m\n\u001b[0;32m    801\u001b[0m \u001b[43m    \u001b[49m\u001b[43mretries\u001b[49m\u001b[38;5;241;43m=\u001b[39;49m\u001b[43mretries\u001b[49m\u001b[43m,\u001b[49m\n\u001b[0;32m    802\u001b[0m \u001b[43m    \u001b[49m\u001b[43mresponse_conn\u001b[49m\u001b[38;5;241;43m=\u001b[39;49m\u001b[43mresponse_conn\u001b[49m\u001b[43m,\u001b[49m\n\u001b[0;32m    803\u001b[0m \u001b[43m    \u001b[49m\u001b[43mpreload_content\u001b[49m\u001b[38;5;241;43m=\u001b[39;49m\u001b[43mpreload_content\u001b[49m\u001b[43m,\u001b[49m\n\u001b[0;32m    804\u001b[0m \u001b[43m    \u001b[49m\u001b[43mdecode_content\u001b[49m\u001b[38;5;241;43m=\u001b[39;49m\u001b[43mdecode_content\u001b[49m\u001b[43m,\u001b[49m\n\u001b[0;32m    805\u001b[0m \u001b[43m    \u001b[49m\u001b[38;5;241;43m*\u001b[39;49m\u001b[38;5;241;43m*\u001b[39;49m\u001b[43mresponse_kw\u001b[49m\u001b[43m,\u001b[49m\n\u001b[0;32m    806\u001b[0m \u001b[43m\u001b[49m\u001b[43m)\u001b[49m\n\u001b[0;32m    808\u001b[0m \u001b[38;5;66;03m# Everything went great!\u001b[39;00m\n",
      "File \u001b[1;32m~\\AppData\\Local\\Programs\\Python\\Python311\\Lib\\site-packages\\urllib3\\connectionpool.py:537\u001b[0m, in \u001b[0;36mHTTPConnectionPool._make_request\u001b[1;34m(self, conn, method, url, body, headers, retries, timeout, chunked, response_conn, preload_content, decode_content, enforce_content_length)\u001b[0m\n\u001b[0;32m    536\u001b[0m \u001b[38;5;28;01mtry\u001b[39;00m:\n\u001b[1;32m--> 537\u001b[0m     response \u001b[38;5;241m=\u001b[39m \u001b[43mconn\u001b[49m\u001b[38;5;241;43m.\u001b[39;49m\u001b[43mgetresponse\u001b[49m\u001b[43m(\u001b[49m\u001b[43m)\u001b[49m\n\u001b[0;32m    538\u001b[0m \u001b[38;5;28;01mexcept\u001b[39;00m (BaseSSLError, \u001b[38;5;167;01mOSError\u001b[39;00m) \u001b[38;5;28;01mas\u001b[39;00m e:\n",
      "File \u001b[1;32m~\\AppData\\Local\\Programs\\Python\\Python311\\Lib\\site-packages\\urllib3\\connection.py:466\u001b[0m, in \u001b[0;36mHTTPConnection.getresponse\u001b[1;34m(self)\u001b[0m\n\u001b[0;32m    465\u001b[0m \u001b[38;5;66;03m# Get the response from http.client.HTTPConnection\u001b[39;00m\n\u001b[1;32m--> 466\u001b[0m httplib_response \u001b[38;5;241m=\u001b[39m \u001b[38;5;28;43msuper\u001b[39;49m\u001b[43m(\u001b[49m\u001b[43m)\u001b[49m\u001b[38;5;241;43m.\u001b[39;49m\u001b[43mgetresponse\u001b[49m\u001b[43m(\u001b[49m\u001b[43m)\u001b[49m\n\u001b[0;32m    468\u001b[0m \u001b[38;5;28;01mtry\u001b[39;00m:\n",
      "File \u001b[1;32m~\\AppData\\Local\\Programs\\Python\\Python311\\Lib\\http\\client.py:1378\u001b[0m, in \u001b[0;36mHTTPConnection.getresponse\u001b[1;34m(self)\u001b[0m\n\u001b[0;32m   1377\u001b[0m \u001b[38;5;28;01mtry\u001b[39;00m:\n\u001b[1;32m-> 1378\u001b[0m     \u001b[43mresponse\u001b[49m\u001b[38;5;241;43m.\u001b[39;49m\u001b[43mbegin\u001b[49m\u001b[43m(\u001b[49m\u001b[43m)\u001b[49m\n\u001b[0;32m   1379\u001b[0m \u001b[38;5;28;01mexcept\u001b[39;00m \u001b[38;5;167;01mConnectionError\u001b[39;00m:\n",
      "File \u001b[1;32m~\\AppData\\Local\\Programs\\Python\\Python311\\Lib\\http\\client.py:318\u001b[0m, in \u001b[0;36mHTTPResponse.begin\u001b[1;34m(self)\u001b[0m\n\u001b[0;32m    317\u001b[0m \u001b[38;5;28;01mwhile\u001b[39;00m \u001b[38;5;28;01mTrue\u001b[39;00m:\n\u001b[1;32m--> 318\u001b[0m     version, status, reason \u001b[38;5;241m=\u001b[39m \u001b[38;5;28;43mself\u001b[39;49m\u001b[38;5;241;43m.\u001b[39;49m\u001b[43m_read_status\u001b[49m\u001b[43m(\u001b[49m\u001b[43m)\u001b[49m\n\u001b[0;32m    319\u001b[0m     \u001b[38;5;28;01mif\u001b[39;00m status \u001b[38;5;241m!=\u001b[39m CONTINUE:\n",
      "File \u001b[1;32m~\\AppData\\Local\\Programs\\Python\\Python311\\Lib\\http\\client.py:279\u001b[0m, in \u001b[0;36mHTTPResponse._read_status\u001b[1;34m(self)\u001b[0m\n\u001b[0;32m    278\u001b[0m \u001b[38;5;28;01mdef\u001b[39;00m \u001b[38;5;21m_read_status\u001b[39m(\u001b[38;5;28mself\u001b[39m):\n\u001b[1;32m--> 279\u001b[0m     line \u001b[38;5;241m=\u001b[39m \u001b[38;5;28mstr\u001b[39m(\u001b[38;5;28mself\u001b[39m\u001b[38;5;241m.\u001b[39mfp\u001b[38;5;241m.\u001b[39mreadline(_MAXLINE \u001b[38;5;241m+\u001b[39m \u001b[38;5;241m1\u001b[39m), \u001b[38;5;124m\"\u001b[39m\u001b[38;5;124miso-8859-1\u001b[39m\u001b[38;5;124m\"\u001b[39m)\n\u001b[0;32m    280\u001b[0m     \u001b[38;5;28;01mif\u001b[39;00m \u001b[38;5;28mlen\u001b[39m(line) \u001b[38;5;241m>\u001b[39m _MAXLINE:\n",
      "File \u001b[1;32m~\\AppData\\Local\\Programs\\Python\\Python311\\Lib\\socket.py:706\u001b[0m, in \u001b[0;36mSocketIO.readinto\u001b[1;34m(self, b)\u001b[0m\n\u001b[0;32m    705\u001b[0m \u001b[38;5;28;01mtry\u001b[39;00m:\n\u001b[1;32m--> 706\u001b[0m     \u001b[38;5;28;01mreturn\u001b[39;00m \u001b[38;5;28;43mself\u001b[39;49m\u001b[38;5;241;43m.\u001b[39;49m\u001b[43m_sock\u001b[49m\u001b[38;5;241;43m.\u001b[39;49m\u001b[43mrecv_into\u001b[49m\u001b[43m(\u001b[49m\u001b[43mb\u001b[49m\u001b[43m)\u001b[49m\n\u001b[0;32m    707\u001b[0m \u001b[38;5;28;01mexcept\u001b[39;00m timeout:\n",
      "\u001b[1;31mKeyboardInterrupt\u001b[0m: ",
      "\nDuring handling of the above exception, another exception occurred:\n",
      "\u001b[1;31mKeyboardInterrupt\u001b[0m                         Traceback (most recent call last)",
      "    \u001b[1;31m[... skipping hidden 1 frame]\u001b[0m\n",
      "Cell \u001b[1;32mIn[9], line 35\u001b[0m\n\u001b[0;32m     34\u001b[0m         \u001b[38;5;28;01mfor\u001b[39;00m y \u001b[38;5;129;01min\u001b[39;00m \u001b[38;5;28mrange\u001b[39m(\u001b[38;5;28mlen\u001b[39m(contents)):\n\u001b[1;32m---> 35\u001b[0m             content \u001b[38;5;241m=\u001b[39m content \u001b[38;5;241m+\u001b[39m \u001b[38;5;124m\"\u001b[39m\u001b[38;5;124m \u001b[39m\u001b[38;5;124m\"\u001b[39m \u001b[38;5;241m+\u001b[39m \u001b[43mcontents\u001b[49m\u001b[43m[\u001b[49m\u001b[43my\u001b[49m\u001b[43m]\u001b[49m\u001b[38;5;241;43m.\u001b[39;49m\u001b[43mtext\u001b[49m\n\u001b[0;32m     37\u001b[0m \u001b[38;5;28mprint\u001b[39m(content)\n",
      "File \u001b[1;32m~\\AppData\\Local\\Programs\\Python\\Python311\\Lib\\site-packages\\selenium\\webdriver\\remote\\webelement.py:90\u001b[0m, in \u001b[0;36mWebElement.text\u001b[1;34m(self)\u001b[0m\n\u001b[0;32m     89\u001b[0m \u001b[38;5;250m\u001b[39m\u001b[38;5;124;03m\"\"\"The text of the element.\"\"\"\u001b[39;00m\n\u001b[1;32m---> 90\u001b[0m \u001b[38;5;28;01mreturn\u001b[39;00m \u001b[38;5;28;43mself\u001b[39;49m\u001b[38;5;241;43m.\u001b[39;49m\u001b[43m_execute\u001b[49m\u001b[43m(\u001b[49m\u001b[43mCommand\u001b[49m\u001b[38;5;241;43m.\u001b[39;49m\u001b[43mGET_ELEMENT_TEXT\u001b[49m\u001b[43m)\u001b[49m[\u001b[38;5;124m\"\u001b[39m\u001b[38;5;124mvalue\u001b[39m\u001b[38;5;124m\"\u001b[39m]\n",
      "File \u001b[1;32m~\\AppData\\Local\\Programs\\Python\\Python311\\Lib\\site-packages\\selenium\\webdriver\\remote\\webelement.py:395\u001b[0m, in \u001b[0;36mWebElement._execute\u001b[1;34m(self, command, params)\u001b[0m\n\u001b[0;32m    394\u001b[0m params[\u001b[38;5;124m\"\u001b[39m\u001b[38;5;124mid\u001b[39m\u001b[38;5;124m\"\u001b[39m] \u001b[38;5;241m=\u001b[39m \u001b[38;5;28mself\u001b[39m\u001b[38;5;241m.\u001b[39m_id\n\u001b[1;32m--> 395\u001b[0m \u001b[38;5;28;01mreturn\u001b[39;00m \u001b[38;5;28;43mself\u001b[39;49m\u001b[38;5;241;43m.\u001b[39;49m\u001b[43m_parent\u001b[49m\u001b[38;5;241;43m.\u001b[39;49m\u001b[43mexecute\u001b[49m\u001b[43m(\u001b[49m\u001b[43mcommand\u001b[49m\u001b[43m,\u001b[49m\u001b[43m \u001b[49m\u001b[43mparams\u001b[49m\u001b[43m)\u001b[49m\n",
      "File \u001b[1;32m~\\AppData\\Local\\Programs\\Python\\Python311\\Lib\\site-packages\\selenium\\webdriver\\remote\\webdriver.py:345\u001b[0m, in \u001b[0;36mWebDriver.execute\u001b[1;34m(self, driver_command, params)\u001b[0m\n\u001b[0;32m    343\u001b[0m         params[\u001b[38;5;124m\"\u001b[39m\u001b[38;5;124msessionId\u001b[39m\u001b[38;5;124m\"\u001b[39m] \u001b[38;5;241m=\u001b[39m \u001b[38;5;28mself\u001b[39m\u001b[38;5;241m.\u001b[39msession_id\n\u001b[1;32m--> 345\u001b[0m response \u001b[38;5;241m=\u001b[39m \u001b[38;5;28;43mself\u001b[39;49m\u001b[38;5;241;43m.\u001b[39;49m\u001b[43mcommand_executor\u001b[49m\u001b[38;5;241;43m.\u001b[39;49m\u001b[43mexecute\u001b[49m\u001b[43m(\u001b[49m\u001b[43mdriver_command\u001b[49m\u001b[43m,\u001b[49m\u001b[43m \u001b[49m\u001b[43mparams\u001b[49m\u001b[43m)\u001b[49m\n\u001b[0;32m    346\u001b[0m \u001b[38;5;28;01mif\u001b[39;00m response:\n",
      "File \u001b[1;32m~\\AppData\\Local\\Programs\\Python\\Python311\\Lib\\site-packages\\selenium\\webdriver\\remote\\remote_connection.py:302\u001b[0m, in \u001b[0;36mRemoteConnection.execute\u001b[1;34m(self, command, params)\u001b[0m\n\u001b[0;32m    301\u001b[0m LOGGER\u001b[38;5;241m.\u001b[39mdebug(\u001b[38;5;124m\"\u001b[39m\u001b[38;5;132;01m%s\u001b[39;00m\u001b[38;5;124m \u001b[39m\u001b[38;5;132;01m%s\u001b[39;00m\u001b[38;5;124m \u001b[39m\u001b[38;5;132;01m%s\u001b[39;00m\u001b[38;5;124m\"\u001b[39m, command_info[\u001b[38;5;241m0\u001b[39m], url, \u001b[38;5;28mstr\u001b[39m(trimmed))\n\u001b[1;32m--> 302\u001b[0m \u001b[38;5;28;01mreturn\u001b[39;00m \u001b[38;5;28;43mself\u001b[39;49m\u001b[38;5;241;43m.\u001b[39;49m\u001b[43m_request\u001b[49m\u001b[43m(\u001b[49m\u001b[43mcommand_info\u001b[49m\u001b[43m[\u001b[49m\u001b[38;5;241;43m0\u001b[39;49m\u001b[43m]\u001b[49m\u001b[43m,\u001b[49m\u001b[43m \u001b[49m\u001b[43murl\u001b[49m\u001b[43m,\u001b[49m\u001b[43m \u001b[49m\u001b[43mbody\u001b[49m\u001b[38;5;241;43m=\u001b[39;49m\u001b[43mdata\u001b[49m\u001b[43m)\u001b[49m\n",
      "File \u001b[1;32m~\\AppData\\Local\\Programs\\Python\\Python311\\Lib\\site-packages\\selenium\\webdriver\\remote\\remote_connection.py:322\u001b[0m, in \u001b[0;36mRemoteConnection._request\u001b[1;34m(self, method, url, body)\u001b[0m\n\u001b[0;32m    321\u001b[0m \u001b[38;5;28;01mif\u001b[39;00m \u001b[38;5;28mself\u001b[39m\u001b[38;5;241m.\u001b[39mkeep_alive:\n\u001b[1;32m--> 322\u001b[0m     response \u001b[38;5;241m=\u001b[39m \u001b[38;5;28;43mself\u001b[39;49m\u001b[38;5;241;43m.\u001b[39;49m\u001b[43m_conn\u001b[49m\u001b[38;5;241;43m.\u001b[39;49m\u001b[43mrequest\u001b[49m\u001b[43m(\u001b[49m\u001b[43mmethod\u001b[49m\u001b[43m,\u001b[49m\u001b[43m \u001b[49m\u001b[43murl\u001b[49m\u001b[43m,\u001b[49m\u001b[43m \u001b[49m\u001b[43mbody\u001b[49m\u001b[38;5;241;43m=\u001b[39;49m\u001b[43mbody\u001b[49m\u001b[43m,\u001b[49m\u001b[43m \u001b[49m\u001b[43mheaders\u001b[49m\u001b[38;5;241;43m=\u001b[39;49m\u001b[43mheaders\u001b[49m\u001b[43m)\u001b[49m\n\u001b[0;32m    323\u001b[0m     statuscode \u001b[38;5;241m=\u001b[39m response\u001b[38;5;241m.\u001b[39mstatus\n",
      "File \u001b[1;32m~\\AppData\\Local\\Programs\\Python\\Python311\\Lib\\site-packages\\urllib3\\_request_methods.py:136\u001b[0m, in \u001b[0;36mRequestMethods.request\u001b[1;34m(self, method, url, body, fields, headers, json, **urlopen_kw)\u001b[0m\n\u001b[0;32m    135\u001b[0m \u001b[38;5;28;01mif\u001b[39;00m method \u001b[38;5;129;01min\u001b[39;00m \u001b[38;5;28mself\u001b[39m\u001b[38;5;241m.\u001b[39m_encode_url_methods:\n\u001b[1;32m--> 136\u001b[0m     \u001b[38;5;28;01mreturn\u001b[39;00m \u001b[38;5;28;43mself\u001b[39;49m\u001b[38;5;241;43m.\u001b[39;49m\u001b[43mrequest_encode_url\u001b[49m\u001b[43m(\u001b[49m\n\u001b[0;32m    137\u001b[0m \u001b[43m        \u001b[49m\u001b[43mmethod\u001b[49m\u001b[43m,\u001b[49m\n\u001b[0;32m    138\u001b[0m \u001b[43m        \u001b[49m\u001b[43murl\u001b[49m\u001b[43m,\u001b[49m\n\u001b[0;32m    139\u001b[0m \u001b[43m        \u001b[49m\u001b[43mfields\u001b[49m\u001b[38;5;241;43m=\u001b[39;49m\u001b[43mfields\u001b[49m\u001b[43m,\u001b[49m\u001b[43m  \u001b[49m\u001b[38;5;66;43;03m# type: ignore[arg-type]\u001b[39;49;00m\n\u001b[0;32m    140\u001b[0m \u001b[43m        \u001b[49m\u001b[43mheaders\u001b[49m\u001b[38;5;241;43m=\u001b[39;49m\u001b[43mheaders\u001b[49m\u001b[43m,\u001b[49m\n\u001b[0;32m    141\u001b[0m \u001b[43m        \u001b[49m\u001b[38;5;241;43m*\u001b[39;49m\u001b[38;5;241;43m*\u001b[39;49m\u001b[43murlopen_kw\u001b[49m\u001b[43m,\u001b[49m\n\u001b[0;32m    142\u001b[0m \u001b[43m    \u001b[49m\u001b[43m)\u001b[49m\n\u001b[0;32m    143\u001b[0m \u001b[38;5;28;01melse\u001b[39;00m:\n",
      "File \u001b[1;32m~\\AppData\\Local\\Programs\\Python\\Python311\\Lib\\site-packages\\urllib3\\_request_methods.py:183\u001b[0m, in \u001b[0;36mRequestMethods.request_encode_url\u001b[1;34m(self, method, url, fields, headers, **urlopen_kw)\u001b[0m\n\u001b[0;32m    181\u001b[0m     url \u001b[38;5;241m+\u001b[39m\u001b[38;5;241m=\u001b[39m \u001b[38;5;124m\"\u001b[39m\u001b[38;5;124m?\u001b[39m\u001b[38;5;124m\"\u001b[39m \u001b[38;5;241m+\u001b[39m urlencode(fields)\n\u001b[1;32m--> 183\u001b[0m \u001b[38;5;28;01mreturn\u001b[39;00m \u001b[38;5;28;43mself\u001b[39;49m\u001b[38;5;241;43m.\u001b[39;49m\u001b[43murlopen\u001b[49m\u001b[43m(\u001b[49m\u001b[43mmethod\u001b[49m\u001b[43m,\u001b[49m\u001b[43m \u001b[49m\u001b[43murl\u001b[49m\u001b[43m,\u001b[49m\u001b[43m \u001b[49m\u001b[38;5;241;43m*\u001b[39;49m\u001b[38;5;241;43m*\u001b[39;49m\u001b[43mextra_kw\u001b[49m\u001b[43m)\u001b[49m\n",
      "File \u001b[1;32m~\\AppData\\Local\\Programs\\Python\\Python311\\Lib\\site-packages\\urllib3\\poolmanager.py:444\u001b[0m, in \u001b[0;36mPoolManager.urlopen\u001b[1;34m(self, method, url, redirect, **kw)\u001b[0m\n\u001b[0;32m    443\u001b[0m \u001b[38;5;28;01melse\u001b[39;00m:\n\u001b[1;32m--> 444\u001b[0m     response \u001b[38;5;241m=\u001b[39m \u001b[43mconn\u001b[49m\u001b[38;5;241;43m.\u001b[39;49m\u001b[43murlopen\u001b[49m\u001b[43m(\u001b[49m\u001b[43mmethod\u001b[49m\u001b[43m,\u001b[49m\u001b[43m \u001b[49m\u001b[43mu\u001b[49m\u001b[38;5;241;43m.\u001b[39;49m\u001b[43mrequest_uri\u001b[49m\u001b[43m,\u001b[49m\u001b[43m \u001b[49m\u001b[38;5;241;43m*\u001b[39;49m\u001b[38;5;241;43m*\u001b[39;49m\u001b[43mkw\u001b[49m\u001b[43m)\u001b[49m\n\u001b[0;32m    446\u001b[0m redirect_location \u001b[38;5;241m=\u001b[39m redirect \u001b[38;5;129;01mand\u001b[39;00m response\u001b[38;5;241m.\u001b[39mget_redirect_location()\n",
      "File \u001b[1;32m~\\AppData\\Local\\Programs\\Python\\Python311\\Lib\\site-packages\\urllib3\\connectionpool.py:793\u001b[0m, in \u001b[0;36mHTTPConnectionPool.urlopen\u001b[1;34m(self, method, url, body, headers, retries, redirect, assert_same_host, timeout, pool_timeout, release_conn, chunked, body_pos, preload_content, decode_content, **response_kw)\u001b[0m\n\u001b[0;32m    792\u001b[0m \u001b[38;5;66;03m# Make the request on the HTTPConnection object\u001b[39;00m\n\u001b[1;32m--> 793\u001b[0m response \u001b[38;5;241m=\u001b[39m \u001b[38;5;28;43mself\u001b[39;49m\u001b[38;5;241;43m.\u001b[39;49m\u001b[43m_make_request\u001b[49m\u001b[43m(\u001b[49m\n\u001b[0;32m    794\u001b[0m \u001b[43m    \u001b[49m\u001b[43mconn\u001b[49m\u001b[43m,\u001b[49m\n\u001b[0;32m    795\u001b[0m \u001b[43m    \u001b[49m\u001b[43mmethod\u001b[49m\u001b[43m,\u001b[49m\n\u001b[0;32m    796\u001b[0m \u001b[43m    \u001b[49m\u001b[43murl\u001b[49m\u001b[43m,\u001b[49m\n\u001b[0;32m    797\u001b[0m \u001b[43m    \u001b[49m\u001b[43mtimeout\u001b[49m\u001b[38;5;241;43m=\u001b[39;49m\u001b[43mtimeout_obj\u001b[49m\u001b[43m,\u001b[49m\n\u001b[0;32m    798\u001b[0m \u001b[43m    \u001b[49m\u001b[43mbody\u001b[49m\u001b[38;5;241;43m=\u001b[39;49m\u001b[43mbody\u001b[49m\u001b[43m,\u001b[49m\n\u001b[0;32m    799\u001b[0m \u001b[43m    \u001b[49m\u001b[43mheaders\u001b[49m\u001b[38;5;241;43m=\u001b[39;49m\u001b[43mheaders\u001b[49m\u001b[43m,\u001b[49m\n\u001b[0;32m    800\u001b[0m \u001b[43m    \u001b[49m\u001b[43mchunked\u001b[49m\u001b[38;5;241;43m=\u001b[39;49m\u001b[43mchunked\u001b[49m\u001b[43m,\u001b[49m\n\u001b[0;32m    801\u001b[0m \u001b[43m    \u001b[49m\u001b[43mretries\u001b[49m\u001b[38;5;241;43m=\u001b[39;49m\u001b[43mretries\u001b[49m\u001b[43m,\u001b[49m\n\u001b[0;32m    802\u001b[0m \u001b[43m    \u001b[49m\u001b[43mresponse_conn\u001b[49m\u001b[38;5;241;43m=\u001b[39;49m\u001b[43mresponse_conn\u001b[49m\u001b[43m,\u001b[49m\n\u001b[0;32m    803\u001b[0m \u001b[43m    \u001b[49m\u001b[43mpreload_content\u001b[49m\u001b[38;5;241;43m=\u001b[39;49m\u001b[43mpreload_content\u001b[49m\u001b[43m,\u001b[49m\n\u001b[0;32m    804\u001b[0m \u001b[43m    \u001b[49m\u001b[43mdecode_content\u001b[49m\u001b[38;5;241;43m=\u001b[39;49m\u001b[43mdecode_content\u001b[49m\u001b[43m,\u001b[49m\n\u001b[0;32m    805\u001b[0m \u001b[43m    \u001b[49m\u001b[38;5;241;43m*\u001b[39;49m\u001b[38;5;241;43m*\u001b[39;49m\u001b[43mresponse_kw\u001b[49m\u001b[43m,\u001b[49m\n\u001b[0;32m    806\u001b[0m \u001b[43m\u001b[49m\u001b[43m)\u001b[49m\n\u001b[0;32m    808\u001b[0m \u001b[38;5;66;03m# Everything went great!\u001b[39;00m\n",
      "File \u001b[1;32m~\\AppData\\Local\\Programs\\Python\\Python311\\Lib\\site-packages\\urllib3\\connectionpool.py:537\u001b[0m, in \u001b[0;36mHTTPConnectionPool._make_request\u001b[1;34m(self, conn, method, url, body, headers, retries, timeout, chunked, response_conn, preload_content, decode_content, enforce_content_length)\u001b[0m\n\u001b[0;32m    536\u001b[0m \u001b[38;5;28;01mtry\u001b[39;00m:\n\u001b[1;32m--> 537\u001b[0m     response \u001b[38;5;241m=\u001b[39m \u001b[43mconn\u001b[49m\u001b[38;5;241;43m.\u001b[39;49m\u001b[43mgetresponse\u001b[49m\u001b[43m(\u001b[49m\u001b[43m)\u001b[49m\n\u001b[0;32m    538\u001b[0m \u001b[38;5;28;01mexcept\u001b[39;00m (BaseSSLError, \u001b[38;5;167;01mOSError\u001b[39;00m) \u001b[38;5;28;01mas\u001b[39;00m e:\n",
      "File \u001b[1;32m~\\AppData\\Local\\Programs\\Python\\Python311\\Lib\\site-packages\\urllib3\\connection.py:466\u001b[0m, in \u001b[0;36mHTTPConnection.getresponse\u001b[1;34m(self)\u001b[0m\n\u001b[0;32m    465\u001b[0m \u001b[38;5;66;03m# Get the response from http.client.HTTPConnection\u001b[39;00m\n\u001b[1;32m--> 466\u001b[0m httplib_response \u001b[38;5;241m=\u001b[39m \u001b[38;5;28;43msuper\u001b[39;49m\u001b[43m(\u001b[49m\u001b[43m)\u001b[49m\u001b[38;5;241;43m.\u001b[39;49m\u001b[43mgetresponse\u001b[49m\u001b[43m(\u001b[49m\u001b[43m)\u001b[49m\n\u001b[0;32m    468\u001b[0m \u001b[38;5;28;01mtry\u001b[39;00m:\n",
      "File \u001b[1;32m~\\AppData\\Local\\Programs\\Python\\Python311\\Lib\\http\\client.py:1378\u001b[0m, in \u001b[0;36mHTTPConnection.getresponse\u001b[1;34m(self)\u001b[0m\n\u001b[0;32m   1377\u001b[0m \u001b[38;5;28;01mtry\u001b[39;00m:\n\u001b[1;32m-> 1378\u001b[0m     \u001b[43mresponse\u001b[49m\u001b[38;5;241;43m.\u001b[39;49m\u001b[43mbegin\u001b[49m\u001b[43m(\u001b[49m\u001b[43m)\u001b[49m\n\u001b[0;32m   1379\u001b[0m \u001b[38;5;28;01mexcept\u001b[39;00m \u001b[38;5;167;01mConnectionError\u001b[39;00m:\n",
      "File \u001b[1;32m~\\AppData\\Local\\Programs\\Python\\Python311\\Lib\\http\\client.py:318\u001b[0m, in \u001b[0;36mHTTPResponse.begin\u001b[1;34m(self)\u001b[0m\n\u001b[0;32m    317\u001b[0m \u001b[38;5;28;01mwhile\u001b[39;00m \u001b[38;5;28;01mTrue\u001b[39;00m:\n\u001b[1;32m--> 318\u001b[0m     version, status, reason \u001b[38;5;241m=\u001b[39m \u001b[38;5;28;43mself\u001b[39;49m\u001b[38;5;241;43m.\u001b[39;49m\u001b[43m_read_status\u001b[49m\u001b[43m(\u001b[49m\u001b[43m)\u001b[49m\n\u001b[0;32m    319\u001b[0m     \u001b[38;5;28;01mif\u001b[39;00m status \u001b[38;5;241m!=\u001b[39m CONTINUE:\n",
      "File \u001b[1;32m~\\AppData\\Local\\Programs\\Python\\Python311\\Lib\\http\\client.py:279\u001b[0m, in \u001b[0;36mHTTPResponse._read_status\u001b[1;34m(self)\u001b[0m\n\u001b[0;32m    278\u001b[0m \u001b[38;5;28;01mdef\u001b[39;00m \u001b[38;5;21m_read_status\u001b[39m(\u001b[38;5;28mself\u001b[39m):\n\u001b[1;32m--> 279\u001b[0m     line \u001b[38;5;241m=\u001b[39m \u001b[38;5;28mstr\u001b[39m(\u001b[38;5;28mself\u001b[39m\u001b[38;5;241m.\u001b[39mfp\u001b[38;5;241m.\u001b[39mreadline(_MAXLINE \u001b[38;5;241m+\u001b[39m \u001b[38;5;241m1\u001b[39m), \u001b[38;5;124m\"\u001b[39m\u001b[38;5;124miso-8859-1\u001b[39m\u001b[38;5;124m\"\u001b[39m)\n\u001b[0;32m    280\u001b[0m     \u001b[38;5;28;01mif\u001b[39;00m \u001b[38;5;28mlen\u001b[39m(line) \u001b[38;5;241m>\u001b[39m _MAXLINE:\n",
      "File \u001b[1;32m~\\AppData\\Local\\Programs\\Python\\Python311\\Lib\\socket.py:706\u001b[0m, in \u001b[0;36mSocketIO.readinto\u001b[1;34m(self, b)\u001b[0m\n\u001b[0;32m    705\u001b[0m \u001b[38;5;28;01mtry\u001b[39;00m:\n\u001b[1;32m--> 706\u001b[0m     \u001b[38;5;28;01mreturn\u001b[39;00m \u001b[38;5;28;43mself\u001b[39;49m\u001b[38;5;241;43m.\u001b[39;49m\u001b[43m_sock\u001b[49m\u001b[38;5;241;43m.\u001b[39;49m\u001b[43mrecv_into\u001b[49m\u001b[43m(\u001b[49m\u001b[43mb\u001b[49m\u001b[43m)\u001b[49m\n\u001b[0;32m    707\u001b[0m \u001b[38;5;28;01mexcept\u001b[39;00m timeout:\n",
      "\u001b[1;31mKeyboardInterrupt\u001b[0m: ",
      "\nDuring handling of the above exception, another exception occurred:\n",
      "\u001b[1;31mKeyboardInterrupt\u001b[0m                         Traceback (most recent call last)",
      "File \u001b[1;32m~\\AppData\\Local\\Programs\\Python\\Python311\\Lib\\site-packages\\IPython\\core\\interactiveshell.py:2168\u001b[0m, in \u001b[0;36mInteractiveShell.showtraceback\u001b[1;34m(self, exc_tuple, filename, tb_offset, exception_only, running_compiled_code)\u001b[0m\n\u001b[0;32m   2167\u001b[0m     \u001b[38;5;28;01melse\u001b[39;00m:\n\u001b[1;32m-> 2168\u001b[0m         stb \u001b[38;5;241m=\u001b[39m \u001b[38;5;28;43mself\u001b[39;49m\u001b[38;5;241;43m.\u001b[39;49m\u001b[43mInteractiveTB\u001b[49m\u001b[38;5;241;43m.\u001b[39;49m\u001b[43mstructured_traceback\u001b[49m\u001b[43m(\u001b[49m\n\u001b[0;32m   2169\u001b[0m \u001b[43m            \u001b[49m\u001b[43metype\u001b[49m\u001b[43m,\u001b[49m\u001b[43m \u001b[49m\u001b[43mvalue\u001b[49m\u001b[43m,\u001b[49m\u001b[43m \u001b[49m\u001b[43mtb\u001b[49m\u001b[43m,\u001b[49m\u001b[43m \u001b[49m\u001b[43mtb_offset\u001b[49m\u001b[38;5;241;43m=\u001b[39;49m\u001b[43mtb_offset\u001b[49m\n\u001b[0;32m   2170\u001b[0m \u001b[43m        \u001b[49m\u001b[43m)\u001b[49m\n\u001b[0;32m   2172\u001b[0m \u001b[38;5;28;01mexcept\u001b[39;00m \u001b[38;5;167;01mException\u001b[39;00m:\n",
      "File \u001b[1;32m~\\AppData\\Local\\Programs\\Python\\Python311\\Lib\\site-packages\\IPython\\core\\ultratb.py:1454\u001b[0m, in \u001b[0;36mAutoFormattedTB.structured_traceback\u001b[1;34m(self, etype, evalue, etb, tb_offset, number_of_lines_of_context)\u001b[0m\n\u001b[0;32m   1453\u001b[0m     \u001b[38;5;28mself\u001b[39m\u001b[38;5;241m.\u001b[39mtb \u001b[38;5;241m=\u001b[39m etb\n\u001b[1;32m-> 1454\u001b[0m \u001b[38;5;28;01mreturn\u001b[39;00m \u001b[43mFormattedTB\u001b[49m\u001b[38;5;241;43m.\u001b[39;49m\u001b[43mstructured_traceback\u001b[49m\u001b[43m(\u001b[49m\n\u001b[0;32m   1455\u001b[0m \u001b[43m    \u001b[49m\u001b[38;5;28;43mself\u001b[39;49m\u001b[43m,\u001b[49m\u001b[43m \u001b[49m\u001b[43metype\u001b[49m\u001b[43m,\u001b[49m\u001b[43m \u001b[49m\u001b[43mevalue\u001b[49m\u001b[43m,\u001b[49m\u001b[43m \u001b[49m\u001b[43metb\u001b[49m\u001b[43m,\u001b[49m\u001b[43m \u001b[49m\u001b[43mtb_offset\u001b[49m\u001b[43m,\u001b[49m\u001b[43m \u001b[49m\u001b[43mnumber_of_lines_of_context\u001b[49m\n\u001b[0;32m   1456\u001b[0m \u001b[43m\u001b[49m\u001b[43m)\u001b[49m\n",
      "File \u001b[1;32m~\\AppData\\Local\\Programs\\Python\\Python311\\Lib\\site-packages\\IPython\\core\\ultratb.py:1345\u001b[0m, in \u001b[0;36mFormattedTB.structured_traceback\u001b[1;34m(self, etype, value, tb, tb_offset, number_of_lines_of_context)\u001b[0m\n\u001b[0;32m   1343\u001b[0m \u001b[38;5;28;01mif\u001b[39;00m mode \u001b[38;5;129;01min\u001b[39;00m \u001b[38;5;28mself\u001b[39m\u001b[38;5;241m.\u001b[39mverbose_modes:\n\u001b[0;32m   1344\u001b[0m     \u001b[38;5;66;03m# Verbose modes need a full traceback\u001b[39;00m\n\u001b[1;32m-> 1345\u001b[0m     \u001b[38;5;28;01mreturn\u001b[39;00m \u001b[43mVerboseTB\u001b[49m\u001b[38;5;241;43m.\u001b[39;49m\u001b[43mstructured_traceback\u001b[49m\u001b[43m(\u001b[49m\n\u001b[0;32m   1346\u001b[0m \u001b[43m        \u001b[49m\u001b[38;5;28;43mself\u001b[39;49m\u001b[43m,\u001b[49m\u001b[43m \u001b[49m\u001b[43metype\u001b[49m\u001b[43m,\u001b[49m\u001b[43m \u001b[49m\u001b[43mvalue\u001b[49m\u001b[43m,\u001b[49m\u001b[43m \u001b[49m\u001b[43mtb\u001b[49m\u001b[43m,\u001b[49m\u001b[43m \u001b[49m\u001b[43mtb_offset\u001b[49m\u001b[43m,\u001b[49m\u001b[43m \u001b[49m\u001b[43mnumber_of_lines_of_context\u001b[49m\n\u001b[0;32m   1347\u001b[0m \u001b[43m    \u001b[49m\u001b[43m)\u001b[49m\n\u001b[0;32m   1348\u001b[0m \u001b[38;5;28;01melif\u001b[39;00m mode \u001b[38;5;241m==\u001b[39m \u001b[38;5;124m'\u001b[39m\u001b[38;5;124mMinimal\u001b[39m\u001b[38;5;124m'\u001b[39m:\n",
      "File \u001b[1;32m~\\AppData\\Local\\Programs\\Python\\Python311\\Lib\\site-packages\\IPython\\core\\ultratb.py:1192\u001b[0m, in \u001b[0;36mVerboseTB.structured_traceback\u001b[1;34m(self, etype, evalue, etb, tb_offset, number_of_lines_of_context)\u001b[0m\n\u001b[0;32m   1191\u001b[0m \u001b[38;5;250m\u001b[39m\u001b[38;5;124;03m\"\"\"Return a nice text document describing the traceback.\"\"\"\u001b[39;00m\n\u001b[1;32m-> 1192\u001b[0m formatted_exception \u001b[38;5;241m=\u001b[39m \u001b[38;5;28;43mself\u001b[39;49m\u001b[38;5;241;43m.\u001b[39;49m\u001b[43mformat_exception_as_a_whole\u001b[49m\u001b[43m(\u001b[49m\u001b[43metype\u001b[49m\u001b[43m,\u001b[49m\u001b[43m \u001b[49m\u001b[43mevalue\u001b[49m\u001b[43m,\u001b[49m\u001b[43m \u001b[49m\u001b[43metb\u001b[49m\u001b[43m,\u001b[49m\u001b[43m \u001b[49m\u001b[43mnumber_of_lines_of_context\u001b[49m\u001b[43m,\u001b[49m\n\u001b[0;32m   1193\u001b[0m \u001b[43m                                                       \u001b[49m\u001b[43mtb_offset\u001b[49m\u001b[43m)\u001b[49m\n\u001b[0;32m   1195\u001b[0m colors \u001b[38;5;241m=\u001b[39m \u001b[38;5;28mself\u001b[39m\u001b[38;5;241m.\u001b[39mColors  \u001b[38;5;66;03m# just a shorthand + quicker name lookup\u001b[39;00m\n",
      "File \u001b[1;32m~\\AppData\\Local\\Programs\\Python\\Python311\\Lib\\site-packages\\IPython\\core\\ultratb.py:1082\u001b[0m, in \u001b[0;36mVerboseTB.format_exception_as_a_whole\u001b[1;34m(self, etype, evalue, etb, number_of_lines_of_context, tb_offset)\u001b[0m\n\u001b[0;32m   1080\u001b[0m head \u001b[38;5;241m=\u001b[39m \u001b[38;5;28mself\u001b[39m\u001b[38;5;241m.\u001b[39mprepare_header(\u001b[38;5;28mstr\u001b[39m(etype), \u001b[38;5;28mself\u001b[39m\u001b[38;5;241m.\u001b[39mlong_header)\n\u001b[0;32m   1081\u001b[0m records \u001b[38;5;241m=\u001b[39m (\n\u001b[1;32m-> 1082\u001b[0m     \u001b[38;5;28;43mself\u001b[39;49m\u001b[38;5;241;43m.\u001b[39;49m\u001b[43mget_records\u001b[49m\u001b[43m(\u001b[49m\u001b[43metb\u001b[49m\u001b[43m,\u001b[49m\u001b[43m \u001b[49m\u001b[43mnumber_of_lines_of_context\u001b[49m\u001b[43m,\u001b[49m\u001b[43m \u001b[49m\u001b[43mtb_offset\u001b[49m\u001b[43m)\u001b[49m \u001b[38;5;28;01mif\u001b[39;00m etb \u001b[38;5;28;01melse\u001b[39;00m []\n\u001b[0;32m   1083\u001b[0m )\n\u001b[0;32m   1085\u001b[0m frames \u001b[38;5;241m=\u001b[39m []\n",
      "File \u001b[1;32m~\\AppData\\Local\\Programs\\Python\\Python311\\Lib\\site-packages\\IPython\\core\\ultratb.py:1150\u001b[0m, in \u001b[0;36mVerboseTB.get_records\u001b[1;34m(self, etb, number_of_lines_of_context, tb_offset)\u001b[0m\n\u001b[0;32m   1149\u001b[0m \u001b[38;5;28;01mtry\u001b[39;00m:\n\u001b[1;32m-> 1150\u001b[0m     mod \u001b[38;5;241m=\u001b[39m \u001b[43minspect\u001b[49m\u001b[38;5;241;43m.\u001b[39;49m\u001b[43mgetmodule\u001b[49m\u001b[43m(\u001b[49m\u001b[43mcf\u001b[49m\u001b[38;5;241;43m.\u001b[39;49m\u001b[43mtb_frame\u001b[49m\u001b[43m)\u001b[49m\n\u001b[0;32m   1151\u001b[0m     \u001b[38;5;28;01mif\u001b[39;00m mod \u001b[38;5;129;01mis\u001b[39;00m \u001b[38;5;129;01mnot\u001b[39;00m \u001b[38;5;28;01mNone\u001b[39;00m:\n",
      "File \u001b[1;32m~\\AppData\\Local\\Programs\\Python\\Python311\\Lib\\inspect.py:984\u001b[0m, in \u001b[0;36mgetmodule\u001b[1;34m(object, _filename)\u001b[0m\n\u001b[0;32m    983\u001b[0m \u001b[38;5;28;01mtry\u001b[39;00m:\n\u001b[1;32m--> 984\u001b[0m     file \u001b[38;5;241m=\u001b[39m \u001b[43mgetabsfile\u001b[49m\u001b[43m(\u001b[49m\u001b[38;5;28;43mobject\u001b[39;49m\u001b[43m,\u001b[49m\u001b[43m \u001b[49m\u001b[43m_filename\u001b[49m\u001b[43m)\u001b[49m\n\u001b[0;32m    985\u001b[0m \u001b[38;5;28;01mexcept\u001b[39;00m (\u001b[38;5;167;01mTypeError\u001b[39;00m, \u001b[38;5;167;01mFileNotFoundError\u001b[39;00m):\n",
      "File \u001b[1;32m~\\AppData\\Local\\Programs\\Python\\Python311\\Lib\\inspect.py:967\u001b[0m, in \u001b[0;36mgetabsfile\u001b[1;34m(object, _filename)\u001b[0m\n\u001b[0;32m    966\u001b[0m \u001b[38;5;28;01mif\u001b[39;00m _filename \u001b[38;5;129;01mis\u001b[39;00m \u001b[38;5;28;01mNone\u001b[39;00m:\n\u001b[1;32m--> 967\u001b[0m     _filename \u001b[38;5;241m=\u001b[39m \u001b[43mgetsourcefile\u001b[49m\u001b[43m(\u001b[49m\u001b[38;5;28;43mobject\u001b[39;49m\u001b[43m)\u001b[49m \u001b[38;5;129;01mor\u001b[39;00m getfile(\u001b[38;5;28mobject\u001b[39m)\n\u001b[0;32m    968\u001b[0m \u001b[38;5;28;01mreturn\u001b[39;00m os\u001b[38;5;241m.\u001b[39mpath\u001b[38;5;241m.\u001b[39mnormcase(os\u001b[38;5;241m.\u001b[39mpath\u001b[38;5;241m.\u001b[39mabspath(_filename))\n",
      "File \u001b[1;32m~\\AppData\\Local\\Programs\\Python\\Python311\\Lib\\inspect.py:949\u001b[0m, in \u001b[0;36mgetsourcefile\u001b[1;34m(object)\u001b[0m\n\u001b[0;32m    948\u001b[0m     \u001b[38;5;28;01mreturn\u001b[39;00m \u001b[38;5;28;01mNone\u001b[39;00m\n\u001b[1;32m--> 949\u001b[0m \u001b[38;5;28;01mif\u001b[39;00m \u001b[43mos\u001b[49m\u001b[38;5;241;43m.\u001b[39;49m\u001b[43mpath\u001b[49m\u001b[38;5;241;43m.\u001b[39;49m\u001b[43mexists\u001b[49m\u001b[43m(\u001b[49m\u001b[43mfilename\u001b[49m\u001b[43m)\u001b[49m:\n\u001b[0;32m    950\u001b[0m     \u001b[38;5;28;01mreturn\u001b[39;00m filename\n",
      "File \u001b[1;32m<frozen genericpath>:19\u001b[0m, in \u001b[0;36mexists\u001b[1;34m(path)\u001b[0m\n",
      "\u001b[1;31mKeyboardInterrupt\u001b[0m: ",
      "\nDuring handling of the above exception, another exception occurred:\n",
      "\u001b[1;31mKeyboardInterrupt\u001b[0m                         Traceback (most recent call last)",
      "File \u001b[1;32m~\\AppData\\Local\\Programs\\Python\\Python311\\Lib\\site-packages\\IPython\\core\\interactiveshell.py:3517\u001b[0m, in \u001b[0;36mInteractiveShell.run_ast_nodes\u001b[1;34m(self, nodelist, cell_name, interactivity, compiler, result)\u001b[0m\n\u001b[0;32m   3516\u001b[0m     asy \u001b[38;5;241m=\u001b[39m compare(code)\n\u001b[1;32m-> 3517\u001b[0m \u001b[38;5;28;01mif\u001b[39;00m \u001b[38;5;28;01mawait\u001b[39;00m \u001b[38;5;28mself\u001b[39m\u001b[38;5;241m.\u001b[39mrun_code(code, result, async_\u001b[38;5;241m=\u001b[39masy):\n\u001b[0;32m   3518\u001b[0m     \u001b[38;5;28;01mreturn\u001b[39;00m \u001b[38;5;28;01mTrue\u001b[39;00m\n",
      "    \u001b[1;31m[... skipping hidden 1 frame]\u001b[0m\n",
      "File \u001b[1;32m~\\AppData\\Local\\Programs\\Python\\Python311\\Lib\\site-packages\\IPython\\core\\interactiveshell.py:2189\u001b[0m, in \u001b[0;36mInteractiveShell.showtraceback\u001b[1;34m(self, exc_tuple, filename, tb_offset, exception_only, running_compiled_code)\u001b[0m\n\u001b[0;32m   2188\u001b[0m \u001b[38;5;28;01mexcept\u001b[39;00m \u001b[38;5;167;01mKeyboardInterrupt\u001b[39;00m:\n\u001b[1;32m-> 2189\u001b[0m     \u001b[38;5;28mprint\u001b[39m(\u001b[38;5;124m'\u001b[39m\u001b[38;5;130;01m\\n\u001b[39;00m\u001b[38;5;124m'\u001b[39m \u001b[38;5;241m+\u001b[39m \u001b[38;5;28;43mself\u001b[39;49m\u001b[38;5;241;43m.\u001b[39;49m\u001b[43mget_exception_only\u001b[49m\u001b[43m(\u001b[49m\u001b[43m)\u001b[49m, file\u001b[38;5;241m=\u001b[39msys\u001b[38;5;241m.\u001b[39mstderr)\n",
      "File \u001b[1;32m~\\AppData\\Local\\Programs\\Python\\Python311\\Lib\\site-packages\\IPython\\core\\interactiveshell.py:2112\u001b[0m, in \u001b[0;36mInteractiveShell.get_exception_only\u001b[1;34m(self, exc_tuple)\u001b[0m\n\u001b[0;32m   2111\u001b[0m etype, value, tb \u001b[38;5;241m=\u001b[39m \u001b[38;5;28mself\u001b[39m\u001b[38;5;241m.\u001b[39m_get_exc_info(exc_tuple)\n\u001b[1;32m-> 2112\u001b[0m msg \u001b[38;5;241m=\u001b[39m \u001b[43mtraceback\u001b[49m\u001b[38;5;241;43m.\u001b[39;49m\u001b[43mformat_exception_only\u001b[49m\u001b[43m(\u001b[49m\u001b[43metype\u001b[49m\u001b[43m,\u001b[49m\u001b[43m \u001b[49m\u001b[43mvalue\u001b[49m\u001b[43m)\u001b[49m\n\u001b[0;32m   2113\u001b[0m \u001b[38;5;28;01mreturn\u001b[39;00m \u001b[38;5;124m'\u001b[39m\u001b[38;5;124m'\u001b[39m\u001b[38;5;241m.\u001b[39mjoin(msg)\n",
      "File \u001b[1;32m~\\AppData\\Local\\Programs\\Python\\Python311\\Lib\\traceback.py:160\u001b[0m, in \u001b[0;36mformat_exception_only\u001b[1;34m(exc, value)\u001b[0m\n\u001b[0;32m    159\u001b[0m te \u001b[38;5;241m=\u001b[39m TracebackException(\u001b[38;5;28mtype\u001b[39m(value), value, \u001b[38;5;28;01mNone\u001b[39;00m, compact\u001b[38;5;241m=\u001b[39m\u001b[38;5;28;01mTrue\u001b[39;00m)\n\u001b[1;32m--> 160\u001b[0m \u001b[38;5;28;01mreturn\u001b[39;00m \u001b[38;5;28;43mlist\u001b[39;49m\u001b[43m(\u001b[49m\u001b[43mte\u001b[49m\u001b[38;5;241;43m.\u001b[39;49m\u001b[43mformat_exception_only\u001b[49m\u001b[43m(\u001b[49m\u001b[43m)\u001b[49m\u001b[43m)\u001b[49m\n",
      "File \u001b[1;32m~\\AppData\\Local\\Programs\\Python\\Python311\\Lib\\traceback.py:843\u001b[0m, in \u001b[0;36mTracebackException.format_exception_only\u001b[1;34m(self)\u001b[0m\n\u001b[0;32m    842\u001b[0m     \u001b[38;5;28;01myield from\u001b[39;00m \u001b[38;5;28mself\u001b[39m\u001b[38;5;241m.\u001b[39m_format_syntax_error(stype)\n\u001b[1;32m--> 843\u001b[0m \u001b[38;5;28;01mif\u001b[39;00m \u001b[38;5;28;43misinstance\u001b[39;49m\u001b[43m(\u001b[49m\u001b[38;5;28;43mself\u001b[39;49m\u001b[38;5;241;43m.\u001b[39;49m\u001b[43m__notes__\u001b[49m\u001b[43m,\u001b[49m\u001b[43m \u001b[49m\u001b[43mcollections\u001b[49m\u001b[38;5;241;43m.\u001b[39;49m\u001b[43mabc\u001b[49m\u001b[38;5;241;43m.\u001b[39;49m\u001b[43mSequence\u001b[49m\u001b[43m)\u001b[49m:\n\u001b[0;32m    844\u001b[0m     \u001b[38;5;28;01mfor\u001b[39;00m note \u001b[38;5;129;01min\u001b[39;00m \u001b[38;5;28mself\u001b[39m\u001b[38;5;241m.\u001b[39m__notes__:\n",
      "File \u001b[1;32m<frozen abc>:119\u001b[0m, in \u001b[0;36m__instancecheck__\u001b[1;34m(cls, instance)\u001b[0m\n",
      "File \u001b[1;32m<frozen abc>:123\u001b[0m, in \u001b[0;36m__subclasscheck__\u001b[1;34m(cls, subclass)\u001b[0m\n",
      "File \u001b[1;32m<frozen abc>:123\u001b[0m, in \u001b[0;36m__subclasscheck__\u001b[1;34m(cls, subclass)\u001b[0m\n",
      "\u001b[1;31mKeyboardInterrupt\u001b[0m: ",
      "\nDuring handling of the above exception, another exception occurred:\n",
      "\u001b[1;31mKeyboardInterrupt\u001b[0m                         Traceback (most recent call last)",
      "File \u001b[1;32m~\\AppData\\Local\\Programs\\Python\\Python311\\Lib\\site-packages\\IPython\\core\\interactiveshell.py:2168\u001b[0m, in \u001b[0;36mInteractiveShell.showtraceback\u001b[1;34m(self, exc_tuple, filename, tb_offset, exception_only, running_compiled_code)\u001b[0m\n\u001b[0;32m   2167\u001b[0m     \u001b[38;5;28;01melse\u001b[39;00m:\n\u001b[1;32m-> 2168\u001b[0m         stb \u001b[38;5;241m=\u001b[39m \u001b[38;5;28;43mself\u001b[39;49m\u001b[38;5;241;43m.\u001b[39;49m\u001b[43mInteractiveTB\u001b[49m\u001b[38;5;241;43m.\u001b[39;49m\u001b[43mstructured_traceback\u001b[49m\u001b[43m(\u001b[49m\n\u001b[0;32m   2169\u001b[0m \u001b[43m            \u001b[49m\u001b[43metype\u001b[49m\u001b[43m,\u001b[49m\u001b[43m \u001b[49m\u001b[43mvalue\u001b[49m\u001b[43m,\u001b[49m\u001b[43m \u001b[49m\u001b[43mtb\u001b[49m\u001b[43m,\u001b[49m\u001b[43m \u001b[49m\u001b[43mtb_offset\u001b[49m\u001b[38;5;241;43m=\u001b[39;49m\u001b[43mtb_offset\u001b[49m\n\u001b[0;32m   2170\u001b[0m \u001b[43m        \u001b[49m\u001b[43m)\u001b[49m\n\u001b[0;32m   2172\u001b[0m \u001b[38;5;28;01mexcept\u001b[39;00m \u001b[38;5;167;01mException\u001b[39;00m:\n",
      "File \u001b[1;32m~\\AppData\\Local\\Programs\\Python\\Python311\\Lib\\site-packages\\IPython\\core\\ultratb.py:1454\u001b[0m, in \u001b[0;36mAutoFormattedTB.structured_traceback\u001b[1;34m(self, etype, evalue, etb, tb_offset, number_of_lines_of_context)\u001b[0m\n\u001b[0;32m   1453\u001b[0m     \u001b[38;5;28mself\u001b[39m\u001b[38;5;241m.\u001b[39mtb \u001b[38;5;241m=\u001b[39m etb\n\u001b[1;32m-> 1454\u001b[0m \u001b[38;5;28;01mreturn\u001b[39;00m \u001b[43mFormattedTB\u001b[49m\u001b[38;5;241;43m.\u001b[39;49m\u001b[43mstructured_traceback\u001b[49m\u001b[43m(\u001b[49m\n\u001b[0;32m   1455\u001b[0m \u001b[43m    \u001b[49m\u001b[38;5;28;43mself\u001b[39;49m\u001b[43m,\u001b[49m\u001b[43m \u001b[49m\u001b[43metype\u001b[49m\u001b[43m,\u001b[49m\u001b[43m \u001b[49m\u001b[43mevalue\u001b[49m\u001b[43m,\u001b[49m\u001b[43m \u001b[49m\u001b[43metb\u001b[49m\u001b[43m,\u001b[49m\u001b[43m \u001b[49m\u001b[43mtb_offset\u001b[49m\u001b[43m,\u001b[49m\u001b[43m \u001b[49m\u001b[43mnumber_of_lines_of_context\u001b[49m\n\u001b[0;32m   1456\u001b[0m \u001b[43m\u001b[49m\u001b[43m)\u001b[49m\n",
      "File \u001b[1;32m~\\AppData\\Local\\Programs\\Python\\Python311\\Lib\\site-packages\\IPython\\core\\ultratb.py:1345\u001b[0m, in \u001b[0;36mFormattedTB.structured_traceback\u001b[1;34m(self, etype, value, tb, tb_offset, number_of_lines_of_context)\u001b[0m\n\u001b[0;32m   1343\u001b[0m \u001b[38;5;28;01mif\u001b[39;00m mode \u001b[38;5;129;01min\u001b[39;00m \u001b[38;5;28mself\u001b[39m\u001b[38;5;241m.\u001b[39mverbose_modes:\n\u001b[0;32m   1344\u001b[0m     \u001b[38;5;66;03m# Verbose modes need a full traceback\u001b[39;00m\n\u001b[1;32m-> 1345\u001b[0m     \u001b[38;5;28;01mreturn\u001b[39;00m \u001b[43mVerboseTB\u001b[49m\u001b[38;5;241;43m.\u001b[39;49m\u001b[43mstructured_traceback\u001b[49m\u001b[43m(\u001b[49m\n\u001b[0;32m   1346\u001b[0m \u001b[43m        \u001b[49m\u001b[38;5;28;43mself\u001b[39;49m\u001b[43m,\u001b[49m\u001b[43m \u001b[49m\u001b[43metype\u001b[49m\u001b[43m,\u001b[49m\u001b[43m \u001b[49m\u001b[43mvalue\u001b[49m\u001b[43m,\u001b[49m\u001b[43m \u001b[49m\u001b[43mtb\u001b[49m\u001b[43m,\u001b[49m\u001b[43m \u001b[49m\u001b[43mtb_offset\u001b[49m\u001b[43m,\u001b[49m\u001b[43m \u001b[49m\u001b[43mnumber_of_lines_of_context\u001b[49m\n\u001b[0;32m   1347\u001b[0m \u001b[43m    \u001b[49m\u001b[43m)\u001b[49m\n\u001b[0;32m   1348\u001b[0m \u001b[38;5;28;01melif\u001b[39;00m mode \u001b[38;5;241m==\u001b[39m \u001b[38;5;124m'\u001b[39m\u001b[38;5;124mMinimal\u001b[39m\u001b[38;5;124m'\u001b[39m:\n",
      "File \u001b[1;32m~\\AppData\\Local\\Programs\\Python\\Python311\\Lib\\site-packages\\IPython\\core\\ultratb.py:1192\u001b[0m, in \u001b[0;36mVerboseTB.structured_traceback\u001b[1;34m(self, etype, evalue, etb, tb_offset, number_of_lines_of_context)\u001b[0m\n\u001b[0;32m   1191\u001b[0m \u001b[38;5;250m\u001b[39m\u001b[38;5;124;03m\"\"\"Return a nice text document describing the traceback.\"\"\"\u001b[39;00m\n\u001b[1;32m-> 1192\u001b[0m formatted_exception \u001b[38;5;241m=\u001b[39m \u001b[38;5;28;43mself\u001b[39;49m\u001b[38;5;241;43m.\u001b[39;49m\u001b[43mformat_exception_as_a_whole\u001b[49m\u001b[43m(\u001b[49m\u001b[43metype\u001b[49m\u001b[43m,\u001b[49m\u001b[43m \u001b[49m\u001b[43mevalue\u001b[49m\u001b[43m,\u001b[49m\u001b[43m \u001b[49m\u001b[43metb\u001b[49m\u001b[43m,\u001b[49m\u001b[43m \u001b[49m\u001b[43mnumber_of_lines_of_context\u001b[49m\u001b[43m,\u001b[49m\n\u001b[0;32m   1193\u001b[0m \u001b[43m                                                       \u001b[49m\u001b[43mtb_offset\u001b[49m\u001b[43m)\u001b[49m\n\u001b[0;32m   1195\u001b[0m colors \u001b[38;5;241m=\u001b[39m \u001b[38;5;28mself\u001b[39m\u001b[38;5;241m.\u001b[39mColors  \u001b[38;5;66;03m# just a shorthand + quicker name lookup\u001b[39;00m\n",
      "File \u001b[1;32m~\\AppData\\Local\\Programs\\Python\\Python311\\Lib\\site-packages\\IPython\\core\\ultratb.py:1082\u001b[0m, in \u001b[0;36mVerboseTB.format_exception_as_a_whole\u001b[1;34m(self, etype, evalue, etb, number_of_lines_of_context, tb_offset)\u001b[0m\n\u001b[0;32m   1080\u001b[0m head \u001b[38;5;241m=\u001b[39m \u001b[38;5;28mself\u001b[39m\u001b[38;5;241m.\u001b[39mprepare_header(\u001b[38;5;28mstr\u001b[39m(etype), \u001b[38;5;28mself\u001b[39m\u001b[38;5;241m.\u001b[39mlong_header)\n\u001b[0;32m   1081\u001b[0m records \u001b[38;5;241m=\u001b[39m (\n\u001b[1;32m-> 1082\u001b[0m     \u001b[38;5;28;43mself\u001b[39;49m\u001b[38;5;241;43m.\u001b[39;49m\u001b[43mget_records\u001b[49m\u001b[43m(\u001b[49m\u001b[43metb\u001b[49m\u001b[43m,\u001b[49m\u001b[43m \u001b[49m\u001b[43mnumber_of_lines_of_context\u001b[49m\u001b[43m,\u001b[49m\u001b[43m \u001b[49m\u001b[43mtb_offset\u001b[49m\u001b[43m)\u001b[49m \u001b[38;5;28;01mif\u001b[39;00m etb \u001b[38;5;28;01melse\u001b[39;00m []\n\u001b[0;32m   1083\u001b[0m )\n\u001b[0;32m   1085\u001b[0m frames \u001b[38;5;241m=\u001b[39m []\n",
      "File \u001b[1;32m~\\AppData\\Local\\Programs\\Python\\Python311\\Lib\\site-packages\\IPython\\core\\ultratb.py:1150\u001b[0m, in \u001b[0;36mVerboseTB.get_records\u001b[1;34m(self, etb, number_of_lines_of_context, tb_offset)\u001b[0m\n\u001b[0;32m   1149\u001b[0m \u001b[38;5;28;01mtry\u001b[39;00m:\n\u001b[1;32m-> 1150\u001b[0m     mod \u001b[38;5;241m=\u001b[39m \u001b[43minspect\u001b[49m\u001b[38;5;241;43m.\u001b[39;49m\u001b[43mgetmodule\u001b[49m\u001b[43m(\u001b[49m\u001b[43mcf\u001b[49m\u001b[38;5;241;43m.\u001b[39;49m\u001b[43mtb_frame\u001b[49m\u001b[43m)\u001b[49m\n\u001b[0;32m   1151\u001b[0m     \u001b[38;5;28;01mif\u001b[39;00m mod \u001b[38;5;129;01mis\u001b[39;00m \u001b[38;5;129;01mnot\u001b[39;00m \u001b[38;5;28;01mNone\u001b[39;00m:\n",
      "File \u001b[1;32m~\\AppData\\Local\\Programs\\Python\\Python311\\Lib\\inspect.py:984\u001b[0m, in \u001b[0;36mgetmodule\u001b[1;34m(object, _filename)\u001b[0m\n\u001b[0;32m    983\u001b[0m \u001b[38;5;28;01mtry\u001b[39;00m:\n\u001b[1;32m--> 984\u001b[0m     file \u001b[38;5;241m=\u001b[39m \u001b[43mgetabsfile\u001b[49m\u001b[43m(\u001b[49m\u001b[38;5;28;43mobject\u001b[39;49m\u001b[43m,\u001b[49m\u001b[43m \u001b[49m\u001b[43m_filename\u001b[49m\u001b[43m)\u001b[49m\n\u001b[0;32m    985\u001b[0m \u001b[38;5;28;01mexcept\u001b[39;00m (\u001b[38;5;167;01mTypeError\u001b[39;00m, \u001b[38;5;167;01mFileNotFoundError\u001b[39;00m):\n",
      "File \u001b[1;32m~\\AppData\\Local\\Programs\\Python\\Python311\\Lib\\inspect.py:967\u001b[0m, in \u001b[0;36mgetabsfile\u001b[1;34m(object, _filename)\u001b[0m\n\u001b[0;32m    966\u001b[0m \u001b[38;5;28;01mif\u001b[39;00m _filename \u001b[38;5;129;01mis\u001b[39;00m \u001b[38;5;28;01mNone\u001b[39;00m:\n\u001b[1;32m--> 967\u001b[0m     _filename \u001b[38;5;241m=\u001b[39m \u001b[43mgetsourcefile\u001b[49m\u001b[43m(\u001b[49m\u001b[38;5;28;43mobject\u001b[39;49m\u001b[43m)\u001b[49m \u001b[38;5;129;01mor\u001b[39;00m getfile(\u001b[38;5;28mobject\u001b[39m)\n\u001b[0;32m    968\u001b[0m \u001b[38;5;28;01mreturn\u001b[39;00m os\u001b[38;5;241m.\u001b[39mpath\u001b[38;5;241m.\u001b[39mnormcase(os\u001b[38;5;241m.\u001b[39mpath\u001b[38;5;241m.\u001b[39mabspath(_filename))\n",
      "File \u001b[1;32m~\\AppData\\Local\\Programs\\Python\\Python311\\Lib\\inspect.py:952\u001b[0m, in \u001b[0;36mgetsourcefile\u001b[1;34m(object)\u001b[0m\n\u001b[0;32m    951\u001b[0m \u001b[38;5;66;03m# only return a non-existent filename if the module has a PEP 302 loader\u001b[39;00m\n\u001b[1;32m--> 952\u001b[0m module \u001b[38;5;241m=\u001b[39m \u001b[43mgetmodule\u001b[49m\u001b[43m(\u001b[49m\u001b[38;5;28;43mobject\u001b[39;49m\u001b[43m,\u001b[49m\u001b[43m \u001b[49m\u001b[43mfilename\u001b[49m\u001b[43m)\u001b[49m\n\u001b[0;32m    953\u001b[0m \u001b[38;5;28;01mif\u001b[39;00m \u001b[38;5;28mgetattr\u001b[39m(module, \u001b[38;5;124m'\u001b[39m\u001b[38;5;124m__loader__\u001b[39m\u001b[38;5;124m'\u001b[39m, \u001b[38;5;28;01mNone\u001b[39;00m) \u001b[38;5;129;01mis\u001b[39;00m \u001b[38;5;129;01mnot\u001b[39;00m \u001b[38;5;28;01mNone\u001b[39;00m:\n",
      "File \u001b[1;32m~\\AppData\\Local\\Programs\\Python\\Python311\\Lib\\inspect.py:991\u001b[0m, in \u001b[0;36mgetmodule\u001b[1;34m(object, _filename)\u001b[0m\n\u001b[0;32m    989\u001b[0m \u001b[38;5;66;03m# Update the filename to module name cache and check yet again\u001b[39;00m\n\u001b[0;32m    990\u001b[0m \u001b[38;5;66;03m# Copy sys.modules in order to cope with changes while iterating\u001b[39;00m\n\u001b[1;32m--> 991\u001b[0m \u001b[38;5;28;01mfor\u001b[39;00m modname, module \u001b[38;5;129;01min\u001b[39;00m sys\u001b[38;5;241m.\u001b[39mmodules\u001b[38;5;241m.\u001b[39mcopy()\u001b[38;5;241m.\u001b[39mitems():\n\u001b[0;32m    992\u001b[0m     \u001b[38;5;28;01mif\u001b[39;00m ismodule(module) \u001b[38;5;129;01mand\u001b[39;00m \u001b[38;5;28mhasattr\u001b[39m(module, \u001b[38;5;124m'\u001b[39m\u001b[38;5;124m__file__\u001b[39m\u001b[38;5;124m'\u001b[39m):\n",
      "\u001b[1;31mKeyboardInterrupt\u001b[0m: ",
      "\nDuring handling of the above exception, another exception occurred:\n",
      "\u001b[1;31mKeyboardInterrupt\u001b[0m                         Traceback (most recent call last)",
      "File \u001b[1;32m~\\AppData\\Local\\Programs\\Python\\Python311\\Lib\\site-packages\\IPython\\core\\async_helpers.py:129\u001b[0m, in \u001b[0;36m_pseudo_sync_runner\u001b[1;34m(coro)\u001b[0m\n\u001b[0;32m    121\u001b[0m \u001b[38;5;250m\u001b[39m\u001b[38;5;124;03m\"\"\"\u001b[39;00m\n\u001b[0;32m    122\u001b[0m \u001b[38;5;124;03mA runner that does not really allow async execution, and just advance the coroutine.\u001b[39;00m\n\u001b[0;32m    123\u001b[0m \n\u001b[1;32m   (...)\u001b[0m\n\u001b[0;32m    126\u001b[0m \u001b[38;5;124;03mCredit to Nathaniel Smith\u001b[39;00m\n\u001b[0;32m    127\u001b[0m \u001b[38;5;124;03m\"\"\"\u001b[39;00m\n\u001b[0;32m    128\u001b[0m \u001b[38;5;28;01mtry\u001b[39;00m:\n\u001b[1;32m--> 129\u001b[0m     coro\u001b[38;5;241m.\u001b[39msend(\u001b[38;5;28;01mNone\u001b[39;00m)\n\u001b[0;32m    130\u001b[0m \u001b[38;5;28;01mexcept\u001b[39;00m \u001b[38;5;167;01mStopIteration\u001b[39;00m \u001b[38;5;28;01mas\u001b[39;00m exc:\n\u001b[0;32m    131\u001b[0m     \u001b[38;5;28;01mreturn\u001b[39;00m exc\u001b[38;5;241m.\u001b[39mvalue\n",
      "File \u001b[1;32m~\\AppData\\Local\\Programs\\Python\\Python311\\Lib\\site-packages\\IPython\\core\\interactiveshell.py:3334\u001b[0m, in \u001b[0;36mInteractiveShell.run_cell_async\u001b[1;34m(self, raw_cell, store_history, silent, shell_futures, transformed_cell, preprocessing_exc_tuple, cell_id)\u001b[0m\n\u001b[0;32m   3330\u001b[0m \u001b[38;5;66;03m# Execute the user code\u001b[39;00m\n\u001b[0;32m   3331\u001b[0m interactivity \u001b[38;5;241m=\u001b[39m \u001b[38;5;124m\"\u001b[39m\u001b[38;5;124mnone\u001b[39m\u001b[38;5;124m\"\u001b[39m \u001b[38;5;28;01mif\u001b[39;00m silent \u001b[38;5;28;01melse\u001b[39;00m \u001b[38;5;28mself\u001b[39m\u001b[38;5;241m.\u001b[39mast_node_interactivity\n\u001b[1;32m-> 3334\u001b[0m has_raised \u001b[38;5;241m=\u001b[39m \u001b[38;5;28;01mawait\u001b[39;00m \u001b[38;5;28mself\u001b[39m\u001b[38;5;241m.\u001b[39mrun_ast_nodes(code_ast\u001b[38;5;241m.\u001b[39mbody, cell_name,\n\u001b[0;32m   3335\u001b[0m        interactivity\u001b[38;5;241m=\u001b[39minteractivity, compiler\u001b[38;5;241m=\u001b[39mcompiler, result\u001b[38;5;241m=\u001b[39mresult)\n\u001b[0;32m   3337\u001b[0m \u001b[38;5;28mself\u001b[39m\u001b[38;5;241m.\u001b[39mlast_execution_succeeded \u001b[38;5;241m=\u001b[39m \u001b[38;5;129;01mnot\u001b[39;00m has_raised\n\u001b[0;32m   3338\u001b[0m \u001b[38;5;28mself\u001b[39m\u001b[38;5;241m.\u001b[39mlast_execution_result \u001b[38;5;241m=\u001b[39m result\n",
      "File \u001b[1;32m~\\AppData\\Local\\Programs\\Python\\Python311\\Lib\\site-packages\\IPython\\core\\interactiveshell.py:3536\u001b[0m, in \u001b[0;36mInteractiveShell.run_ast_nodes\u001b[1;34m(self, nodelist, cell_name, interactivity, compiler, result)\u001b[0m\n\u001b[0;32m   3534\u001b[0m     \u001b[38;5;28;01mif\u001b[39;00m result:\n\u001b[0;32m   3535\u001b[0m         result\u001b[38;5;241m.\u001b[39merror_before_exec \u001b[38;5;241m=\u001b[39m sys\u001b[38;5;241m.\u001b[39mexc_info()[\u001b[38;5;241m1\u001b[39m]\n\u001b[1;32m-> 3536\u001b[0m     \u001b[38;5;28;43mself\u001b[39;49m\u001b[38;5;241;43m.\u001b[39;49m\u001b[43mshowtraceback\u001b[49m\u001b[43m(\u001b[49m\u001b[43m)\u001b[49m\n\u001b[0;32m   3537\u001b[0m     \u001b[38;5;28;01mreturn\u001b[39;00m \u001b[38;5;28;01mTrue\u001b[39;00m\n\u001b[0;32m   3539\u001b[0m \u001b[38;5;28;01mreturn\u001b[39;00m \u001b[38;5;28;01mFalse\u001b[39;00m\n",
      "File \u001b[1;32m~\\AppData\\Local\\Programs\\Python\\Python311\\Lib\\site-packages\\IPython\\core\\interactiveshell.py:2189\u001b[0m, in \u001b[0;36mInteractiveShell.showtraceback\u001b[1;34m(self, exc_tuple, filename, tb_offset, exception_only, running_compiled_code)\u001b[0m\n\u001b[0;32m   2186\u001b[0m         \u001b[38;5;28mself\u001b[39m\u001b[38;5;241m.\u001b[39m_showtraceback(etype, value, stb)\n\u001b[0;32m   2188\u001b[0m \u001b[38;5;28;01mexcept\u001b[39;00m \u001b[38;5;167;01mKeyboardInterrupt\u001b[39;00m:\n\u001b[1;32m-> 2189\u001b[0m     \u001b[38;5;28mprint\u001b[39m(\u001b[38;5;124m'\u001b[39m\u001b[38;5;130;01m\\n\u001b[39;00m\u001b[38;5;124m'\u001b[39m \u001b[38;5;241m+\u001b[39m \u001b[38;5;28;43mself\u001b[39;49m\u001b[38;5;241;43m.\u001b[39;49m\u001b[43mget_exception_only\u001b[49m\u001b[43m(\u001b[49m\u001b[43m)\u001b[49m, file\u001b[38;5;241m=\u001b[39msys\u001b[38;5;241m.\u001b[39mstderr)\n",
      "File \u001b[1;32m~\\AppData\\Local\\Programs\\Python\\Python311\\Lib\\site-packages\\IPython\\core\\interactiveshell.py:2112\u001b[0m, in \u001b[0;36mInteractiveShell.get_exception_only\u001b[1;34m(self, exc_tuple)\u001b[0m\n\u001b[0;32m   2107\u001b[0m \u001b[38;5;250m\u001b[39m\u001b[38;5;124;03m\"\"\"\u001b[39;00m\n\u001b[0;32m   2108\u001b[0m \u001b[38;5;124;03mReturn as a string (ending with a newline) the exception that\u001b[39;00m\n\u001b[0;32m   2109\u001b[0m \u001b[38;5;124;03mjust occurred, without any traceback.\u001b[39;00m\n\u001b[0;32m   2110\u001b[0m \u001b[38;5;124;03m\"\"\"\u001b[39;00m\n\u001b[0;32m   2111\u001b[0m etype, value, tb \u001b[38;5;241m=\u001b[39m \u001b[38;5;28mself\u001b[39m\u001b[38;5;241m.\u001b[39m_get_exc_info(exc_tuple)\n\u001b[1;32m-> 2112\u001b[0m msg \u001b[38;5;241m=\u001b[39m \u001b[43mtraceback\u001b[49m\u001b[38;5;241;43m.\u001b[39;49m\u001b[43mformat_exception_only\u001b[49m\u001b[43m(\u001b[49m\u001b[43metype\u001b[49m\u001b[43m,\u001b[49m\u001b[43m \u001b[49m\u001b[43mvalue\u001b[49m\u001b[43m)\u001b[49m\n\u001b[0;32m   2113\u001b[0m \u001b[38;5;28;01mreturn\u001b[39;00m \u001b[38;5;124m'\u001b[39m\u001b[38;5;124m'\u001b[39m\u001b[38;5;241m.\u001b[39mjoin(msg)\n",
      "File \u001b[1;32m~\\AppData\\Local\\Programs\\Python\\Python311\\Lib\\traceback.py:159\u001b[0m, in \u001b[0;36mformat_exception_only\u001b[1;34m(exc, value)\u001b[0m\n\u001b[0;32m    157\u001b[0m \u001b[38;5;28;01mif\u001b[39;00m value \u001b[38;5;129;01mis\u001b[39;00m _sentinel:\n\u001b[0;32m    158\u001b[0m     value \u001b[38;5;241m=\u001b[39m exc\n\u001b[1;32m--> 159\u001b[0m te \u001b[38;5;241m=\u001b[39m \u001b[43mTracebackException\u001b[49m\u001b[43m(\u001b[49m\u001b[38;5;28;43mtype\u001b[39;49m\u001b[43m(\u001b[49m\u001b[43mvalue\u001b[49m\u001b[43m)\u001b[49m\u001b[43m,\u001b[49m\u001b[43m \u001b[49m\u001b[43mvalue\u001b[49m\u001b[43m,\u001b[49m\u001b[43m \u001b[49m\u001b[38;5;28;43;01mNone\u001b[39;49;00m\u001b[43m,\u001b[49m\u001b[43m \u001b[49m\u001b[43mcompact\u001b[49m\u001b[38;5;241;43m=\u001b[39;49m\u001b[38;5;28;43;01mTrue\u001b[39;49;00m\u001b[43m)\u001b[49m\n\u001b[0;32m    160\u001b[0m \u001b[38;5;28;01mreturn\u001b[39;00m \u001b[38;5;28mlist\u001b[39m(te\u001b[38;5;241m.\u001b[39mformat_exception_only())\n",
      "File \u001b[1;32m~\\AppData\\Local\\Programs\\Python\\Python311\\Lib\\traceback.py:757\u001b[0m, in \u001b[0;36mTracebackException.__init__\u001b[1;34m(self, exc_type, exc_value, exc_traceback, limit, lookup_lines, capture_locals, compact, max_group_width, max_group_depth, _seen)\u001b[0m\n\u001b[0;32m    754\u001b[0m     need_context \u001b[38;5;241m=\u001b[39m \u001b[38;5;28;01mTrue\u001b[39;00m\n\u001b[0;32m    755\u001b[0m \u001b[38;5;28;01mif\u001b[39;00m (e \u001b[38;5;129;01mand\u001b[39;00m e\u001b[38;5;241m.\u001b[39m__context__ \u001b[38;5;129;01mis\u001b[39;00m \u001b[38;5;129;01mnot\u001b[39;00m \u001b[38;5;28;01mNone\u001b[39;00m\n\u001b[0;32m    756\u001b[0m     \u001b[38;5;129;01mand\u001b[39;00m need_context \u001b[38;5;129;01mand\u001b[39;00m \u001b[38;5;28mid\u001b[39m(e\u001b[38;5;241m.\u001b[39m__context__) \u001b[38;5;129;01mnot\u001b[39;00m \u001b[38;5;129;01min\u001b[39;00m _seen):\n\u001b[1;32m--> 757\u001b[0m     context \u001b[38;5;241m=\u001b[39m \u001b[43mTracebackException\u001b[49m\u001b[43m(\u001b[49m\n\u001b[0;32m    758\u001b[0m \u001b[43m        \u001b[49m\u001b[38;5;28;43mtype\u001b[39;49m\u001b[43m(\u001b[49m\u001b[43me\u001b[49m\u001b[38;5;241;43m.\u001b[39;49m\u001b[43m__context__\u001b[49m\u001b[43m)\u001b[49m\u001b[43m,\u001b[49m\n\u001b[0;32m    759\u001b[0m \u001b[43m        \u001b[49m\u001b[43me\u001b[49m\u001b[38;5;241;43m.\u001b[39;49m\u001b[43m__context__\u001b[49m\u001b[43m,\u001b[49m\n\u001b[0;32m    760\u001b[0m \u001b[43m        \u001b[49m\u001b[43me\u001b[49m\u001b[38;5;241;43m.\u001b[39;49m\u001b[43m__context__\u001b[49m\u001b[38;5;241;43m.\u001b[39;49m\u001b[43m__traceback__\u001b[49m\u001b[43m,\u001b[49m\n\u001b[0;32m    761\u001b[0m \u001b[43m        \u001b[49m\u001b[43mlimit\u001b[49m\u001b[38;5;241;43m=\u001b[39;49m\u001b[43mlimit\u001b[49m\u001b[43m,\u001b[49m\n\u001b[0;32m    762\u001b[0m \u001b[43m        \u001b[49m\u001b[43mlookup_lines\u001b[49m\u001b[38;5;241;43m=\u001b[39;49m\u001b[43mlookup_lines\u001b[49m\u001b[43m,\u001b[49m\n\u001b[0;32m    763\u001b[0m \u001b[43m        \u001b[49m\u001b[43mcapture_locals\u001b[49m\u001b[38;5;241;43m=\u001b[39;49m\u001b[43mcapture_locals\u001b[49m\u001b[43m,\u001b[49m\n\u001b[0;32m    764\u001b[0m \u001b[43m        \u001b[49m\u001b[43mmax_group_width\u001b[49m\u001b[38;5;241;43m=\u001b[39;49m\u001b[43mmax_group_width\u001b[49m\u001b[43m,\u001b[49m\n\u001b[0;32m    765\u001b[0m \u001b[43m        \u001b[49m\u001b[43mmax_group_depth\u001b[49m\u001b[38;5;241;43m=\u001b[39;49m\u001b[43mmax_group_depth\u001b[49m\u001b[43m,\u001b[49m\n\u001b[0;32m    766\u001b[0m \u001b[43m        \u001b[49m\u001b[43m_seen\u001b[49m\u001b[38;5;241;43m=\u001b[39;49m\u001b[43m_seen\u001b[49m\u001b[43m)\u001b[49m\n\u001b[0;32m    767\u001b[0m \u001b[38;5;28;01melse\u001b[39;00m:\n\u001b[0;32m    768\u001b[0m     context \u001b[38;5;241m=\u001b[39m \u001b[38;5;28;01mNone\u001b[39;00m\n",
      "File \u001b[1;32m~\\AppData\\Local\\Programs\\Python\\Python311\\Lib\\traceback.py:702\u001b[0m, in \u001b[0;36mTracebackException.__init__\u001b[1;34m(self, exc_type, exc_value, exc_traceback, limit, lookup_lines, capture_locals, compact, max_group_width, max_group_depth, _seen)\u001b[0m\n\u001b[0;32m    699\u001b[0m \u001b[38;5;28mself\u001b[39m\u001b[38;5;241m.\u001b[39mmax_group_width \u001b[38;5;241m=\u001b[39m max_group_width\n\u001b[0;32m    700\u001b[0m \u001b[38;5;28mself\u001b[39m\u001b[38;5;241m.\u001b[39mmax_group_depth \u001b[38;5;241m=\u001b[39m max_group_depth\n\u001b[1;32m--> 702\u001b[0m \u001b[38;5;28mself\u001b[39m\u001b[38;5;241m.\u001b[39mstack \u001b[38;5;241m=\u001b[39m \u001b[43mStackSummary\u001b[49m\u001b[38;5;241;43m.\u001b[39;49m\u001b[43m_extract_from_extended_frame_gen\u001b[49m\u001b[43m(\u001b[49m\n\u001b[0;32m    703\u001b[0m \u001b[43m    \u001b[49m\u001b[43m_walk_tb_with_full_positions\u001b[49m\u001b[43m(\u001b[49m\u001b[43mexc_traceback\u001b[49m\u001b[43m)\u001b[49m\u001b[43m,\u001b[49m\n\u001b[0;32m    704\u001b[0m \u001b[43m    \u001b[49m\u001b[43mlimit\u001b[49m\u001b[38;5;241;43m=\u001b[39;49m\u001b[43mlimit\u001b[49m\u001b[43m,\u001b[49m\u001b[43m \u001b[49m\u001b[43mlookup_lines\u001b[49m\u001b[38;5;241;43m=\u001b[39;49m\u001b[43mlookup_lines\u001b[49m\u001b[43m,\u001b[49m\n\u001b[0;32m    705\u001b[0m \u001b[43m    \u001b[49m\u001b[43mcapture_locals\u001b[49m\u001b[38;5;241;43m=\u001b[39;49m\u001b[43mcapture_locals\u001b[49m\u001b[43m)\u001b[49m\n\u001b[0;32m    706\u001b[0m \u001b[38;5;28mself\u001b[39m\u001b[38;5;241m.\u001b[39mexc_type \u001b[38;5;241m=\u001b[39m exc_type\n\u001b[0;32m    707\u001b[0m \u001b[38;5;66;03m# Capture now to permit freeing resources: only complication is in the\u001b[39;00m\n\u001b[0;32m    708\u001b[0m \u001b[38;5;66;03m# unofficial API _format_final_exc_line\u001b[39;00m\n",
      "File \u001b[1;32m~\\AppData\\Local\\Programs\\Python\\Python311\\Lib\\traceback.py:432\u001b[0m, in \u001b[0;36mStackSummary._extract_from_extended_frame_gen\u001b[1;34m(klass, frame_gen, limit, lookup_lines, capture_locals)\u001b[0m\n\u001b[0;32m    428\u001b[0m     result\u001b[38;5;241m.\u001b[39mappend(FrameSummary(\n\u001b[0;32m    429\u001b[0m         filename, lineno, name, lookup_line\u001b[38;5;241m=\u001b[39m\u001b[38;5;28;01mFalse\u001b[39;00m, \u001b[38;5;28mlocals\u001b[39m\u001b[38;5;241m=\u001b[39mf_locals,\n\u001b[0;32m    430\u001b[0m         end_lineno\u001b[38;5;241m=\u001b[39mend_lineno, colno\u001b[38;5;241m=\u001b[39mcolno, end_colno\u001b[38;5;241m=\u001b[39mend_colno))\n\u001b[0;32m    431\u001b[0m \u001b[38;5;28;01mfor\u001b[39;00m filename \u001b[38;5;129;01min\u001b[39;00m fnames:\n\u001b[1;32m--> 432\u001b[0m     \u001b[43mlinecache\u001b[49m\u001b[38;5;241;43m.\u001b[39;49m\u001b[43mcheckcache\u001b[49m\u001b[43m(\u001b[49m\u001b[43mfilename\u001b[49m\u001b[43m)\u001b[49m\n\u001b[0;32m    433\u001b[0m \u001b[38;5;66;03m# If immediate lookup was desired, trigger lookups now.\u001b[39;00m\n\u001b[0;32m    434\u001b[0m \u001b[38;5;28;01mif\u001b[39;00m lookup_lines:\n",
      "File \u001b[1;32m~\\AppData\\Local\\Programs\\Python\\Python311\\Lib\\linecache.py:72\u001b[0m, in \u001b[0;36mcheckcache\u001b[1;34m(filename)\u001b[0m\n\u001b[0;32m     70\u001b[0m     \u001b[38;5;28;01mcontinue\u001b[39;00m   \u001b[38;5;66;03m# no-op for files loaded via a __loader__\u001b[39;00m\n\u001b[0;32m     71\u001b[0m \u001b[38;5;28;01mtry\u001b[39;00m:\n\u001b[1;32m---> 72\u001b[0m     stat \u001b[38;5;241m=\u001b[39m os\u001b[38;5;241m.\u001b[39mstat(fullname)\n\u001b[0;32m     73\u001b[0m \u001b[38;5;28;01mexcept\u001b[39;00m \u001b[38;5;167;01mOSError\u001b[39;00m:\n\u001b[0;32m     74\u001b[0m     cache\u001b[38;5;241m.\u001b[39mpop(filename, \u001b[38;5;28;01mNone\u001b[39;00m)\n",
      "\u001b[1;31mKeyboardInterrupt\u001b[0m: "
     ]
    }
   ],
   "source": [
    "df_suggestion_rampage = pd.DataFrame()\n",
    "index = 0\n",
    "for x in tqdm(range(index,len(df_suggestion_keyword_rampage))):\n",
    "    browser.get(f\"{df_suggestion_keyword_rampage['url'].iloc[x]}\")  \n",
    "\n",
    "    browser.implicitly_wait(20)\n",
    "    \n",
    "    # iframe 제거하는 코드 - iframe에 해당하는 css selector 입력하면 된다.\n",
    "    browser.switch_to.frame(\"cafe_main\")\n",
    "\n",
    "    \n",
    "    \n",
    "    # url\n",
    "    url = df_suggestion_keyword_rampage['url'].iloc[x]\n",
    "    \n",
    "    try:\n",
    "        # 본문 텍스트\n",
    "        contents = browser.find_elements(By.CSS_SELECTOR, value = \"div.se-text > div.se-component-content\")\n",
    "        for y in range(len(contents)):\n",
    "            \n",
    "        content = contents[-1].text\n",
    "    except:\n",
    "        try:\n",
    "             # 예외적인 페이지가 존재 1\n",
    "            contents = browser.find_elements(By.CSS_SELECTOR, value = \"div.NHN_Writeform_Main > p\")\n",
    "            content = \"\"\n",
    "            for y in range(0,len(contents)-1): # 마지막줄 : 남겨주신 소중한 의견은 매일 확인하여 논의되고 있습니다. 감사합니다 :D -> 이거때문에 -1\n",
    "                content = content + \" \" + contents[y].text\n",
    "            \n",
    "\n",
    "        except:\n",
    "            # 예외적인 페이지가 존재 2\n",
    "            contents = browser.find_elements(By.CSS_SELECTOR, value = \"div.ContentRenderer > div > p\")\n",
    "            content = \"\"\n",
    "            for y in range(len(contents)):\n",
    "                content = content + \" \" + contents[y].text\n",
    "            \n",
    "    print(content)\n",
    "    series_addition = {\"url\" : [url], \"content\" : [content]}\n",
    "    df_addition = pd.DataFrame(series_addition)\n",
    "    df_suggestion_rampage = pd.concat([df_suggestion_rampage, df_addition], ignore_index = True)\n"
   ]
  },
  {
   "cell_type": "code",
   "execution_count": 9,
   "id": "134c5229-a2ca-4c57-819b-737595228fa3",
   "metadata": {},
   "outputs": [
    {
     "name": "stdout",
     "output_type": "stream",
     "text": [
      "ERROR! Session/line number was not unique in database. History logging moved to new session 97\n"
     ]
    },
    {
     "data": {
      "text/html": [
       "<div>\n",
       "<style scoped>\n",
       "    .dataframe tbody tr th:only-of-type {\n",
       "        vertical-align: middle;\n",
       "    }\n",
       "\n",
       "    .dataframe tbody tr th {\n",
       "        vertical-align: top;\n",
       "    }\n",
       "\n",
       "    .dataframe thead th {\n",
       "        text-align: right;\n",
       "    }\n",
       "</style>\n",
       "<table border=\"1\" class=\"dataframe\">\n",
       "  <thead>\n",
       "    <tr style=\"text-align: right;\">\n",
       "      <th></th>\n",
       "      <th>url</th>\n",
       "      <th>content</th>\n",
       "    </tr>\n",
       "  </thead>\n",
       "  <tbody>\n",
       "    <tr>\n",
       "      <th>25</th>\n",
       "      <td>https://cafe.naver.com/ArticleRead.nhn?clubid=...</td>\n",
       "      <td></td>\n",
       "    </tr>\n",
       "    <tr>\n",
       "      <th>26</th>\n",
       "      <td>https://cafe.naver.com/ArticleRead.nhn?clubid=...</td>\n",
       "      <td></td>\n",
       "    </tr>\n",
       "    <tr>\n",
       "      <th>45</th>\n",
       "      <td>https://cafe.naver.com/ArticleRead.nhn?clubid=...</td>\n",
       "      <td></td>\n",
       "    </tr>\n",
       "    <tr>\n",
       "      <th>52</th>\n",
       "      <td>https://cafe.naver.com/ArticleRead.nhn?clubid=...</td>\n",
       "      <td></td>\n",
       "    </tr>\n",
       "    <tr>\n",
       "      <th>72</th>\n",
       "      <td>https://cafe.naver.com/ArticleRead.nhn?clubid=...</td>\n",
       "      <td></td>\n",
       "    </tr>\n",
       "    <tr>\n",
       "      <th>82</th>\n",
       "      <td>https://cafe.naver.com/ArticleRead.nhn?clubid=...</td>\n",
       "      <td></td>\n",
       "    </tr>\n",
       "    <tr>\n",
       "      <th>89</th>\n",
       "      <td>https://cafe.naver.com/ArticleRead.nhn?clubid=...</td>\n",
       "      <td></td>\n",
       "    </tr>\n",
       "  </tbody>\n",
       "</table>\n",
       "</div>"
      ],
      "text/plain": [
       "                                                  url content\n",
       "25  https://cafe.naver.com/ArticleRead.nhn?clubid=...        \n",
       "26  https://cafe.naver.com/ArticleRead.nhn?clubid=...        \n",
       "45  https://cafe.naver.com/ArticleRead.nhn?clubid=...        \n",
       "52  https://cafe.naver.com/ArticleRead.nhn?clubid=...        \n",
       "72  https://cafe.naver.com/ArticleRead.nhn?clubid=...        \n",
       "82  https://cafe.naver.com/ArticleRead.nhn?clubid=...        \n",
       "89  https://cafe.naver.com/ArticleRead.nhn?clubid=...        "
      ]
     },
     "execution_count": 9,
     "metadata": {},
     "output_type": "execute_result"
    }
   ],
   "source": [
    "df_suggestion_rampage.query(\"content == ''\")"
   ]
  },
  {
   "cell_type": "code",
   "execution_count": 10,
   "id": "d09ea950-5703-4133-8880-561538807906",
   "metadata": {
    "scrolled": true
   },
   "outputs": [
    {
     "data": {
      "text/plain": [
       "'https://cafe.naver.com/ArticleRead.nhn?clubid=27133272&page=157&menuid=53&boardtype=L&articleid=2390090&referrerAllArticles=false'"
      ]
     },
     "execution_count": 10,
     "metadata": {},
     "output_type": "execute_result"
    }
   ],
   "source": [
    "df_suggestion_rampage[\"url\"].iloc[25]"
   ]
  },
  {
   "cell_type": "code",
   "execution_count": 16,
   "id": "b63e3f01-f5a8-46f9-a866-1d7112b1bc1a",
   "metadata": {},
   "outputs": [
    {
     "ename": "NoSuchFrameException",
     "evalue": "Message: cafe_main\n",
     "output_type": "error",
     "traceback": [
      "\u001b[1;31m---------------------------------------------------------------------------\u001b[0m",
      "\u001b[1;31mNoSuchElementException\u001b[0m                    Traceback (most recent call last)",
      "File \u001b[1;32m~\\AppData\\Local\\Programs\\Python\\Python311\\Lib\\site-packages\\selenium\\webdriver\\remote\\switch_to.py:88\u001b[0m, in \u001b[0;36mSwitchTo.frame\u001b[1;34m(self, frame_reference)\u001b[0m\n\u001b[0;32m     87\u001b[0m \u001b[38;5;28;01mtry\u001b[39;00m:\n\u001b[1;32m---> 88\u001b[0m     frame_reference \u001b[38;5;241m=\u001b[39m \u001b[38;5;28;43mself\u001b[39;49m\u001b[38;5;241;43m.\u001b[39;49m\u001b[43m_driver\u001b[49m\u001b[38;5;241;43m.\u001b[39;49m\u001b[43mfind_element\u001b[49m\u001b[43m(\u001b[49m\u001b[43mBy\u001b[49m\u001b[38;5;241;43m.\u001b[39;49m\u001b[43mID\u001b[49m\u001b[43m,\u001b[49m\u001b[43m \u001b[49m\u001b[43mframe_reference\u001b[49m\u001b[43m)\u001b[49m\n\u001b[0;32m     89\u001b[0m \u001b[38;5;28;01mexcept\u001b[39;00m NoSuchElementException:\n",
      "File \u001b[1;32m~\\AppData\\Local\\Programs\\Python\\Python311\\Lib\\site-packages\\selenium\\webdriver\\remote\\webdriver.py:741\u001b[0m, in \u001b[0;36mWebDriver.find_element\u001b[1;34m(self, by, value)\u001b[0m\n\u001b[0;32m    739\u001b[0m     value \u001b[38;5;241m=\u001b[39m \u001b[38;5;124mf\u001b[39m\u001b[38;5;124m'\u001b[39m\u001b[38;5;124m[name=\u001b[39m\u001b[38;5;124m\"\u001b[39m\u001b[38;5;132;01m{\u001b[39;00mvalue\u001b[38;5;132;01m}\u001b[39;00m\u001b[38;5;124m\"\u001b[39m\u001b[38;5;124m]\u001b[39m\u001b[38;5;124m'\u001b[39m\n\u001b[1;32m--> 741\u001b[0m \u001b[38;5;28;01mreturn\u001b[39;00m \u001b[38;5;28;43mself\u001b[39;49m\u001b[38;5;241;43m.\u001b[39;49m\u001b[43mexecute\u001b[49m\u001b[43m(\u001b[49m\u001b[43mCommand\u001b[49m\u001b[38;5;241;43m.\u001b[39;49m\u001b[43mFIND_ELEMENT\u001b[49m\u001b[43m,\u001b[49m\u001b[43m \u001b[49m\u001b[43m{\u001b[49m\u001b[38;5;124;43m\"\u001b[39;49m\u001b[38;5;124;43musing\u001b[39;49m\u001b[38;5;124;43m\"\u001b[39;49m\u001b[43m:\u001b[49m\u001b[43m \u001b[49m\u001b[43mby\u001b[49m\u001b[43m,\u001b[49m\u001b[43m \u001b[49m\u001b[38;5;124;43m\"\u001b[39;49m\u001b[38;5;124;43mvalue\u001b[39;49m\u001b[38;5;124;43m\"\u001b[39;49m\u001b[43m:\u001b[49m\u001b[43m \u001b[49m\u001b[43mvalue\u001b[49m\u001b[43m}\u001b[49m\u001b[43m)\u001b[49m[\u001b[38;5;124m\"\u001b[39m\u001b[38;5;124mvalue\u001b[39m\u001b[38;5;124m\"\u001b[39m]\n",
      "File \u001b[1;32m~\\AppData\\Local\\Programs\\Python\\Python311\\Lib\\site-packages\\selenium\\webdriver\\remote\\webdriver.py:347\u001b[0m, in \u001b[0;36mWebDriver.execute\u001b[1;34m(self, driver_command, params)\u001b[0m\n\u001b[0;32m    346\u001b[0m \u001b[38;5;28;01mif\u001b[39;00m response:\n\u001b[1;32m--> 347\u001b[0m     \u001b[38;5;28;43mself\u001b[39;49m\u001b[38;5;241;43m.\u001b[39;49m\u001b[43merror_handler\u001b[49m\u001b[38;5;241;43m.\u001b[39;49m\u001b[43mcheck_response\u001b[49m\u001b[43m(\u001b[49m\u001b[43mresponse\u001b[49m\u001b[43m)\u001b[49m\n\u001b[0;32m    348\u001b[0m     response[\u001b[38;5;124m\"\u001b[39m\u001b[38;5;124mvalue\u001b[39m\u001b[38;5;124m\"\u001b[39m] \u001b[38;5;241m=\u001b[39m \u001b[38;5;28mself\u001b[39m\u001b[38;5;241m.\u001b[39m_unwrap_value(response\u001b[38;5;241m.\u001b[39mget(\u001b[38;5;124m\"\u001b[39m\u001b[38;5;124mvalue\u001b[39m\u001b[38;5;124m\"\u001b[39m, \u001b[38;5;28;01mNone\u001b[39;00m))\n",
      "File \u001b[1;32m~\\AppData\\Local\\Programs\\Python\\Python311\\Lib\\site-packages\\selenium\\webdriver\\remote\\errorhandler.py:229\u001b[0m, in \u001b[0;36mErrorHandler.check_response\u001b[1;34m(self, response)\u001b[0m\n\u001b[0;32m    228\u001b[0m     \u001b[38;5;28;01mraise\u001b[39;00m exception_class(message, screen, stacktrace, alert_text)  \u001b[38;5;66;03m# type: ignore[call-arg]  # mypy is not smart enough here\u001b[39;00m\n\u001b[1;32m--> 229\u001b[0m \u001b[38;5;28;01mraise\u001b[39;00m exception_class(message, screen, stacktrace)\n",
      "\u001b[1;31mNoSuchElementException\u001b[0m: Message: no such element: Unable to locate element: {\"method\":\"css selector\",\"selector\":\"[id=\"cafe_main\"]\"}\n  (Session info: chrome=130.0.6723.117); For documentation on this error, please visit: https://www.selenium.dev/documentation/webdriver/troubleshooting/errors#no-such-element-exception\nStacktrace:\n\tGetHandleVerifier [0x00B2EBD3+24307]\n\t(No symbol) [0x00AB8D74]\n\t(No symbol) [0x0099C323]\n\t(No symbol) [0x009DDC86]\n\t(No symbol) [0x009DDECB]\n\t(No symbol) [0x00A1B9F2]\n\t(No symbol) [0x009FFED4]\n\t(No symbol) [0x00A19579]\n\t(No symbol) [0x009FFC26]\n\t(No symbol) [0x009D219C]\n\t(No symbol) [0x009D311D]\n\tGetHandleVerifier [0x00DD8D93+2818227]\n\tGetHandleVerifier [0x00E3542E+3196750]\n\tGetHandleVerifier [0x00E2D9D2+3165426]\n\tGetHandleVerifier [0x00BCDA70+675216]\n\t(No symbol) [0x00AC1B3D]\n\t(No symbol) [0x00ABEA18]\n\t(No symbol) [0x00ABEBB5]\n\t(No symbol) [0x00AB1640]\n\tBaseThreadInitThunk [0x7700FCC9+25]\n\tRtlGetAppContainerNamedObjectPath [0x7760809E+286]\n\tRtlGetAppContainerNamedObjectPath [0x7760806E+238]\n",
      "\nDuring handling of the above exception, another exception occurred:\n",
      "\u001b[1;31mNoSuchElementException\u001b[0m                    Traceback (most recent call last)",
      "File \u001b[1;32m~\\AppData\\Local\\Programs\\Python\\Python311\\Lib\\site-packages\\selenium\\webdriver\\remote\\switch_to.py:91\u001b[0m, in \u001b[0;36mSwitchTo.frame\u001b[1;34m(self, frame_reference)\u001b[0m\n\u001b[0;32m     90\u001b[0m \u001b[38;5;28;01mtry\u001b[39;00m:\n\u001b[1;32m---> 91\u001b[0m     frame_reference \u001b[38;5;241m=\u001b[39m \u001b[38;5;28;43mself\u001b[39;49m\u001b[38;5;241;43m.\u001b[39;49m\u001b[43m_driver\u001b[49m\u001b[38;5;241;43m.\u001b[39;49m\u001b[43mfind_element\u001b[49m\u001b[43m(\u001b[49m\u001b[43mBy\u001b[49m\u001b[38;5;241;43m.\u001b[39;49m\u001b[43mNAME\u001b[49m\u001b[43m,\u001b[49m\u001b[43m \u001b[49m\u001b[43mframe_reference\u001b[49m\u001b[43m)\u001b[49m\n\u001b[0;32m     92\u001b[0m \u001b[38;5;28;01mexcept\u001b[39;00m NoSuchElementException \u001b[38;5;28;01mas\u001b[39;00m exc:\n",
      "File \u001b[1;32m~\\AppData\\Local\\Programs\\Python\\Python311\\Lib\\site-packages\\selenium\\webdriver\\remote\\webdriver.py:741\u001b[0m, in \u001b[0;36mWebDriver.find_element\u001b[1;34m(self, by, value)\u001b[0m\n\u001b[0;32m    739\u001b[0m     value \u001b[38;5;241m=\u001b[39m \u001b[38;5;124mf\u001b[39m\u001b[38;5;124m'\u001b[39m\u001b[38;5;124m[name=\u001b[39m\u001b[38;5;124m\"\u001b[39m\u001b[38;5;132;01m{\u001b[39;00mvalue\u001b[38;5;132;01m}\u001b[39;00m\u001b[38;5;124m\"\u001b[39m\u001b[38;5;124m]\u001b[39m\u001b[38;5;124m'\u001b[39m\n\u001b[1;32m--> 741\u001b[0m \u001b[38;5;28;01mreturn\u001b[39;00m \u001b[38;5;28;43mself\u001b[39;49m\u001b[38;5;241;43m.\u001b[39;49m\u001b[43mexecute\u001b[49m\u001b[43m(\u001b[49m\u001b[43mCommand\u001b[49m\u001b[38;5;241;43m.\u001b[39;49m\u001b[43mFIND_ELEMENT\u001b[49m\u001b[43m,\u001b[49m\u001b[43m \u001b[49m\u001b[43m{\u001b[49m\u001b[38;5;124;43m\"\u001b[39;49m\u001b[38;5;124;43musing\u001b[39;49m\u001b[38;5;124;43m\"\u001b[39;49m\u001b[43m:\u001b[49m\u001b[43m \u001b[49m\u001b[43mby\u001b[49m\u001b[43m,\u001b[49m\u001b[43m \u001b[49m\u001b[38;5;124;43m\"\u001b[39;49m\u001b[38;5;124;43mvalue\u001b[39;49m\u001b[38;5;124;43m\"\u001b[39;49m\u001b[43m:\u001b[49m\u001b[43m \u001b[49m\u001b[43mvalue\u001b[49m\u001b[43m}\u001b[49m\u001b[43m)\u001b[49m[\u001b[38;5;124m\"\u001b[39m\u001b[38;5;124mvalue\u001b[39m\u001b[38;5;124m\"\u001b[39m]\n",
      "File \u001b[1;32m~\\AppData\\Local\\Programs\\Python\\Python311\\Lib\\site-packages\\selenium\\webdriver\\remote\\webdriver.py:347\u001b[0m, in \u001b[0;36mWebDriver.execute\u001b[1;34m(self, driver_command, params)\u001b[0m\n\u001b[0;32m    346\u001b[0m \u001b[38;5;28;01mif\u001b[39;00m response:\n\u001b[1;32m--> 347\u001b[0m     \u001b[38;5;28;43mself\u001b[39;49m\u001b[38;5;241;43m.\u001b[39;49m\u001b[43merror_handler\u001b[49m\u001b[38;5;241;43m.\u001b[39;49m\u001b[43mcheck_response\u001b[49m\u001b[43m(\u001b[49m\u001b[43mresponse\u001b[49m\u001b[43m)\u001b[49m\n\u001b[0;32m    348\u001b[0m     response[\u001b[38;5;124m\"\u001b[39m\u001b[38;5;124mvalue\u001b[39m\u001b[38;5;124m\"\u001b[39m] \u001b[38;5;241m=\u001b[39m \u001b[38;5;28mself\u001b[39m\u001b[38;5;241m.\u001b[39m_unwrap_value(response\u001b[38;5;241m.\u001b[39mget(\u001b[38;5;124m\"\u001b[39m\u001b[38;5;124mvalue\u001b[39m\u001b[38;5;124m\"\u001b[39m, \u001b[38;5;28;01mNone\u001b[39;00m))\n",
      "File \u001b[1;32m~\\AppData\\Local\\Programs\\Python\\Python311\\Lib\\site-packages\\selenium\\webdriver\\remote\\errorhandler.py:229\u001b[0m, in \u001b[0;36mErrorHandler.check_response\u001b[1;34m(self, response)\u001b[0m\n\u001b[0;32m    228\u001b[0m     \u001b[38;5;28;01mraise\u001b[39;00m exception_class(message, screen, stacktrace, alert_text)  \u001b[38;5;66;03m# type: ignore[call-arg]  # mypy is not smart enough here\u001b[39;00m\n\u001b[1;32m--> 229\u001b[0m \u001b[38;5;28;01mraise\u001b[39;00m exception_class(message, screen, stacktrace)\n",
      "\u001b[1;31mNoSuchElementException\u001b[0m: Message: no such element: Unable to locate element: {\"method\":\"css selector\",\"selector\":\"[name=\"cafe_main\"]\"}\n  (Session info: chrome=130.0.6723.117); For documentation on this error, please visit: https://www.selenium.dev/documentation/webdriver/troubleshooting/errors#no-such-element-exception\nStacktrace:\n\tGetHandleVerifier [0x00B2EBD3+24307]\n\t(No symbol) [0x00AB8D74]\n\t(No symbol) [0x0099C323]\n\t(No symbol) [0x009DDC86]\n\t(No symbol) [0x009DDECB]\n\t(No symbol) [0x00A1B9F2]\n\t(No symbol) [0x009FFED4]\n\t(No symbol) [0x00A19579]\n\t(No symbol) [0x009FFC26]\n\t(No symbol) [0x009D219C]\n\t(No symbol) [0x009D311D]\n\tGetHandleVerifier [0x00DD8D93+2818227]\n\tGetHandleVerifier [0x00E3542E+3196750]\n\tGetHandleVerifier [0x00E2D9D2+3165426]\n\tGetHandleVerifier [0x00BCDA70+675216]\n\t(No symbol) [0x00AC1B3D]\n\t(No symbol) [0x00ABEA18]\n\t(No symbol) [0x00ABEBB5]\n\t(No symbol) [0x00AB1640]\n\tBaseThreadInitThunk [0x7700FCC9+25]\n\tRtlGetAppContainerNamedObjectPath [0x7760809E+286]\n\tRtlGetAppContainerNamedObjectPath [0x7760806E+238]\n",
      "\nThe above exception was the direct cause of the following exception:\n",
      "\u001b[1;31mNoSuchFrameException\u001b[0m                      Traceback (most recent call last)",
      "Cell \u001b[1;32mIn[16], line 1\u001b[0m\n\u001b[1;32m----> 1\u001b[0m \u001b[43mbrowser\u001b[49m\u001b[38;5;241;43m.\u001b[39;49m\u001b[43mswitch_to\u001b[49m\u001b[38;5;241;43m.\u001b[39;49m\u001b[43mframe\u001b[49m\u001b[43m(\u001b[49m\u001b[38;5;124;43m\"\u001b[39;49m\u001b[38;5;124;43mcafe_main\u001b[39;49m\u001b[38;5;124;43m\"\u001b[39;49m\u001b[43m)\u001b[49m\n",
      "File \u001b[1;32m~\\AppData\\Local\\Programs\\Python\\Python311\\Lib\\site-packages\\selenium\\webdriver\\remote\\switch_to.py:93\u001b[0m, in \u001b[0;36mSwitchTo.frame\u001b[1;34m(self, frame_reference)\u001b[0m\n\u001b[0;32m     91\u001b[0m             frame_reference \u001b[38;5;241m=\u001b[39m \u001b[38;5;28mself\u001b[39m\u001b[38;5;241m.\u001b[39m_driver\u001b[38;5;241m.\u001b[39mfind_element(By\u001b[38;5;241m.\u001b[39mNAME, frame_reference)\n\u001b[0;32m     92\u001b[0m         \u001b[38;5;28;01mexcept\u001b[39;00m NoSuchElementException \u001b[38;5;28;01mas\u001b[39;00m exc:\n\u001b[1;32m---> 93\u001b[0m             \u001b[38;5;28;01mraise\u001b[39;00m NoSuchFrameException(frame_reference) \u001b[38;5;28;01mfrom\u001b[39;00m \u001b[38;5;21;01mexc\u001b[39;00m\n\u001b[0;32m     95\u001b[0m \u001b[38;5;28mself\u001b[39m\u001b[38;5;241m.\u001b[39m_driver\u001b[38;5;241m.\u001b[39mexecute(Command\u001b[38;5;241m.\u001b[39mSWITCH_TO_FRAME, {\u001b[38;5;124m\"\u001b[39m\u001b[38;5;124mid\u001b[39m\u001b[38;5;124m\"\u001b[39m: frame_reference})\n",
      "\u001b[1;31mNoSuchFrameException\u001b[0m: Message: cafe_main\n"
     ]
    }
   ],
   "source": [
    "browser.switch_to.frame(\"cafe_main\")"
   ]
  },
  {
   "cell_type": "code",
   "execution_count": 18,
   "id": "be54d8ad-c014-4f77-9a26-83e202d35a69",
   "metadata": {},
   "outputs": [],
   "source": [
    "contents = browser.find_elements(By.CSS_SELECTOR, value = \"div.se-text > div.se-component-content\")\n",
    "# content = contents.text\n",
    "# content"
   ]
  },
  {
   "cell_type": "code",
   "execution_count": 19,
   "id": "a158c703-4329-411d-92a5-911f4bc0dda9",
   "metadata": {},
   "outputs": [
    {
     "data": {
      "text/plain": [
       "[]"
      ]
     },
     "execution_count": 19,
     "metadata": {},
     "output_type": "execute_result"
    }
   ],
   "source": [
    "contents"
   ]
  },
  {
   "cell_type": "markdown",
   "id": "84a39d61-efa8-4622-9bf3-d2ec63af4bcb",
   "metadata": {},
   "source": [
    "### 2. 실레나 키워드"
   ]
  },
  {
   "cell_type": "code",
   "execution_count": null,
   "id": "bb9f2b5b-1e9b-4113-90dd-055ae32b68ab",
   "metadata": {},
   "outputs": [],
   "source": [
    "# 1\n",
    "\n",
    "# 인터넷 창 오픈\n",
    "\n",
    "webdriver_manager_directory = ChromeDriverManager().install()\n",
    "correct_webdriver_manager_directory = os.path.join(os.path.dirname(webdriver_manager_directory), \"chromedriver.exe\")\n",
    "browser = webdriver.Chrome(service=ChromeService(executable_path=correct_webdriver_manager_directory), options=chrome_options)\n",
    "\n",
    "# 네이버 로그인\n",
    "browser.get(\"https://nid.naver.com/nidlogin.login\")"
   ]
  },
  {
   "cell_type": "code",
   "execution_count": null,
   "id": "5cf75c49-c479-4014-b63c-d347d0118c6d",
   "metadata": {},
   "outputs": [],
   "source": [
    "df_suggestion_arena = pd.DataFrame()\n",
    "index = 0\n",
    "for x in tqdm(range(index,len(df_suggestion_keyword_arena))):\n",
    "    browser.get(f\"{df_suggestion_keyword_arena['url'].iloc[x]}\")  \n",
    "\n",
    "    browser.implicitly_wait(10)\n",
    "    \n",
    "    # iframe 제거하는 코드 - iframe에 해당하는 css selector 입력하면 된다.\n",
    "    browser.switch_to.frame(\"cafe_main\")\n",
    "    \n",
    "    # url\n",
    "    url = df_suggestion_keyword_arena['url'].iloc[x]\n",
    "    \n",
    "    try:\n",
    "        # 본문 텍스트\n",
    "        content = browser.find_element(By.CSS_SELECTOR, value = \"div.se-component-content\")\n",
    "        content = content.text\n",
    "    except:\n",
    "        try:\n",
    "            # 예외적인 페이지가 존재\n",
    "            contents = browser.find_elements(By.CSS_SELECTOR, value = \"div.ArticleContentBox > div.article_container > div:nth-child(1) > div > div > div > p\")\n",
    "            content = \"\"\n",
    "            for y in range(len(contents)):\n",
    "                content = content + \" \" + contents[y].text\n",
    "        except:\n",
    "            try:\n",
    "                content = browser.find_element(By.CSS_SELECTOR, value = \"div.ArticleContentBox > div.article_container > div:nth-child(1) > div > div > div > div > p:nth-child(3)\")\n",
    "                content = content.text\n",
    "            except:\n",
    "                print(f\"{x} : {df_suggestion_keyword_arena['url'].iloc[x]}\" )\n",
    "            \n",
    "        \n",
    "    series_addition = {\"url\" : [url], \"content\" : [content]}\n",
    "    df_addition = pd.DataFrame(series_addition)\n",
    "    df_suggestion_arena = pd.concat([df_suggestion_arena, df_addition], ignore_index = True)\n"
   ]
  }
 ],
 "metadata": {
  "kernelspec": {
   "display_name": "Python 3 (ipykernel)",
   "language": "python",
   "name": "python3"
  },
  "language_info": {
   "codemirror_mode": {
    "name": "ipython",
    "version": 3
   },
   "file_extension": ".py",
   "mimetype": "text/x-python",
   "name": "python",
   "nbconvert_exporter": "python",
   "pygments_lexer": "ipython3",
   "version": "3.11.6"
  }
 },
 "nbformat": 4,
 "nbformat_minor": 5
}

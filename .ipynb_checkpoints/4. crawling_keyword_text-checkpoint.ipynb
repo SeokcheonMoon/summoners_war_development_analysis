{
 "cells": [
  {
   "cell_type": "code",
   "execution_count": 1,
   "id": "b6c5d3c3-f84a-480a-81a0-4f2348badded",
   "metadata": {},
   "outputs": [],
   "source": [
    "import pandas as pd\n",
    "import copy\n",
    "import requests\n",
    "from tqdm.notebook import tqdm\n",
    "from tqdm import tqdm\n",
    "import numpy as np\n",
    "from selenium import webdriver\n",
    "from selenium.webdriver.common.by import By          # - 정보 획득\n",
    "from selenium.webdriver.common.keys import Keys\n",
    "# from engine_connect import create_engine_connect, db_connection\n",
    "from sqlalchemy import create_engine\n",
    "import os\n",
    "import re\n",
    "import time\n",
    "from bs4 import BeautifulSoup\n",
    "import warnings\n",
    "import pymysql\n",
    "import math\n",
    "warnings.filterwarnings(action='ignore')\n",
    "from selenium.webdriver.common.action_chains import ActionChains\n",
    "import json\n",
    "from lxml import html\n",
    "\n",
    "\n",
    "\n",
    "import time\n",
    "import datetime as dt # 사용시 datetime.dt 로 사용 # 현재 시간 사용\n",
    "from datetime import datetime # 사용시 함수로 바로 사용 #-> 시간 비교"
   ]
  },
  {
   "cell_type": "code",
   "execution_count": 2,
   "id": "f409da4a-535d-433d-9ee6-c29ba0aa3c00",
   "metadata": {},
   "outputs": [],
   "source": [
    "# * 웹 크롤링 동작\n",
    "from selenium import webdriver \n",
    "from selenium.webdriver.chrome.service import Service as ChromeService\n",
    "from webdriver_manager.chrome import ChromeDriverManager\n",
    "\n",
    "import time\n",
    "# ChromeDriver 실행\n",
    "\n",
    "from selenium.webdriver.chrome.options import Options\n",
    "\n",
    "# Chrome 브라우저 옵션 생성\n",
    "chrome_options = Options()\n",
    "\n",
    "# User-Agent 설정\n",
    "chrome_options.add_argument(\"--user-agent='Mozilla/5.0 (Windows NT 10.0; Win64; x64) AppleWebKit/537.36 (KHTML, like Gecko) Chrome/129.0.0.0 Safari/537.36\")\n",
    "\n",
    "# WebDriver 생성\n",
    "webdriver_manager_directory = ChromeDriverManager().install()"
   ]
  },
  {
   "cell_type": "markdown",
   "id": "92149009-7d93-4c7f-b6e7-2eb86b1db450",
   "metadata": {},
   "source": [
    "## 데이터 불러오기"
   ]
  },
  {
   "cell_type": "code",
   "execution_count": 3,
   "id": "39a2e14f-d8b4-4796-8077-3d1ea2ad1bca",
   "metadata": {},
   "outputs": [],
   "source": [
    "df_suggestion = pd.read_excel(\"dataset/df_suggestion.xlsx\", index_col=0)"
   ]
  },
  {
   "cell_type": "code",
   "execution_count": 4,
   "id": "085bf033-9590-45a7-b022-2fd4f72adda9",
   "metadata": {},
   "outputs": [],
   "source": [
    "# 폭주 키워드 데이터프레임\n",
    "df_suggestion_keyword_rampage = df_suggestion.query('title.str.contains(\"폭주\")')\n",
    "\n",
    "# 실시간 아레나 키워드 데이터프레임\n",
    "keywords = [\"실시간 아레나\", \"실레나\"]\n",
    "query_string = ' | '.join([f'title.str.contains(\"{keyword}\")' for keyword in keywords])\n",
    "df_suggestion_keyword_arena = df_suggestion.query(query_string)\n",
    "\n",
    "# df_suggestion_keyword_arena = df_suggestion.query('title.str.contains(\"실레나\")')"
   ]
  },
  {
   "cell_type": "code",
   "execution_count": 5,
   "id": "f17e08bc-6eae-49f7-bf16-d095262ae529",
   "metadata": {},
   "outputs": [
    {
     "data": {
      "text/html": [
       "<div>\n",
       "<style scoped>\n",
       "    .dataframe tbody tr th:only-of-type {\n",
       "        vertical-align: middle;\n",
       "    }\n",
       "\n",
       "    .dataframe tbody tr th {\n",
       "        vertical-align: top;\n",
       "    }\n",
       "\n",
       "    .dataframe thead th {\n",
       "        text-align: right;\n",
       "    }\n",
       "</style>\n",
       "<table border=\"1\" class=\"dataframe\">\n",
       "  <thead>\n",
       "    <tr style=\"text-align: right;\">\n",
       "      <th></th>\n",
       "      <th>title</th>\n",
       "      <th>url</th>\n",
       "      <th>date</th>\n",
       "      <th>like</th>\n",
       "    </tr>\n",
       "  </thead>\n",
       "  <tbody>\n",
       "    <tr>\n",
       "      <th>275</th>\n",
       "      <td>이벤트 코인으로 폭주룬 685개 샀는데요</td>\n",
       "      <td>https://cafe.naver.com/ArticleRead.nhn?clubid=...</td>\n",
       "      <td>2024.06.05.</td>\n",
       "      <td>0</td>\n",
       "    </tr>\n",
       "    <tr>\n",
       "      <th>318</th>\n",
       "      <td>개좆버러지같은 폭주겜</td>\n",
       "      <td>https://cafe.naver.com/ArticleRead.nhn?clubid=...</td>\n",
       "      <td>2024.05.26.</td>\n",
       "      <td>0</td>\n",
       "    </tr>\n",
       "    <tr>\n",
       "      <th>528</th>\n",
       "      <td>폭주를 '전략적'으로 사용할 수 있게끔 생각해본 방안 (+ 디버프 관련 한 스푼)</td>\n",
       "      <td>https://cafe.naver.com/ArticleRead.nhn?clubid=...</td>\n",
       "      <td>2024.03.24.</td>\n",
       "      <td>1</td>\n",
       "    </tr>\n",
       "    <tr>\n",
       "      <th>613</th>\n",
       "      <td>점령전 폭주 횟수좀 줄여주세요.;;;</td>\n",
       "      <td>https://cafe.naver.com/ArticleRead.nhn?clubid=...</td>\n",
       "      <td>2024.02.22.</td>\n",
       "      <td>0</td>\n",
       "    </tr>\n",
       "    <tr>\n",
       "      <th>745</th>\n",
       "      <td>모든 pvp컨텐츠 폭주 1턴제한, 역속성 패널티 강화(뎀감15, 뎀증10 프로씩) ...</td>\n",
       "      <td>https://cafe.naver.com/ArticleRead.nhn?clubid=...</td>\n",
       "      <td>2023.12.14.</td>\n",
       "      <td>0</td>\n",
       "    </tr>\n",
       "    <tr>\n",
       "      <th>...</th>\n",
       "      <td>...</td>\n",
       "      <td>...</td>\n",
       "      <td>...</td>\n",
       "      <td>...</td>\n",
       "    </tr>\n",
       "    <tr>\n",
       "      <th>6520</th>\n",
       "      <td>투스야 폭주가뭐어쨋다고???</td>\n",
       "      <td>https://cafe.naver.com/ArticleRead.nhn?clubid=...</td>\n",
       "      <td>2020.02.08.</td>\n",
       "      <td>0</td>\n",
       "    </tr>\n",
       "    <tr>\n",
       "      <th>6603</th>\n",
       "      <td>투스야뭐라고? 폭주확률이뭐?ㅆㅂ</td>\n",
       "      <td>https://cafe.naver.com/ArticleRead.nhn?clubid=...</td>\n",
       "      <td>2020.01.20.</td>\n",
       "      <td>0</td>\n",
       "    </tr>\n",
       "    <tr>\n",
       "      <th>6650</th>\n",
       "      <td>개 ㅅㅂ풍신수에 폭주패시브달앗나 시발</td>\n",
       "      <td>https://cafe.naver.com/ArticleRead.nhn?clubid=...</td>\n",
       "      <td>2020.01.11.</td>\n",
       "      <td>0</td>\n",
       "    </tr>\n",
       "    <tr>\n",
       "      <th>6651</th>\n",
       "      <td>하 풍신수개ㅆㅂ폭주 씹 시발진짜</td>\n",
       "      <td>https://cafe.naver.com/ArticleRead.nhn?clubid=...</td>\n",
       "      <td>2020.01.11.</td>\n",
       "      <td>0</td>\n",
       "    </tr>\n",
       "    <tr>\n",
       "      <th>6714</th>\n",
       "      <td>어찌 잠잠하다했다 폭주시발덱보정 ㅅㅂ</td>\n",
       "      <td>https://cafe.naver.com/ArticleRead.nhn?clubid=...</td>\n",
       "      <td>2020.01.02.</td>\n",
       "      <td>0</td>\n",
       "    </tr>\n",
       "  </tbody>\n",
       "</table>\n",
       "<p>102 rows × 4 columns</p>\n",
       "</div>"
      ],
      "text/plain": [
       "                                                  title  \\\n",
       "275                              이벤트 코인으로 폭주룬 685개 샀는데요   \n",
       "318                                         개좆버러지같은 폭주겜   \n",
       "528       폭주를 '전략적'으로 사용할 수 있게끔 생각해본 방안 (+ 디버프 관련 한 스푼)   \n",
       "613                                점령전 폭주 횟수좀 줄여주세요.;;;   \n",
       "745   모든 pvp컨텐츠 폭주 1턴제한, 역속성 패널티 강화(뎀감15, 뎀증10 프로씩) ...   \n",
       "...                                                 ...   \n",
       "6520                                    투스야 폭주가뭐어쨋다고???   \n",
       "6603                                  투스야뭐라고? 폭주확률이뭐?ㅆㅂ   \n",
       "6650                               개 ㅅㅂ풍신수에 폭주패시브달앗나 시발   \n",
       "6651                                  하 풍신수개ㅆㅂ폭주 씹 시발진짜   \n",
       "6714                               어찌 잠잠하다했다 폭주시발덱보정 ㅅㅂ   \n",
       "\n",
       "                                                    url         date  like  \n",
       "275   https://cafe.naver.com/ArticleRead.nhn?clubid=...  2024.06.05.     0  \n",
       "318   https://cafe.naver.com/ArticleRead.nhn?clubid=...  2024.05.26.     0  \n",
       "528   https://cafe.naver.com/ArticleRead.nhn?clubid=...  2024.03.24.     1  \n",
       "613   https://cafe.naver.com/ArticleRead.nhn?clubid=...  2024.02.22.     0  \n",
       "745   https://cafe.naver.com/ArticleRead.nhn?clubid=...  2023.12.14.     0  \n",
       "...                                                 ...          ...   ...  \n",
       "6520  https://cafe.naver.com/ArticleRead.nhn?clubid=...  2020.02.08.     0  \n",
       "6603  https://cafe.naver.com/ArticleRead.nhn?clubid=...  2020.01.20.     0  \n",
       "6650  https://cafe.naver.com/ArticleRead.nhn?clubid=...  2020.01.11.     0  \n",
       "6651  https://cafe.naver.com/ArticleRead.nhn?clubid=...  2020.01.11.     0  \n",
       "6714  https://cafe.naver.com/ArticleRead.nhn?clubid=...  2020.01.02.     0  \n",
       "\n",
       "[102 rows x 4 columns]"
      ]
     },
     "execution_count": 5,
     "metadata": {},
     "output_type": "execute_result"
    }
   ],
   "source": [
    "df_suggestion_keyword_rampage"
   ]
  },
  {
   "cell_type": "code",
   "execution_count": 6,
   "id": "12c74990-a211-4f18-ab5a-c42222c6993b",
   "metadata": {},
   "outputs": [
    {
     "data": {
      "text/html": [
       "<div>\n",
       "<style scoped>\n",
       "    .dataframe tbody tr th:only-of-type {\n",
       "        vertical-align: middle;\n",
       "    }\n",
       "\n",
       "    .dataframe tbody tr th {\n",
       "        vertical-align: top;\n",
       "    }\n",
       "\n",
       "    .dataframe thead th {\n",
       "        text-align: right;\n",
       "    }\n",
       "</style>\n",
       "<table border=\"1\" class=\"dataframe\">\n",
       "  <thead>\n",
       "    <tr style=\"text-align: right;\">\n",
       "      <th></th>\n",
       "      <th>title</th>\n",
       "      <th>url</th>\n",
       "      <th>date</th>\n",
       "      <th>like</th>\n",
       "    </tr>\n",
       "  </thead>\n",
       "  <tbody>\n",
       "    <tr>\n",
       "      <th>30</th>\n",
       "      <td>실레나 리플레이</td>\n",
       "      <td>https://cafe.naver.com/ArticleRead.nhn?clubid=...</td>\n",
       "      <td>2024.10.07.</td>\n",
       "      <td>1</td>\n",
       "    </tr>\n",
       "    <tr>\n",
       "      <th>112</th>\n",
       "      <td>실레나 프리벤 건의</td>\n",
       "      <td>https://cafe.naver.com/ArticleRead.nhn?clubid=...</td>\n",
       "      <td>2024.08.27.</td>\n",
       "      <td>0</td>\n",
       "    </tr>\n",
       "    <tr>\n",
       "      <th>131</th>\n",
       "      <td>실레나 즐겨찾기/룬 프리셋을 만들어주세요</td>\n",
       "      <td>https://cafe.naver.com/ArticleRead.nhn?clubid=...</td>\n",
       "      <td>2024.08.16.</td>\n",
       "      <td>1</td>\n",
       "    </tr>\n",
       "    <tr>\n",
       "      <th>149</th>\n",
       "      <td>실레나 할때 유형 표시 좀 해주세요</td>\n",
       "      <td>https://cafe.naver.com/ArticleRead.nhn?clubid=...</td>\n",
       "      <td>2024.08.07.</td>\n",
       "      <td>0</td>\n",
       "    </tr>\n",
       "    <tr>\n",
       "      <th>198</th>\n",
       "      <td>실레나 룬 버그?</td>\n",
       "      <td>https://cafe.naver.com/ArticleRead.nhn?clubid=...</td>\n",
       "      <td>2024.07.15.</td>\n",
       "      <td>0</td>\n",
       "    </tr>\n",
       "    <tr>\n",
       "      <th>...</th>\n",
       "      <td>...</td>\n",
       "      <td>...</td>\n",
       "      <td>...</td>\n",
       "      <td>...</td>\n",
       "    </tr>\n",
       "    <tr>\n",
       "      <th>6525</th>\n",
       "      <td>실레나 한탄합니다 운영자님.</td>\n",
       "      <td>https://cafe.naver.com/ArticleRead.nhn?clubid=...</td>\n",
       "      <td>2020.02.07.</td>\n",
       "      <td>0</td>\n",
       "    </tr>\n",
       "    <tr>\n",
       "      <th>6701</th>\n",
       "      <td>실레나 보상 형변석 추가좀</td>\n",
       "      <td>https://cafe.naver.com/ArticleRead.nhn?clubid=...</td>\n",
       "      <td>2020.01.04.</td>\n",
       "      <td>0</td>\n",
       "    </tr>\n",
       "    <tr>\n",
       "      <th>6702</th>\n",
       "      <td>실레나 보상에 추가해주세요.</td>\n",
       "      <td>https://cafe.naver.com/ArticleRead.nhn?clubid=...</td>\n",
       "      <td>2020.01.03.</td>\n",
       "      <td>0</td>\n",
       "    </tr>\n",
       "    <tr>\n",
       "      <th>6705</th>\n",
       "      <td>실레나 점수 개편좀 해주세요</td>\n",
       "      <td>https://cafe.naver.com/ArticleRead.nhn?clubid=...</td>\n",
       "      <td>2020.01.03.</td>\n",
       "      <td>0</td>\n",
       "    </tr>\n",
       "    <tr>\n",
       "      <th>6716</th>\n",
       "      <td>물극지,풍하프버그/ 물발키리/ 실레나보상,상점패치좀해주세요</td>\n",
       "      <td>https://cafe.naver.com/ArticleRead.nhn?clubid=...</td>\n",
       "      <td>2020.01.02.</td>\n",
       "      <td>0</td>\n",
       "    </tr>\n",
       "  </tbody>\n",
       "</table>\n",
       "<p>241 rows × 4 columns</p>\n",
       "</div>"
      ],
      "text/plain": [
       "                                 title  \\\n",
       "30                            실레나 리플레이   \n",
       "112                         실레나 프리벤 건의   \n",
       "131             실레나 즐겨찾기/룬 프리셋을 만들어주세요   \n",
       "149                실레나 할때 유형 표시 좀 해주세요   \n",
       "198                          실레나 룬 버그?   \n",
       "...                                ...   \n",
       "6525                   실레나 한탄합니다 운영자님.   \n",
       "6701                    실레나 보상 형변석 추가좀   \n",
       "6702                   실레나 보상에 추가해주세요.   \n",
       "6705                   실레나 점수 개편좀 해주세요   \n",
       "6716  물극지,풍하프버그/ 물발키리/ 실레나보상,상점패치좀해주세요   \n",
       "\n",
       "                                                    url         date  like  \n",
       "30    https://cafe.naver.com/ArticleRead.nhn?clubid=...  2024.10.07.     1  \n",
       "112   https://cafe.naver.com/ArticleRead.nhn?clubid=...  2024.08.27.     0  \n",
       "131   https://cafe.naver.com/ArticleRead.nhn?clubid=...  2024.08.16.     1  \n",
       "149   https://cafe.naver.com/ArticleRead.nhn?clubid=...  2024.08.07.     0  \n",
       "198   https://cafe.naver.com/ArticleRead.nhn?clubid=...  2024.07.15.     0  \n",
       "...                                                 ...          ...   ...  \n",
       "6525  https://cafe.naver.com/ArticleRead.nhn?clubid=...  2020.02.07.     0  \n",
       "6701  https://cafe.naver.com/ArticleRead.nhn?clubid=...  2020.01.04.     0  \n",
       "6702  https://cafe.naver.com/ArticleRead.nhn?clubid=...  2020.01.03.     0  \n",
       "6705  https://cafe.naver.com/ArticleRead.nhn?clubid=...  2020.01.03.     0  \n",
       "6716  https://cafe.naver.com/ArticleRead.nhn?clubid=...  2020.01.02.     0  \n",
       "\n",
       "[241 rows x 4 columns]"
      ]
     },
     "execution_count": 6,
     "metadata": {},
     "output_type": "execute_result"
    }
   ],
   "source": [
    "df_suggestion_keyword_arena"
   ]
  },
  {
   "cell_type": "markdown",
   "id": "4d9dd8a9-ede7-4333-b3cb-b1de24c733c6",
   "metadata": {},
   "source": [
    "## 데이터 크롤링"
   ]
  },
  {
   "cell_type": "markdown",
   "id": "1bed62f4-c26c-48b1-b516-581fdc7ed177",
   "metadata": {},
   "source": [
    "### 1. 폭주 키워드"
   ]
  },
  {
   "cell_type": "code",
   "execution_count": 7,
   "id": "ee958f82-f2ab-43e6-af2f-be447320920f",
   "metadata": {},
   "outputs": [],
   "source": [
    "# 1\n",
    "\n",
    "# 인터넷 창 오픈\n",
    "\n",
    "webdriver_manager_directory = ChromeDriverManager().install()\n",
    "correct_webdriver_manager_directory = os.path.join(os.path.dirname(webdriver_manager_directory), \"chromedriver.exe\")\n",
    "browser = webdriver.Chrome(service=ChromeService(executable_path=correct_webdriver_manager_directory), options=chrome_options)\n",
    "\n",
    "# 네이버 로그인\n",
    "browser.get(\"https://nid.naver.com/nidlogin.login\")"
   ]
  },
  {
   "cell_type": "code",
   "execution_count": 11,
   "id": "970605fe-5fab-4cdb-8c54-61a63e82727c",
   "metadata": {
    "scrolled": true
   },
   "outputs": [
    {
     "name": "stderr",
     "output_type": "stream",
     "text": [
      "  0%|                                                                                                                                  | 0/102 [00:00<?, ?it/s]"
     ]
    },
    {
     "name": "stdout",
     "output_type": "stream",
     "text": [
      "폭주 치피 전설만 한번을 안나오는데 확률 주작맞죠?\n"
     ]
    },
    {
     "name": "stderr",
     "output_type": "stream",
     "text": [
      "  1%|█▏                                                                                                                        | 1/102 [00:05<08:34,  5.09s/it]"
     ]
    },
    {
     "name": "stdout",
     "output_type": "stream",
     "text": [
      "실레나 좃같네\n"
     ]
    },
    {
     "name": "stderr",
     "output_type": "stream",
     "text": [
      "  2%|██▍                                                                                                                       | 2/102 [00:08<06:42,  4.03s/it]"
     ]
    },
    {
     "name": "stdout",
     "output_type": "stream",
     "text": [
      "솔로레이드가 가능해지고 실레나에 관심이 생겨서 조금씩 알아보기 시작했습니다.\n",
      "그런데 많은 분들이 실레나에서의 확률 게임에 분개하고 심지어 접는다는 분들도 종종 보여서 함께 플레이하는 유저로서 안타까웠습니다.\n",
      "'확률'은 게임에 있어서 불확실성을 더하기 때문에 플레이어에게 긴장과 동시에 쾌감, 혹은 절망을 안겨줍니다.\n",
      "하지만 너무 지나친 확률 게임은, 결국 유저가 자신의 힘보다 운의 힘이 더 강하다고 생각하게끔 만들어서 끝에는 포기하게 만듭니다.\n",
      "여기서 이전부터 대두되는 문제가 '폭주'여서, 어떻게 '폭주'를 바꾸면 서머너즈워가 전략게임에 가까워질까 고민했습니다.\n",
      "저는 폭주의 전략화를 위해 '폭주 게이지'를 제시합니다.\n",
      "현재 폭주는 자신의 턴에 22% 확률로 한 턴이 추가로 획득되는 메커니즘을 지니고 있습니다.\n",
      "저는 여기서 22%의 확률로 한 턴을 얻는 것이 아닌, 22%의 폭주게이지를 얻어 100%가 채워졌을 때 폭주 스택을 얻도록 하면 어떨지 생각해봤습니다.\n",
      "여기서 초과된 게이지는 다음 폭주 스택을 위한 게이지로 이전됩니다.\n",
      "몬스터의 턴에 폭주 스택 사용 버튼을 누르고 스킬을 사용하면, 그 몬스터가 한 턴을 더 얻는 방식으로 폭주 스택을 사용할 수 있습니다.\n",
      "일단 저는 폭주 스택을 최대 3스택까지 쌓을 수 있고, 이 폭주 스택과 폭주 게이지는 폭주 룬을 지닌 몬스터들끼리 공유하는 방식을 생각해봤습니다.\n",
      "방식이 이런 거지, 한 턴 당 쌓이는 게이지 양이나 최대 스택 등 세부 요소는 조정하면 되겠습니다.\n",
      "이렇게 하면 폭주가 지금보다는 전략적 요소에 가깝게 사용되고 여겨지지 않을까 생각해봅니다.\n",
      "이에 대해 생각하면서 이 개념을 디버프의 매커니즘에도 적용해볼 수 있겠다고 생각했습니다.\n",
      "예를 들면, 각 디버프에 해당하는 게이지를 만들어서 <기본 스킬에 달려있는 확률 + 효과 적중 - 효과 저항> 만큼 디버프 게이지를 채워서 100%가 됐을 때 디버프에 걸리는 식으로 말입니다.\n",
      "하지만 디버프끼리 지속 턴도 제각각이고, 여러모로 더 복잡해보여서 디버프에 관한 것은 조금 더 생각해볼 것 같습니다.\n",
      "제가 제시한 방안의 핵심은, 서머너즈워의 '전략게임화'입니다.\n",
      "물론 확률의 쾌감이 더 좋다는 분들도 있습니다.\n",
      "그런 점을 감안해서 PVE는 확률의 재미를 살려놓고, 대회에 영향이 가는 실레나만이라도, 혹은 이벤트성으로라도 한 번 시도되면 좋겠습니다. 대회에서 운으로 승패가 좌지우지 되는 장면이 나오는 건... 좀 그래요. 아니면 이 글을 게임사에서 보시기라도 한다면 정말 기쁠 것 같습니다...\n",
      "어릴 때 이노티아, 슈퍼액션히어로 등 컴투스 게임들을 좋아했어서 서머너즈워에도 유독 애정이 갑니다.\n",
      "부디 오래 함께 가는 게임과 유저가 되었으면 합니다.\n",
      "여러 의견 환영합니다.\n",
      "긴 글 읽어주셔서 감사합니다.\n"
     ]
    },
    {
     "name": "stderr",
     "output_type": "stream",
     "text": [
      "  3%|███▌                                                                                                                      | 3/102 [00:11<06:10,  3.74s/it]"
     ]
    },
    {
     "name": "stdout",
     "output_type": "stream",
     "text": [
      "공격하면 제 폭주는 한번 터질까 말까인데\n",
      "상대방 방덱은 폭주 3~4번씩 터지니까 이길게임도 못이기겠어요;;\n",
      "횟수좀 조정해주세요..\n"
     ]
    },
    {
     "name": "stderr",
     "output_type": "stream",
     "text": [
      "  4%|████▊                                                                                                                     | 4/102 [00:15<06:05,  3.73s/it]"
     ]
    },
    {
     "name": "stdout",
     "output_type": "stream",
     "text": [
      "구라아니고 풍팬더 불뎀감 20 자체뎀감 20이라 오히려 역속성이 딜을 더 못박는 병11-신같은 경우가 있음 ㅋㅋ 어이가없어서 말이안나온다니까\n"
     ]
    },
    {
     "name": "stderr",
     "output_type": "stream",
     "text": [
      "  5%|█████▉                                                                                                                    | 5/102 [00:18<05:52,  3.64s/it]"
     ]
    },
    {
     "name": "stdout",
     "output_type": "stream",
     "text": [
      "나도 안터져도 되니깐 그냥 제한 좀 해줘\n",
      "폭주로 게임할거면 조합이나 전략이 뭐가 필요하냐\n",
      "그냥 운빨로 하지\n"
     ]
    },
    {
     "name": "stderr",
     "output_type": "stream",
     "text": [
      "  6%|███████▏                                                                                                                  | 6/102 [00:22<05:36,  3.51s/it]"
     ]
    },
    {
     "name": "stdout",
     "output_type": "stream",
     "text": [
      "대가리가 있으면?\n"
     ]
    },
    {
     "name": "stderr",
     "output_type": "stream",
     "text": [
      "  7%|████████▎                                                                                                                 | 7/102 [00:25<05:29,  3.46s/it]"
     ]
    },
    {
     "name": "stdout",
     "output_type": "stream",
     "text": [
      "내가 폭주 연속 터져서 짜릿하게 이긴 쾌감\n",
      "적 폭주 개터져서 개빡치고 폰 던질것 같은 분노\n",
      "솔직히 후자가 비교도 안되게 기억에 남습니다\n",
      "이것은 컴투스의 의도와 완전 다르단 얘깁니다.\n",
      "방덱만 폭주 제한 걸라는 얘기가 아니잖아요\n",
      "나도 제한 똑같이 걸테니 걸어달란 얘기잖아요.\n",
      "폭주 시스템에 환멸을 느껴 이탈하는 사람\n",
      "폭주 시스템에 엄청난 흥미를 느껴 즐겜하는 사람\n",
      "누가 더 많을까요?\n",
      "그렇다면 컴투스는 어느측 장단에 맞춰야할까요?\n",
      "수도없이 많이 지적돼왔지만\n",
      "이젠 조치해야합니다\n",
      "지금도 매우 늦었지만\n"
     ]
    },
    {
     "name": "stderr",
     "output_type": "stream",
     "text": [
      "  8%|█████████▌                                                                                                                | 8/102 [00:29<05:26,  3.47s/it]"
     ]
    },
    {
     "name": "stdout",
     "output_type": "stream",
     "text": [
      "폭주 존재 때문에 전략의 의미가 크게 훼손되고, 아 ㅆ..ㅂ 이게 왜져야돼? 하는 상황이 너무많이나옴. 점전 10공덱만 들어가도 최소한번이상 아슬아슬한 상황 나오거나 공실날 정도로 ㅈ같은 상황나오는데 게임의 재미가 안느껴지고 너무 억지라고만 생각이듬. 턴한번만 더가져가도 다른 모든 룬보다 기대값이 좋은데 2,3폭주 어쩔때는 4폭주 이지랄하면 뒤질일이 없는 놈이 뒤져버리고 갑자기 기도를 시작하게 됨(나도한번만..제발). 폭주제한하면 방성ㅇㅣ 불가능 하다고 하는데 그건 점령전을 뜯어고치고 진행방식을 바꿔야할 문제지, 병신같은 폭주로 방성 기도할일이 아니라고봄. (ex 방덱에 1밴 설정가능하게 한ㄷㅏ던지)\n",
      "이게임의 끝은 그냥 10날빌인데 왜 그러냐면 존나게 고민해서 정보찾고 카운터로 들어가도 턴한번 넘어가고 폭주개ㅈㄹ에 공실나면 내 노력, 뇌지컬이 의미없다고 느껴지기 때문 걍날빌쓰고 순식간에 10칼쓰고 접어버리는게 이득이기 때문임\n"
     ]
    },
    {
     "name": "stderr",
     "output_type": "stream",
     "text": [
      "  9%|██████████▊                                                                                                               | 9/102 [00:33<05:38,  3.64s/it]"
     ]
    },
    {
     "name": "stdout",
     "output_type": "stream",
     "text": [
      "폭주가 4번씩 뜨는게 말이 안되잖아요. 상성이고 전략이고 폭주가 5번 연속 뜨면 진다고요. 겜이 재미가 없어요 이럴때마다\n"
     ]
    },
    {
     "name": "stderr",
     "output_type": "stream",
     "text": [
      " 10%|███████████▊                                                                                                             | 10/102 [00:36<05:40,  3.70s/it]"
     ]
    },
    {
     "name": "stdout",
     "output_type": "stream",
     "text": [
      "더러워서 안한다 겜.\n",
      "적당히 조작해야지\n"
     ]
    },
    {
     "name": "stderr",
     "output_type": "stream",
     "text": [
      " 11%|█████████████                                                                                                            | 11/102 [00:40<05:35,  3.68s/it]"
     ]
    },
    {
     "name": "stdout",
     "output_type": "stream",
     "text": [
      "무료 이벤트인데도 안나와서 속터지는데\n",
      "번개 써가며 돌겠나\n",
      "레이드땜에 접는다던 사람들 이해가 가네\n",
      "반십년 넘게한 고인물 상위 랭커들 폭주룬 비율이 2/3가 넘던데\n",
      "신규 유저들도 보는게 있는데 어느 세월에 폭주룬 풀 채우고 실레나 유입되서 경쟁이 활발해지겠냐\n",
      "향후 10년 보고 늦추다가 몇년 안가서 섭종하겠다던말이 와닿는다\n"
     ]
    },
    {
     "name": "stderr",
     "output_type": "stream",
     "text": [
      " 12%|██████████████▏                                                                                                          | 12/102 [00:44<05:31,  3.68s/it]"
     ]
    },
    {
     "name": "stdout",
     "output_type": "stream",
     "text": [
      "폭주 확률좀 제대로 만들어달라\n",
      "아니 개발자들이 그것도 못하나\n",
      "확률이 개판임.\n",
      "그냥 컴파일러사가 제공하는 랜덤함수 써라. 자체개발한거 쓰는거 같은데 그러니깐 개판이지.\n"
     ]
    },
    {
     "name": "stderr",
     "output_type": "stream",
     "text": [
      " 13%|███████████████▍                                                                                                         | 13/102 [00:47<05:27,  3.68s/it]"
     ]
    },
    {
     "name": "stdout",
     "output_type": "stream",
     "text": [
      "예전부터 생각했던 건데 아직도 그대로여서 한번 건의해봅니다.\n",
      "폭주 터지면 멈칫하면서 그냥 턴을 한번 더 먹게 되는데요.\n",
      "실레나 같은 것도 보면 사용하는 사람도\n",
      "그냥 턴을 바로 먹으니까 어 폭주 터진건가 ? 하면서 잠깐 멈칫하잖아요 ?\n",
      "예를 들어 턴을 한번 더먹는 애들은 폭주때매 턴이 다시온건지\n",
      "그냥 자기 스킬때문에 턴이 온건지도 모르겠고,\n",
      "뭔가 좀 표시를 잘 나게 해주면 더 나을 것 같은데요.\n",
      "폭주 터질때마다 주위에 오라가 생긴다던지해서\n",
      "그러면 뭔가 좀 더 재미있을텐데 ..\n",
      "물론 좀 더 빡치겠지만 .\n",
      "그리고 효과음 타격감도 좀 바꿔주세요.\n",
      "도대체 몇년을 변화없이 쓰는 건가요?\n",
      "몇번 건의해도 전혀 개선 안되네요 사운드는, 얼마나 건의를 해야 바뀔까요?\n",
      "뭐 하나 건의하면 몇년은 걸려야 반영해주니 ..\n"
     ]
    },
    {
     "name": "stderr",
     "output_type": "stream",
     "text": [
      " 14%|████████████████▌                                                                                                        | 14/102 [00:51<05:21,  3.65s/it]"
     ]
    },
    {
     "name": "stdout",
     "output_type": "stream",
     "text": [
      "참다 참다 열받네요.\n",
      "레이드를 돌아도 왜 폭주 연마석만 드랍율 차이나나요?\n",
      "확률 동일하게 설정하셨다면 비슷한 값이 나와야 정상인데\n",
      "희귀연마석 획득 비율만 봐도 심각하게 차이납니다.\n",
      "예를들어 1500개에서 2000개 까지 파밍한후\n",
      "희귀, 영웅 연마석을 정리합니다.\n",
      "그리고 다시 2000개 까지 파밍합니다\n",
      "네?? 다른건 다 먹는데 폭주는 안나오네요??\n",
      "한번일까요??\n",
      "아닙니다 매번그럽니다.\n",
      "룬파밍은 통계적으로 확인하기 힘든건 사실이지만\n",
      "이건 누가봐도 확률 조작이네요\n",
      "확률조작한 의혹이 없다면\n",
      "당장 확률 공개요청합니다.\n",
      "------------------------------------------\n",
      "내용을 추가로 더 적어보자고하면\n",
      "이런 사소한 확률을 다르게 함으로써 매출의 영향\n",
      "(수요가 높은 특정재화를 파밍하기위해 이전보다 던전을 더 많이 돌아야하며, 추가적으로 크리스탈충전을 위한 구매가 더 많아짐)\n",
      "이 줄거라고 잘 알고있습니다.\n",
      "하지만, 굳이 이걸 이렇게 해야하나요??\n",
      "룬 부옵 강화수치 확률조작 의심\n",
      "룬 부옵 강화 2~3번 연속으로 붙은 확률조정 의심\n",
      "룬 부옵 연마 확률조작 의심\n",
      "룬 부옵 깡옵/% 옵션구성 확률조작 의심\n",
      "솔직히 다 매출의 영향이 있는 요소들임\n",
      "그리고 왜 이소리를 하느냐\n",
      "타게임(던파)를 하던시절\n",
      "괴랄같은 아이템강화확률인데\n",
      "아이템 희소성이 커서 그렇지 10강에서 12강 올리는\n",
      "난이도가\n",
      "서머너즈 영웅룽 같은옵 3번 붙을 활률이 더적음\n",
      "던파강화확률 정확하게 기억은 안나지만 11에서 12강\n",
      "확률이 33.3% 안됨\n",
      "근데 서머너즈워는 영웅룬 강화시 사실상 33.3%임\n",
      "근데 분명 개나소나 한가지 옵 몰빵 뜰확률이 생각보다 할만하다는 수준으로 판단( 룬파밍 횟수가 많음)\n",
      "처음은 33.3% 그다음 같은 옵강 확률 17.6%\n",
      "그다음 같은옵을 갈 확률 8.8%\n",
      "이 확률이 더 와닿게 되는건 합리적인 의심일까요??\n",
      "여러분의견이 어떤가요??\n",
      "선룬파밍후 후강화 100개정도해봐도\n",
      "3번 똑같은 옵 붙은적이 별로 없음.\n",
      "수치상\n",
      "첫 강화는 무의미\n",
      "100개중 똑같은 붙은 확률 17.6% 적용 17개\n",
      "다시 같은옵 붙은 확률 8.8% 적용시\n",
      "겨우 2개 안됨.\n",
      "얼추 맞아보이지 않나요??\n"
     ]
    },
    {
     "name": "stderr",
     "output_type": "stream",
     "text": [
      " 15%|█████████████████▊                                                                                                       | 15/102 [00:55<05:25,  3.74s/it]"
     ]
    },
    {
     "name": "stdout",
     "output_type": "stream",
     "text": [
      "폭주 확률조작좀 그만해라. 그렇게 조작하면 재밌냐?\n",
      "룬제작도 전부다 폭주말곤 제작안하지. 확률이 그렇게 조작되니.\n",
      "요즘 점령전 해보면 폭주확률이 10배 정도 많이 터진다. 방덱이.\n",
      "이렇게 까지 해야 재밌냐?\n",
      "맨날 확률조작하니 유저들 다 떠나고 다른겜돌도\n",
      "컴투스 거라면 절대 안한다.\n"
     ]
    },
    {
     "name": "stderr",
     "output_type": "stream",
     "text": [
      " 16%|██████████████████▉                                                                                                      | 16/102 [00:59<05:21,  3.74s/it]"
     ]
    },
    {
     "name": "stdout",
     "output_type": "stream",
     "text": [
      "안녕하세요, 폭주 카운트 기능 추가 건의드립니다.\n",
      "점령전이나 서버 방덱에서 본인과 상대 폭주룬 세트 수와 폭주 횟수 결과로 카운트해서 볼 수 있게 해주세요.\n",
      "폭주룬의 수치상 정량적 비교가 가능해지면 패배 요인 파악에 도움이 될 것 같습니다.\n",
      "(룬차이 or 덱구성 or 방덱 폭주 보정 or etc)\n",
      "더욱이 유저들이 언급하는 억까 폭주 판단의 요소로도 활용될 수 있을듯 하니 꼭 만들어주시면 좋겠습니다.\n",
      "감사합니다.\n"
     ]
    },
    {
     "name": "stderr",
     "output_type": "stream",
     "text": [
      " 17%|████████████████████▏                                                                                                    | 17/102 [01:02<05:06,  3.61s/it]"
     ]
    },
    {
     "name": "stdout",
     "output_type": "stream",
     "text": [
      "인간적으로 폭주 횟수를 제한합시다.\n",
      "매턴 1회까지만 좀 해!!\n",
      "유저 말좀 들으라고\n",
      "유저가 느끼자나\n",
      "방덱 칠때마다 상대가 폭주가 터질것 같은 불길함을\n",
      "갖고 해야하는게 맞아??\n",
      "내 몹도 폭주 잘터질거라고 자신감 갖고 해야하는데\n",
      "자존감 떨어진상태로 하자나\n",
      "유저의 목소리를 잘 검토하고 반영만 해줘도\n",
      "자다가 떡이 생겨요\n"
     ]
    },
    {
     "name": "stderr",
     "output_type": "stream",
     "text": [
      " 18%|█████████████████████▎                                                                                                   | 18/102 [01:05<04:57,  3.54s/it]"
     ]
    },
    {
     "name": "stdout",
     "output_type": "stream",
     "text": [
      "공격 할때 마다 느끼는건데 상대 폭주 10번 가까이 터질 때 난 한번도 안터지는거 실화냐\n",
      "상대 몬스터 스킬 점령전 세마리 다 턴을 즉시 회복하는게 있었나\n",
      "내가 데리고 온 몬스터들 룬을 폭주를 안줬나 다시 확인해봤다 ㅋㅋㅋㅋ\n",
      "진짜 뭐있음 ㅋ 룬 과금 유돈가 ㅋㅋㅋㅋㅋㅋㅋ\n",
      "눈으로 확인 못하고 8마리가 턴 도는게 통계내기엔 턴수가 길지 않으니까 조작하는게 확실함 이거 ㅋㅋ\n"
     ]
    },
    {
     "name": "stderr",
     "output_type": "stream",
     "text": [
      " 19%|██████████████████████▌                                                                                                  | 19/102 [01:08<04:39,  3.37s/it]"
     ]
    },
    {
     "name": "stdout",
     "output_type": "stream",
     "text": [
      "추가 턴 획득 22% 이군요!! 하하하\n",
      "(덱은 전판에 폭주로 터지고 화나서 폭주 확률 여러분들한테 보여드리려고 아무거나 데려간겁니다. 훈수질 감사합니다만 바로 다음판에 정상덱 데려가서 이겼으니 너무 걱정들마셔요^^) 맥락 파악못하고 훈수부터 두는분들, 코리아 파이팅!\n"
     ]
    },
    {
     "name": "stderr",
     "output_type": "stream",
     "text": [
      " 20%|███████████████████████▋                                                                                                 | 20/102 [01:13<05:06,  3.73s/it]"
     ]
    },
    {
     "name": "stdout",
     "output_type": "stream",
     "text": [
      "기절 걸어놓으면 뭐함\n",
      "벌떡 일어나서 다 쓸어버리는데\n",
      "폭주로 행동불가 해제시\n",
      "데미지 감소\n",
      "효적 감소\n",
      "빗맞음 확률 증가 해라 ㄱ같은 겜아\n"
     ]
    },
    {
     "name": "stderr",
     "output_type": "stream",
     "text": [
      " 21%|████████████████████████▉                                                                                                | 21/102 [01:16<04:50,  3.58s/it]"
     ]
    },
    {
     "name": "stdout",
     "output_type": "stream",
     "text": [
      "분명 폭주확률은 22퍼센트인데\n",
      "암드나, 풍드나의 경우 폭주가 너무 잘터져서 분명 오류가 있을겁니다\n"
     ]
    },
    {
     "name": "stderr",
     "output_type": "stream",
     "text": [
      " 22%|██████████████████████████                                                                                               | 22/102 [01:20<04:42,  3.54s/it]"
     ]
    },
    {
     "name": "stdout",
     "output_type": "stream",
     "text": [
      "폭주 확률 조작좀 그만해라.\n",
      "점령 10판 하는동안 내 캐릭 폭주 0 회\n",
      "방어덱 대충 센거만 40번이 넘더라.\n",
      "조작좀 그만해라 겜 재미없에 왜 맨날 조작질하냐?\n",
      "컴튜스 게임 그러니깐 사람들이 안하지.\n",
      "신작 만들면 모하나 조작하는거 뻔한데 뭐하러해\n"
     ]
    },
    {
     "name": "stderr",
     "output_type": "stream",
     "text": [
      " 23%|███████████████████████████▎                                                                                             | 23/102 [01:23<04:34,  3.47s/it]"
     ]
    },
    {
     "name": "stdout",
     "output_type": "stream",
     "text": [
      "ㅡㅡ 어이없네\n",
      "물웅묘어디가니?\n"
     ]
    },
    {
     "name": "stderr",
     "output_type": "stream",
     "text": [
      " 24%|████████████████████████████▍                                                                                            | 24/102 [01:26<04:29,  3.45s/it]"
     ]
    },
    {
     "name": "stdout",
     "output_type": "stream",
     "text": [
      "수면에 걸린적 때리면 빗맞음 걸리지 않는거 같이 다양한 효과를 추가해줬으면함\n",
      "기절에 걸린적은... 멀하면 좋지? 턴획득 불가를 하면 암라클이 미쳐 날뛰고...\n",
      "빙결에 걸린적이 턴획득하면 턴 종료 후 저항할 수 없는 슬로우 1턴\n"
     ]
    },
    {
     "name": "stderr",
     "output_type": "stream",
     "text": [
      " 25%|█████████████████████████████▋                                                                                           | 25/102 [01:31<04:45,  3.70s/it]"
     ]
    },
    {
     "name": "stdout",
     "output_type": "stream",
     "text": [
      "턴제 게임에서 한 턴의 유무는 게임을 뒤집을만큼 큽니다.\n",
      "그래서 내가 폭주 한번 터졌으면 상대도 폭주가 한번 터지는게 가장 이상적이고 공평하다고 생각하는데, 이걸 반영하여 폭주 확률 증가 상한선을 없애고 폭주가 터질 때까지 5%씩 무제한 증가로 하고 폭주 터지면 확률 리셋하는걸로 하면 별로일까요? 하한선 17%는 그대로 두고요\n",
      "지금 게임하다보면 17%이랑 27%이랑 너무 체감이 안되서 상대가 폭주 터지면 계속 터지고 나는 절대 안터지는거 같은데..\n",
      "방금 전에 상대 폭주 6번 터질동안 저는 한번도 안터져서 갑자기 급발진해봤어요\n"
     ]
    },
    {
     "name": "stderr",
     "output_type": "stream",
     "text": [
      " 25%|██████████████████████████████▊                                                                                          | 26/102 [01:35<05:00,  3.96s/it]"
     ]
    },
    {
     "name": "stdout",
     "output_type": "stream",
     "text": [
      "딴건 모르겠고.\n",
      "횟수라도 좀 맞춰주십쇼.\n",
      "끝날때까지 상대 3번, 나 0번!?\n",
      "나도 가고일 빼고 다 폭주라고욧.\n",
      "배치 첫판부터 이런식이면 곤란해.\n",
      "https://youtu.be/SSK_99dLKKo\n"
     ]
    },
    {
     "name": "stderr",
     "output_type": "stream",
     "text": [
      " 26%|████████████████████████████████                                                                                         | 27/102 [01:40<05:10,  4.14s/it]"
     ]
    },
    {
     "name": "stdout",
     "output_type": "stream",
     "text": [
      "나: 로보만 절망. 3폭주\n",
      "상대: 불류 흡혈. 켄이 개빠른 폭주라 가정하면 3폭주(신속이면 2폭주?)\n",
      "폭주 횟수 (나 vs 상대)\n",
      "불비라 폭주로 스턴 풀고 로보 빈사 만듦. 그럴수 있어(0 vs 1)\n",
      "불비라 폭주 터져서 로보가 정리될 때까지. 음? (0 vs 2)\n",
      "풍토템 폭주 안터지고 불비라 폭주 터져서 풍토템 정리됨. 엥? (0 vs 3)\n",
      "불비라+켄이 정리됨(1 vs 3)\n",
      "풍화백이 정리될 때까지(2 vs 3)\n",
      "흡혈1 vs 폭주2 남으니까 선심쓰듯 폭주 횟수 맞춰줌.\n",
      "근데 쓸데없이 물드루가 터져서 불류 기절 풀어줌(3 vs 3)\n",
      "인간적으로 풍토템이 방깍 못풀고 뒤질때까지 폭주 한번 안터진 건 선넘는거다.\n",
      "그나마 물드루 게업빨로 버틴거지.\n",
      "저분이 풍서퍼까지 있었으면.... 물드루도 병풍됨. 상상하기도 싫다.\n",
      "ps. 물드루, 물팔라가 역속성 풍화백은 스턴 계속 먹이는데,\n",
      "오히려 면역 없는 불비라는 스턴 계속 못먹임..\n",
      "이건 또 무슨? 반대가 되야 하는거 아닌가?(설마 저항도 맞추신건가...ㄷㄷ)\n",
      "나도 그렇지만 저분도 풍화백 스턴때문에 꽤나 어이없으셨을듯...\n",
      "(나 적중리더 vs 상대 공리더)\n"
     ]
    },
    {
     "name": "stderr",
     "output_type": "stream",
     "text": [
      " 27%|█████████████████████████████████▏                                                                                       | 28/102 [01:46<05:52,  4.76s/it]"
     ]
    },
    {
     "name": "stdout",
     "output_type": "stream",
     "text": [
      "점령전하는데 방덱 폭주쇼하는거 보면서 많은 생각들었다\n",
      "처음에는 3,4 폭주 터지는거 보면서 화나기도 했지만 그냥 그러려니 했어\n",
      "근데 분명히 내 몹 3마리 다 폭주인데 나보다 3배 터지는거 보면서\n",
      "이러다 없는 정 떨어질거 같아서 글 적는다 컴투스야\n",
      "실레나처럼 한번만 터지게 하던지 아무튼 좀 방지책 좀 내주면 좋겠다\n"
     ]
    },
    {
     "name": "stderr",
     "output_type": "stream",
     "text": [
      " 28%|██████████████████████████████████▍                                                                                      | 29/102 [01:49<05:15,  4.32s/it]"
     ]
    },
    {
     "name": "stdout",
     "output_type": "stream",
     "text": [
      "중간 중간 게임 접어야겠다 하는 순간들이 폭주로 인해 발생된다고 생각됩니다.\n",
      "룬 개 열심히 파밍하고 맞추고 조합짜고 그랬는데 여러 판 이겨도 가끔 있는 한판에서 억까당하면서 기분이 개~~잡쳐져서 하기가 싫어집니다.\n",
      "이게 몇 년 쌓이니까 이젠 접속하기가 싫어지는 단계.. 특히 길드전은 하기가 너무너무 싫어지는 컨텐츠가 된 것 같네요.\n"
     ]
    },
    {
     "name": "stderr",
     "output_type": "stream",
     "text": [
      " 29%|███████████████████████████████████▌                                                                                     | 30/102 [01:54<05:24,  4.50s/it]"
     ]
    },
    {
     "name": "stdout",
     "output_type": "stream",
     "text": [
      "폭주 그냥 모든컨텐츠 1턴으로 전부 다 제한두면안되는건가요?\n",
      "매번 점령전이나 길드전할때\n",
      "내몹 죽을때까지 폭주터져서 때리고\n",
      "폭주로 약화효과든 뭐든 다 해제하고\n",
      "PVP를 하기가 너무너무 힘듭니다\n",
      "이건 그냥 하지말라는것과 같은느낌이 강하게들어서 너무 화가나네요...\n",
      "게임에 흥미를 잃어버리게하는 시스템은 고쳐야하지 않나 싶습니다\n",
      "이런 의견에 반대하시는 분들도 충분이 있을거라 생각이들지만 어디서 하소연할곳도 없고 화는나고해서 못참고 질러봅니다\n",
      "불편하셨다면 죄송합니다\n"
     ]
    },
    {
     "name": "stderr",
     "output_type": "stream",
     "text": [
      " 30%|████████████████████████████████████▊                                                                                    | 31/102 [01:59<05:28,  4.62s/it]"
     ]
    },
    {
     "name": "stdout",
     "output_type": "stream",
     "text": [
      "그냥 상대와 전투 시작하기 버튼 옆에 항복 버튼 만들어주시면 안되나요?\n",
      "그냥 패배점수나 후딱 먹고 끝내고싶네요.\n"
     ]
    },
    {
     "name": "stderr",
     "output_type": "stream",
     "text": [
      " 31%|█████████████████████████████████████▉                                                                                   | 32/102 [02:03<05:16,  4.52s/it]"
     ]
    },
    {
     "name": "stdout",
     "output_type": "stream",
     "text": [
      "이 정신나간 폭주, 진짜 더 이상은 스트레스 받아가면서 못하겠습니다. 절이 싫으면 중이 떠나는게 옳으나 떠날 때 한 마디는 하고 가야겠습니다.\n",
      "이 폭주 ㅈ망겜 적당히 방치하고 수정해주세요.\n",
      "전 지능 찾으러 계정팔고 떠납니다.\n"
     ]
    },
    {
     "name": "stderr",
     "output_type": "stream",
     "text": [
      " 32%|███████████████████████████████████████▏                                                                                 | 33/102 [02:12<06:47,  5.91s/it]"
     ]
    },
    {
     "name": "stdout",
     "output_type": "stream",
     "text": [
      "물드루 3폭주 이후 빛요괴 3폭주 이후 물마도사 3폭주 나면 게임을 어떻게 진행하라는 건가요?\n",
      "솔직히 이야기 해줘요\n",
      "방덱 다 공개하고 들어가는 비동기 PVP에 폭주 아니면 변수 줄 자신이 없어서 어쩔수 없었다고\n"
     ]
    },
    {
     "name": "stderr",
     "output_type": "stream",
     "text": [
      " 33%|████████████████████████████████████████▎                                                                                | 34/102 [02:18<06:43,  5.93s/it]"
     ]
    },
    {
     "name": "stdout",
     "output_type": "stream",
     "text": [
      "점령전 솔찍히 직장인들 칼 완전소비 많이 힘듭니다..직업 특성상 뭐.. 소비 다할수있는분도 계시겠지만 대체적으로 보면 칼도 많이 남고 거의 오더내리는 순간엔 화장실 찬스라고 화장실 변기통에 가서 점령전 칼써야됩니다.. 그리고 상위길드쪽은 사정을 잘 모르겠으나 아마 점토 8강이상 되면 휴가 내서 해야 되는 분들도 계실겁니다..\n",
      "그 외 폭주도 실레나처럼 한턴에 한 번으로 바꿔주셨으면 좋겠습니다.\n",
      "가끔 길드전 점령전 아레나 하다보면 이게 전략게임인가? 기도하는 게임인가? 운으로 싸우는게임인가? 게임의 정체성이 혼란스럽습니다\n",
      "점령전은 이번시즌은 아예 못건드니 다음시즌이라도 제발..꼭 여러방면으로 바꿔주셨음 좋겠네요 게임 대다수 유저가 직장인 인거 생각하면 점령전은 진짜 좀 바꿔주셨음 하네요\n"
     ]
    },
    {
     "name": "stderr",
     "output_type": "stream",
     "text": [
      " 34%|█████████████████████████████████████████▌                                                                               | 35/102 [02:24<06:24,  5.75s/it]"
     ]
    },
    {
     "name": "stdout",
     "output_type": "stream",
     "text": [
      "첫폭주 20프로. 연이어 폭주할수록 확률 줄어드는 시스템인데,\n",
      "원래턴 1번에 3연속 폭주 더해서 4연속 발광할 확률 몇프론데? 계산해보고 답글달아라 김피디.\n",
      "점령전 10판하면 그중에 3~4번은 이런일 생긴다.\n",
      "물늑인색기가 한턴에 3폭주 터져서 4턴씩 혼자서 방깍넣고 후드러패면 진짜 개빡친다.\n",
      "그래놓고 맨날천날 이상없다. 확률이라 그럼. 이지랄하냐.\n",
      "유저들이 개등신 호구냐. 욕은 욕대로 하면서 맨날 팩 사주니까 만만하냐.\n"
     ]
    },
    {
     "name": "stderr",
     "output_type": "stream",
     "text": [
      " 35%|██████████████████████████████████████████▋                                                                              | 36/102 [02:28<05:49,  5.29s/it]"
     ]
    },
    {
     "name": "stdout",
     "output_type": "stream",
     "text": [
      "스트리머 혜택은 그 순간 그랬다한들\n",
      "시간을 돌리는게 아닌이상 증명이 안돼\n",
      "방덱 폭주 테스트는 증명 해줄수 있잖아\n",
      "방덱 몹 누구누구 해서 몇회 결과 몇번 터짐\n",
      "명확하게 증명 되는 문제 아닙니까\n",
      "심지어 몇몇은 직접 테스트를 돌렸고\n",
      "방덱이 더 터진다고 엑셀로 정리도 했음\n",
      "이런거 당연히 게임사에서 해줘야할 일 아니냐고\n",
      "치명타 전과도 있으면 더 그래야지\n"
     ]
    },
    {
     "name": "stderr",
     "output_type": "stream",
     "text": [
      " 36%|███████████████████████████████████████████▉                                                                             | 37/102 [02:32<05:09,  4.75s/it]"
     ]
    },
    {
     "name": "stdout",
     "output_type": "stream",
     "text": [
      "다 너무 재밌는데\n",
      "매번 폭주차이로 질때마다 게임이 너무 하기 싫습니다...\n",
      "빛암차이는 돈 쓰는 거니까 우대해준다 쳐도\n",
      "똑같은 폭주룬셋인데 방덱만 폭주가 훨씬 많이 터져서 질때가 많습니다.\n",
      "체감상 그런게 아니라고 생각합니다.\n",
      "절대적 횟수가 많습니다.\n",
      "방덱폭주 보정이 아니라면\n",
      "턴획득이 있는 몹들이 유독 잘터지는데 방덱에 유리한 몹들이 턴획득이 많거나 하는 이유가 있을것 같습니다.\n",
      "또 어떤 개인이 치명타 테스트해야 반응하는게 아니라\n",
      "이런 테스트 요청 및 검증도 게임사에서 제공하는게 맞지 않나요?\n",
      "테스트 검증 해주세요.\n"
     ]
    },
    {
     "name": "stderr",
     "output_type": "stream",
     "text": [
      " 37%|█████████████████████████████████████████████                                                                            | 38/102 [02:35<04:47,  4.49s/it]"
     ]
    },
    {
     "name": "stdout",
     "output_type": "stream",
     "text": [
      "폭주 발동 시 현재 스텟의 20%감소\n",
      "이거 패치 해놔\n"
     ]
    },
    {
     "name": "stderr",
     "output_type": "stream",
     "text": [
      " 38%|██████████████████████████████████████████████▎                                                                          | 39/102 [02:39<04:27,  4.25s/it]"
     ]
    },
    {
     "name": "stdout",
     "output_type": "stream",
     "text": [
      "상대 풍비라가 폭주로 풍팬을 치다가 반격 맞고 죽었는데\n",
      "물마도사 패시브로 부활 했습니다.\n",
      "근데 부활하고 바로 풍비라 폭주가 이어서 터져서 공격을 또 했는데\n",
      "이건 버그인가요?? 아니면 물마도사 패시브 메커니즘이 공격 게이지만 보전해주는 것이 아닌\n",
      "폭주 턴까지 보전해주는건가요???\n"
     ]
    },
    {
     "name": "stderr",
     "output_type": "stream",
     "text": [
      " 39%|███████████████████████████████████████████████▍                                                                         | 40/102 [02:43<04:25,  4.29s/it]"
     ]
    },
    {
     "name": "stdout",
     "output_type": "stream",
     "text": [
      "상대 말이 이랬으면 핸드폰에 엘보우 날리고 파운딩 줜1나 날렸다 ㅋㅋㅋㅋㅋ\n",
      "개역겹잖어 진짜 ㅋㅋㅋㅋㅋ\n"
     ]
    },
    {
     "name": "stderr",
     "output_type": "stream",
     "text": [
      " 40%|████████████████████████████████████████████████▋                                                                        | 41/102 [02:48<04:27,  4.39s/it]"
     ]
    },
    {
     "name": "stdout",
     "output_type": "stream",
     "text": [
      "아니 죽을때까지 폭주 터지네 개짱나게 상대방덱은 디벞 ㅈㄴ 잘걸고 디벞 걸리면 폭주로 다 풀어버리고\n",
      "어떻게든 버텨서 이길거 같으면 귀신같이 상대 폭주 안터짐\n",
      "내꺼 폭주 ㅈㄴ 터짐\n",
      "그래놓고 확률 똑같다 ㅇㅈㄹ 내꺼 안터져도 되니깐 제한좀 해라\n",
      "그리고 ㄱㅈ같은 빛머메 빛요괴는 너프안하냐 아니 무슨 글로벌 게임 머시기 한다며 이렇게 밸런스 개똥망인데 무슨 글로벌이야 니들 돈버는것도 좋은데 좀 길게보자 맨날 오성만 처 만들지말고\n"
     ]
    },
    {
     "name": "stderr",
     "output_type": "stream",
     "text": [
      " 41%|█████████████████████████████████████████████████▊                                                                       | 42/102 [02:52<04:12,  4.20s/it]"
     ]
    },
    {
     "name": "stdout",
     "output_type": "stream",
     "text": [
      "사람은 폭주를 누리지 못 하고 ai만 폭주 남용 하는 드러운세상 아레나 방어전에서 ai폭주 확률 대폭 너프를 요청합니다이기기 쉬울것 같은 덱인데 폭주때문에 6번 덤벼서 6번 졌습니다.\n"
     ]
    },
    {
     "name": "stderr",
     "output_type": "stream",
     "text": [
      " 42%|███████████████████████████████████████████████████                                                                      | 43/102 [02:56<04:06,  4.18s/it]"
     ]
    },
    {
     "name": "stdout",
     "output_type": "stream",
     "text": [
      "특정 상황에서 상대방 방덱 3마리가 모조리 폭주가 연달아서 터질때가 있는데 이게 한두번이 아니라 빈번하게 발생합니다.\n",
      "제한을 걸든 보정을 하든 좀.. 신경써주셨으면 하네요.\n"
     ]
    },
    {
     "name": "stderr",
     "output_type": "stream",
     "text": [
      " 43%|████████████████████████████████████████████████████▏                                                                    | 44/102 [03:00<03:58,  4.12s/it]"
     ]
    },
    {
     "name": "stdout",
     "output_type": "stream",
     "text": [
      "점령 폭주보정 ㅅ빨련들아 왜 해놨냐?\n",
      "방덱에만 왜 폭주가 더 들어오냐고 ㅅ빨련들아\n"
     ]
    },
    {
     "name": "stderr",
     "output_type": "stream",
     "text": [
      " 44%|█████████████████████████████████████████████████████▍                                                                   | 45/102 [03:04<03:56,  4.15s/it]"
     ]
    },
    {
     "name": "stdout",
     "output_type": "stream",
     "text": [
      "\n"
     ]
    },
    {
     "name": "stderr",
     "output_type": "stream",
     "text": [
      " 45%|██████████████████████████████████████████████████████▌                                                                  | 46/102 [03:18<06:31,  6.99s/it]"
     ]
    },
    {
     "name": "stdout",
     "output_type": "stream",
     "text": [
      "예전부터 길드 pvp를 플레이하다 보면 1턴에 3폭주 이상으로 허무하게 지기는 했으나 최근만큼 허무하지는 않네요.\n",
      "비라 출시 이후부터 대부분의 신규 캐릭터에 효과를 이것저것 붙여서 출시하고, 기존 캐릭도 대부분 상향 위주의 밸런스 패치를 하다보니\n",
      "스킬 한번한번이 이전보다 더 큰 효과를 발휘하게 되었기 때문에 자연적으로 폭주 턴획득 효과도 커지게 되었지요.\n",
      "여기서 문제가 생깁니다.\n",
      "이전보다 상대의 폭주 효과는 적게 발동하였더라도 허무하게 지는 경우가 많아지게 되니 유저들의 서머너즈워 pvp 경험은 점점 나빠지게 되었고 적지 않은 유저들이 피로감을 호소하게 됩니다.\n",
      "그로 인해서 오래 유지되었던 높은 티어의 길드들이 하나둘씩 해체되는 상황인데, 이건 컴투스 입장에서도 결코 좋은 상황이 아닙니다. 길드를 통해 알게 된 유저들이 좋아서 계속 서머너즈워를 플레이하는 유저도 있었을건데 그 길드가 해체되면 서머너즈워에 더 이상 매력이 없다고 판단하여 미련없이 접는 유저도 생기니까요.\n",
      "주력으로 미는 실레나에는 폭주 1턴당 1회 제한을 걸었는데 다른 모든 컨텐츠에도 폭주는 1턴 1회 제한을 두면 불합리하게 져서 유저들이 느끼는 스트레스는 조금은 완화되지 않을까 생각합니다.\n",
      "여기서부터는 다른 룬 세트 효과에 대해서 건의하려 합니다.\n",
      "룬 세트 효과는 제가 서머너즈워를 시작했던 약 6년 전에 비해 변동 사항이 아마 폭주 턴 획득 확률 소폭 너프 외에는 없는 것으로 기억합니다.\n",
      "이렇게 오랜 시간 룬 세트 효과의 변화가 거의 없다보니 유저들은 신속/폭주/의지 룬 세트의 효과가 다른 세트 효과에 비해 좋은 효과로 취급하고 있는 상황이며, 요즘에 메타의 변화에 따라 반격/파괴 등이 쓰이게 되었습니다.\n",
      "하지만, 활력/수호/고양/결의 단순한 체력, 방어력 스탯 증가 세트는 효과가 미미합니다.\n",
      "수호/결의는 2각성 물이누 방어력 비례 협공을 이용한 던전 파밍에 이용되고부터는 취급이 좋아지긴 했지만 여전히 그 외 사용처는 애매하다고 생각합니다.\n",
      "이전에는 체력, 방어력 15%가 적지 않은 수치였을지는 모르겠지만 연마, 변환, 고대 룬이 추가되면서 룬 하나가 올려줄 수 있는 스탯이 점점 높아지다보니 해당 세트들 옵션의 가치는 점점 떨어지게 되었습니다.\n",
      "그 외에도 특정 상황만 쓰이고 잘 쓰이지 않는 룬 세트들도 있습니다.\n",
      "따라서 유저들이 잘 쓰지 않는 룬 세트들에 대해 상향을 해주셨으면 합니다. 개인적으로는 단순한 세트 옵션의 수치 상향이 아닌 여러 메타를 창출할 만한 특수 효과가 생겼으면 좋겠습니다.\n",
      "예를 들면 활력에 전투 중 1회에 한해 턴 종료 시 해당 몬스터가 최대 체력의 30% 미만이면 최대 체력의 20% 회복이라던지요.\n",
      "그러면 지금의 단조로운 게임에서 다양한 룬 효과가 조합된 몬스터가 더 나오지 않을까 생각되어 건의드립니다.\n",
      "긴 글 읽어주셔서 감사합니다.\n"
     ]
    },
    {
     "name": "stderr",
     "output_type": "stream",
     "text": [
      " 46%|███████████████████████████████████████████████████████▊                                                                 | 47/102 [03:22<05:33,  6.07s/it]"
     ]
    },
    {
     "name": "stdout",
     "output_type": "stream",
     "text": [
      "제목 그대로 실레나처럼 길드전 점령전에도 폭주 횟수에 제한을 두는 것이 어떨까 생각해봅니다.\n",
      "길드전 점령전 하시는 분들은 아시겠지만 폭주로 인해 승패가 갈리는 경우가 꽤 있죠?\n",
      "과연 이것을 전략 게임이라고 할 수 있을까요?\n",
      "폭주를 주는 것 또한 전략이라고 하실 수 있는데 3폭주 4폭주까지 대비해서 덱을 짜시는 분도 있을까요?\n",
      "전 없을 거라고 봅니다 ㅋㅋ\n",
      "이상 그냥 지껄여봤습니다.\n"
     ]
    },
    {
     "name": "stderr",
     "output_type": "stream",
     "text": [
      " 47%|████████████████████████████████████████████████████████▉                                                                | 48/102 [03:25<04:43,  5.26s/it]"
     ]
    },
    {
     "name": "stdout",
     "output_type": "stream",
     "text": [
      "제목 그대로 실레나처럼 길드전 점령전에도 폭주 횟수에 제한을 두는 것이 어떨까 생각해봅니다.\n",
      "길드전 점령전 하시는 분들은 아시겠지만 폭주로 인해 승패가 갈리는 경우가 꽤 있죠?\n",
      "과연 이것을 전략 게임이라고 할 수 있을까요?\n",
      "폭주를 주는 것 또한 전략이라고 하실 수 있는데 3폭주 4폭주까지 대비해서 덱을 짜시는 분도 있을까요?\n",
      "전 없을 거라고 봅니다 ㅋㅋ\n",
      "이상 점령전 하다가 화나서 지껄여봤습니다.\n"
     ]
    },
    {
     "name": "stderr",
     "output_type": "stream",
     "text": [
      " 48%|██████████████████████████████████████████████████████████▏                                                              | 49/102 [03:29<04:10,  4.73s/it]"
     ]
    },
    {
     "name": "stdout",
     "output_type": "stream",
     "text": [
      "레이드 폭주 신속 연마석 변환석 왜 안나오나요?\n",
      "확률을 처 까든가 그냥 입다물고 계속 파밍 해야돼?\n",
      "이럴거면 레이드도 종류별로 던전을 처만들던가\n",
      "이딴경우가 어딨어 개편좀 해요 레이드좀\n",
      "레이드면 사람들이랑 같이하는게 레이드지 혼자 자사 돌리는게 레이드냐? ㅉㅉ\n"
     ]
    },
    {
     "name": "stderr",
     "output_type": "stream",
     "text": [
      " 49%|███████████████████████████████████████████████████████████▎                                                             | 50/102 [03:32<03:42,  4.28s/it]"
     ]
    },
    {
     "name": "stdout",
     "output_type": "stream",
     "text": [
      "양팀 4마리 모두 폭주를 낀 상태에서도 이렇게 폭주턴차이가 많이 나는건 이해불가임.\n",
      "그냥 폭주빨 없에고 정직하게 룬작과 조합만으로 승부를 나게해야지 말도 안되는 운빨턴수급 차이로\n",
      "게임이 터지니까 유저들도 실레나를 점점 떠나는게 현실.\n",
      "실레나 잘할라고 빡파밍했는데 이렇게 말도 안되는 이유로 계속 패배하다보면 왜 내가 밤낮으로 파밍을 해왔을까란 현타가 와서 그냥 안하게됩니다.\n",
      "재미를 위해 하는 겜이 이렇게 스트레스가 되는데 누가 버티겠습니까?\n",
      "이유가 명확한 패배를 해야 그에대한 전략을 짜고 부족함을 채우면서 더 열심히 겜을 하게 되는데 이런식으로 지면\n",
      "대책이고 뭐고 없습니다. 파밍할 시간에 기도나 열심히하는게 더 나은 현실.\n",
      "개발진들, 진짜 실레나가 전략겜으로 e스포츠로 거듭나기 위한다면 이부분에 대해서 고민 좀 해보세요.\n"
     ]
    },
    {
     "name": "stderr",
     "output_type": "stream",
     "text": [
      " 50%|████████████████████████████████████████████████████████████▌                                                            | 51/102 [03:35<03:25,  4.02s/it]"
     ]
    },
    {
     "name": "stdout",
     "output_type": "stream",
     "text": [
      "불닭폭주4번터져서 5번쳐맞으니까 니들 조상까지파해쳐서 다 쳐죽이고싶은맘밖에안드는데 이게맞냐\n",
      "폭주한번만터지게 제한해달라고도안할게 두번이상안터지게해라 좀\n"
     ]
    },
    {
     "name": "stderr",
     "output_type": "stream",
     "text": [
      " 51%|█████████████████████████████████████████████████████████████▋                                                           | 52/102 [03:39<03:10,  3.80s/it]"
     ]
    },
    {
     "name": "stdout",
     "output_type": "stream",
     "text": [
      "오늘 하루 20판 플레이하면서\n",
      "상대방만 폭주터지는 판이 10판이 넘는데\n",
      "22% > 17% > 12% > 5% 보정치 들어가는게 맞나요?\n"
     ]
    },
    {
     "name": "stderr",
     "output_type": "stream",
     "text": [
      " 52%|██████████████████████████████████████████████████████████████▊                                                          | 53/102 [03:43<03:22,  4.12s/it]"
     ]
    },
    {
     "name": "stdout",
     "output_type": "stream",
     "text": [
      "방어쪽 확률이 50% 정도 더 오르는것 같아요\n",
      "얼른 자수하세요!!\n",
      "그리고 줌인은 몬스터당 하루에 한번만 보게 해주세요!\n",
      "똑같은 내용의 줌인을 보면서 엄청 스트레스를 받고있는데\n",
      "이 게임을 계속해야할까? 라는 생각이 들어요\n",
      "줌인을 고집하시는 개발자분\n",
      "핸드폰으로 아누비스 줌인을 딱 10번만 연속으로 봐보세요\n",
      "대충 보지마시고 진짜 게임을 하는것처럼요\n"
     ]
    },
    {
     "name": "stderr",
     "output_type": "stream",
     "text": [
      " 53%|████████████████████████████████████████████████████████████████                                                         | 54/102 [03:47<03:08,  3.93s/it]"
     ]
    },
    {
     "name": "stdout",
     "output_type": "stream",
     "text": [
      "4번 터지는건 아니지 않냐 진짜 ㅋㅋㅋㅋ 턴제 게임에서 한쪽에서 5번 턴을 먹는다고? 1회 제한은 님들이 별 시덥잖은 밸런스때문이라고 쳐도 2회로는 제한걸어야하는거 아니냐 ㅋㅋㅋ\n"
     ]
    },
    {
     "name": "stderr",
     "output_type": "stream",
     "text": [
      " 54%|█████████████████████████████████████████████████████████████████▏                                                       | 55/102 [03:50<02:55,  3.74s/it]"
     ]
    },
    {
     "name": "stdout",
     "output_type": "stream",
     "text": [
      "방덱 폭주 보정 이야기는 미신인거 다들 알고 계실테고.\n",
      "폭주룬 개편이 필요하다고 생각합니다.\n",
      "폭주룬은 턴을 획득하므로 인한 변수창출및 턴획득 기대치 업 이 주목적 입니다.\n",
      "3연폭주 4연폭주 같은 경우 폭주 운빨로 길전 점령전 아레나의 승리가 결정 되는경우는 문제가 된다고 생각합니다.\n",
      "실레나에서도 폭주 여부로 승리가 결정되는게 불합리하다고 생각해 제한한것으로 알고있습니다.\n",
      "폭주 1회 확률 22프로 2연속 12프로 3연속 6프로 4연속 3.5프로 가 현재라면\n",
      "폭주셋을 사용하므로써 기대할수 있는 턴은 (1*0.78)+(2*0.22)+(3*0.22*0.12)+(4*0.22*0.12*0.035)= 1.30xxxx 가 됩니다.\n",
      "즉 폭주셋을 사용하므로 각턴마다 1.3의 턴을 기대할수있게됩니다.\n",
      "폭주룬 자체를 턴마다 1회 발동으로 제한하고 확률을 30프로로 만든다면\n",
      "턴획득 기대 확률 자체는 그대로 두면서 더 적은 변수창출로 폭주운빨 망겜을 없앨수 있습니다.\n",
      "끝으로\n",
      "실레나 폭주 운빨망겜이 불합리하다고 생각하셔서 패치를 하셨다면 다른곳에서도 패치해야 맞지않을까 생각합니다.\n"
     ]
    },
    {
     "name": "stderr",
     "output_type": "stream",
     "text": [
      " 55%|██████████████████████████████████████████████████████████████████▍                                                      | 56/102 [03:54<02:47,  3.65s/it]"
     ]
    },
    {
     "name": "stdout",
     "output_type": "stream",
     "text": [
      "어떨까나요 ???\n"
     ]
    },
    {
     "name": "stderr",
     "output_type": "stream",
     "text": [
      " 56%|███████████████████████████████████████████████████████████████████▌                                                     | 57/102 [03:57<02:38,  3.52s/it]"
     ]
    },
    {
     "name": "stdout",
     "output_type": "stream",
     "text": [
      "상대방 연속으로 3연속터지고\n",
      "나는 대체 왜 안터지냐 씨벌\n",
      "혈압올라서 게임하겄냐\n",
      "이런 병신게임에 돈쓰고 시간 낭비를\n",
      "왜 했던건지 게임 지운다 씨벨\n"
     ]
    },
    {
     "name": "stderr",
     "output_type": "stream",
     "text": [
      " 57%|████████████████████████████████████████████████████████████████████▊                                                    | 58/102 [04:00<02:32,  3.47s/it]"
     ]
    },
    {
     "name": "stdout",
     "output_type": "stream",
     "text": [
      "폭주제한안하니까 내가뒤지고있다만\n"
     ]
    },
    {
     "name": "stderr",
     "output_type": "stream",
     "text": [
      " 58%|█████████████████████████████████████████████████████████████████████▉                                                   | 59/102 [04:04<02:29,  3.47s/it]"
     ]
    },
    {
     "name": "stdout",
     "output_type": "stream",
     "text": [
      "22%ㅇㅈㄹ말고 뭐가22%냐 ㅋㅋ 폭주가 안터질 확률이 22%인거? 툭하면 몇연속으로 터지고 자빠졌는데 ㅋㅋ 진짜 까보면 뭐있다니까 폭주빨 ㅈㅁㄱ\n"
     ]
    },
    {
     "name": "stderr",
     "output_type": "stream",
     "text": [
      " 59%|███████████████████████████████████████████████████████████████████████▏                                                 | 60/102 [04:08<02:40,  3.83s/it]"
     ]
    },
    {
     "name": "stdout",
     "output_type": "stream",
     "text": [
      "턴제겜에서 추가턴 획득 그자체만으로 개사긴데\n",
      "여러번 터지는건 아니라고봄. 지는판도 폭주 2번만 터져도 이기는데 이게 운빨겜이지 전략겜임?\n"
     ]
    },
    {
     "name": "stderr",
     "output_type": "stream",
     "text": [
      " 60%|████████████████████████████████████████████████████████████████████████▎                                                | 61/102 [04:12<02:36,  3.82s/it]"
     ]
    },
    {
     "name": "stdout",
     "output_type": "stream",
     "text": [
      "진짜 길드전 물발 폭주 턴만먹으면 기본 2폭주냐 ㅋㅋㅋㅋ\n"
     ]
    },
    {
     "name": "stderr",
     "output_type": "stream",
     "text": [
      " 61%|█████████████████████████████████████████████████████████████████████████▌                                               | 62/102 [04:15<02:26,  3.66s/it]"
     ]
    },
    {
     "name": "stdout",
     "output_type": "stream",
     "text": [
      "폭주룬 먼가 개선이 좀 필요 해보입니다..\n",
      "실레나는 이제 개선이 되서 좀 그럭저럭인데 다른 곳은 폭주 특히 방댁 폭주 너무 심해요... 심한정도거 너무 선울 넘을때가 자주 일어납니다... 폭주룬 개선 부탁드립니다\n"
     ]
    },
    {
     "name": "stderr",
     "output_type": "stream",
     "text": [
      " 62%|██████████████████████████████████████████████████████████████████████████▋                                              | 63/102 [04:19<02:16,  3.50s/it]"
     ]
    },
    {
     "name": "stdout",
     "output_type": "stream",
     "text": [
      "행동불능 여러가지 종류\n",
      "기절 빙결 수면 등\n",
      "폭주로 턴다시 먹는거 폭주의 의도니까 그렇다치고..\n",
      "세개중에 하나정도는 폭주안터지는쪽으로 밸런스 맞추는안은 어떠한가?\n",
      "예를들어 기절상태에는 폭주가 안터지게 빙결 수면은 폭주로 턴다시먹더라도..\n",
      "그냥 폭주가 너무심해서...이정도면 양보되지 않나싶은데...\n",
      "섬린이생각이니 욕은 박지마시길..\n"
     ]
    },
    {
     "name": "stderr",
     "output_type": "stream",
     "text": [
      " 63%|███████████████████████████████████████████████████████████████████████████▉                                             | 64/102 [04:22<02:10,  3.44s/it]"
     ]
    },
    {
     "name": "stdout",
     "output_type": "stream",
     "text": [
      "벌떡 폭주는 조금 조정해줬으면...\n",
      "행동 불능 상태에서 폭주는 일어나지 않는다. or 행동 불능 상태에서 폭주시 75%의 게이지만 채운다.\n",
      "그냥 일반 폭주는 그렇다쳐도 행동 불능 상태에서 폭주 터져서 턴 가져가는 것은 너무 사기 같아요...\n",
      "위에 둘중의 한가지 방향으로 개선했으면 어떤가 싶네요.\n"
     ]
    },
    {
     "name": "stderr",
     "output_type": "stream",
     "text": [
      " 64%|█████████████████████████████████████████████████████████████████████████████                                            | 65/102 [04:25<02:07,  3.45s/it]"
     ]
    },
    {
     "name": "stdout",
     "output_type": "stream",
     "text": [
      "피해를 입지 않고 턴 획득시 패시브로 한 턴을 추가로 획득하는데요, 이후에 폭주룬에 따른 턴 획득이 안터집니다.. 운의 문제가 아니라 단 한번도요\n",
      "확인 부탁드립니다\n"
     ]
    },
    {
     "name": "stderr",
     "output_type": "stream",
     "text": [
      " 65%|██████████████████████████████████████████████████████████████████████████████▎                                          | 66/102 [04:29<02:03,  3.42s/it]"
     ]
    },
    {
     "name": "stdout",
     "output_type": "stream",
     "text": [
      "실레나 뿐만 아니라 길/점령전 아레나 할 때 폭주 스트레스로 많이들 힘들어하죠...\n",
      "특시 실레나 할 때 다 이겨놓은 상태에서 상대방 폭주 -> 턴획득 해서 뒤집어지는 경우도 많구요...\n",
      "그래서 폭주룬을 사용하는걸 이렇게 바꾸면 어떨까 합니다.\n",
      "대전 격투겜(스파) 같은데 보면 하단에 게이지차는게 있고, 풀로 다 차면 필살기(?) 비슷하게 사용할 수 있는데요...\n",
      "실레나 아레나에서도 아래쪽에 폭주 게이지를 만드는겁니다.\n",
      "그래서 특정 조건(크리뎀지를 주던가, 피격당했는데 빚맞음이 뜨던가 하는) 발생 시 게이지가 점점 차오르고,\n",
      "게이지가 풀로 찼을 때, 나의 턴에서 그걸 사용하면 폭주 -> 턴획득 머 이런식....\n",
      "걍 뻘글이었음...\n"
     ]
    },
    {
     "name": "stderr",
     "output_type": "stream",
     "text": [
      " 66%|███████████████████████████████████████████████████████████████████████████████▍                                         | 67/102 [04:31<01:52,  3.22s/it]"
     ]
    },
    {
     "name": "stdout",
     "output_type": "stream",
     "text": [
      "폭주룬\n",
      "일정 확률로 1회 추가 공격을 할 수 있음.\n",
      "낮은 확률로 2회 이상 추가 공격 가능\n",
      "쿨타임 감소 룬\n",
      "일정 확률로 스킬 전체 쿨타임 1턴 감소\n",
      "2번 3번 스킬 활성화시 즉시 사용도 가능\n",
      "2번 3번 스킬 비활성화시 1번 스킬 사용.\n",
      "낮은 확률로 스킬 전체 쿨타임 2턴 이상 감소 및 활성 스킬 즉시 사용 가능\n",
      "서머에 쿨타임 감소룬은 있는데 폭주룬은 안보이네요\n",
      "폭주룬이라 하면.....\n",
      "일정 확률로 추가 공격이니까 쿨 감소 안되고 스킬 쓸 수 있게 하거나...\n",
      "폭주턴에는 평타만 칠 수 있게 해서 추가 공격에 메커니즘을 두던가...\n",
      "다른 룬은 몹 특색에 맞게 잘 만들어 주시고 폭주룬은 위에 써있는 쿨감룬으로 만들어서 왜 졸업룬으로 만드셨는지...\n",
      "폭주만의 특색있는 룬이였으면 합니다.\n"
     ]
    },
    {
     "name": "stderr",
     "output_type": "stream",
     "text": [
      " 67%|████████████████████████████████████████████████████████████████████████████████▋                                        | 68/102 [04:35<01:48,  3.20s/it]"
     ]
    },
    {
     "name": "stdout",
     "output_type": "stream",
     "text": [
      "대가리 쥐어 짜내서 계산 다 때리고 들어가도\n",
      "폭주 터지면 답도 없고\n",
      "내 몹이 폭주 여러 번 터져서 득을 본다고 해도 재미 더럽게 없어요.\n",
      "운빨로 이겨서 뭐 할 건데요ㅋ\n",
      "그래도 명색이 상성도 있고 패시브, 액티브 있을 거 다 있는 턴제 게임인데\n",
      "오목에서 한 번에 오목 완성하는 수준이면은ㅋ\n",
      "그냥 하지 말라는 거랑 다를 바가 없잖아요ㅋ\n",
      "연속으로 터지는 확률 말고, 횟수만 좀 줄여주세요\n"
     ]
    },
    {
     "name": "stderr",
     "output_type": "stream",
     "text": [
      " 68%|█████████████████████████████████████████████████████████████████████████████████▊                                       | 69/102 [04:38<01:46,  3.22s/it]"
     ]
    },
    {
     "name": "stdout",
     "output_type": "stream",
     "text": [
      "며칠동안 길점령전하고 차포까지 하면서 유심히 살펴봤는데\n",
      "공덱 폭주는 터지는 걸 못 봤고\n",
      "방덱 폭주는 한두번이 기본이며 3턴 먹는 경우도 심심찮게 나옴.\n",
      "폭주 많이 터지면 손해보는 차포는 빛이누가 4턴을 그냥 잘만 먹던데(덕분에 보스전에서 우리 몹 뺏긴거 잡지도 못하고 턴만 왕창 먹고 실패함)\n",
      "그래 뭐 확률은 같은데 내가 피해망상 있는 놈이라고 욕할 수도 있겠죠.\n",
      "근데 요새 폭주당하는 게 너무 자주 있다보니 의심을 넘어서 버림\n"
     ]
    },
    {
     "name": "stderr",
     "output_type": "stream",
     "text": [
      " 69%|███████████████████████████████████████████████████████████████████████████████████                                      | 70/102 [04:41<01:42,  3.20s/it]"
     ]
    },
    {
     "name": "stdout",
     "output_type": "stream",
     "text": [
      "ㅅㅂ\n"
     ]
    },
    {
     "name": "stderr",
     "output_type": "stream",
     "text": [
      " 70%|████████████████████████████████████████████████████████████████████████████████████▏                                    | 71/102 [04:44<01:41,  3.29s/it]"
     ]
    },
    {
     "name": "stdout",
     "output_type": "stream",
     "text": [
      "원래 방당1.2만뜨는조커인데 아팩을잘꼽은건지 딜도안나왔지만...\n",
      "뭐라할말이없음그냥좆같은폭주라서\n",
      "불닭 매턴 빠짐없이 끼욝 끼욝은기본이고\n",
      "빛팔라 3스바로안쓰고 평타 3스쓰는게 더역겹고\n",
      "그냥병신같음 언제까지 방덱폭주보정없다고 기피만할껀지참...\n"
     ]
    },
    {
     "name": "stderr",
     "output_type": "stream",
     "text": [
      " 71%|█████████████████████████████████████████████████████████████████████████████████████▍                                   | 72/102 [04:48<01:43,  3.46s/it]"
     ]
    },
    {
     "name": "stdout",
     "output_type": "stream",
     "text": [
      "\n"
     ]
    },
    {
     "name": "stderr",
     "output_type": "stream",
     "text": [
      " 72%|██████████████████████████████████████████████████████████████████████████████████████▌                                  | 73/102 [05:02<03:11,  6.62s/it]"
     ]
    },
    {
     "name": "stdout",
     "output_type": "stream",
     "text": [
      "폭주 및 공속 스탯 룬 삭제 부탁. 기본 공속이랑 스킬로 승부 보자. 리더스킬은 이런 경우 노답이니까 공속 리더스킬도 삭제하고. 그러면 턴제게임 다운 거 아니냐? 스킬 때문에 몬스터 구성하는 맛이 있고 공략도 다양해지고 턴제게임이고. 스트레스도 없고.\n"
     ]
    },
    {
     "name": "stderr",
     "output_type": "stream",
     "text": [
      " 73%|███████████████████████████████████████████████████████████████████████████████████████▊                                 | 74/102 [05:06<02:42,  5.81s/it]"
     ]
    },
    {
     "name": "stdout",
     "output_type": "stream",
     "text": [
      "   개븅신같은 게임지우는게 답이다   남겨주신 소중한 의견은 매일 확인하여 논의되고 있습니다. 감사합니다 :D\n"
     ]
    },
    {
     "name": "stderr",
     "output_type": "stream",
     "text": [
      " 74%|████████████████████████████████████████████████████████████████████████████████████████▉                                | 75/102 [05:15<02:58,  6.61s/it]"
     ]
    },
    {
     "name": "stdout",
     "output_type": "stream",
     "text": [
      " ㅎㅎ 망겜 점점 접고싶어짐   남겨주신 소중한 의견은 매일 확인하여 논의되고 있습니다. 감사합니다 :D\n"
     ]
    },
    {
     "name": "stderr",
     "output_type": "stream",
     "text": [
      " 75%|██████████████████████████████████████████████████████████████████████████████████████████▏                              | 76/102 [05:23<03:02,  7.00s/it]"
     ]
    },
    {
     "name": "stdout",
     "output_type": "stream",
     "text": [
      "불닭 패시브돌아서 패배시발..\n"
     ]
    },
    {
     "name": "stderr",
     "output_type": "stream",
     "text": [
      " 75%|███████████████████████████████████████████████████████████████████████████████████████████▎                             | 77/102 [05:35<03:36,  8.66s/it]"
     ]
    },
    {
     "name": "stdout",
     "output_type": "stream",
     "text": [
      "1. 몹당 1회만 터지도록한다.2. 턴획득이아니라 공격게이지100%상승으로한다.3. 턴획득시 스킬사용은하지못하고 1스만쓴다.(스킬쿨돌리기)    남겨주신 소중한 의견은 매일 확인하여 논의되고 있습니다. 감사합니다 :D\n"
     ]
    },
    {
     "name": "stderr",
     "output_type": "stream",
     "text": [
      " 76%|████████████████████████████████████████████████████████████████████████████████████████████▌                            | 78/102 [05:48<03:57,  9.89s/it]"
     ]
    },
    {
     "name": "stdout",
     "output_type": "stream",
     "text": [
      "이제 개편 할 때 안됐나요?폭주가 변수가 되는게 아니라 게임을 끝내버리고 있어요.재수 없으면 상대랑 폭주 턴획득 차이가 5번 10번 나는데 어떻게 이깁니까?이렇게 지면 기분 정말 뭣같은데 이런 뭣같은 상황이 너무도 자주 보여요.몹 밸패도 좋지만 폭주도 어떻게좀 해주세요.   남겨주신 소중한 의견은 매일 확인하여 논의되고 있습니다. 감사합니다 :D\n"
     ]
    },
    {
     "name": "stderr",
     "output_type": "stream",
     "text": [
      " 77%|█████████████████████████████████████████████████████████████████████████████████████████████▋                           | 79/102 [06:00<04:05, 10.67s/it]"
     ]
    },
    {
     "name": "stdout",
     "output_type": "stream",
     "text": [
      "  무슨 턴만 먹으면 폭주 연속 2번씩 터지냐 아레나, 길전, 점령전 무슨 턴만 쳐먹으면 3번씩 쳐때리는데 이거 맞냐?폭주 첫번째 턴획득 확률을 줄여달라는게 아니라 2번 3번 쳐 폭주터질 확률좀 조정해라 무슨 이러니까 모든몹들이 폭주 미만잡이되고 의지 신속 뺴면 뭐 거진 잡룬취급받는거 아님? 남겨주신 소중한 의견은 매일 확인하여 논의되고 있습니다. 감사합니다 :D\n"
     ]
    },
    {
     "name": "stderr",
     "output_type": "stream",
     "text": [
      " 78%|██████████████████████████████████████████████████████████████████████████████████████████████▉                          | 80/102 [06:13<04:05, 11.17s/it]"
     ]
    },
    {
     "name": "stdout",
     "output_type": "stream",
     "text": [
      "   한턴에 4번씩 때리는건 너무한거 아닌가 스킬을 두번써;;이겨도 폭주 많이터지는 판은 기분이 죚같음 제한을 두던지 좀..;; 특히 물브라 폭주는 문제 많아보임.. 폭주패치가 싫다면 물브라 3스 약화효과 확률적으로 하나만 달도록 패치하던가.. 좀.. 대안을 내놔.. 남겨주신 소중한 의견은 매일 확인하여 논의되고 있습니다. 감사합니다 :D\n"
     ]
    },
    {
     "name": "stderr",
     "output_type": "stream",
     "text": [
      " 79%|████████████████████████████████████████████████████████████████████████████████████████████████                         | 81/102 [06:25<04:02, 11.56s/it]"
     ]
    },
    {
     "name": "stdout",
     "output_type": "stream",
     "text": [
      "신수 불닭 팔라아런새끼들은 엠창 1폭주연속더터지는거 매커니즘잇다고봄그리고 졷도진짜 다이긴거 걍 오토눌러도이기는거상대방 폭주방덱보정때문에 억지로억지로 꾸역꾸역 터져서 지게만들어놓은 매커니즘좀 알아서 어떻게하시죠?\n"
     ]
    },
    {
     "name": "stderr",
     "output_type": "stream",
     "text": [
      " 80%|█████████████████████████████████████████████████████████████████████████████████████████████████▎                       | 82/102 [06:33<03:28, 10.44s/it]"
     ]
    },
    {
     "name": "stdout",
     "output_type": "stream",
     "text": [
      "\n"
     ]
    },
    {
     "name": "stderr",
     "output_type": "stream",
     "text": [
      " 81%|██████████████████████████████████████████████████████████████████████████████████████████████████▍                      | 83/102 [06:45<03:28, 10.99s/it]"
     ]
    },
    {
     "name": "stdout",
     "output_type": "stream",
     "text": [
      "     남겨주신 소중한 의견은 매일 확인하여 논의되고 있습니다. 감사합니다 :D\n"
     ]
    },
    {
     "name": "stderr",
     "output_type": "stream",
     "text": [
      " 82%|███████████████████████████████████████████████████████████████████████████████████████████████████▋                     | 84/102 [07:00<03:35, 11.99s/it]"
     ]
    },
    {
     "name": "stdout",
     "output_type": "stream",
     "text": [
      "   폭주물브라 좀 패치해라.. 점령전 길드전 싹다 누가누가 물브라 많이가지고 있냐 싸움되어간다..  남겨주신 소중한 의견은 매일 확인하여 논의되고 있습니다. 감사합니다 :D\n"
     ]
    },
    {
     "name": "stderr",
     "output_type": "stream",
     "text": [
      " 83%|████████████████████████████████████████████████████████████████████████████████████████████████████▊                    | 85/102 [07:12<03:27, 12.22s/it]"
     ]
    },
    {
     "name": "stdout",
     "output_type": "stream",
     "text": [
      " 흠 나도 세마리다폭주인데상대방은 칙칙폭폭주인거같기도하고\n"
     ]
    },
    {
     "name": "stderr",
     "output_type": "stream",
     "text": [
      " 84%|██████████████████████████████████████████████████████████████████████████████████████████████████████                   | 86/102 [07:20<02:52, 10.81s/it]"
     ]
    },
    {
     "name": "stdout",
     "output_type": "stream",
     "text": [
      " 1.자기턴에 1번만터진다. - ㄹㅇ개념패치안2.공격게이지 100%이회복된다. - 폭주너즈워의메타를 조금바꿀수있음위두개로바꾸는게젤현명함 무슨게임이 다이긴걸 벌떡한방에지고이기고를 판별하냐 이게 ㄹㅇ이스포츠냐?아님 변수냐? 이게변수야?그리고 누가봐도이긴건데 상대방 꾸역꾸역 한마리남은걸로 버티고버티면서 어차피진건데존나시간쳐끌고  ※성지예약:어차피 이렇게바뀌게되있음    남겨주신 소중한 의견은 매일 확인하여 논의되고 있습니다. 감사합니다 :D\n"
     ]
    },
    {
     "name": "stderr",
     "output_type": "stream",
     "text": [
      " 85%|███████████████████████████████████████████████████████████████████████████████████████████████████████▏                 | 87/102 [07:33<02:51, 11.46s/it]"
     ]
    },
    {
     "name": "stdout",
     "output_type": "stream",
     "text": [
      " 변경 안 : 폭주 룬을 통한 턴 획득 시 현재 능력치의 10% 감소\n"
     ]
    },
    {
     "name": "stderr",
     "output_type": "stream",
     "text": [
      " 86%|████████████████████████████████████████████████████████████████████████████████████████████████████████▍                | 88/102 [07:40<02:23, 10.26s/it]"
     ]
    },
    {
     "name": "stdout",
     "output_type": "stream",
     "text": [
      "1.자기턴에 1번만터진다. - ㄹㅇ개념패치안2.공격게이지 100%이회복된다. - 폭주너즈워의메타를 조금바꿀수있음위두개로바꾸는게젤현명함 무슨게임이 다이긴걸 벌떡한방에지고이기고를 판별하냐 이게 ㄹㅇ이스포츠냐?아님 변수냐? 이게변수야?그리고 누가봐도이긴건데 상대방 꾸역꾸역 한마리남은걸로 버티고버티면서 어차피진건데존나시간쳐끌고  ※성지예약:어차피 이렇게바뀌게되있음 남겨주신 소중한 의견은 매일 확인하여 논의되고 있습니다. 감사합니다 :D\n"
     ]
    },
    {
     "name": "stderr",
     "output_type": "stream",
     "text": [
      " 87%|█████████████████████████████████████████████████████████████████████████████████████████████████████████▌               | 89/102 [07:55<02:29, 11.50s/it]"
     ]
    },
    {
     "name": "stdout",
     "output_type": "stream",
     "text": [
      "\n"
     ]
    },
    {
     "name": "stderr",
     "output_type": "stream",
     "text": [
      " 88%|██████████████████████████████████████████████████████████████████████████████████████████████████████████▊              | 90/102 [08:08<02:22, 11.89s/it]"
     ]
    },
    {
     "name": "stdout",
     "output_type": "stream",
     "text": [
      "  실레나에서  풍유니 변신 후 치명타 갈기고 원래 모습으로 변신.. 이게 이론상 무한으로 턴획득이 가능합니다. 이런 식으로 폭주 2번이나 가져갑니다.. 패시브를 없애든지 턴획즉이 안되는 패시브를 달던지해주세요      남겨주신 소중한 의견은 매일 확인하여 논의되고 있습니다. 감사합니다 :D\n"
     ]
    },
    {
     "name": "stderr",
     "output_type": "stream",
     "text": [
      " 89%|███████████████████████████████████████████████████████████████████████████████████████████████████████████▉             | 91/102 [08:17<02:02, 11.17s/it]"
     ]
    },
    {
     "name": "stdout",
     "output_type": "stream",
     "text": [
      " 풍팬더, 풍윤희, 빛팔라, 물이프등등:뭐? 흠칫..    남겨주신 소중한 의견은 매일 확인하여 논의되고 있습니다. 감사합니다 :D\n"
     ]
    },
    {
     "name": "stderr",
     "output_type": "stream",
     "text": [
      " 90%|█████████████████████████████████████████████████████████████████████████████████████████████████████████████▏           | 92/102 [08:31<02:00, 12.06s/it]"
     ]
    },
    {
     "name": "stdout",
     "output_type": "stream",
     "text": [
      "      남겨주신 소중한 의견은 매일 확인하여 논의되고 있습니다. 감사합니다 :D\n"
     ]
    },
    {
     "name": "stderr",
     "output_type": "stream",
     "text": [
      " 91%|██████████████████████████████████████████████████████████████████████████████████████████████████████████████▎          | 93/102 [08:41<01:43, 11.46s/it]"
     ]
    },
    {
     "name": "stdout",
     "output_type": "stream",
     "text": [
      " 개좆까는소리하지마라 ㅆ발진짜  물야만3스 3번쓰는거보고 아군2마리죽는거봣다  남겨주신 소중한 의견은 매일 확인하여 논의되고 있습니다. 감사합니다 :D\n"
     ]
    },
    {
     "name": "stderr",
     "output_type": "stream",
     "text": [
      " 92%|███████████████████████████████████████████████████████████████████████████████████████████████████████████████▌         | 94/102 [08:55<01:37, 12.22s/it]"
     ]
    },
    {
     "name": "stdout",
     "output_type": "stream",
     "text": [
      " 게ㅆ발 빛브라, 불뱀, 빛카우3마리로 풍팬더한마리 씨발폭주한테지는게말이되냐? 방깍+버프다지우고나면 평평2스이씹지랄하는데 말이되냐고 개조같은거진짜    남겨주신 소중한 의견은 매일 확인하여 논의되고 있습니다. 감사합니다 :D\n"
     ]
    },
    {
     "name": "stderr",
     "output_type": "stream",
     "text": [
      " 93%|████████████████████████████████████████████████████████████████████████████████████████████████████████████████▋        | 95/102 [09:09<01:29, 12.78s/it]"
     ]
    },
    {
     "name": "stdout",
     "output_type": "stream",
     "text": [
      "2라운드 봐라 이게 전략게임이라고?실레나는 쳐 폭주 제한 걸면서 길드전 점령전과 같은 다른 컨텐츠에는 왜 안거는건데?이런 상황이 계속 발생하니까 중 상위 유저들이 떠나가고 싶어지지폭주 룬, 확률 그럴수 있다고 해도 횟수는 제한해야지 3번 4번은 아니지기획자 개빡대가리 밖에 없는건가     남겨주신 소중한 의견은 매일 확인하여 논의되고 있습니다. 감사합니다 :D\n"
     ]
    },
    {
     "name": "stderr",
     "output_type": "stream",
     "text": [
      " 94%|█████████████████████████████████████████████████████████████████████████████████████████████████████████████████▉       | 96/102 [09:24<01:19, 13.29s/it]"
     ]
    },
    {
     "name": "stdout",
     "output_type": "stream",
     "text": [
      "개^^ㅣ발 패치햇다고? Gee랄하지마 ㅎㅎ 이런글올려서 나한테만확률조작해서 꼽주는건가\n"
     ]
    },
    {
     "name": "stderr",
     "output_type": "stream",
     "text": [
      " 95%|███████████████████████████████████████████████████████████████████████████████████████████████████████████████████      | 97/102 [09:31<00:57, 11.56s/it]"
     ]
    },
    {
     "name": "stdout",
     "output_type": "stream",
     "text": [
      "아니 미친 ^^ㅣ발 나도 폭주자나 개^^ㅣ발진짜 짜증나네뭐 상대방이터지면 확률줄어들면서 내확률이올라간다매 까고잇네 ㅋㅋㅋㅋ역속으로 쳐맞는족족 효과적중은 시간지나면 확률올라가는 적중이냐?그럼 ㅋㅋㅋㅋ    남겨주신 소중한 의견은 매일 확인하여 논의되고 있습니다. 감사합니다 :D\n"
     ]
    },
    {
     "name": "stderr",
     "output_type": "stream",
     "text": [
      " 96%|████████████████████████████████████████████████████████████████████████████████████████████████████████████████████▎    | 98/102 [09:39<00:41, 10.46s/it]"
     ]
    },
    {
     "name": "stdout",
     "output_type": "stream",
     "text": [
      "      남겨주신 소중한 의견은 매일 확인하여 논의되고 있습니다. 감사합니다 :D\n"
     ]
    },
    {
     "name": "stderr",
     "output_type": "stream",
     "text": [
      " 97%|█████████████████████████████████████████████████████████████████████████████████████████████████████████████████████▍   | 99/102 [09:47<00:28,  9.66s/it]"
     ]
    },
    {
     "name": "stdout",
     "output_type": "stream",
     "text": [
      "      남겨주신 소중한 의견은 매일 확인하여 논의되고 있습니다. 감사합니다 :D\n"
     ]
    },
    {
     "name": "stderr",
     "output_type": "stream",
     "text": [
      " 98%|█████████████████████████████████████████████████████████████████████████████████████████████████████████████████████▋  | 100/102 [09:57<00:19,  9.75s/it]"
     ]
    },
    {
     "name": "stdout",
     "output_type": "stream",
     "text": [
      "      남겨주신 소중한 의견은 매일 확인하여 논의되고 있습니다. 감사합니다 :D\n"
     ]
    },
    {
     "name": "stderr",
     "output_type": "stream",
     "text": [
      " 99%|██████████████████████████████████████████████████████████████████████████████████████████████████████████████████████▊ | 101/102 [10:07<00:09,  9.82s/it]"
     ]
    },
    {
     "name": "stdout",
     "output_type": "stream",
     "text": [
      " 빛팔라스폰받앗냐 존나 잘노네 ㅋ효적 저항 적중시발 내꺼도70인데 ㅋㅋㅅㅂ나도 효저리더인데개줘가튼거 수치가의미가잇냐\n"
     ]
    },
    {
     "name": "stderr",
     "output_type": "stream",
     "text": [
      "100%|████████████████████████████████████████████████████████████████████████████████████████████████████████████████████████| 102/102 [10:17<00:00,  6.05s/it]\n"
     ]
    }
   ],
   "source": [
    "df_suggestion_rampage = pd.DataFrame()\n",
    "\n",
    "index = 0\n",
    "for x in tqdm(range(index,len(df_suggestion_keyword_rampage))):\n",
    "    browser.get(f\"{df_suggestion_keyword_rampage['url'].iloc[x]}\")  \n",
    "\n",
    "    browser.implicitly_wait(5)\n",
    "    \n",
    "    # iframe 제거하는 코드 - iframe에 해당하는 css selector 입력하면 된다.\n",
    "    browser.switch_to.frame(\"cafe_main\")\n",
    "\n",
    "    # url\n",
    "    url = df_suggestion_keyword_rampage['url'].iloc[x]\n",
    "\n",
    "    browser.implicitly_wait(5)\n",
    "    \n",
    "    try:\n",
    "        \n",
    "        # 본문 텍스트\n",
    "        contents = browser.find_elements(By.CSS_SELECTOR, value = \"div.se-text > div.se-component-content\")\n",
    "        content = \"\"\n",
    "        for y in range(len(contents)):\n",
    "            content = content + contents[y].text + \"\"\n",
    "\n",
    "        if content.strip() == \"\":\n",
    "            # 예외적인 페이지가 존재 1\n",
    "            contents = browser.find_elements(By.CSS_SELECTOR, value = \"div.ContentRenderer > div > p\")\n",
    "            content = \"\"\n",
    "            for y in range(0,len(contents)-1): # 마지막줄 : 남겨주신 소중한 의견은 매일 확인하여 논의되고 있습니다. 감사합니다 :D -> 이거때문에 -1\n",
    "                content = content + contents[y].text + \"\"\n",
    "\n",
    "            if content.strip() == \"\":\n",
    "\n",
    "                # 예외적인 페이지가 존재 2\n",
    "                contents = browser.find_elements(By.CSS_SELECTOR, value = \"div.NHN_Writeform_Main > p\")\n",
    "                content = \"\"\n",
    "                for y in range(len(contents)):\n",
    "                    content = content + contents[y].text + \"\"\n",
    "                    \n",
    "    except:\n",
    "        print(f\"{df_suggestion_keyword_rampage['url'].iloc[x]}\")\n",
    "\n",
    "    print(content)\n",
    "    series_addition = {\"url\" : [url], \"content\" : [content]}\n",
    "    df_addition = pd.DataFrame(series_addition)\n",
    "    df_suggestion_rampage = pd.concat([df_suggestion_rampage, df_addition], ignore_index = True)\n",
    "\n",
    "    time.sleep(1)\n"
   ]
  },
  {
   "cell_type": "markdown",
   "id": "84a39d61-efa8-4622-9bf3-d2ec63af4bcb",
   "metadata": {},
   "source": [
    "### 2. 실레나 키워드"
   ]
  },
  {
   "cell_type": "code",
   "execution_count": 12,
   "id": "5cf75c49-c479-4014-b63c-d347d0118c6d",
   "metadata": {},
   "outputs": [
    {
     "name": "stderr",
     "output_type": "stream",
     "text": [
      "  0%|                                                                                                                                  | 0/241 [00:00<?, ?it/s]"
     ]
    },
    {
     "name": "stdout",
     "output_type": "stream",
     "text": [
      "1)재생바\n",
      "특정 장면을 보고 싶을경우 처음부터 다시 봐야 함\n",
      "2)티어별 검색\n",
      "각 티어별로 어떤 조합 , 특정몹으로 어떤 조합을 쓰는지 궁금할경우 직접 스크롤 내려가면서 확인 해야함 매우 불편\n",
      "갓투스 개발자 형들 제발 해줘! ㅋㅋㅋ\n"
     ]
    },
    {
     "name": "stderr",
     "output_type": "stream",
     "text": [
      "  0%|▌                                                                                                                         | 1/241 [00:05<21:02,  5.26s/it]"
     ]
    },
    {
     "name": "stdout",
     "output_type": "stream",
     "text": [
      "서머너즈워가 출시된지 10년이 넘었고 출시된 몹들은 1700여개가 넘으며\n",
      "실레나 내에서 자주 쓰이는 몹만하더라도 얼추 100개는 넘어간다고 생각합니다.\n",
      "그런데 이 게임은 아직도 랭크게임에 프리벤이 존재하지 않습니다.\n",
      "스폐셜아레나처럼 상대방을 확인하고 서로 저격벤하고 게임을 시작하는 패치를 원하지는 않습니다.\n",
      "시간도 많이 잡아먹고 특정몹만 사용하는 사람에게는 불리한 패치가 될수 있으니까요.\n",
      "그냥 큐돌리기전에 각자 프리벤할 몹을 미리 선택하고 게임이 시작되면 좋을것 같습니다.\n",
      "특정 하드 카운터몹들의 존재때문에 사용되지 못하는 몹들이 굉장히 많다고 생각하는데\n",
      "유저들은 그러한 몹들을 벤을 하고 기존에 사용되지 못하던 몹을 기용하면서 훨씬 다양한 덱구성이 나올것이기에\n",
      "간단한 프리벤 도입은 무성의한 밸패 3-4번 하는것보다 훨씬 더 큰 메타 변화를 가져오며\n",
      "지금보다 더 전략적이고 재밌는게임을 만들어 줄거라 생각합니다.\n"
     ]
    },
    {
     "name": "stderr",
     "output_type": "stream",
     "text": [
      "  1%|█                                                                                                                         | 2/241 [00:10<21:58,  5.52s/it]"
     ]
    },
    {
     "name": "stdout",
     "output_type": "stream",
     "text": [
      "여러덱 하고싶은데 룬과 즐찾을 일일히 다 수동으로 갈아끼우기 힘듭니다\n",
      "룬저장으론 다시 돌아가기가 없어서 즐찾슬롯을 만들어 주시면 더 재밋게 플레이 가능할거 같습니다\n",
      "기왕 만드는김에 한 세개 정도 만들어주세요\n",
      "데일리4에 넣어주시면 구매하겠습니다\n"
     ]
    },
    {
     "name": "stderr",
     "output_type": "stream",
     "text": [
      "  1%|█▌                                                                                                                        | 3/241 [00:15<19:56,  5.03s/it]"
     ]
    },
    {
     "name": "stdout",
     "output_type": "stream",
     "text": [
      "공격형은 칼\n",
      "방어형은 방패\n",
      "힐러는 십자가\n",
      "이런 아이콘 적당한 위치에 표시 좀 해주세요\n",
      "안 그래도 실레나 빡센데\n",
      "뉴비들은 그 몹들이 어떤 유형인지 전혀 모릅니다\n",
      "저게 표시된다면\n",
      "그나마 아 힐러 밴해야겠다 할것 같습니다\n",
      "원래 다른 게임에는 다 있습....\n"
     ]
    },
    {
     "name": "stderr",
     "output_type": "stream",
     "text": [
      "  2%|██                                                                                                                        | 4/241 [00:19<17:41,  4.48s/it]"
     ]
    },
    {
     "name": "stdout",
     "output_type": "stream",
     "text": [
      "섬린이 인데 며칠 전에 글올렸는데 실레나 룬 착용하면 다른 부위 룬이 해제되네요. 원래 이런건가요?\n"
     ]
    },
    {
     "name": "stderr",
     "output_type": "stream",
     "text": [
      "  2%|██▌                                                                                                                       | 5/241 [00:22<16:26,  4.18s/it]"
     ]
    },
    {
     "name": "stdout",
     "output_type": "stream",
     "text": [
      "물시리보다 승률이 안좋고 상대적으로 쓸수있는 곳이없어요\n"
     ]
    },
    {
     "name": "stderr",
     "output_type": "stream",
     "text": [
      "  2%|███                                                                                                                       | 6/241 [00:26<15:17,  3.90s/it]"
     ]
    },
    {
     "name": "stdout",
     "output_type": "stream",
     "text": [
      "모르고 풍드나 공속 11 만들어버렸잖아요 쉬@불\n",
      "개빡치니까 존말할때 암음양 내 계정에 넣어놔라\n"
     ]
    },
    {
     "name": "stderr",
     "output_type": "stream",
     "text": [
      "  3%|███▌                                                                                                                      | 7/241 [00:29<14:35,  3.74s/it]"
     ]
    },
    {
     "name": "stdout",
     "output_type": "stream",
     "text": [
      "실레나 한 3판정도하면 점수 받아가는거 있었으면 좋겠어요.\n",
      "실레나 승수 3이아닌 그냥 게임 진행 3번으로요.\n",
      "20점정도 주면 충분히 도움이 될 거 같네요.\n",
      "그리고 실레나 할때 이모티콘 자동 차단도 있었으면 좋겠네요.\n"
     ]
    },
    {
     "name": "stderr",
     "output_type": "stream",
     "text": [
      "  3%|████                                                                                                                      | 8/241 [00:32<14:01,  3.61s/it]"
     ]
    },
    {
     "name": "stdout",
     "output_type": "stream",
     "text": [
      "어제 2대2 실레나 돌리고 있었는데 상대팀이 불리하니까 디스 걸어버리네요 ... 저 화면 그대로 몇 분 있다가 팀원분도 튕기고 저도 튕겨서 경기 무효처리 되서 승수 업적도 못 먹게 되었네요 ... 이거 무슨 핵 같은데 조치 부탁드려요 (ex) 디스 거는 애들 판정패)\n"
     ]
    },
    {
     "name": "stderr",
     "output_type": "stream",
     "text": [
      "  4%|████▌                                                                                                                     | 9/241 [00:35<13:10,  3.41s/it]"
     ]
    },
    {
     "name": "stdout",
     "output_type": "stream",
     "text": [
      "해결좀 해주세요 픽이 안돼요ㅜㅜ\n"
     ]
    },
    {
     "name": "stderr",
     "output_type": "stream",
     "text": [
      "  4%|█████                                                                                                                    | 10/241 [00:39<12:56,  3.36s/it]"
     ]
    },
    {
     "name": "stdout",
     "output_type": "stream",
     "text": [
      "등록된 친구들과 길드원들의 실레나 리플레이 구경도 하고\n",
      "보다보면 아 이분은 재밌는 픽을 하는구나싶은것도 많은데요...\n",
      "길원분중에 한분이 눕방에서 사시는분이 계심...\n",
      "뭐 다양한 픽밴을 연구도 하고 눕방에서 친선전을 즐기는게 나쁘다는건 아닌데..\n",
      "실레나 리플레이에서 커뮤니티를 보면 전부 그분 눕방에서 플레이한것뿐인...\n",
      "리플레이에서 친선전 제외 또는 량킹전만 보기 같은 버튼 추가해주시면 감사하겠습니당\n"
     ]
    },
    {
     "name": "stderr",
     "output_type": "stream",
     "text": [
      "  5%|█████▌                                                                                                                   | 11/241 [00:42<12:52,  3.36s/it]"
     ]
    },
    {
     "name": "stdout",
     "output_type": "stream",
     "text": [
      "여러가지 덱 굴리고 싶은데 매번 룬바꾸기도 힘들고\n",
      "룬저장기능이 이전으로 돌아가기가 없어서 또 힘든걸…\n",
      "그냥 백년전쟁 서버 줄이고 이거 해줭\n"
     ]
    },
    {
     "name": "stderr",
     "output_type": "stream",
     "text": [
      "  5%|██████                                                                                                                   | 12/241 [00:45<12:37,  3.31s/it]"
     ]
    },
    {
     "name": "stdout",
     "output_type": "stream",
     "text": [
      "실레나 빨별 달성해야 구매할 수 있는데\n",
      "녹별이 생긴 지금 구매조건 달성하기가 과하게 어렵다고 생각합니다.\n",
      "전설의검투사 제한을 녹별로 완화시켜주시는 것을 건의드리고, 새로운 빨별 형상아이템을 만드는 것도 좋아보입니다.\n",
      "빨별은\n",
      "제 수준에서 노력의 범주를 벗어나는 수준인 것 같네요 ㅋㅎ..\n"
     ]
    },
    {
     "name": "stderr",
     "output_type": "stream",
     "text": [
      "  5%|██████▌                                                                                                                  | 13/241 [00:49<12:43,  3.35s/it]"
     ]
    },
    {
     "name": "stdout",
     "output_type": "stream",
     "text": [
      "편의성 퍄치 해줄때 빨리 노저어야지\n",
      "여러가지 덱을 즐겨보고 싶은데 그럴때마다 룬을 다시 주니 좀 귀찮네요\n",
      "페이지 별로 즐찾이랑 룬 따로 따로 설정되게 해주세요\n",
      "아니면 데일리팩에 저기능 넣어서 팔아주면 바로삼\n",
      "아니면 지금 룬저장 시스템에서 이전으로 돌아가기 같은거라도 추가 해주시면 안될까요?\n",
      "“해줘 ♥️”\n"
     ]
    },
    {
     "name": "stderr",
     "output_type": "stream",
     "text": [
      "  6%|███████                                                                                                                  | 14/241 [00:52<12:48,  3.39s/it]"
     ]
    },
    {
     "name": "stdout",
     "output_type": "stream",
     "text": [
      "전전시즌 날개도 이상해서 수정해서 몹 뒤로 고정되도록 추가패치했는데 왜 이번에도 또 이렇게 나온거죠\n",
      "몹을 360도 감싸는 이펙트가 아니라 뒤쪽에 붙는 이펙트들은 이글거리는 심판의 검 같이 뒷편에 고정되도록 수정해주셨으면 합니다\n",
      "예전에 나온 이펙트들 중에도 이런게 꽤 있는데\n",
      "기본적으로 원형모양인 경우는 그나마 덜 어색한데\n",
      "전전시즌이나 이번시즌처럼 어떤 형상을 가지고 있거나 특이한 모양인 경우는 캐릭터 앞에 있는것처럼 나오면 유독 어색하네요\n",
      "수정 바랍니다\n"
     ]
    },
    {
     "name": "stderr",
     "output_type": "stream",
     "text": [
      "  6%|███████▌                                                                                                                 | 15/241 [00:56<12:59,  3.45s/it]"
     ]
    },
    {
     "name": "stdout",
     "output_type": "stream",
     "text": [
      "게임을 하다보면 종종 점검을 하는 경우가 있습니다.\n",
      "점검을 하기 전 공지를 하지만\n",
      "화면에 잠깐 나오고 사라져 놓치는 경우가 많습니다\n",
      "실레나 마감을 앞둔 시점에\n",
      "점검으로 인한 공실은 안타깝습니다..\n",
      "https://m.cafe.naver.com/smonwar/2554942점검 10분전 실레나 버튼을 비활성화 하는 것으로 건의합니다. (실레나중인 유저 강제 종료 아님)\n",
      "버튼을 누르면 서버에서 \"점검 10분전에는 실레나를 할 수 없습니다\"와 같은 안내 문구와 함께 실레나를 할 수 없도록하면 좋겠네요\n",
      "메인이자 최종 컨텐츠인 실레나에 신경을 써주면 좋겠네요\n"
     ]
    },
    {
     "name": "stderr",
     "output_type": "stream",
     "text": [
      "  7%|████████                                                                                                                 | 16/241 [00:59<13:04,  3.49s/it]"
     ]
    },
    {
     "name": "stdout",
     "output_type": "stream",
     "text": [
      "실레나 핵아닙니까 이정도면\n",
      "저는 픽 하나도 못하고 상대는 자유롭고~게임안에서 눌리지도않고 참..\n",
      "5분짜리 영상에서 제맘대로 눌린건 물패링 밴한거랑(2초남앗을때 겨우누름) 안에서 비라공격 몇번한거정도가 다에요.. 아침부터 개꼴받네..\n"
     ]
    },
    {
     "name": "stderr",
     "output_type": "stream",
     "text": [
      "  7%|████████▌                                                                                                                | 17/241 [01:03<13:00,  3.48s/it]"
     ]
    },
    {
     "name": "stdout",
     "output_type": "stream",
     "text": [
      "안녕하세여\n",
      "실레나하다가 버그 같아서 올립니다.이거 불비라 부활 했을 때, 게이지 0이어야\n",
      "하는거 아닌가요?\n",
      "확인 및 수정 요청드려요!\n"
     ]
    },
    {
     "name": "stderr",
     "output_type": "stream",
     "text": [
      "  7%|█████████                                                                                                                | 18/241 [01:07<14:22,  3.87s/it]"
     ]
    },
    {
     "name": "stdout",
     "output_type": "stream",
     "text": [
      "실레나 은구간에서 상대 계속 잠수타는데 이러면 실레나가 무슨 의미가 있습니까...\n",
      "가뜩이나 폭주땜시 화나는데 픽안하고 뻐기면 시간아까운데. 특히 중국사람들 잠수 9/10 확률로 무조건 잠수입니다. 신고기능이나 잠수타면 점수 잃게 만들어주세요\n",
      "초보 힘듭니다..\n"
     ]
    },
    {
     "name": "stderr",
     "output_type": "stream",
     "text": [
      "  8%|█████████▌                                                                                                               | 19/241 [01:11<14:10,  3.83s/it]"
     ]
    },
    {
     "name": "stdout",
     "output_type": "stream",
     "text": [
      "지원룬을 사용하거나 자신의 룬을 사용할 수 있게 한다면 좋을꺼같은데요.\n",
      "초기 컨셉자체가 실레나 입문하고싶은데 몹이 부족한 사람들을 위해 나왔지만\n",
      "지금은 유저도 많이 줄어들고있고 고인물 유저 중에서도 코어몹이 없는 유저들에게 도움이 될만한\n",
      "자기 룬 착용 가능 기능도 도입해주면 어떨가 합니다.\n",
      "지원몬스터를 컴투스가 생각하는 메타에 따라 변경하면서 다양한 시도도 할 수 있지 않을까 생각됩니다.\n",
      "고심끝에 장착된 룬을 착용한 몹을 지원해주는 것을 알고있습니다만, 한번 고려해주시면 감사하겠습니다.\n"
     ]
    },
    {
     "name": "stderr",
     "output_type": "stream",
     "text": [
      "  8%|██████████                                                                                                               | 20/241 [01:15<13:37,  3.70s/it]"
     ]
    },
    {
     "name": "stdout",
     "output_type": "stream",
     "text": [
      "2023-12-12. 오후 9시 50분경 랭크게임\n",
      "빨3 달아준다고 고의 패배는 없어야하지 않겠습니까?\n",
      "운영진분들?\n",
      "-추가영상\n",
      "12.12 오후 10시 20분경 랭크게임12.12 오후 10시 55분경 랭크게임\n"
     ]
    },
    {
     "name": "stderr",
     "output_type": "stream",
     "text": [
      "  9%|██████████▌                                                                                                              | 21/241 [01:20<15:39,  4.27s/it]"
     ]
    },
    {
     "name": "stdout",
     "output_type": "stream",
     "text": [
      "티어 세분화를 조금 더 해서\n",
      "레전드 - 형변 5종\n",
      "빨3(~300등) - 형상변환 4종\n",
      "빨2(~1000등) - 형상변환 3종\n",
      "빨1(~2500등) - 형상변환 2종\n",
      "새로운 티어(~5000등) - 형상변환 1종\n",
      "금3~동1\n",
      "이렇게 세분화 및 완화가 이루어져야 스트레스도 조금 줄어들고\n",
      "현재 가장 큰 문제인 •빨별 도전자 vs 금3 주차 희망자•\n",
      "매칭의 괴리가 조금 해소되지 않을까 합니다.\n",
      "형변을 보상으로 주는거에 보수적인 것은 이해되는데 조금이라도 완화시켜주길 건의드립니다.\n"
     ]
    },
    {
     "name": "stderr",
     "output_type": "stream",
     "text": [
      "  9%|███████████                                                                                                              | 22/241 [01:24<15:07,  4.14s/it]"
     ]
    },
    {
     "name": "stdout",
     "output_type": "stream",
     "text": [
      "만년 실레나 금3 수문장으로써 건의 사항 하나 써봅니다.\n",
      "실레나만 봐도 지금 기준으로 금2 컷이 대충 1420?~1430 쯤인데 금3컷이 1540정도입니다.\n",
      "근데 여기서 빨 1컷라인이 1830 점??? 갑자기 3층을 뛰어 올라가야하는데 이거 뭐 판수로 어지간히 찍어눌러서 되는게 아니고\n",
      "어지간히 금3들이 고였어야지 금3 초입이랑 금3 후반 이랑 차이가 그냥 태산 하나 수준인데\n",
      "저만 봐도 15층 16층 금3들 그냥 진짜 만만합니다. 룬을 떠나서 픽이나 벤이 실력차가 엄청나요.\n",
      "딱 금3 초입은 본인들만의 덱은 확실한데 상대 픽에 대처를 못 하는 느낌\n",
      "상대 픽에 대처를 하냐 못 하냐는 엄청난 역량차이라고 봅니다.\n",
      "그런데 그 역량차이가 남에도 불구하고 같은 티어에 있는거에요\n",
      "그런데 또 오히려 억까 당해서 점수 빨릴까 17층18층 마저도 15층16층이 두렵습니다.\n",
      "실시간 아레나가 변수가 있기 때문에 어떤 일이 벌어질지는 모르는거니까요\n",
      "이건 모든 실레나 금3 티어 분들 공감 하실 부분이고\n",
      "금3 초입분들은\n",
      "금2랑 1:1 해서 금3 가서 매칭 돌리면 15층 vs 17층 구도로 바로 처맞고 내려가고\n",
      "또 금2랑 1:1해서 잘되서 올라가면 바로 또 어딜 하면서 17/18 층들이 망치들고 후려팸 이거 무한반복\n",
      "실레나 참여 인원수도 지금 저번 시즌 대비 34만7천명에서 24만명 으로 엄청 줄었음 유저가 빠져나갔거나 뭐 이런저런 사정이 있겠지만 매시즌 감소하는 추새임 물론 실형변의 인지도에 따라 참여율은 급상승 하락 한다지만,\n",
      "참여율이 오히려 올라가면 금3 구간이 4층 넘게 생기는 경우도 더러있습니다.\n",
      "이번 부분에서 실레나 등수에 따른 티어 개편이 필요 한 시점이라고 봅니다.\n",
      "두번째 안건은 이 게임은 구걸 게임이 아니라고 말하고 싶습니다.\n",
      "소환서의 길에 빛카우걸/암이누 이정도는 그냥 주거나 비던정도 최초 1회 비던을 제작하는 가이드를 넣어\n",
      "신규 소환자 분들에게 3성 빛암 기본기 몬스터정도는 쥐어줘야하지 않나 싶습니다.\n",
      "지금 공략 게시글을 보면 대부분 공략글이 비던 구걸 하라고 말하고 있습니다.\n",
      "현상황에 그게 틀린말이 아닙니다. 빠르고 효율적이니까요\n",
      "뉴비는 시작부터 구걸부터 합니다.\n",
      "채팅창 자체가 구걸글로 난무합니다. 뉴비들도 힘들겠지요\n",
      "그거 빛암 3성 빛카우걸 정도 명함정도는 줘도 기존유저와 벨런스 적으로도 문제 없다고 생각합니다.\n"
     ]
    },
    {
     "name": "stderr",
     "output_type": "stream",
     "text": [
      " 10%|███████████▌                                                                                                             | 23/241 [01:27<14:10,  3.90s/it]"
     ]
    },
    {
     "name": "stdout",
     "output_type": "stream",
     "text": [
      "실레나 자동 기능을 만들어서 자동끼리 붙여주세요\n",
      "손컨 너무 오래걸립니다\n"
     ]
    },
    {
     "name": "stderr",
     "output_type": "stream",
     "text": [
      " 10%|████████████                                                                                                             | 24/241 [01:31<13:36,  3.76s/it]"
     ]
    },
    {
     "name": "stdout",
     "output_type": "stream",
     "text": [
      "ㅈㄱㄴ 좋은 스승님 찾기 쉽게 패치 부탁드리겠습니다.\n"
     ]
    },
    {
     "name": "stderr",
     "output_type": "stream",
     "text": [
      " 10%|████████████▌                                                                                                            | 25/241 [01:34<13:09,  3.66s/it]"
     ]
    },
    {
     "name": "stdout",
     "output_type": "stream",
     "text": [
      "안녕하세요. 서머너즈 때문에 고시도 망칠만큼 열심히 했던 초창기 오픈유저 입니다. 거두절미하고 이제 10년차가 되어가니 한계가 보이는 듯 합니다.\n",
      "오픈때 내가 이겜에 열광했던 이유는 무엇인가? 를 생각하면 가장큰건 이거였어요. 내가 내 덱을 조합해서 던전을 클리어하는 즐거움. 일종의 성취감이라고 할까? 그후 부턴 클리어 시간을 단축하는데 빠졌구요.\n",
      "이번 리로디드 업뎃에서 새로운 덱조합 고민이 많아져 재밌었지만. 근데 결국 거던10층이든 심연이든 세팅해놓으면 오토 돌리는건 똑같고, 둘다 에너지 10000개를 소비해도 공속 25이상 룬하나 얻기 힘들다는 점도 똑같더군요.\n",
      "거용죽던 도는건 그냥 습관일 뿐인거죠 ^^\n",
      "개발진에서는 리로리드 심혈을 기울였을텐데... 근데 저포함 대부분의 사람들에겐 한번 오토 세팅해놓으면 끝납니다. 좀 허무해요. 이 오래된 서머너즈워의 틀 안에서 컨텐츠를 만드는것 자체가 이젠 한계가 보입니다.\n",
      "이걸 뛰어넘으려면 더 큰 결단과 창의성이 필요합니다.\n",
      "이제부터는 제가 바라는 서머너즈워의 미래 모습입니다.\n",
      "1. 실시간 아레나 - 실시간 화상or스피커or 채팅 기능 추가\n",
      "솔직히 서로 의사소통하면 웃고 싸우고 놀리고 화나고 하면서 실레나 즐길거같습니다. 지금의 실레나는 너무 자극이 없어요. 지금의 실레나하는이유? 실빨을 달아서 한정 스킨을 얻어야해!! 하나뿐이에요. 근데 대부분 유저는 실빨 꿈도 못꿉니다. 그냥 실레나 켜놓고 상대랑 소통하는것만 만들어줘도 날개가 모자랄거같습니다.\n",
      "(날개도 현질유도해서 그렇게 돈버세요)\n",
      "2. 유저 개발 기반 커스텀 던전 (ex. 로블록스, 스타 유즈맵 같은)\n",
      "거던용던 그런거 개발자가 개발하지마시고, 게임 내에 유저가 던전 구성을 짤수 있는 툴 기능을 만들어주세요.\n",
      "a. 서머너즈워 맵안에 유저던전 이라는 던전을 통해 입장\n",
      "b. 유저는 그 던전에 1~3개의 커스텀 던전을 만들수있다.\n",
      "여기서 커스텀던전은 생성자와 도전자로 나눈다.\n",
      "c. 커스텀던전을 만드는 생성자는 입장에 필요한 크리스탈을 설정하고 입장료로 받는다. 단, 도전자가 던전을 클리어하면 클리어 보상을 크리스탈로 지급해야한다.\n",
      "(정정 : 기존 빨간 크리스탈이 아닌 새로운 재화 파란 크리스탈 같은거 만들고, 매크로 방지 위해서 파란 크리는 pve최종 컨텐츠에서 채굴 가능하게 설정. 그럼 리세계정이나 초보계정은 아예 재화없음으로 도전 불가능.)\n",
      "d. 반대로 도전자가 던전을 클리어하지 못하면 클리어 보상은 없고 재도전 가능하지만 입장료를 다시 지불해야함.\n",
      "e. 커스텀던전의 구성 몬스터는 실제 유저의 몬스터, 룬작을 반영한다.\n",
      "f. 단, 중간보스와 최종보스는 새로운 가챠 재화이다. 컴투스는 여기서 돈을 더 벌어라.\n",
      "g. 커스텀던전을 꾸미는 각종 스킨, 테마들도 컴투스가 가챠 재화로 내놓아라. 여기서도 컴투스는 돈 벌어라.\n",
      "h. 유저들이 구성하는 던전은 수천가지 조합이 가능할테고 이제 거용죽던 오토 돌리고 선택지가 늘어난다.\n",
      "i. 실레나를 하거나, 싫증이 난다면 커스텀 던전으로 가서 새로운 던전 정복의 즐거움을 느낀다\n",
      "j. 매주 운영자는 최고 난이도의 커스텀 던전 몇가지를 공개하고 그 던전 주인에게 충분한 보상을 해라.\n",
      "이런 서머너즈워로 바뀌면 지금의 지루함은 좀 없어지고 20년까지 운영할수 있다 생각해요\n"
     ]
    },
    {
     "name": "stderr",
     "output_type": "stream",
     "text": [
      " 11%|█████████████                                                                                                            | 26/241 [01:38<13:02,  3.64s/it]"
     ]
    },
    {
     "name": "stdout",
     "output_type": "stream",
     "text": [
      "ㅇ ㅈㄱㄴ\n"
     ]
    },
    {
     "name": "stderr",
     "output_type": "stream",
     "text": [
      " 11%|█████████████▌                                                                                                           | 27/241 [01:41<12:43,  3.57s/it]"
     ]
    },
    {
     "name": "stdout",
     "output_type": "stream",
     "text": [
      "운영방침에 실레나 대리행위에 대한 내용을 빼던지 개나소나 하게 ㅋㅋㅋ\n",
      "자숙문어 다음시즌 게임 진행 못하게 막아주세요.\n",
      "이도저도 안하면 그건 못하는게 아니라 안하는거 아닙니까?\n",
      "적어도 잡을라는 노력은 해야죠\n",
      "판사님! 자백범인 잡아왔는데 기각이라뇨!\n"
     ]
    },
    {
     "name": "stderr",
     "output_type": "stream",
     "text": [
      " 12%|██████████████                                                                                                           | 28/241 [01:44<12:16,  3.46s/it]"
     ]
    },
    {
     "name": "stdout",
     "output_type": "stream",
     "text": [
      "https://cafe.naver.com/smonwar/2519676안녕하세요, 박렴치입니다.\n",
      "순위를 매기는 랭크게임에는 대리라는 게임이 없을 수가 없다고 생각합니다.\n",
      "허나 위에 입장문 처럼 대리 정황을 본인 조차 인정하고 있음에도\n",
      "어떠한 제재를 하지 않는 것은 컴투스의 대응에 미흡함이 있다고 생각합니다.\n",
      "(추가됨)\n",
      "위의 입장문을 보시면 알겠지만 현재 정짐니(자숙문어)는 회사 감사기간을 핑계로 대리를 했다는데요.\n",
      "일퀘만 받아도 될것을 왜 실레나까지 맡겼을까요. GS홉스님의 사과문에 보면\n",
      "(제가 친히 캡처까지 떠왔습니다.)링크: https://cafe.naver.com/smonwar/2518289감사때문에 실레나를 맡긴건 아닌거 같지 않나요?\n",
      "이건 방관입니다.\n",
      "대리가 판을 치는 세상에 일일이 다 잡아서 제재를 주지 못하겠죠.\n",
      "하지만 이미 들킨대로 다 들킨 정짐니의 건에 대해서까지\n",
      "아무런 제재를 주지 않는 건\n",
      "혹시 대리해도 다~ 눈감아줄테니 알아서 하라는 암묵적인 메세지인가요?\n",
      "다는 못 족쳐도 최소한의 노력은 보이셔야죠.\n",
      "다시 한번 부정행위로 인해 얻은 보상물(실형변)을 철회하여 주실 것을 부탁드리며 1일차 올립니다.\n",
      "수고하세요.\n"
     ]
    },
    {
     "name": "stderr",
     "output_type": "stream",
     "text": [
      " 12%|██████████████▌                                                                                                          | 29/241 [01:49<13:32,  3.83s/it]"
     ]
    },
    {
     "name": "stdout",
     "output_type": "stream",
     "text": [
      "밸런스야 욕나오지만 참고한다고 치면 적어도 대리는 막아야지 순겜유저들 다 떠나고 징계때릴꺼냐?\n",
      "대리를 찾아낼 능력이 안 되면 적어도 제보받은 거는 처리를 해야지 놀고만 있나\n"
     ]
    },
    {
     "name": "stderr",
     "output_type": "stream",
     "text": [
      " 12%|███████████████                                                                                                          | 30/241 [01:52<12:58,  3.69s/it]"
     ]
    },
    {
     "name": "stdout",
     "output_type": "stream",
     "text": [
      "상위권 길드 소속이라고 봐주기 식으로 하냐? 빌런 길드에서 대놓고 같은 길드원 밀어주기 OR 봐주기 식으로 하는데 컴투스는 실레나 유저들 모조리 잃고 싶은 거 아니면 제재를 해라 아니면 도배를 하던 뭐던 공카에서 물어 뜯을라니까\n"
     ]
    },
    {
     "name": "stderr",
     "output_type": "stream",
     "text": [
      " 13%|███████████████▌                                                                                                         | 31/241 [01:56<12:43,  3.63s/it]"
     ]
    },
    {
     "name": "stdout",
     "output_type": "stream",
     "text": [
      "시즌이 끝나갑니다. 다들 마무리는 잘하셨는지요.\n",
      "천장도 없는 게임에, 간신히 띄운 찬란은 쌍중복. 보기 힘든 번개에 영던몹만 나오는 빛암소환서. 먹기도 힘든 전설룬 강화는 매일 망하고, 폭주공속 연마석 힘들게 먹어 붙이면 늘 제자리.\n",
      "참 하드하고, 운빨 가득한 게임이지만 쉽게 놓지 못하는 건 그럼에도 재밌기 때문이겠죠.\n",
      "제게는 모든 걸 상쇄할 재미가 ‘실레나’에 있습니다.\n",
      "저항, 폭주절망에 욕도 하고 화도 내지만, 어느새 또 큐를 돌리고 있는 걸 보면 실레나는 참 잘 만든 컨텐츠인 것 같습니다.\n",
      "밴픽과 타겟팅을 고민하고, 크고 작은 변수에 웃고 화내는 한 판. 매번 새로운 한 판이 이 게임을 지속하게 하는 원동력이라 생각합니다.\n",
      "저는 이 재밌는 컨텐츠가, 오랜 시간 사람들에게 사랑받고 재미를 주길 바랍니다.\n",
      "그런 마음에서, 제가 최근 몇 시즌 느낀 우려를 정리해보고자 합니다.\n",
      "짧은 식견이지만 보탬이 되길 바라며.\n",
      "1. 풍서퍼가 게임을 망친다.\n",
      "풍서퍼에 대해, 이제는 어느정도 대응 가능하고, 폼도 죽지 않았냐 하는 이야기가 있습니다.\n",
      "‘풍서퍼를 너프해야한다’는 주장이라기보단, 쿨타임증가와 게이지컨트롤의 영향력을 줄일 필요가 있다는 주장에 가깝습니다.\n",
      "실레나의 재미는 밴픽, 인게임 플레이에 있습니다.\n",
      "자신의 메인픽을 정하고, 상대의 카운터픽을 하고. 게임에 들어가 서로 턴을 ‘주고 받는’ 과정입니다.\n",
      "하지만 최근 몇 시즌. 메인픽을 정함에 있어 제가 가장 중요하게 고려한 건 ‘1) 풍서퍼를 쓸 것인가? 2) 안 쓴다면 풍서퍼에 대응 가능한가?’ 였습니다.\n",
      "아무리 너프를 당하고 대응 가능한 픽들이 늘어 힘이 빠졌다한들 선픽몹으로 최고의 성능임은 부정할 수 없습니다.\n",
      "‘공속 33리더’로, 공속 주도권 싸움을 할지 섞을지 누울지 택할 수 있다는 강점, 그러면서 상대에겐 풍서퍼 제어를 위한 몹을 강제한다는 점은 밴픽을 확실히 유리하게 만듭니다. 동시에 여러 몹을 컨트롤할 수 있는 게임에서의 강점까지 더해져, 벌써 몇 시즌째 만인의 선픽몹으로 활약중입니다.\n",
      "턴제게임에서 선턴의 이점은 크고, 서머너즈워 같은 경우 특히 그렇습니다. 그래서 공속 주도권을 가져올 수 있는 속리더의 경우, 그 성능이 지나치면 안 된다는 건 모두가 인정하는 사실입니다.\n",
      "그런데, 풍서퍼의 쿨밀과 게이지컨트롤 능력은 여타 속리더와 견줄 수 없습니다. 특히 게이지 흡수를 통해 계속해서 사이클을 굴리며 상대몹을 견제하는 능력은 여전히 과합니다.\n",
      "선턴의 이점이 큰걸 알면서도, 실레나에서 폭주룬이 주류인건 한턴 한턴의 변수가 주는 이점과 재미도 크기 때문입니다. 과도한 게이지컨트롤은 상대와 나의 폭주 빈도 자체에 큰 차이를 만들어버리고. 설령 어렵게 턴을 먹는다해도 2턴, 3턴씩 쿨이 밀려있어 대처가 불가합니다. (폭주로도 대처가 불가한 쿨밀은 적어도 불사막, 풍슬같은 리스크를 가져야 한다고 생각합니다.)\n",
      "이제 대응 가능하지 않냐는 말이 제게 반쪽짜리인 이유는... 지겹기 때문도 있습니다.\n",
      "벌써 몇시즌째인지. 이 고착화된 메타에 가장 큰 영향을 미치는 게 저는 여전히 풍서퍼라고 봅니다.\n",
      "풍음양사가 눕덱의 희망이 된건, 풍서퍼를 완벽히 제어할 수 있는 몇 없는 몹이기 때문이고.\n",
      "불오공이나 불비라가 핵심 딜탱이 된건, 절망에 강하면서 풍서퍼에도 강하기 때문이라고 봅니다.\n",
      "쌍오컬트가 0티어 빛암일 수 있는 이유 역시, (2스 3스의 밸류가 높은 게 가장 큰 이유지만) 쿨밀에 저항력이 있기 때문이고요.\n",
      "결국 쿨밀에 강하면서, 불속성이거나 게이지를 뺏겨도 어떻게든 턴을 가져와 변수를 만들 수 있는 몹.\n",
      "그외의 몹은 살아남기 힘든 메타가 이제는 좀 바뀌었으면 좋겠습니다.\n",
      "컴투스는 내 턴수급을 늘리는 동시에 상대 턴을 억제하는 ‘게이지 흡수’와, 변수를 완벽히 차단하는 ‘쿨타임 증가’, 그리고 ‘공속리더’의 밸류에 대해 재고할 필요가 있습니다.\n",
      "2. 때로는 너프도 필요하다.\n",
      "불사막과 풍슬레이어는 분명 리스크가 큰 몹입니다. 보통 반드시 쿨밀이 필요한 상황에서 뽑게 되는데, 15%의 확률로 게임을 지게 만들곤 합니다. 속싸움을 이겨, 불사막 3스를 써도 ‘저항’ 한 번에 게임을 나가야 하는 부당한 상황을 많이들 겪으셨을 겁니다.\n",
      "그럼에도 불구하고 이 리스크 큰 몹이 주류픽이 된 건,\n",
      "하나의 몹이 게임을 시작하자마자 끝내버리거나(빛오컬 3스 해제후 폭주 2스 스턴/슬로우),\n",
      "불리한 게임을 스킬하나로 뒤집어버리는 상황(물음양 폭주벌떡 삼라만상) 등을 제어할 수 있는 확실한 수단이 불사막, 풍슬같은 쿨밀만 남았기 때문이라고 생각합니다.\n",
      "폭주벌떡같은 변수는, 분명 게임에 재미를 주는 요소지만 승패를 가르는 본질로서 작용하는 건 최소화해야 한다는 입장입니다. 그래서 밸류가 지나치게 큰 몹은, 당연히 적정하게 조정하는 것이 맞다고 생각합니다.\n",
      "최근 실레나 생태계를 뒤흔드는 빛오컬트나 빛호루스 너프 대신 카운터를 만들어야 한다는 글도 종종 보았는데, 일리 있는 말이지만 동시에 우려스럽기도 합니다.\n",
      "(빛암5성의 가치를 어느정도 보존해주어야 한다는 입장입니다. 암슬, 암요괴 등 없지만 과한 너프였다고 생각함).\n",
      "과거 암라클의 카운터 역할로 내정되어 숱한 버프를 받은 물화백은 대부분 해제러의 완벽한 카운터몹이 됐습니다. 앞으로 진행될 시즌에서 물화백은 아주 중요한 키몹이 될 거라 생각합니다.\n",
      "선턴해제러를 기용하는 속덱은 언제나 상대의 물화백픽을 견제해야 할거고, 눕덱 입장에서는 내 불하그 때문에 물화백을 쳐내야하나, 같은 고민에 빠지게 될 겁니다.\n",
      "밴픽에서 확실한 이점을 가지면서, 인게임에서도 확실한 성능을 보유한 또 하나의 몹이 만들어진 건. 면역 – 해제 – 해제의 카운터 ...라는 모두의마블같은 밸패때문이라고 생각합니다.\n",
      "애초에 선턴해제러에게 과도한 성능을 주지 않았어야 하고, 아예 대응이 불가능한 고밸류 스킬을 한 몹에 몰아주지 않았어야 합니다.\n",
      "그런 몹을 찍어내 메타픽으로 만들고, 사람들이 어떻게든 뽑아 죄다 사용하니 여론 때문에 너프하기도 힘들어지고. 그래서 그 카운터몹을 만들고. 카운터가 안되면 될 때까지 밸런스패치를 해주고.\n",
      "이 과정의 반복이 결국 또 실레나에서 기용 가능한 몹풀을 줄이고, 메타를 고착화시키는 원인이 되는 게 아닐까요.\n",
      "너프가 필요한 몹을 만들지 않는 것, 신중한 밸패가 최고의 방안이겠지만, 그게 어렵다면 적어도 최선의 조정은 이루어져야 합니다.\n",
      "빛오컬트, 빛호루스의 카운터몹. 어떻게 만들건가요?\n",
      "과도한 턴수급능력 차이를 줄이기 위해, 보급형 빛팬더라도 만드실건가요. 아니면 둘 다 방업스킬을 가졌으니, 물서퍼같은 방무뎀 몬스터를 더 찍어내실 건가요. 그럼 또 방어력 기반 몬스터들은 설 자리를 잃게 되는 악순환이 반복될 겁니다.\n",
      "저는 지난 밸패에서 저 두 몹이 상향을 받은 이유는, 아주 단순했을거라고 짐작하고 있습니다.\n",
      "오랜만에 출시된 신규 2각몹들과 잘 어울리기 때문이라는 단순한 이유.\n",
      "실레나에 미칠 영향은 크게 고려되지 않았을 거라는 생각이 드는 건, 밸패가 그만큼 유저들의 니즈나 플레이를 반영 못하고 있다는 반증이겠지요.\n",
      "고민없이 이루어진 밸패를, 사람들의 반발을 최소화하며 주워 담는 것도 능력이라 생각합니다.\n",
      "저는 컴투스가, 가치보존과 적절한 밸런스 사이의 균형을 잘 찾아내길 바랍니다.\n",
      "3. 속성의 경계가 무너진다.\n",
      "실레나는 인게임만큼 밴픽도 중요한 재미요소입니다.\n",
      "픽에서 속성 균형을 맞추는 것, 밴을 통해 속성의 이점을 차지하는 것 등이 전략적 플레이의 핵심이기도 하고요.\n",
      "그런데 최근 이 ‘속성’의 경계가 꾸준히 무너져가는 중이란 생각이 듭니다.\n",
      "아티팩트 추가피해의 효율, 메타의 핵심인 해제/쿨밀이 속성 영향을 받지 않는 것.\n",
      "그리고 이번 절망패치와 물서퍼가 그 이유라고 생각합니다.\n",
      "1) 빗나가도 기절, 해제, 쿨밀.\n",
      "리로디드 패치에서 창조게흡을 없앤 건 아주 중요한 (동시에 당연한) 패치였다고 봅니다.\n",
      "하지만 같이 이루어진 절망 매커니즘 변경이 게임에 긍정적인 영향을 주고 있나? 돌아볼 필요가 있습니다.\n",
      "아티팩트에 첫 번째 공격 치명피해 증가 옵션이 추가되는 등 컴투스가 다단히트와 단일히트 몬스터의 성능격차를 줄여야한다는 문제의식을 갖고 있음은 확인했습니다.\n",
      "이번 절망 매커니즘 변경도 그 일환 중 하나였다고 보고, 유의미한 시도였다고 생각합니다만.\n",
      "결과적으로 빗나가는 경우에도, 절망룬이 발동되도록 조치한 건 장기적으로 좋지 않은 판단 같습니다.\n",
      "턴을 주고받다 가끔씩 터지는 폭주나 절망이 재밌는거지, 시작하자마자 4명 기절하고, 역속성 평타에 매턴 기절하는 게임이 재밌는 건 아니니까요.\n",
      "적어도 저는, 캐리롤인 풍헬레가 물류에 절망, 절망 당해 퇴근해 게임 터지는 그런 광경은 ‘가끔’이어야 한다고 생각합니다.\n",
      "밴픽 과정에서, 속성으로도 우위를 차지하고 힘싸움에도 유리한 판을 만들었는데. 역속성 절망 때문에 게임을 지면, 피드백도 안되고 ‘억까당했다’는 불쾌한 감정만 남게 됩니다.\n",
      "절망 기반 단타 해제러의 기용을 늘리려는 시도 좋습니다. 하지만, 이 해제러들의 밸류가 저평가된 건 어디까지나 물류와 비교했을 때 상대적으로 낮은거지, 결코 절대적으로 구려서는 아니라고 판단해왔습니다.\n",
      "이미 해제가 속성을 타지 않는 것, 해제스킬 대부분이 +a를 갖고 있다는 점에서 충분했다고 봅니다.\n",
      "이번 패치를 통해, 물류와 여타 해제러들간의 격차는 줄었을지언정 덱컨셉간 유불리는 보다 극명해졌음을 부정할 수 없습니다.\n",
      "속성간 상성, 빗나감의 가치가 떨어지는 건, 전략적 플레이라는 재미요소를 반감시키는 일임을 알아주셨으면 합니다.\n",
      "2) 그래서 물서퍼보다 좋은가?\n",
      "메타픽들을 쓰다보면\n",
      "‘내 풍서퍼는 왜 이러지?’ ‘12시 풍서퍼는 불오공 게이지도 다 훔쳐다 턴먹고, 폭주터지고 또 훔쳐가고 발광을 하는데, 내가 쓰면...’\n",
      "같은 생각을 자주 하곤 합니다.\n",
      "제게 그 예외가 있다면, 물서퍼인데. 얘는 내가 쓰면서도 ‘이래도 되나?’ 싶은 생각을 자주하게 됩니다.\n",
      "선턴을 딴다고?\n",
      "첫턴 폭주로 반피, 불하그로 턴주고 또 폭주로 삭제.\n",
      "이래도 되나?\n",
      "쓰는 입장에서도, 당하는 입장에서도 어이가 없는 이 몬스터 역시 메타의 고착화에 크게 한 몫 하고 있습니다.\n",
      "물서퍼, 하그를 뚫을 수 있는가.\n",
      "물서퍼, 하그의 딜을 견딜 수 있는가.\n",
      "그래서 물서퍼보다 좋은가.\n",
      "저는 몹을 채용하고, 픽하고, 밴하는 과정에서 이런 고민을 반복하는 일이 줄었으면 합니다.\n",
      "물드나에는 낭만이 있고, 새로 출시된 물에이보르에는 포텐이 있는데. 그래서 물서퍼보다 좋은가?\n",
      "폭주룬으로도 선턴변수를 만드는 능력, 역속성도 때려잡는 방무딜, 1스 게흡까지.\n",
      "과도한 성능으로 누구나 쓰는 몹이 됐고, 덕분에 숱한 몬스터들(다수의 딜탱, 빛아크같은 방비례몬스터 등)이 사장됐음을 말하고 싶습니다.\n",
      "그리고 속성 간 상성을 무시하고 폭딜을 꽂아넣는 몬스터를 출시하려면 그 성능이 충분히 고려됐으면 합니다. (물서퍼와 풍웨폰은 하그와의 상성을 고려하더라도 분명한 차이가 있습니다.)\n",
      "4. 시도와 소통이 필요하다!\n",
      "두달마다 이루어지는 밸런스패치는 더 이상 유저들에게 큰 만족을 주지 못하는 것 같습니다.\n",
      "내 빛암, 내 주력몹이 버프되는지/너프되는지 정도를 확인하는 느낌이 강하지, 새로운 메타/새로운 게임을 할 수 있겠단 기대감은 전혀 주지 못합니다.\n",
      "허울뿐인 변화는 없느니만 못하단 예를, 바로 지난 밸패에서 보여줬다고 생각합니다.\n",
      "이제는 보다 적극적인 변화로 사람들에게 새로운 재미와 새로운 기회를 만들어주었음 합니다.\n",
      "사족으로 저는 이번 시즌, 빛대님의 방송을 자주 챙겨봤습니다.\n",
      "메타에 대한 진지한 고민, 몹 활용이나 밴픽에 대한 고민들을 볼 수 있어서 도움도 많이 받고 재밌었거든요.\n",
      "특히 쌍발조합의 안정감은 보면서도, 쓰면서도 아주 좋고 메타를 관통한다는 생각이 들었습니다.\n",
      "(결국 쌍발도, 33속리더 채용+쿨밀에 강함+물발로 물서퍼 등 핵심몹 견제 가능이라는 장점 = 서퍼들에 강하면서, 이후 유동적인 픽밴을 해도 구성이 무너지지 않는 조합임을 고려하면... 서퍼대가리들 참 지겹다!!)\n",
      "이만큼 게임에, 실레나에 진지하고 재미를 붙이는 사람들이 아직 많습니다.\n",
      "다들 떠났다고 하지만, 눕방이나 리플레이를 보면 여전히 실레나에 미친 사람들 많습니다.\n",
      "그런 사람들이 기대를 갖고 게임에 임할 수 있도록.\n",
      "이것저것 연구하고 시도할 수 있도록 대대적인 개선과 메타의 변화를 바랍니다.\n",
      "메이플스토리를 아시나요?\n",
      "제가 10년째 하고 있는 그 게임은, 컴투스보다 더한. 불통의 아이콘이자 배째라식 운영의 최고봉이었습니다.\n",
      "저는 –메-에서 4년째 길드를 운영하고 있는데, 늘 130~150명을 유지하던 길드원들이 환불사태라는 큰 사건 이후, 절반도 더 떠나 50명만 게임하던 게 불과 몇 년전 이야기입니다.\n",
      "이후 디렉터가 라이브로 치킨 먹방도 하고, 스트리머들 죄다 찾아가 질문받고 소통했습니다.\n",
      "여전히 부족한 부분 많은 게임이지만, 분명 변했고 살아난 예가 있습니다.\n",
      "적어도 유저와 게임이 ‘소통할 수 있다’라는 믿음이 얼마나 유의미한지.\n",
      "저는 다시금 150명을 채운 길드원들을 보며 확신합니다.\n",
      "이 게임에 돈과 시간과, 10대 20대 소중한 추억을 갈아 넣은 사람들이 많다는 걸 알아주세요.\n",
      "그리고 아는 만큼 존중해주셨으면, 그래서 대화하고 같이 개선해나갔으면 좋겠습니다.\n",
      "다음 시즌은 조금 다르길 바라며.\n",
      "마치겠습니다. 감사합니다.\n"
     ]
    },
    {
     "name": "stderr",
     "output_type": "stream",
     "text": [
      " 13%|████████████████                                                                                                         | 32/241 [02:00<12:44,  3.66s/it]"
     ]
    },
    {
     "name": "stdout",
     "output_type": "stream",
     "text": [
      "그때부터라도 각 등급별 현재 커트라인 확인할 수 있게\n",
      "실레나 페이지에 띄워주세요\n",
      "감사합니다\n",
      "그리고 제 계정에 물뇌제 좀 넣어주세요\n"
     ]
    },
    {
     "name": "stderr",
     "output_type": "stream",
     "text": [
      " 14%|████████████████▌                                                                                                        | 33/241 [02:03<12:26,  3.59s/it]"
     ]
    },
    {
     "name": "stdout",
     "output_type": "stream",
     "text": [
      "안녕하세요.\n",
      "최근 4시즌 연속 실레나 in100 마감하는 유저 로파이 입니다.\n",
      "이런글의 특성상 제 글에 신뢰를 더하기 위해 인증을하고 작성하는게 도움이 될것 같아서 이렇게 인증을 하고 글을 씁니다.벌써 7월 26일 밸런스 패치 공지가 올라오고 밸패한지 거의 2달 가량 흘렀는데요. 사실 리로디드 패치 이후 게임에 흥미를 잃었기에 실레나는 간간히만 하던터라 실레나 밸런스가 이렇게 망가졌는지는 체감 못 하고 있었습니다.\n",
      "얼마전에 복귀하고 실레나 큐 제대로 돌린지는 2-3주 정도 되었고 밸패 후 직접 500칼 이상 사용하며 플레이 해 본 결과 체감적으로나 통계적으로나 현재 실레나 밸런스는 역대 최악입니다.\n",
      "빛 오컬트는 승률 58퍼 픽률 24퍼를 기록하며 풍웨폰 핫픽스 이전 버전보다 좋은 승률을 보여주고 있고\n",
      "빛 호루스는 승률 54퍼 픽률 37퍼를 기록하며 과거 풍서퍼는 밸런스가 적당한 몹이였다고 깨닫게 해주는 통계를 보여주고 있습니다.통계상으로 이 둘은 이미 너프를 피해갈수는 없는 수준인데 컴투스는 '나는 모른다 무조건 2달 기다려' 라는\n",
      "스탠스로 아무런 입장도 취하고 있지않습니다.\n",
      "최소 한달전에 핫픽스로 밸패가 다시 한번 진행되었어도 모자랄판에 이 밸런스 박살난 버전으로 swc지역예선까지 마치었으니 대회를 참가하는 선수들이 불쌍할 따름입니다. (swc기간이라 핫픽스를 할 수 없다는 개소리는 말아주세요 오히려 핫픽스를 하루빨리 했어야되는 이유라고 생각합니다)\n",
      "컴투스빼고 모든 유저들이 다 아는 호루스 오컬트가 문제인 점을 간단히 집고 넘어가겠습니다\n",
      "우선 호루스 오컬트가 큰 문제가 되는 이유는 명확한 카운터 픽이 존재하지 않는다는 점입니다.\n",
      "이전부터 실레나는 빛암 op몹들도 벤픽에서 1:1로 교환가능한 3속성 카운터 몹이 존재했습니다.\n",
      "암바이슨의 경우 오래되서 잘 기억은 안나지만 불라클이라는 확고한 카운터가 존재하였으며 앞선 픽에서 면역러를 구성하였다면 무지성으로 뽑기는 어려운 카드였습니다.\n",
      "또한 가장 최근에 op였던 빛배틀의 경우 본인 덱 성향에 따라 풍드,불라클,풍토템, 암이프등 다양한 보급몹으로 카운터가 가능했었습니다\n",
      "하지만 선픽으로 뽑아도 아무런 부담이 없는 몹 임에도 불구하고 현재 호루스와 오컬트는 카운터가 존재하지않습니다. 호루스의 경우 유일하게 빛 팬더로 카운터가 가능하긴합니다만 빨3 픽률 37프로 나오는 몹을 특정 빛암 5성 몬스터로만 카운터픽으로 유효하다는 점은 굉장히 역겹습니다.\n",
      "이렇게 무너진 밸런스가 현재 실레나에 어떤영향을 미칠까요?\n",
      "현재 빨3유저는 다음과 같이 나뉩니다\n",
      "빛오컬 빛호루스를 보유한 기존 빨3유저\n",
      "빛팬더 보유로 빛호루스 상대가 가능한 빨3 유저\n",
      "빛오컬 빛호루스로 점수떡상한 기존 빨1,2유저\n",
      "그 외 나머지 20프로 기존 빨3유저\n",
      "그러면 여기서 누락된 과거 빨3유저들은 어디있을까요?\n",
      "과거 다수시즌이상 빨3을 유지하는 유저들은 현재 어지러운 밸런스로 빨1,2에서 다수 분포하고 있습니다.\n",
      "이 유저들은 호루스, 오컬트유저들에게 점수를 빨리지만 룬 아티는 기존 빨1,2 유저들에 비해 월등하기에\n",
      "기존 빨1,2유저들을 만나게되면 상성이고뭐고 그냥 압도해버립니다.\n",
      "기존 빨1,2 유저들은 무슨죄인가요?\n",
      "올바른 벤픽을 하고도 룬빨 아티빨로 게임을 져서 게임에서 진 이유를 찾지 못한채 본인의 벤픽을 탓하게됩니다.\n",
      "이게 옳은 게임 방향인가요?\n",
      "오컬트 호루스 유저는 마냥 좋을까요? 압도적인 오버밸랜스로 다음 밸패 너프 확정인데 이 박탈감은 어떻게 할 껀가요?\n",
      "암슬 암요괴 빛배틀 처럼 빛암 오피만들고 대가리치는 컨셉을 밸패노선으로 하려고 작정을 하신 모양인거같은데\n",
      "이러한 밸패는 유저들에게 결코 긍정적으로 작용하지 않을 것입니다.\n",
      "또한 현 실레나 상태를 보고 컴투스가 밸패 공지에 ‘지속적인 저희 내부 검증을 통해 항상 신중하고 조심스럽게 접근하고 있습니다.‘ 라는 문구를 적어놓은것을 보면 어처구니가 없을 뿐입니다\n",
      "과연 컴투스가 내부 검증을 하긴 할까요?\n",
      "불화백 속버프로 그 많은 항의를 받고 핫픽스를 한지 오래 안되었는데 불화백보다 1,2,3스 밸류 높고 기본 속120인 몹에 속버프를 달아놨습니다.\n",
      "또 호루스의 경우 속리더 를 보유한몹에 말도안되는 패시브를 추가해버렸구요 (불뱀패시브에 불뱀 본인은 게증x를 추가하면 얼마나 다른 몹이 될까요?)\n",
      "아무런 생각도 없고 사전 테스트도 없이 밸패를 진행하는거죠\n",
      "그냥 다음 2각은 방어형위주니까 방어버프 해주는 빛암오성 대충 버프하다가 이사단 난 걸로 밖에 보이지않습니다.\n",
      "그런데 더 웃긴건 컴투스의 대응입니다. 밸패이후 거의 매일같이 실레나 밸런스가 카페에 언급되고 있는데 컴투스는 아무런 대응도없이 신캐나 찍어내고 있습니다.\n",
      "실레나 유저들은 점령유저들처럼 똘똘뭉쳐서 불매운동이나 불만감을 표하지않으니까 대놓고 무시하시는건가요?\n",
      "불요괴 사태이후로 유저들과 소통해나가겠다면서 단 한번이라도 시행한적이 있었나요?\n",
      "저같은 대깨유저도 이번시즌 역겨워서 빨3마감만 하고 접는데 얼마나 많은 실레나 유저들이 이번시즌에 회의감을 느낄까요?\n",
      "컴투스가 이게임을 10년 더 해먹을 생각으로 리로디드 업데이트를 한 것이하면 더 이상 실레나를 이 상태로 방치해서는 안된다고 생각합니다.\n",
      "따라서 저는 컴투스에게 밸런스 패치가 엉망으로 이루어지게 된 이유와 현 실레나 상태를 방치하는 이유를 꼭 듣고 이와같은 일이 반복되는것을 막고 싶습니다.\n",
      "추가로 저는 일개 유저 한명일 뿐입니다.\n",
      "따라서 이 글을 보시고 실레나를 애정하시는 한국 내 여러 실레나 길드 그리고 유저분들께서도 공감하신다면 컴투스에게 입장 요구를 해주셨으면 합니다.\n",
      "여러 유저분들이 의견을 더해주시고 그게 쌓이게 된다면 컴투스가 뻔뻔하게 몇주 뒤에 아무런 입장도 표명하지 않은채로 새로운 밸런스 패치를 들고나오거나 이러한 엉망진창인 밸런스패치를 반복하는 것을 막을 수 있다고 봅니다.\n"
     ]
    },
    {
     "name": "stderr",
     "output_type": "stream",
     "text": [
      " 14%|█████████████████                                                                                                        | 34/241 [02:08<14:06,  4.09s/it]"
     ]
    },
    {
     "name": "stdout",
     "output_type": "stream",
     "text": [
      "긴글 싫어하시는 분이 많으실거라 빨간글이 핵심 한줄요약입니다.\n",
      "실레나 형변 풀리는 날짜를 알아보았는데요 현재 풀리는 기간 기준 음양 실형변을 얻고싶다고 하면 31년 1월에 얻을 수 있습니다.. 31년이면 8년 뒤인데.. 그때까지 기다릴 분이 몇분이나 되실까요?.. 목표가 눈에 보여야 뭐라도 열심히 하는데 8년이면 눈에 보이지 않는 기간이라고 생각합니다.\n",
      "보통 유저들이 제안하는건 주기를 반으로 줄여주던가 아니면 형변을 6개월에 2개씩 풀어줘라 이렇게 말씀하시는데\n",
      "컴투스 직원분들은 이러면 실형변의 가치가 떨어질까봐 이부분을 많이 고민하시는 것으로 보입니다.(그저 제 생각)\n",
      "그래서 제가 생각한건 주기를 줄이지 않는 대신 목표가 보이게끔 서머를 열심히 하게끔 만들어 주는 것이 포인트인데\n",
      "도전과제 보상으로 계정당 단 한번 실레나 형변 원하는 것을 1개 선택해서 얻을 수 있게 해주는것이 어떤가?\n",
      "이렇게 생각해보았습니다.\n",
      "그 도전과제로는 실레나 형변이니 실레나 첫 빨별 달성! 이 도전과제로 적합하다고 생각했습니다.\n",
      "실레나 형변은 서머인들이라면 뭐 누구나 로망으로 생각하고 다들 얻고싶어하는 그런 희귀한 가치가 있는 아이템입니다. 이것때문에 머리가 빠져가며 실레나를 하곤하죠.. 저또한 전시즌에 그랬었구요(전시즌 암음양 실형변먹음) 그러한 가치가 있는 아이템이기에 빨리 풀어달라 2개씩 내달라 하는 건 그저 징징거리는 것 같아서 어떻게하면 가치를 보존하면서 실레나 형변을 풀 수 있을까 생각을 해보았더니 위와같은 결론이 나왔네요. 자신이 노력해서 얻은 결과물이니 실형변을 시켜준 그 몬스터 또한 엄청나게 애정이 갈거구요.\n",
      "리로디드 이후에 이것저것 패치되고 밸런스 패치도 이번에 빛호루스 빛오컬과 같은 op캐릭이 나와서 맘에들진 않지만 그래도 제가 좋아하는 게임이라 항상 잘되었으면, 뉴비들이 많아졌으면 하는 바램이 있습니다. 이번 글도 서머가 더 잘되었으면 하는 바램에서 생각해본 의견인데 반영이 될진 모르겠지만 글은 작성해봅니다.\n",
      "직원분들이 항상 게시글을 지켜보며 밸런스 패치도 하고 이것저것 유저의 의견도 반영하는 듯 싶은데 제 글도 읽어주셨음 좋겠네요 ㅎㅎ 글이 길어졌는데 요까지 작성하겠습니다. 다들 즐섬하세요~\n",
      "혹시나 글 읽으시고 제 의견에 관해 또다른 의견이나 추가의견 있으시면 댓글 부탁드려요 ㅋㅋ\n",
      "-------------------------------------------- 실형변 목록과 풀리는 날짜 ----------------------------------------------\n",
      "실레나시즌 1 - 이프리트\n",
      "실레나시즌 2 - 호문쿨루스\n",
      "실레나시즌 3 - 발키리\n",
      "실레나시즌 4 - 웅묘무사\n",
      "실레나시즌 5 - 하늘무희\n",
      "실레나시즌 6 - 팔라딘\n",
      "실레나시즌 7 - 피닉스\n",
      "실레나시즌 8 - 신수승\n",
      "실레나시즌 9 - 드래곤나이트 (23년 1월 ~ 7월)\n",
      "실레나시즌 10 - 드래곤 (23년 7 ~ 24년 1월)\n",
      "실레나시즌 11 - 키메라 (24년 1월 ~ 7월)\n",
      "실레나시즌 12 - 오컬트 (24년 7월 ~ 25년 1월)\n",
      "실레나시즌 13 - 요정왕 (25년 1월 ~ 7월)\n",
      "실레나시즌 14 - 사막여왕 (25년 7월 ~ 26년 1월)\n",
      "실레나시즌 15 - 해왕 (26년 1월 ~ 7월)\n",
      "실레나시즌 16 - 극지여왕 (26년 7월 ~ 27년 1월)\n",
      "실레나시즌 17 - 손오공 (27년 1월 ~ 7월)\n",
      "실레나시즌 18 - 데몬 (27년 7월 ~ 28년 1월)\n",
      "실레나시즌 19 - 비스트라이더 (28년 1월 ~ 7월)\n",
      "실레나시즌 20 - 헬레이디 (28년 7월 ~ 29 1월)\n",
      "실레나시즌 21 - 드루이드 (29년 1월 ~ 7월)\n",
      "실레나시즌 22 - 오라클 (29년 7월 ~ 30년 1월)\n",
      "실레나시즌 23 - 선인 (30년 1월 ~ 7월)\n",
      "실레나시즌 24 - 키메라 (30년 7월 ~ 31년 1월)\n",
      "실레나시즌 25 - 음양사 (31년 1월 ~ 7월)\n",
      "실레나시즌 26 - 배틀엔젤 (31년 8월 ~ 32년 1월)\n",
      "출처 : https://cafe.naver.com/smonwar/2505860\n"
     ]
    },
    {
     "name": "stderr",
     "output_type": "stream",
     "text": [
      " 15%|█████████████████▌                                                                                                       | 35/241 [02:12<13:33,  3.95s/it]"
     ]
    },
    {
     "name": "stdout",
     "output_type": "stream",
     "text": [
      "\n"
     ]
    },
    {
     "name": "stderr",
     "output_type": "stream",
     "text": [
      " 15%|██████████████████                                                                                                       | 36/241 [02:30<28:24,  8.32s/it]"
     ]
    },
    {
     "name": "stdout",
     "output_type": "stream",
     "text": [
      "정말 오토하시겠습니까? 같은 팝업창 넣어주세요\n",
      "자꾸 이모티콘 누르다가 오토눌러서 이상한 스킬 써져요\n"
     ]
    },
    {
     "name": "stderr",
     "output_type": "stream",
     "text": [
      " 15%|██████████████████▌                                                                                                      | 37/241 [02:34<23:39,  6.96s/it]"
     ]
    },
    {
     "name": "stdout",
     "output_type": "stream",
     "text": [
      "물에지오 고르면 물 강철기사단장까지 나오게 해주세요\n",
      "vice versa\n"
     ]
    },
    {
     "name": "stderr",
     "output_type": "stream",
     "text": [
      " 16%|███████████████████                                                                                                      | 38/241 [02:37<19:44,  5.84s/it]"
     ]
    },
    {
     "name": "stdout",
     "output_type": "stream",
     "text": [
      "랭킹전 버튼은 그렇게 잘 눌러지면서 왜 취소버튼은 몇 번을 눌러도 취소가 안 되냐 제발 개선 좀 하자\n"
     ]
    },
    {
     "name": "stderr",
     "output_type": "stream",
     "text": [
      " 16%|███████████████████▌                                                                                                     | 39/241 [02:41<16:52,  5.01s/it]"
     ]
    },
    {
     "name": "stdout",
     "output_type": "stream",
     "text": [
      "실레나 빨별 정말 힘들게 마감했는데 업적 보상이 마나석이었나 기억도 안나네요..\n",
      "엔드컨텐츠에 상징적인 빨별인데 마감 첫 업적보상으로 지난 실레나 형변 택1해서 하나씩 주면 좋지 않을까요..\n",
      "그럼 실레나 빨별 달려는 의지가 더 확고해져서 실레나 활성화도 되고 빨별 마감후에 감동과 성취감이 어마어마할것 같습니다\n",
      "물론 미션 업적보상이니 예전에 달성했던 사람들도 소급해서 주는 방식으로 하면 좋을거 같아요\n",
      "미리 감사합니다\n"
     ]
    },
    {
     "name": "stderr",
     "output_type": "stream",
     "text": [
      " 17%|████████████████████                                                                                                     | 40/241 [02:44<14:57,  4.46s/it]"
     ]
    },
    {
     "name": "stdout",
     "output_type": "stream",
     "text": [
      "불드나한테 약화효과가 걸려있는상태였고\n",
      "물유니가 턴을먹었습니다\n",
      "그래서 면역을주고 물유니 2스로 해제겸 방어강화를 걸엇는데 약화효과는 해제되지않고 버프만 걸렸습니다....ㅠㅠ\n"
     ]
    },
    {
     "name": "stderr",
     "output_type": "stream",
     "text": [
      " 17%|████████████████████▌                                                                                                    | 41/241 [02:47<13:56,  4.18s/it]"
     ]
    },
    {
     "name": "stdout",
     "output_type": "stream",
     "text": [
      "승리도 떳고 null로 팅기지도 않았는데 왜 점수나 포인트가 그대로인가요?\n",
      "패키지 낼 생각말고 버그 픽스좀 제대로 해주세요\n"
     ]
    },
    {
     "name": "stderr",
     "output_type": "stream",
     "text": [
      " 17%|█████████████████████                                                                                                    | 42/241 [02:51<13:24,  4.04s/it]"
     ]
    },
    {
     "name": "stdout",
     "output_type": "stream",
     "text": [
      "상대가 정확히 어느 국적이었는지는 기억 안나는데 암드나 불뱀 풍토템 물선인 이런거 뽑고 \"해줘\" 하는 스타일이었음.\n",
      "다 잡고 암드나 풍토템 남았는데 암드나도 잡는 순간 딱! 저 화면 뜨면서 경기 기록 자체가 사라짐 아 ㅋㅋ\n",
      "내칼도 사라지고 경기도 사라지고 리플레이도 사라짐 엌ㅋㅋㅋ\n",
      "이거 당해보신 분?\n",
      "이거 무슨 상황인지 컴투스 해명하라\n"
     ]
    },
    {
     "name": "stderr",
     "output_type": "stream",
     "text": [
      " 18%|█████████████████████▌                                                                                                   | 43/241 [02:55<12:51,  3.90s/it]"
     ]
    },
    {
     "name": "stdout",
     "output_type": "stream",
     "text": [
      "요즘들어서 당하는 사람 많은데 진짜 당하고 나면 화가남. 4대1로 오토돌려도 이기는 판인데 갑자기 null 창 뜨면서 리플도 안남는다. 진짜 운영진 확인하고 조치좀 해라. 이게 말이 되냐? 이러한 판이 주차되는 판에 마지막 칼이면 어떤 심정일까? 운영진 확인하고 조치해라 진짜.\n"
     ]
    },
    {
     "name": "stderr",
     "output_type": "stream",
     "text": [
      " 18%|██████████████████████                                                                                                   | 44/241 [02:58<12:06,  3.69s/it]"
     ]
    },
    {
     "name": "stdout",
     "output_type": "stream",
     "text": [
      "현상황 데빌몬 수급이 정말 어렵기 때문에\n",
      "실레나에서 몹 하나 쓰려면 몇주는 고사하고 몇달이 걸리는 현 상황에 많은 유저들이 직면해 있습니다\n",
      "실레나를 즐기려면 현질이라도 하라는 얘기인지 모르겠는데\n",
      "아무리 엔드컨텐츠라고 불린다지만 pvp컨텐츠는 뉴비부터 고인물까지 다 즐길 수 있어야 한다고 생각합니다\n",
      "pve에 쓸 몹들에게도 데빌몬 주기도 급급한데 뉴비가 pvp 몹들에게 데빌몬을 먹일 여력이 있을 리 없죠\n",
      "그리고 신몹 나올때마다, 밸패 때마다, 새로운 몹을 실험해볼때마다 데빌을 먹일 순 없잖아요\n",
      "당신들이 희소성을 그렇게 높게 만들어놨는데\n",
      "근데 스작을 안하면 몹을 쓰기 힘들정도로 효율이 떨어지죠 스킬 쿨이 너무 길어지는 경우가 다반사고 이는 몹 성능이 좌우할 정도니까요\n",
      "제가 제안하는 건 4가지 입니다\n",
      "1. 실레나 풀스작 기준으로 몹 사용 가능하게 하기\n",
      "2. 게임 내에서 데빌몬 환급 기능 만들기\n",
      "3. 매주 데빌몬 던전을 열어서 수급량 늘리기\n",
      "4. 4성 데빌몬 만들기\n",
      "이정도는 해주셨으면 합니다\n",
      "솔직히 많은 분들도 불만이 많으실 거라 생각하고\n",
      "저도 이 게임 솔직히 하루아침에 망할 것 같진 않지만 끝물이라는 느낌이 들고는 있습니다\n",
      "밸런스도 엉터리고 버려진 몹들 천지에 너무 굳어진 게임 높은 진입장벽 그리고 메이플 뺨치는 과금 단위\n",
      "정말 좋아하는 게임이지만 아니 어쩌면 좋아하던\n",
      "지금은 솔직히 애정이 식는게 느껴지고 그런 모습이 많이 보입니다\n",
      "유저들을 개돼지로 보지 않는 이상 이정도는 해주시길 바랍니다\n",
      "권고가 아닙니다\n",
      "경고입니다\n",
      "물론 제가 경고한다고 해서 딱히 할 수 있는 건 없습니다\n",
      "조용히 접고 떠나야겠죠\n",
      "이미 많은 분들도 그러시고 있고\n",
      "앞으로도 실망하신 분들은 그러실 거라고 생각합니다\n",
      "길게 생각하세요\n",
      "유저들은 개돼지가 아닙니다\n",
      "메이플 사태를 보면서 남의 집 불타네 이렇게만 보시지 않으시길 바랍니다\n",
      "메이플과 서머의 공통점은 상당히 많습니다\n",
      "한번 뒤돌아보시길 바랍니다.\n",
      "이상 서머를 걱정하는 유저의 한마디였습니다\n",
      "긴 글 읽어주셔서 감사합니다.\n"
     ]
    },
    {
     "name": "stderr",
     "output_type": "stream",
     "text": [
      " 19%|██████████████████████▌                                                                                                  | 45/241 [03:02<12:09,  3.72s/it]"
     ]
    },
    {
     "name": "stdout",
     "output_type": "stream",
     "text": [
      "채팅에서 계속 물어봄\n"
     ]
    },
    {
     "name": "stderr",
     "output_type": "stream",
     "text": [
      " 19%|███████████████████████                                                                                                  | 46/241 [03:05<11:42,  3.60s/it]"
     ]
    },
    {
     "name": "stdout",
     "output_type": "stream",
     "text": [
      "서머 최종컨텐츠인 실레나 벌써 몇 년째인지 모르겠네요 초창기에는 형변을 위해 달리던 사람들이 많았으나 일반 판매형변 퀄리티가 이렇게나 올라온만큼, 기존 보상에 다른 특별한 보상을 추가해 은별 금별 빨별까지 함께 즐기는 실레나를 만들어주세요\n"
     ]
    },
    {
     "name": "stderr",
     "output_type": "stream",
     "text": [
      " 20%|███████████████████████▌                                                                                                 | 47/241 [03:08<11:12,  3.46s/it]"
     ]
    },
    {
     "name": "stdout",
     "output_type": "stream",
     "text": [
      "위 사진처럼 실레나에서 내가 사용한 몹별 승률이나 이번 시즌동안 얼마나 몬스터별로 픽했는지 볼수 있으면 정말 좋을것 같아요\n",
      "그럼 실레나 재미도 업되고 사용자도 훨씬 활성화 되지 않을까요..\n",
      "오래 된 게임이라 새로 컨텐츠 낼거 없으면 이런 통계 페이지를 인게임 내에서 구현하면 좋을 것 같습니다\n",
      "언제까지 외부사이트에서 눈 찡그려가면서 어떤몹인지 유추해야 하는지 ㅠㅠ\n"
     ]
    },
    {
     "name": "stderr",
     "output_type": "stream",
     "text": [
      " 20%|████████████████████████                                                                                                 | 48/241 [03:12<11:13,  3.49s/it]"
     ]
    },
    {
     "name": "stdout",
     "output_type": "stream",
     "text": [
      "공통\n",
      "발키리, 드래곤, 키메라, 요정, 아크 기본 속 3~5 증가\n",
      "요정 제압스킬 약화효과 100%\n",
      "발키리 2스 강화효과 제거 후 약화효과 적용\n",
      "소생불가 목록\n",
      "물헬레, 불극지, 풍닭\n",
      "물 속성\n",
      "1)물발\n",
      "2스 (발키리 공통 약화효과 이전 강화효과 제거 추가)\n",
      "3스 피회복 15퍼 아군 15퍼\n",
      "2)물키\n",
      "2스 질풍(공통) 공속 버프 후 공격\n",
      "3스 적보다 공속이 빠를 시 빗나가지 않음 추가\n",
      "3)오컬트\n",
      "3스 자신의 최대체력의 5% 만큼 타수당 추가피해로 변경\n",
      "힐러 겸 확실한 광역 고정딜러 포지션(현 물선인 딜보다 5%로 약함)\n",
      "4)물드나\n",
      "3스 패시브 흐르는자 말그대로 흐르는게 정상이기에 게이지 감소효과 무시 추가\n",
      "스탯 공격력,방어력 60~70 상향\n",
      "타 속성 드나보다 카운터픽 능력이 부족하기에 상향 필요 의견\n",
      "5)물요정\n",
      "3스 쿨타임 증가, 감소 효과 받지 않음, 부활시 턴 획득\n",
      "불 속성\n",
      "1)불오공\n",
      "좀 극단적이긴 하지만... 이쯤되면 모든 약화효과 면역에 패시브 쌓는 방법을 아군 피격시\n",
      "로 조건 변경 후 현 20공퍼 / 10 공속 퍼센트를 10% / 5% 로 적용\n",
      "2)불아크\n",
      "3스 어짜피 pve 몹, 덱 압축에 용이하게 3스에 도트힐 혹은 힐 추가\n",
      "3)불선인\n",
      "2스 약화효과발동 100% 및 타격당 상대 체력 7.5% 데미지 총 15% 데미지 = 스작 후 18.75%\n",
      "3스 반격불가 추가 (빛드루, 불뱀) 면역\n",
      "4)불해왕\n",
      "롤백\n",
      "풍속성\n",
      "1) 풍키\n",
      "2스 질풍 동일\n",
      "3스 적보다 공속이 빠를 시 빗나가지 않음 추가 및 기절 확률도 100%\n"
     ]
    },
    {
     "name": "stderr",
     "output_type": "stream",
     "text": [
      " 20%|████████████████████████▌                                                                                                | 49/241 [03:16<11:54,  3.72s/it]"
     ]
    },
    {
     "name": "stdout",
     "output_type": "stream",
     "text": [
      "1600구간 6판중에 5판 빨별 매칭인데 맞나?\n",
      "불법픽 이게 맞나? 매칭시스템 지금 오류있는거 아니지?\n"
     ]
    },
    {
     "name": "stderr",
     "output_type": "stream",
     "text": [
      " 21%|█████████████████████████                                                                                                | 50/241 [03:20<12:02,  3.78s/it]"
     ]
    },
    {
     "name": "stdout",
     "output_type": "stream",
     "text": [
      "제가 몹 선택하는 것까지는 괜찮았는데 상대가 몹올린후부터 끊깁니다.(정확히는 픽창 올리고 시간초가 다간후 끊김표시) 그러다 갑자기 연결되서 제 몹 자동 픽 되어있고 다시 상대 몹 올라간후 같은 증상 반복입니다. 재접할 경우 게임은 시작되어있고 그때부터 컨트롤 가능한데 사실상 진 게임들이구요... 랭겜에서 4판연속 그랬고 친선전으로 테스트 해본 결과도 동일했습니다. 제 폰이 문제인지 게임적 문제인지 궁금합니다.\n"
     ]
    },
    {
     "name": "stderr",
     "output_type": "stream",
     "text": [
      " 21%|█████████████████████████▌                                                                                               | 51/241 [03:23<11:29,  3.63s/it]"
     ]
    },
    {
     "name": "stdout",
     "output_type": "stream",
     "text": [
      "개또라이 한국놈 만나서 킹받네\n",
      "이모티콘 off 돌려나라 돈투스\n"
     ]
    },
    {
     "name": "stderr",
     "output_type": "stream",
     "text": [
      " 22%|██████████████████████████                                                                                               | 52/241 [03:26<11:02,  3.51s/it]"
     ]
    },
    {
     "name": "stdout",
     "output_type": "stream",
     "text": [
      "패치할때 마다 좀 건들지 마라 ㅈ투스들아\n",
      "스치기만해도 방깍 cc 다 처들어온다\n",
      "일좀 제대로 해라.\n",
      "우리애들 저항100이 왜 12시 효적 ㅅㄱ들한테 적용되는거 같냐\n",
      "ㅡㅡㅗ\n",
      "오류 수정 해라 ㅅㄱ\n"
     ]
    },
    {
     "name": "stderr",
     "output_type": "stream",
     "text": [
      " 22%|██████████████████████████▌                                                                                              | 53/241 [03:30<10:48,  3.45s/it]"
     ]
    },
    {
     "name": "stdout",
     "output_type": "stream",
     "text": [
      "↑ 현재 사용중인 밴픽창은 몹 선택시 가로로 두줄 길게라서 너무 몹찾기가 힘들어요. 사용했던 몹들이 바뀌면 위치도 계속 바뀌어서 더욱 찾기가 힘들죠\n",
      "그래서 건의 해봅니당 그림판으로 끄적대서 볼품은 없지만\n",
      "↓요렇게 건의 해봅니다(예시) 좌우로 두칸 나눠서 한쪽은 밴픽창 한쪽은 가독성이 높아지도록\n",
      "추가로 즐겨찾기한 몬스터는 테두리색이 달랐으면 해요\n"
     ]
    },
    {
     "name": "stderr",
     "output_type": "stream",
     "text": [
      " 22%|███████████████████████████                                                                                              | 54/241 [03:33<10:43,  3.44s/it]"
     ]
    },
    {
     "name": "stdout",
     "output_type": "stream",
     "text": [
      "이거 왜 안 해줍니까\n",
      "따로따로 보고 싶은 사람이 누가 있다고\n",
      "이정도는 같이 보게 해줘야지\n"
     ]
    },
    {
     "name": "stderr",
     "output_type": "stream",
     "text": [
      " 23%|███████████████████████████▌                                                                                             | 55/241 [03:36<10:38,  3.43s/it]"
     ]
    },
    {
     "name": "stdout",
     "output_type": "stream",
     "text": [
      "▶ 월드 아레나 시즌 24 일정\n",
      "~ 2023-03-18 (토) 16:00 (KST)\n",
      "▶ 점령전 토너먼트 시즌 11 일정\n",
      "2023-03-09(목) 11:00 ~ 2023-03-25(토) 24:00\n",
      "현생 포기 갓겜..\n",
      "챔스+월드컵 동시에 하는격\n",
      "모두가 같은 조건이니 상관없다고 생각할 수도 있는데, 피로도가 너무 심합니다.\n",
      "점토 기간은 다 같이 실시간으로 공방덱연구 해야해서 칼 아예 못 씁니다.\n",
      "만약 가능하다면 안 겹치게 조금씩 조정 부탁드립니다.\n"
     ]
    },
    {
     "name": "stderr",
     "output_type": "stream",
     "text": [
      " 23%|████████████████████████████                                                                                             | 56/241 [03:40<10:32,  3.42s/it]"
     ]
    },
    {
     "name": "stdout",
     "output_type": "stream",
     "text": [
      "태생 5성 한 속성만 해도 40마리 정도인데 즐겨찾기 개수를 언제까지 40마리로 묶어두실 건가요?\n",
      "태생 상관없는 다양한 조합을 이 게임의 재미라고 내세울꺼면 즐겨찾기 수부터 늘려야 할 듯.\n",
      "그리고 사람들 많이 접어서 널널한데 이참에 룬 창고도 1200개까지 늘립시다.\n"
     ]
    },
    {
     "name": "stderr",
     "output_type": "stream",
     "text": [
      " 24%|████████████████████████████▌                                                                                            | 57/241 [03:43<10:21,  3.38s/it]"
     ]
    },
    {
     "name": "stdout",
     "output_type": "stream",
     "text": [
      "이 버그 아마...도 예전에도 있었던것같은데\n",
      "아무튼 조금전에 실레나 돌리던중에 매칭되고, 상대방과 제가 마지막픽 하는 상태에서 상대방 연결 불안정하다고 한번 뜨고, 그뒤에 픽 다 하고난 뒤에 밴픽 고르는 상태였는데 그때 갑자기 연결 불안정하다고 뜨더니 점수깎이는거도 없이 갑자기 실레나 대기화면으로 나와져버림.\n",
      "근데 전투정보가 이미 존재한다면서 실레나 돌릴수도 없음.\n",
      "한 3~4번 껐다 켰고, 서브폰하고 메인폰 따로 들어가봤는데도 전투정보가 이미 존재한다면서 계속 안돌려짐...\n",
      "이거 예전에도 이런거 악용해서 그냥 서로 팅기게하는 버그 있었던거로 기억하는데\n",
      "제 기억이 잘못된게 아니라면 아직도 이런게 존재하는게 신기하네요\n",
      "아무튼 빨리 돌리고 자려고했는데.. 이거 어케고침 ㅠㅠ수정내용) 사진추가\n"
     ]
    },
    {
     "name": "stderr",
     "output_type": "stream",
     "text": [
      " 24%|█████████████████████████████                                                                                            | 58/241 [03:46<10:21,  3.40s/it]"
     ]
    },
    {
     "name": "stdout",
     "output_type": "stream",
     "text": [
      "어제는 잘만 되다가 오늘은 갑자기 픽 잡히니까\n",
      "안들어가지길래 렉인갑다 하고 돌리려는데 이미 전투정보 존재 ??????\n",
      "게임 끄고 다시 들어가보니 이미 픽은 반절이상 되어있고 그냥 앞순서로 막 박혀있고 어떻게든 뒤에 픽이라도 제대로 할려고 보니 픽도 아예 안먹고 계속 렉걸리고 결국 픽밴 전부 시스템 맘대로 박아버림ㅋㅋ 이렇게 3판 정도 내리 박으니까 점수 쭉쭉 떨어지네요^_^\n",
      "길드 지인분들 중엔 괜찮은 분들이 태반인데 이상한 사람들은 대체 뭐가 문제인지 파악하고 공지 좀 올려주면 안돼요 ? 맛탱이간지 2시간정도 지난거 같은데\n"
     ]
    },
    {
     "name": "stderr",
     "output_type": "stream",
     "text": [
      " 24%|█████████████████████████████▌                                                                                           | 59/241 [03:51<11:18,  3.73s/it]"
     ]
    },
    {
     "name": "stdout",
     "output_type": "stream",
     "text": [
      "실레나를 라이트하게 즐기고 있는 유저입니다.\n",
      "매시즌 금2 마감을 목표로 가볍게 즐기는데, 매번 올라갈때마다 금2 달때쯤부터 스트레스가 이만저만이 아닙니다\n",
      "아무리 연승중이라지만 매칭차가 300이상 차이나는건 너무한거 아닙니까\n",
      "실레나 시스템상 특정 구간에서 마감하려면 현 등급 이상을 올려야하는데 꼭 원하는 구간이 되면 매칭치 때문에 지게 만듭니다\n",
      "꼭 겜을 지게 만들어야 속이 후련하십니까\n",
      "어차피 유저에 맞는 등급에 올라서면 자연스레 지기도 할텐데 일부러 가볍게 플레이하는 유저까지 스트레스 받게 해야겠습니까?\n"
     ]
    },
    {
     "name": "stderr",
     "output_type": "stream",
     "text": [
      " 25%|██████████████████████████████                                                                                           | 60/241 [03:55<11:18,  3.75s/it]"
     ]
    },
    {
     "name": "stdout",
     "output_type": "stream",
     "text": [
      "안녕하십니까 항상 이시간쯤되면 실레나마감에 스트레스로 몸무게가 빠지는 유저중한명입니다\n",
      "모두가 즐겨야할 게임에 실레나로인한 스트레스로 일상생활에 지장이 생기는 분들이 적지 않을까 생각됩니다.\n",
      "그리하여!!! 생각해본게\n",
      "시즌중에 최고등수나 최고 티어 달성한것을 기준으로 보상이 지급되면 어떤가 하는생각입니다.\n",
      "이리하면 스트레스 없이 다들 즐겁게 실레나풀칼을 달릴수있다고 조심스리 생각해봅니다.\n",
      "이미 시즌중에 빨1 티어를 갱신하신분들도 더 높은 티어를 갱신하기위해끊임없이 달릴거고 실패하더라도 크게 스트레스로인해 일상생활에 지장이 없는 삶을 살수있을겁니다.\n",
      "혹여 상위티어 찍먹 (빨3)도 있을수있지만, swc출전권이나 레토 출전권은 시즌 마감 기준으로 하면 될거라 생각됩니다.\n",
      "또한 그동안 실레나로인한 스트레스를 받지않기위해 실레나를안하는 유저들의 유입도 기대해 볼수있을듯합니다\n",
      "이상~~ 모두 존버 없는 즐거운 풀칼 실레나를위해\n"
     ]
    },
    {
     "name": "stderr",
     "output_type": "stream",
     "text": [
      " 25%|██████████████████████████████▋                                                                                          | 61/241 [03:58<11:09,  3.72s/it]"
     ]
    },
    {
     "name": "stdout",
     "output_type": "stream",
     "text": [
      "실레나에서 룬 임시장착후에 나왔다가 다시들어갔을때 자동으로\n",
      "위 메뉴 팝업되고, 터치시 프로그램 종료현상 일어남\n"
     ]
    },
    {
     "name": "stderr",
     "output_type": "stream",
     "text": [
      " 26%|███████████████████████████████▏                                                                                         | 62/241 [04:02<10:51,  3.64s/it]"
     ]
    },
    {
     "name": "stdout",
     "output_type": "stream",
     "text": [
      "왜 몹 고르기도전에 내가 뭐고를지알고 룬작 어떤지아는 적을 만나야함?\n",
      "픽할때 내 닉 안보일수 있게하는 옵션 만들어주세요\n"
     ]
    },
    {
     "name": "stderr",
     "output_type": "stream",
     "text": [
      " 26%|███████████████████████████████▋                                                                                         | 63/241 [04:05<10:42,  3.61s/it]"
     ]
    },
    {
     "name": "stdout",
     "output_type": "stream",
     "text": [
      "시즌마다 픽률대비 승률 과하게 높은 3속성3마리\n",
      "빛암속성3마리 정해서 그거 픽하고 지면 점수 두배로 쳐깍고 이기면 점수 반만주자\n",
      "무지성 선픽 풍서퍼 쳐박으면 속댁 눕덱 둘다 견제되는게 말이되냐? 날빌유저들은 그냥 접으란거지?\n"
     ]
    },
    {
     "name": "stderr",
     "output_type": "stream",
     "text": [
      " 27%|████████████████████████████████▏                                                                                        | 64/241 [04:09<10:22,  3.52s/it]"
     ]
    },
    {
     "name": "stdout",
     "output_type": "stream",
     "text": [
      "매칭이 적당히 비슷한 사람끼리 되어야 하는거 아닙니까? 무슨 매칭을 100점 차이 나는 사람이랑 붙여줍니까? 내가 이겨도 이건 별로고 지면 더 ㅇ같습니다. 차라리 동 점수대에서 매칭 상대가 없다고 하던가, 아니면 이기면 보상을 훨씬 많이 주던가. 하나는 하십쇼. 100점차끼리 구간도 나눠놓고는 서로 붙여놓는건 뭔지 모르겠습니다? 천시즌 결과 반영도 좀하구요. 전시즌 상위티어 애들이 패작해서 아래구간 와있는거 형상아이템만 봐도 딱 보이는데 그런애들이 1200~1300대에 깔려있어서 찐 그 구간에 있어야 할 유저는 기분만 ㅈ같은 게임 해야하는데 배치 패작에 대한 대비는 있습니까?\n"
     ]
    },
    {
     "name": "stderr",
     "output_type": "stream",
     "text": [
      " 27%|████████████████████████████████▋                                                                                        | 65/241 [04:12<10:22,  3.54s/it]"
     ]
    },
    {
     "name": "stdout",
     "output_type": "stream",
     "text": [
      "이젠 좀 풀어줘. 너무 텀이 길어.\n"
     ]
    },
    {
     "name": "stderr",
     "output_type": "stream",
     "text": [
      " 27%|█████████████████████████████████▏                                                                                       | 66/241 [04:16<10:15,  3.52s/it]"
     ]
    },
    {
     "name": "stdout",
     "output_type": "stream",
     "text": [
      "1 풍서퍼\n",
      "2 물음양\n",
      "3 풍화백\n",
      "4 풍웨폰\n",
      "5 물서퍼\n",
      "6 물류\n",
      "7 불라클\n",
      "8 물라클\n",
      "불비라는 별로 안무섭\n",
      "그냥 현 실금2~3에서 개인적인 기준임\n"
     ]
    },
    {
     "name": "stderr",
     "output_type": "stream",
     "text": [
      " 28%|█████████████████████████████████▋                                                                                       | 67/241 [04:19<09:54,  3.42s/it]"
     ]
    },
    {
     "name": "stdout",
     "output_type": "stream",
     "text": [
      "실레나 형변 이제는 풀어라.\n",
      "오라클 형변은 몇년뒤에나 볼수있는데, 몇년동안 사람들이 남을까 과연.\n",
      "그냥 실레나 형변 풀고. 져도 점수 조금씩 줘서 실레나 유입을 늘려라\n"
     ]
    },
    {
     "name": "stderr",
     "output_type": "stream",
     "text": [
      " 28%|██████████████████████████████████▏                                                                                      | 68/241 [04:22<09:39,  3.35s/it]"
     ]
    },
    {
     "name": "stdout",
     "output_type": "stream",
     "text": [
      "실레나 형변 지금처럼 풀면 섭종전에 안나오는 형변도 쌓이겟다.\n",
      "아끼다 똥되지 말고 그냥 풀자.\n"
     ]
    },
    {
     "name": "stderr",
     "output_type": "stream",
     "text": [
      " 29%|██████████████████████████████████▋                                                                                      | 69/241 [04:26<09:35,  3.35s/it]"
     ]
    },
    {
     "name": "stdout",
     "output_type": "stream",
     "text": [
      "지금처럼 풀면 도대체 얼마를 기다려야되는거임\n",
      "그때까지 게임이 살아있긴 할까. 슬슬 실레나 형변푸는 주기좀 바꾸자. 더 빠르게\n"
     ]
    },
    {
     "name": "stderr",
     "output_type": "stream",
     "text": [
      " 29%|███████████████████████████████████▏                                                                                     | 70/241 [04:29<09:35,  3.36s/it]"
     ]
    },
    {
     "name": "stdout",
     "output_type": "stream",
     "text": [
      "김피디 식사는 잡쉈나?\n",
      "서머 처음 시작했을때가 52살인데 벌써 환갑임\n",
      "곧 관짝들어가야하는데 빨리 실형변좀 풀어줘 플리즈\n"
     ]
    },
    {
     "name": "stderr",
     "output_type": "stream",
     "text": [
      " 29%|███████████████████████████████████▋                                                                                     | 71/241 [04:32<09:22,  3.31s/it]"
     ]
    },
    {
     "name": "stdout",
     "output_type": "stream",
     "text": [
      "한섭 겸 전섭 1위 티엠의 한탄글을 보고 씁니다.\n",
      "공덱몹 룬 빼놓게 만드는 점령전이랑\n",
      "공덱몹 룬 채워야 하는 월드길드전이랑 너무 상극입니다.\n",
      "겜안해보셨죠?\n",
      "상위권 점령전 유저들이 누구하나 빠질것 없이 곡소리가 나오는데는 다 이유가 있는건데\n",
      "겜을 해봤으면 이럴리가 없죠\n",
      "알고도 이러는거면 악랄하다고밖에.. 근데 딱봐도 그런거 같진 않음\n",
      "걍 모르시는듯. 겜을 안하는데 무슨재주로 압니까\n",
      "점령전 할때 월드길드전 방덱 들어가보면 룬 다빠져있어요.\n",
      "맘같아선 미궁, 아레나 등 컨텐츠별로 싹다 룬 분리해달라고 하고 싶은데\n",
      "점령전이 만악의 근원입니다. 미궁 갈라치면 풍화백 룬 빠져있고, 뭔 룬 빠져있고, 찾아서 채우고, 쉽게 즐길수 있는 겜 피곤하게 만들고....\n",
      "이건뭐 시탑 섭대 미궁 라이벌 토벌전 어쩌고저쩌고 숙제만 주구장창 늘어가고 실레나는 재밌게 잘 즐기고 있는데 점령전 피로도개선은 나아질기미가 안보이고\n",
      "실레나 룬창 분리가 어떤 효과였는지 본인들이 잘 아실거 아닙니까? 점령전 실레나 둘다하는 유저입장에서 진짜 이만한 동아줄패치가 없었습니다. 실레나 접근장벽도 훠어어어어어얼씬 낮아졌고요\n",
      "점령전 할 때는 던전도 맘대로 못 골라 가는거 아세요?\n",
      "어떤 던전은 몹들 룬 빠지거든요\n",
      "이런거 하나하나가 다 스트레스입니다. 왜 이런 불필요한 부대시간으로 사람들 스트레스쌓게 만들어서 다 떠나게 만드는건지 진심으로 궁금함\n",
      "*고민해본 결과 점령전을 타 컨텐츠로부터 분리하는 게 더 원큐이고 효율적이란 생각이 들어서\n",
      "월드길드전 룬 분리-->점령전 룬 분리로 제목 바꿨습니다.\n",
      "점령전 실레나와 함께 서머너즈워 핵심 최종컨틴츠 양대산맥 이잔아요.... 좀더 신경 써주세요\n",
      "모 길드처럼 점령전시간은 운영진공지와 리플공유 외 길드챗 일체금지! 이런 룰 만들게 하지말고 인게임내 점령용 채팅도 좀 새로 파주시고\n",
      "예약제 하는것들 뻔히 다 아는데 시스템화 좀 해주시고... 피로도 줄일 방법이 빤히 다 있다니깐요???\n",
      "지금처럼 타컨텐츠에 민폐 오지게끼치는 헝태가 아니라 피로도 대폭 하락하고 점령전에 유저들 유입되고 활성화되고 강해지고 싶어서 룬팩 연성팩 사고 싶어질 미래를 생각해주세요\n"
     ]
    },
    {
     "name": "stderr",
     "output_type": "stream",
     "text": [
      " 30%|████████████████████████████████████▏                                                                                    | 72/241 [04:36<09:31,  3.38s/it]"
     ]
    },
    {
     "name": "stdout",
     "output_type": "stream",
     "text": [
      "1. 실시간 아레나\n",
      "빨별권의 유저수를 좀 늘렸으면 좋겠습니다.\n",
      "빨3 - 500위\n",
      "빨2 - 1500~2000위\n",
      "빨1 - 4000~5000위\n",
      "유일하게 대회도 하는 컨텐츠이면서 해당 컨텐츠 유저수 증가를 원하는 컴투스입장에서 어느정도 강수는 필요하다고 생각합니다.\n",
      "2. 점령전\n",
      "레토진출 길드부터 형변1개는 주면 좋겠습니다.\n",
      "우승 전속성\n",
      "2등 4개\n",
      "4강 3개\n",
      "8강 2개\n",
      "레토진출 1개\n",
      "레전드 토너먼트에 참가하기 위해 한시즌 열심히 달린 길드들이 매칭으로 울고 웃는게 너무 아이러니합니다. 시즌 내내 열심히 달린 길드들에게 보상을 더 후하게 줬으면해요\n"
     ]
    },
    {
     "name": "stderr",
     "output_type": "stream",
     "text": [
      " 30%|████████████████████████████████████▋                                                                                    | 73/241 [04:39<09:29,  3.39s/it]"
     ]
    },
    {
     "name": "stdout",
     "output_type": "stream",
     "text": [
      "가끔 일반 룬관리창에서 실레나 룬인지 잘 모르는데\n",
      "공속연마하면 촘촘하게 연계하는 실레나 특성상 가끔 턴꼬이는경우가 있어요.\n",
      "실레나 누가끼고 있는지 볼 수 있는 UI좀 넣어주세요\n"
     ]
    },
    {
     "name": "stderr",
     "output_type": "stream",
     "text": [
      " 31%|█████████████████████████████████████▏                                                                                   | 74/241 [04:42<09:25,  3.39s/it]"
     ]
    },
    {
     "name": "stdout",
     "output_type": "stream",
     "text": [
      "1. 실레나 갑자기 튕기길래 들어가보니까 로그아웃 됨\n",
      "2. 다시 로그인해서 들어가보니까 재입장하라고 뜸\n",
      "3. 확인 누르니까 종료됐다고 나옴\n",
      "4. 다시 실레나 할라니까 실레나 실행 안 됨\n",
      "이게 도대체 무슨 버그에요 실레나 폭주 계속터져서 하루만에 150점까먹은것도 화딱지나는데ㅠ 아예 못하게 막아버리네 이젠\n"
     ]
    },
    {
     "name": "stderr",
     "output_type": "stream",
     "text": [
      " 31%|█████████████████████████████████████▋                                                                                   | 75/241 [04:46<09:12,  3.33s/it]"
     ]
    },
    {
     "name": "stdout",
     "output_type": "stream",
     "text": [
      "아이폰도 아레나처럼 실레나 리플 파일로 저장할 수 있게 해주세요\n",
      "굳이 왜 안되는지 모르겠네요\n"
     ]
    },
    {
     "name": "stderr",
     "output_type": "stream",
     "text": [
      " 32%|██████████████████████████████████████▏                                                                                  | 76/241 [04:49<09:17,  3.38s/it]"
     ]
    },
    {
     "name": "stdout",
     "output_type": "stream",
     "text": [
      "진심 스레나 모으게 개빡센거 알자나여\n"
     ]
    },
    {
     "name": "stderr",
     "output_type": "stream",
     "text": [
      " 32%|██████████████████████████████████████▋                                                                                  | 77/241 [04:52<09:05,  3.33s/it]"
     ]
    },
    {
     "name": "stdout",
     "output_type": "stream",
     "text": [
      "스트몹이랑 슬레이어 스트라이커 같이 검색 되면 좋겠네요.\n",
      "가령 불류 검색하면 불스트도 같이 검색되게요.\n"
     ]
    },
    {
     "name": "stderr",
     "output_type": "stream",
     "text": [
      " 32%|███████████████████████████████████████▏                                                                                 | 78/241 [04:55<08:46,  3.23s/it]"
     ]
    },
    {
     "name": "stdout",
     "output_type": "stream",
     "text": [
      "연마할때 공속 1더 올린다고 하는데\n",
      "실레나 사용중룬이면 턴꼬이는경우 있으니까\n",
      "제발 해주세요ㅠㅠ\n"
     ]
    },
    {
     "name": "stderr",
     "output_type": "stream",
     "text": [
      " 33%|███████████████████████████████████████▋                                                                                 | 79/241 [04:59<08:43,  3.23s/it]"
     ]
    },
    {
     "name": "stdout",
     "output_type": "stream",
     "text": [
      "턴제 게임에서 한 턴의 유무는 게임을 뒤집을만큼 큽니다.\n",
      "그래서 내가 폭주 한번 터졌으면 상대도 폭주가 한번 터지는게 가장 이상적이고 공평하다고 생각하는데, 이걸 반영하여 폭주 확률 증가 상한선을 없애고 폭주가 터질 때까지 5%씩 무제한 증가로 하고 폭주 터지면 확률 리셋하는걸로 하면 별로일까요? 하한선 17%는 그대로 두고요\n",
      "지금 게임하다보면 17%이랑 27%이랑 너무 체감이 안되서 상대가 폭주 터지면 계속 터지고 나는 절대 안터지는거 같은데..\n",
      "방금 전에 상대 폭주 6번 터질동안 저는 한번도 안터져서 갑자기 급발진해봤어요\n"
     ]
    },
    {
     "name": "stderr",
     "output_type": "stream",
     "text": [
      " 33%|████████████████████████████████████████▏                                                                                | 80/241 [05:03<09:59,  3.72s/it]"
     ]
    },
    {
     "name": "stdout",
     "output_type": "stream",
     "text": [
      "7만.. 아니 6만까지라두 ㅜㅜ\n"
     ]
    },
    {
     "name": "stderr",
     "output_type": "stream",
     "text": [
      " 34%|████████████████████████████████████████▋                                                                                | 81/241 [05:07<09:36,  3.60s/it]"
     ]
    },
    {
     "name": "stdout",
     "output_type": "stream",
     "text": [
      "월드보수 점수로 해보는거 어떰??\n",
      "월보점수는 그짓말을 안하잖아요\n",
      "실레나 아레나야 오랫동안 안하거나 패작하면 미스매칭이 너무심해서 섬린이한테는 스트레스임 ㅠ\n"
     ]
    },
    {
     "name": "stderr",
     "output_type": "stream",
     "text": [
      " 34%|█████████████████████████████████████████▏                                                                               | 82/241 [05:10<09:13,  3.48s/it]"
     ]
    },
    {
     "name": "stdout",
     "output_type": "stream",
     "text": [
      "그냥 못한다고 팝업 띄어주시던가 아니면 개선 부탁하요\n"
     ]
    },
    {
     "name": "stderr",
     "output_type": "stream",
     "text": [
      " 34%|█████████████████████████████████████████▋                                                                               | 83/241 [05:13<08:55,  3.39s/it]"
     ]
    },
    {
     "name": "stdout",
     "output_type": "stream",
     "text": [
      "아..점수 다 날리내ㅡㅡ\n",
      "어째 쫌 확인해줘요\n"
     ]
    },
    {
     "name": "stderr",
     "output_type": "stream",
     "text": [
      " 35%|██████████████████████████████████████████▏                                                                              | 84/241 [05:17<09:01,  3.45s/it]"
     ]
    },
    {
     "name": "stdout",
     "output_type": "stream",
     "text": [
      "점수만 내려가고..확인쫌 해서 고쳐요...아..짜증나내..\n",
      "오늘 왜이러나...\n"
     ]
    },
    {
     "name": "stderr",
     "output_type": "stream",
     "text": [
      " 35%|██████████████████████████████████████████▋                                                                              | 85/241 [05:20<08:47,  3.38s/it]"
     ]
    },
    {
     "name": "stdout",
     "output_type": "stream",
     "text": [
      "아군 혼자 남아 승리하기 업적 달성 조건이 충족 되는 판에서 승리할시 Null 오류가 두번 떴습니다. 가뜩이나 혼자 남아서 승리하는 업적 달성 할수 있는 판이 적은데 모두 오류 뜨네요. 확인해주세요.\n"
     ]
    },
    {
     "name": "stderr",
     "output_type": "stream",
     "text": [
      " 36%|███████████████████████████████████████████▏                                                                             | 86/241 [05:23<08:49,  3.42s/it]"
     ]
    },
    {
     "name": "stdout",
     "output_type": "stream",
     "text": [
      "보상 수령이 되지 않습니다. 확인 부탁드립니다.\n"
     ]
    },
    {
     "name": "stderr",
     "output_type": "stream",
     "text": [
      " 36%|███████████████████████████████████████████▋                                                                             | 87/241 [05:27<08:52,  3.46s/it]"
     ]
    },
    {
     "name": "stdout",
     "output_type": "stream",
     "text": [
      "저혼자 8마리 픽하면돠나요..버전 업데이트 공지 못받았는데요..??저는 언제까지 좀비덱 오토를 봐야할까요\n",
      "현재 팀전 실레나 문제\n",
      "1. 5판중 4판은 본인자신이랑 매칭되고\n",
      "2. 1시간전에 플레이한 게임이 별도공지 없이 어째서 버전이 다르다고 뜨나요..??\n",
      "3. 잠수유저 매칭되어서 전투포기도안되고 5분동안 멍하니 바라보는게 맞을까요..??\n",
      "1달 전부터 팀전실레나 공지한걸로아는데\n",
      "매칭시스템에서 생기는 문제와 리플레이 버전오류와\n",
      "의미없이 5분동안 잠수유저를 상대로 멍하나 폰봐야하는 이유를 모르겠네요..\n",
      "차라리 항복 20초동안 응답없으면 자동 수락한걸로 해주세요\n",
      "잠수 응답을 거절로 하면.. 남아있는 사람은 무슨죄인가요\n"
     ]
    },
    {
     "name": "stderr",
     "output_type": "stream",
     "text": [
      " 37%|████████████████████████████████████████████▏                                                                            | 88/241 [05:31<09:03,  3.55s/it]"
     ]
    },
    {
     "name": "stdout",
     "output_type": "stream",
     "text": [
      "이게 리플레이에 뜨는 픽순서와 결과인데실제로는 제가 선픽입니다. 오류 수정 부탁드려요\n"
     ]
    },
    {
     "name": "stderr",
     "output_type": "stream",
     "text": [
      " 37%|████████████████████████████████████████████▋                                                                            | 89/241 [05:35<09:19,  3.68s/it]"
     ]
    },
    {
     "name": "stdout",
     "output_type": "stream",
     "text": [
      "연마 변환 연성 할때 예를들어서 효저가 낀 딜탱룬이 있는데\n",
      "효저변환을 아무생각없이 했다가\n",
      "나중에 보니 실레나 효저100 맞춰뒀던 몹이 그 룬을 끼고있어서\n",
      "효저가 모자라져있다거나 하는 상황이 종종 있습니다..\n",
      "그냥 룬 관리 창에서 실레나에서 누가 끼고 있는 룬인지 볼 수 있었으면 좋겠네요.\n",
      "매번 실레나 몹관리 왔다갔다 하기 너무 귀찮;\n"
     ]
    },
    {
     "name": "stderr",
     "output_type": "stream",
     "text": [
      " 37%|█████████████████████████████████████████████▏                                                                           | 90/241 [05:38<08:53,  3.53s/it]"
     ]
    },
    {
     "name": "stdout",
     "output_type": "stream",
     "text": [
      "암헬레 2스 해제 확률 버프좀 해주세요.\n",
      "실레나 2대2 매칭 시간이 너무 긴만큼 하는 사람이 없어요. 보상이 없어서.. 보상좀 주세요. 메달 상점 등등\n"
     ]
    },
    {
     "name": "stderr",
     "output_type": "stream",
     "text": [
      " 38%|█████████████████████████████████████████████▋                                                                           | 91/241 [05:41<08:21,  3.34s/it]"
     ]
    },
    {
     "name": "stdout",
     "output_type": "stream",
     "text": [
      "2승1패했는데 점수제자리?\n",
      "이기면 6~7점주고 지면 11~12빨리고\n",
      "금2랑 매칭되서 지는거면 이해라도하겠는데\n",
      "같은 금3이잔아요?\n",
      "1600점이랑 1800점이랑 보상이 다름?\n",
      "더많이이기고 승률은 오르는데 왜 점수가 떨어지는겁니까\n",
      "적어도 같은 티어내에서 점수편차는좀 줄여주세요\n"
     ]
    },
    {
     "name": "stderr",
     "output_type": "stream",
     "text": [
      " 38%|██████████████████████████████████████████████▏                                                                          | 92/241 [05:44<08:31,  3.43s/it]"
     ]
    },
    {
     "name": "stdout",
     "output_type": "stream",
     "text": [
      "이 정신나간 폭주, 진짜 더 이상은 스트레스 받아가면서 못하겠습니다. 절이 싫으면 중이 떠나는게 옳으나 떠날 때 한 마디는 하고 가야겠습니다.\n",
      "이 폭주 ㅈ망겜 적당히 방치하고 수정해주세요.\n",
      "전 지능 찾으러 계정팔고 떠납니다.\n"
     ]
    },
    {
     "name": "stderr",
     "output_type": "stream",
     "text": [
      " 39%|██████████████████████████████████████████████▋                                                                          | 93/241 [05:49<09:03,  3.67s/it]"
     ]
    },
    {
     "name": "stdout",
     "output_type": "stream",
     "text": [
      "내픽할때 연결끊기고 자동으로 픽 다되고 리더도 못고르고 시작해서는 렉 아예 안걸리네 ㅡㅡ 와이파이 아님\n"
     ]
    },
    {
     "name": "stderr",
     "output_type": "stream",
     "text": [
      " 39%|███████████████████████████████████████████████▏                                                                         | 94/241 [05:52<09:04,  3.70s/it]"
     ]
    },
    {
     "name": "stdout",
     "output_type": "stream",
     "text": [
      "Pve(특히 1인뇌솔드) 룬에서 공속이 나노셋팅 되어있는데 실레나 룬창에서 변환했다가 속이 꼬인적이 몇번 있어서 불편하더라구여\n",
      "해당룬이 기존에 어떤몹이 사용하고 있는 룬인지 팝업 한번만 추가해주시면 좋을거같슴다\n"
     ]
    },
    {
     "name": "stderr",
     "output_type": "stream",
     "text": [
      " 39%|███████████████████████████████████████████████▋                                                                         | 95/241 [05:56<08:41,  3.57s/it]"
     ]
    },
    {
     "name": "stdout",
     "output_type": "stream",
     "text": [
      "제발요 주차하고 실수로 돌리면 개빡쳐\n"
     ]
    },
    {
     "name": "stderr",
     "output_type": "stream",
     "text": [
      " 40%|████████████████████████████████████████████████▏                                                                        | 96/241 [05:59<08:23,  3.47s/it]"
     ]
    },
    {
     "name": "stdout",
     "output_type": "stream",
     "text": [
      "무슨 의도인진 알겠으나 역효과다\n",
      "밑에도 누가 글쓰셨네\n",
      "약올리는것도 아니고\n",
      "스트레스 주는 컨텐츠로 되지 않게 이모티콘 없애라\n",
      "어짜피 채팅도 못하는데 끝날때 약올리는 인간들 때문에\n",
      "멀쩡한사람도 스트레스 받는다\n",
      "그냥 게임만 할수 있게\n",
      "이모티콘좀 빼라\n"
     ]
    },
    {
     "name": "stderr",
     "output_type": "stream",
     "text": [
      " 40%|████████████████████████████████████████████████▋                                                                        | 97/241 [06:02<08:06,  3.38s/it]"
     ]
    },
    {
     "name": "stdout",
     "output_type": "stream",
     "text": [
      "개인스펙 프라이버시도있고\n",
      "무조건적으로보이게말고(*방송인, 랭커들) on / off를도입해도좋고\n",
      "상담받거나할때 초보들 도움되게 개선해주세요\n",
      "이제 마을컨텐츠는 조금만잡으면 다맛볼수있는데\n",
      "남은컨텐츠는 실레나뿐이라쳤을때 상담받을려면 아이디로그인시켜서 상담받는\n",
      "번거로움이 생기는데 그냥 개선하나만해주면되지않을까생각합니다.\n"
     ]
    },
    {
     "name": "stderr",
     "output_type": "stream",
     "text": [
      " 41%|█████████████████████████████████████████████████▏                                                                       | 98/241 [06:06<08:12,  3.45s/it]"
     ]
    },
    {
     "name": "stdout",
     "output_type": "stream",
     "text": [
      "아무리 사람이 없어도\n",
      "매칭점수 100~200점 나는거 어찌좀해줘라...\n",
      "섬린이나 복귀유저들은 30판하면 25판이상을 진다...\n",
      "즐기는 컨텐츠가 아닌 스트레스 컨텐츠이다\n",
      "안하려니.. 어쩌다 얻는 명점때메 하긴해야겠고...\n",
      "30판하려니 시간은 많이 잡아먹는데\n",
      "매번 지니까 짜증나고... 화나고 스트레스 받고\n",
      "이모티콘이라도 없애던가.... 약올리는것도 아니고...\n",
      "짱개 새끼들은 어찌나 임티로 약올리는지\n",
      "매칭점수부터 어떻게좀해라... 그리고 한번 만난놈 연이어 안만나게좀해라...\n",
      "연속 4번~5번 만나서 지면 짜증난다...\n",
      "그리고 이기면 15점 지면 15점 똑같이 떨어져라 왜 이기면 점수가 더 많이 주고\n",
      "지면 점수가 적게 떨어지냐... 섬린이 입장에서는 져도 점수가 얼마 안떨어지니\n",
      "어쩌다 한번만나면 몇판진게 회복된다;; 그럼 또 그런수준애들을 계속 만난다\n",
      "비슷한 애들끼리라도 매칭해줘라 진짜.... 어떨땐 30판중 28패 할때도 있다\n",
      "화난다 화나... 스트레스 받으려고 컨텐츠 하는데 왜하나 싶다..\n",
      "안하려니 쥐꼬리많나 명점이 아깝기도 하고... 하려니 스트레스고..\n"
     ]
    },
    {
     "name": "stderr",
     "output_type": "stream",
     "text": [
      " 41%|█████████████████████████████████████████████████▋                                                                       | 99/241 [06:09<08:16,  3.49s/it]"
     ]
    },
    {
     "name": "stdout",
     "output_type": "stream",
     "text": [
      "컴투스에서 무작위 100개의 소환몬스터 선정 후\n",
      "6성 풀스작으로 몬스터 지급!\n",
      "룬은 개인소지 룬으로 취향껏!\n"
     ]
    },
    {
     "name": "stderr",
     "output_type": "stream",
     "text": [
      " 41%|█████████████████████████████████████████████████▊                                                                      | 100/241 [06:13<08:04,  3.44s/it]"
     ]
    },
    {
     "name": "stdout",
     "output_type": "stream",
     "text": [
      "시즌 마감마다 캡처해두고는 있는데 인게임에서 한번에 보고 싶어요\n"
     ]
    },
    {
     "name": "stderr",
     "output_type": "stream",
     "text": [
      " 42%|██████████████████████████████████████████████████▎                                                                     | 101/241 [06:16<07:48,  3.34s/it]"
     ]
    },
    {
     "name": "stdout",
     "output_type": "stream",
     "text": [
      "밴픽률이나 몬스터별 승률을 겜상에서 알려줬으면 좋겟네여\n"
     ]
    },
    {
     "name": "stderr",
     "output_type": "stream",
     "text": [
      " 42%|██████████████████████████████████████████████████▊                                                                     | 102/241 [06:19<07:23,  3.19s/it]"
     ]
    },
    {
     "name": "stdout",
     "output_type": "stream",
     "text": [
      "나같은 초보는 하루 30판중에 5판이기기도 힘들어 할맛이 떨어집니다....\n",
      "초보들의 참여를 유도하려면 패배시에도 1포인트라도 줘야하지 않을까요? 고랩들만 난무하는 실레나 지금은 등급이 낮아서 매칭도 안되고있네요...\n"
     ]
    },
    {
     "name": "stderr",
     "output_type": "stream",
     "text": [
      " 43%|███████████████████████████████████████████████████▎                                                                    | 103/241 [06:22<07:28,  3.25s/it]"
     ]
    },
    {
     "name": "stdout",
     "output_type": "stream",
     "text": [
      "시즌별로 본인이 했던 실레나 게임들을 토대로 어떤몹을 몇번 픽했는지 픽률과\n",
      "해당 몬스터의 승률을 게임 내에서 볼수 있으면 정말 재밌을것 같아요\n",
      "갓패치 기대합니다\n"
     ]
    },
    {
     "name": "stderr",
     "output_type": "stream",
     "text": [
      " 43%|███████████████████████████████████████████████████▊                                                                    | 104/241 [06:25<07:29,  3.28s/it]"
     ]
    },
    {
     "name": "stdout",
     "output_type": "stream",
     "text": [
      "티어개편, 세분화된 보상은 기본이고… 은3에서 금1 가는데 갭차이가 왜 난다고 생각하나요?ㅋㅋㅋㅋ곰곰히 생각좀 해바요 은3컷은 1200인데 금1은 1700이 넘어야되네? 금2랑 금3 점수 차이는 왜 별로 안날까? 머리좀 굴려보든가… 예전부터 패치하는 꼬라지보고 컴투스 서머팀분들중에 게임 하고있는 사람들 없거나 게임 이해하고 있는 양반들 없다고 생각합니다\n",
      "잘 모르겠으면 랭커들 스카웃하거나 자문을 구해보세요.\n",
      "그리고 최근들어 핵쟁이, 매크로 중국놈들 기하급수적으로 늘었는데 대처할 생각은 하고 있어요?ㅋㅋㅋ\n",
      "어째 애정으로 게임 하고 있다만 점점 정떨어져요\n",
      "소통이 아닌 불통이 되시는거같아요…\n"
     ]
    },
    {
     "name": "stderr",
     "output_type": "stream",
     "text": [
      " 44%|████████████████████████████████████████████████████▎                                                                   | 105/241 [06:29<07:22,  3.25s/it]"
     ]
    },
    {
     "name": "stdout",
     "output_type": "stream",
     "text": [
      "양팀 4마리 모두 폭주를 낀 상태에서도 이렇게 폭주턴차이가 많이 나는건 이해불가임.\n",
      "그냥 폭주빨 없에고 정직하게 룬작과 조합만으로 승부를 나게해야지 말도 안되는 운빨턴수급 차이로\n",
      "게임이 터지니까 유저들도 실레나를 점점 떠나는게 현실.\n",
      "실레나 잘할라고 빡파밍했는데 이렇게 말도 안되는 이유로 계속 패배하다보면 왜 내가 밤낮으로 파밍을 해왔을까란 현타가 와서 그냥 안하게됩니다.\n",
      "재미를 위해 하는 겜이 이렇게 스트레스가 되는데 누가 버티겠습니까?\n",
      "이유가 명확한 패배를 해야 그에대한 전략을 짜고 부족함을 채우면서 더 열심히 겜을 하게 되는데 이런식으로 지면\n",
      "대책이고 뭐고 없습니다. 파밍할 시간에 기도나 열심히하는게 더 나은 현실.\n",
      "개발진들, 진짜 실레나가 전략겜으로 e스포츠로 거듭나기 위한다면 이부분에 대해서 고민 좀 해보세요.\n"
     ]
    },
    {
     "name": "stderr",
     "output_type": "stream",
     "text": [
      " 44%|████████████████████████████████████████████████████▊                                                                   | 106/241 [06:32<07:38,  3.40s/it]"
     ]
    },
    {
     "name": "stdout",
     "output_type": "stream",
     "text": [
      "할때마다 살떨리면서 한판한판하는데 다이긴판을 저따구로 팅기게 하면 기분이 얼마나 주옥같은지 아시는가?? 하..한두번도 아니고 ㅡㅡ 진짜 매판 사람마다 캡쳐할수도 없고 닉은 짱깨라 기억하기도 쉽지않고..해결좀 해줘요\n"
     ]
    },
    {
     "name": "stderr",
     "output_type": "stream",
     "text": [
      " 44%|█████████████████████████████████████████████████████▎                                                                  | 107/241 [06:36<07:40,  3.44s/it]"
     ]
    },
    {
     "name": "stdout",
     "output_type": "stream",
     "text": [
      "싫어하는 나라의 국기를 그만 보고싶다는 유저가 상당히 많다(특히 그 국가)\n",
      "날개 사용 이전에 '매칭에서 제외' 만들고\n",
      "어떤 국기인지를 설정할수 있게 하는것이다.\n",
      "한 두개쯤이면 되지 않을까?\n"
     ]
    },
    {
     "name": "stderr",
     "output_type": "stream",
     "text": [
      " 45%|█████████████████████████████████████████████████████▊                                                                  | 108/241 [06:39<07:32,  3.41s/it]"
     ]
    },
    {
     "name": "stdout",
     "output_type": "stream",
     "text": [
      "진짜 참다 참다 글 씁니다 ㅈ같아서.\n",
      "실레나 매칭 개선좀 해주세요.\n",
      "빨3 상위권이랑 빨1이랑 무더기 매칭시키는건 대체 어느나라 매칭 방식입니까?\n",
      "지금 매칭은 딱 이래요.\n",
      "'빨1 붙여줄게 올 ㅋ 이겼네 3점먹어~ 한번 더 붙여줄게, 올 3점 먹어~ 한번더~ 오 잘했어 3점!, 한번더~ ㅋㅋ 졌네? 점수 다 토해 ^^'\n",
      "승률은 고정이거나 점점 오르고 있는데 점수는 조금씩 떨어지는 기 현상이 발생하고 있는데, 대체 어느 게임이 이런 방식이 있는지요?\n",
      "아시는 분들은 아시겠지만, 월드 랭킹 상위권은 누가 누가 상위권을 잘 잡고 올라가느냐 싸움이 아니라 누가 누가 빨1\n",
      "을 더 양학 잘하냐 싸움이 된지 오래인데 이게 랭킹 취지에 맞습니까? 빨3은 빨3 혹은 낮아도 빨2와 붙어서 올라가는게 정상이라 봅니다.\n",
      "사람이 부족해서 하위 두 단계 티어를 매칭시키는거면(딱히 그런 것 같지도 않지만..)\n",
      "큐 대기시간을 늘리거나 실레나 유저 유입을 신경쓰세요.\n",
      "ㅈ도 이상한거에 자꾸 투자하지 말고..\n",
      "과거와 같이 고랭커가 하위 티어를 양학할 수 있는 시절도 아니고, 기도 잘 하는 놈의 호울이 저항 잘 하면\n",
      "진돗개 애비가 와도 못이기는 메타에서 점수 체계는 옛날 방식을 고수하니 부지런히 뛰는 사람들 머리카락만 빠집니다.\n",
      "오죽하면 지금 큐 돌리기 좋아하는 상위 랭커들 전부 큐 멈추고 대기타고 있을까요?\n",
      "빨1 암살자 금3 자객 만나면 인생 나락 가니까 안 돌리고 존버하고 있는건데 매칭만 정상적으로 이뤄졌어도\n",
      "저렇게 존버할까요?\n",
      "솔직히 빨1만 만나면 귀신같이 저항하고, 귀신같이 폭주 터지고 하위 티어는 상위 티어 상대로 보정이 있나 싶을\n",
      "정도로 빡칠 때가 많은데 이건 뇌피셜이니 묻어두겠습니다. 빨1한테 질 때 9점 뺏어가는것도 진짜 개 열받는데\n",
      "상위권 점수 인플레 방지, 혹은 기획자가 새디스트라고 생각하고 넘어가겠습니다.\n",
      "근데 매칭은 좀 개선하세요 진짜.. 엿같아서 게임 하기 싫어집니다.\n"
     ]
    },
    {
     "name": "stderr",
     "output_type": "stream",
     "text": [
      " 45%|██████████████████████████████████████████████████████▎                                                                 | 109/241 [06:43<07:45,  3.53s/it]"
     ]
    },
    {
     "name": "stdout",
     "output_type": "stream",
     "text": [
      "1.월드아레나 룬관리\n",
      "실레나 / 스레나 / 2:2 실레나\n",
      "각각 따로 분리 독립 관리 되도록 변경 할것\n",
      "이유는 간단함\n",
      "실레나 / 스레나 두가지만 있을때는 어땠을지 몰라도\n",
      "2:2 의 팀플이 나온이상\n",
      "같은 팀원끼리 공속순서 체/방등의 수치를 공유해야\n",
      "덱 구성에 유리하므로 서로의 룬작을 알고 있다는것은\n",
      "1:1 실레나 스레나에 상대를 만났을경우 같은 팀원의 룬작을\n",
      "알고 대처가 가능하다는점.\n",
      "특히 상위권 유저들은 항상 만나는 사람들끼리만 만나기 때문에\n",
      "더욱더 문제가 될 가능성 존재\n",
      "고로 룬작 분리는 이제 필연적임.\n",
      "2. 티어확장\n",
      "현재 점수를 보면 점수만 가지고는 뭐라고 할 수는 없음 어차피 %퍼센티지로(금별까지) 티어가 정해지기 때문에\n",
      "하지만 현재 은3-금권에서 플레이해보면 자동사냥&1인레이드 덕에 스펙이 굉장히 평균적으로 상승했다는것을\n",
      "체감할 수 있음\n",
      "이에 발맞춰 월드아레나에 더 많은 사람들을 끌어 들이기 위해서는 보상의 확대가 이루어져야 할 시기가 왔다고\n",
      "생각함.\n",
      "현재 은3(1300점대)-금1(1600점대) 까지는 실력이 거의 비등비등 하다고 봐도 무방함\n",
      "이들을 언제까지 날개 1개때문에 피터지게 싸우게 방치 해야 하는가\n",
      "실제로 저기에 탈락한 은3들은(1500점대) 금1과 점수차이가 얼마 나지도 않는 사람들\n",
      "더 많은 사람들에게 보상을 주고 더 많이 월드아레나에 참가 할 수 있게\n",
      "보상범위 확대해라\n",
      "빨별보상범위 랭킹 3000등까지 확대\n",
      "금3 5%\n",
      "금2 10%\n",
      "금1 15%\n",
      "로 대폭 완화 권장\n",
      "그리고 15%미만의 은3 형님들께도 뭔가 성취감을 느낄만한 보상을 만들어 주도록 하자.\n"
     ]
    },
    {
     "name": "stderr",
     "output_type": "stream",
     "text": [
      " 46%|██████████████████████████████████████████████████████▊                                                                 | 110/241 [06:46<07:26,  3.41s/it]"
     ]
    },
    {
     "name": "stdout",
     "output_type": "stream",
     "text": [
      "2:2 실레나는 아마 상시 컨텐츠로는 망할 확률이 99%를 향할 것 같네요.\n",
      "대회 상금정도 노리는 극상위권 빼고는 버리는 컨텐츠가 될거 같네요.\n",
      "다만 나와봐야 알겠지만 swc 경기로 보는 재미는 있을지도 모르겠어요. 2:2기 때문에 팀전 특유의 예외성이 발생할 가능성도 있고.. 이부분에 대해 상위권 분들 생각은 어떨지 모르겠네여. (전 옵저버 ㅎㅎ)\n",
      "고로 든 생각인데.. 2:2실레나를 상시로 열지 말고 swc본선에 user2:user2로 가고...\n",
      "예선 상시 경기는 npc를 껴보는건 어떨지..\n",
      "상시경기중에는 1인 점수로 하고 본선 진출시 팀할 상대를 골라 합산 하여 본선진출팀을 정하고 싫은 사람은 안정해서 자동 기권하고...\n",
      "npc밸런스가 어려울 거 같긴 하네여. 룬빨 겜이라..\n",
      "실레나 자체가 어쩔수 없이 룬빨이라 나같은 섬린이는 걍 1100턱걸이 형변 구매용 숙제 컨텐츠 일뿐인데\n",
      "2:2 면 들어갈 생각도 못할듯 하네요 ㅎ\n",
      "글구 6성 애들이 100마리 넘어가니까 애들 버리는게 너무나 아까워서 든 생각인데..\n",
      "pve로 개인 점령전 만드는건 어떨지..\n",
      "npc와 다이다이 길점령 하듯이 하든지 혹은 공성을 만들어주던지...\n"
     ]
    },
    {
     "name": "stderr",
     "output_type": "stream",
     "text": [
      " 46%|███████████████████████████████████████████████████████▎                                                                | 111/241 [06:50<07:35,  3.51s/it]"
     ]
    },
    {
     "name": "stdout",
     "output_type": "stream",
     "text": [
      "이제 2:2 팀도 나오면\n",
      "팀짜서 하는 사람들 서로 룬작 공유 할텐데\n",
      "이제 슬슬 룬관리 각가 따로 분리해서 관리 해야 하는거 아님?\n",
      "2:2 나오는 마당에 이제는 안할 이유가 없는듯\n"
     ]
    },
    {
     "name": "stderr",
     "output_type": "stream",
     "text": [
      " 46%|███████████████████████████████████████████████████████▊                                                                | 112/241 [06:53<07:21,  3.42s/it]"
     ]
    },
    {
     "name": "stdout",
     "output_type": "stream",
     "text": [
      "그냥 하려고하면 뭔가 숙제 같은 느낌 그 느낌좀 없애주면 안될까?\n",
      "그리고 티어 확장좀\n",
      "현재 사회 문제가 되고 있는 취포자 급증\n",
      "실레나도 실포자 급증\n",
      "뭔가 얻을 수 있다는 희망이 있어야 하는거 아님\n",
      "뭔가 더 많은 보상을 더 많은 사람들에게 돌아갈 수 있게 좀 개선좀\n",
      "내가 5% 금3 해달라고 때쓰는건 아님 ㅋㅋ\n"
     ]
    },
    {
     "name": "stderr",
     "output_type": "stream",
     "text": [
      " 47%|████████████████████████████████████████████████████████▎                                                               | 113/241 [06:56<07:13,  3.39s/it]"
     ]
    },
    {
     "name": "stdout",
     "output_type": "stream",
     "text": [
      "몹들도 많이 늘어나고 필요한 몬스터도 계속 많아지는데\n",
      "즐겨찾기 칸 좀 늘려주세요\n",
      "몬스터칸은 다른작업 하는 몬스터들이 많아서 넣다뺏다 해야해서 많이 불편함\n",
      "한 50개로 늘려주세요\n"
     ]
    },
    {
     "name": "stderr",
     "output_type": "stream",
     "text": [
      " 47%|████████████████████████████████████████████████████████▊                                                               | 114/241 [06:59<07:00,  3.31s/it]"
     ]
    },
    {
     "name": "stdout",
     "output_type": "stream",
     "text": [
      "지금 실형변 풀리는 주기가 6개월(2시즌) 인데\n",
      "이번에 풀린 오공형변은 6년 후에나 실레나 포인트로 구매할 구 있게 됩니다.\n",
      "서머 섭종을 언제할지.. 사람들이 언제 떨어져나갈지 모르겠는데 2시즌에 한번씩 구시즌실레나 형변을 풀어서 6년 후에나 대중적으로 접근할 수 있는 게 맞는 선택일까요?\n",
      "그래서 1시즌마다 (구)실레나 형변을 풀어주는 것을 강력하게 건의합니다\n",
      "현재 22년 1분기에 20 시즌이 시작되고 이때 7시즌 형변이 풀리는 것으로 예정되어 있는데\n",
      "만약 이 때부터 1시즌마다 구시즌 형변을 풀게되면\n",
      "22년 1분기 : 20시즌 -> 7시즌 형변 풀림\n",
      "22년 2분기 : 21시즌 -> 8시즌 형변 풀림\n",
      "22년 3분기 : 22시즌 -> 9시즌 형변\n",
      ".\n",
      ".\n",
      ".\n",
      "26년 2분기 : 33시즌 -> 20시즌 형변 풀림\n",
      "이런식으로 대략 13시즌의 간격이 생깁니다. 햇수로 3년이 좀 넘죠.\n",
      "3년의 시간이라면 기존에 빨별을 달성해서 실형변을 얻은 분들(2500명) 도 충분히 메리트를 누릴수 있다고 생각됩니다.\n",
      "실형변 푸는 주기를 단축시킴으로써 기존에 얻고 싶은 형변을 못얻은 유저들의 실레나 참여도도 늘어날 것을 기대해볼 수 있을겁니다.\n",
      "1시즌마다 구시즌 실형변을 풀어주세요!\n",
      "그리고\n",
      "현재 스레나 시스템으론 사실 3000포인트를 모으는게 너무 힘듭니다 ㅠㅠ\n",
      "(승률 50퍼라고 가정하면 하루 획득 가능 포인트 = 75, 2주간 획득 가능한 포인트 1050.. 그리고 스레나는 3개월에 한번씩만 열리니 빨별/금별 보상 포인트를 받는다해도 빨라야 6개월에 하나의 형변을 할 수가 있습니다)\n",
      "때문에 스레나 포인트로 형변 사는 포인트를 3000 -> 2000 으로 줄여주는 것을 건의합니다.\n",
      "(2000포인트를 해도 6개월을 해야 겨우 포인트를 모을 수 있어요)\n",
      "2가지 건의 사항이 꼭 반영되서 즐거운 실레나/스레나 될 수 있으면 좋겠습니다\n"
     ]
    },
    {
     "name": "stderr",
     "output_type": "stream",
     "text": [
      " 48%|█████████████████████████████████████████████████████████▎                                                              | 115/241 [07:04<07:32,  3.60s/it]"
     ]
    },
    {
     "name": "stdout",
     "output_type": "stream",
     "text": [
      "리플레이도 안남아서 누구랑 싸웠는지도 모르겠네요\n",
      "시작부터 오토 찍은 놈이랑 겨우 싸워 이겼더니\n",
      "Null 뜨면서 월레나 창에서 시나리오 창으로 밴 당한 후에 리플레이도 안남고 점수 변동도 없었습니다\n",
      "스펙 차이 심하게 나서 힘들게 잡아놨더니..ㅡㅡ\n",
      "버그라면 빠른 수정 부탁드립니다\n"
     ]
    },
    {
     "name": "stderr",
     "output_type": "stream",
     "text": [
      " 48%|█████████████████████████████████████████████████████████▊                                                              | 116/241 [07:07<07:14,  3.48s/it]"
     ]
    },
    {
     "name": "stdout",
     "output_type": "stream",
     "text": [
      "상대방이 나간경우 4마리 다 카운팅해줘야되는거 아닌가요? 넘짜다 섬린이 업적때문에 시작했는데\n"
     ]
    },
    {
     "name": "stderr",
     "output_type": "stream",
     "text": [
      " 49%|██████████████████████████████████████████████████████████▎                                                             | 117/241 [07:10<06:56,  3.36s/it]"
     ]
    },
    {
     "name": "stdout",
     "output_type": "stream",
     "text": [
      "일정 턴이 지날때마다 공격력 증가 및 체력 감소같은 패널티 종류의 다양화를 해보면 어떨까요\n",
      "공속 , 체력 , 방어력 , 공격력의 부분을 플레이어 1 , 2가(1은 증가 , 2는 감소) 1개씩 선택하거나\n",
      "선픽 유저가 패널티를 지정하는 식으로해서\n",
      "조금 더 자신의 덱 컨셉에 유리한 패널티를 가져가는 식으로 해보는 겁니다.\n",
      "이상입니다!!\n"
     ]
    },
    {
     "name": "stderr",
     "output_type": "stream",
     "text": [
      " 49%|██████████████████████████████████████████████████████████▊                                                             | 118/241 [07:14<06:59,  3.41s/it]"
     ]
    },
    {
     "name": "stdout",
     "output_type": "stream",
     "text": [
      "서버 먹통이여 확인좀요 한국서버\n"
     ]
    },
    {
     "name": "stderr",
     "output_type": "stream",
     "text": [
      " 49%|███████████████████████████████████████████████████████████▎                                                            | 119/241 [07:17<06:57,  3.42s/it]"
     ]
    },
    {
     "name": "stdout",
     "output_type": "stream",
     "text": [
      "제곧내!!\n"
     ]
    },
    {
     "name": "stderr",
     "output_type": "stream",
     "text": [
      " 50%|███████████████████████████████████████████████████████████▊                                                            | 120/241 [07:20<06:49,  3.39s/it]"
     ]
    },
    {
     "name": "stdout",
     "output_type": "stream",
     "text": [
      "금3~빨1 구간만 300점으로 큰 차이가 나고 금3에 유저들이 너무 몰려있다는 느낌이 듭니다...1%로 커트라인을 못 늘리더라도 조금 더 세분화가 필요하다고 생각해 글을 적었습니다 읽어주셔서 감사합니다\n"
     ]
    },
    {
     "name": "stderr",
     "output_type": "stream",
     "text": [
      " 50%|████████████████████████████████████████████████████████████▏                                                           | 121/241 [07:23<06:39,  3.33s/it]"
     ]
    },
    {
     "name": "stdout",
     "output_type": "stream",
     "text": [
      "오늘 하루 20판 플레이하면서\n",
      "상대방만 폭주터지는 판이 10판이 넘는데\n",
      "22% > 17% > 12% > 5% 보정치 들어가는게 맞나요?\n"
     ]
    },
    {
     "name": "stderr",
     "output_type": "stream",
     "text": [
      " 51%|████████████████████████████████████████████████████████████▋                                                           | 122/241 [07:29<07:59,  4.03s/it]"
     ]
    },
    {
     "name": "stdout",
     "output_type": "stream",
     "text": [
      "실레나요.....속싸움 메타좀 어떻게 해주세요 제발 너무 재미없어요...\n",
      "현재 몇달째 실레나 안하고 있습니다.....\n",
      "실레나 메타좀 어떻게 해주세요.... 게임 흥미를 못느끼겠어요.....\n"
     ]
    },
    {
     "name": "stderr",
     "output_type": "stream",
     "text": [
      " 51%|█████████████████████████████████████████████████████████████▏                                                          | 123/241 [07:33<07:44,  3.94s/it]"
     ]
    },
    {
     "name": "stdout",
     "output_type": "stream",
     "text": [
      "신캐출시나 밸런스 패치에 따라 너무 픽이 고정되는 경향이 심합니다.\n",
      "현 레전드 토너먼트처럼 프리밴 도입하면 실레나가 훨신 더 유동적이고 재밌어 질거라 봅니다.\n"
     ]
    },
    {
     "name": "stderr",
     "output_type": "stream",
     "text": [
      " 51%|█████████████████████████████████████████████████████████████▋                                                          | 124/241 [07:36<07:26,  3.82s/it]"
     ]
    },
    {
     "name": "stdout",
     "output_type": "stream",
     "text": [
      "갑자기 이상태로 멈추더니 스킬 클릭은되는데 사용이 안되네요 이상태로 10분정도 지나고 끝났는데 수정좀해주세요 ㅡ.ㅡ\n"
     ]
    },
    {
     "name": "stderr",
     "output_type": "stream",
     "text": [
      " 52%|██████████████████████████████████████████████████████████████▏                                                         | 125/241 [07:40<07:07,  3.69s/it]"
     ]
    },
    {
     "name": "stdout",
     "output_type": "stream",
     "text": [
      "점수 차이나는 차이나놈들 매칭시키냐고? 힘들어죽겄는데ㅡㅡ\n"
     ]
    },
    {
     "name": "stderr",
     "output_type": "stream",
     "text": [
      " 52%|██████████████████████████████████████████████████████████████▋                                                         | 126/241 [07:43<06:54,  3.60s/it]"
     ]
    },
    {
     "name": "stdout",
     "output_type": "stream",
     "text": [
      "얼마나 제재를안하면 최소금3이상인새끼들이 메크로돌리고있냐 십새들아 돈벌어처먹으면 일좀해라 존나재미없는게임만드는데 헛돈쓰지말고 왜 돈을못버려서안달이냐\n"
     ]
    },
    {
     "name": "stderr",
     "output_type": "stream",
     "text": [
      " 53%|███████████████████████████████████████████████████████████████▏                                                        | 127/241 [07:47<06:49,  3.59s/it]"
     ]
    },
    {
     "name": "stdout",
     "output_type": "stream",
     "text": [
      "실레나의 경우 7일, 스레나의 경우 4일 이후부터 점수가 20점씩 차감됩니다. 하지만 이를 육안으로 확인하여 언제부터 점수가 떨어지는지 알 수가 없습니다.\n",
      "- 하루전, 혹은 이틀전부터 \"1일 후부터 점수가 20점씩 차감됩니다\"라는 메세지가 떳으면 좋겠습니다.\n"
     ]
    },
    {
     "name": "stderr",
     "output_type": "stream",
     "text": [
      " 53%|███████████████████████████████████████████████████████████████▋                                                        | 128/241 [07:51<07:00,  3.72s/it]"
     ]
    },
    {
     "name": "stdout",
     "output_type": "stream",
     "text": [
      "어떨까나요 ???\n"
     ]
    },
    {
     "name": "stderr",
     "output_type": "stream",
     "text": [
      " 54%|████████████████████████████████████████████████████████████████▏                                                       | 129/241 [07:55<07:01,  3.76s/it]"
     ]
    },
    {
     "name": "stdout",
     "output_type": "stream",
     "text": [
      "상대방 연속으로 3연속터지고\n",
      "나는 대체 왜 안터지냐 씨벌\n",
      "혈압올라서 게임하겄냐\n",
      "이런 병신게임에 돈쓰고 시간 낭비를\n",
      "왜 했던건지 게임 지운다 씨벨\n"
     ]
    },
    {
     "name": "stderr",
     "output_type": "stream",
     "text": [
      " 54%|████████████████████████████████████████████████████████████████▋                                                       | 130/241 [07:59<07:08,  3.86s/it]"
     ]
    },
    {
     "name": "stdout",
     "output_type": "stream",
     "text": [
      "실레나 아티팩트 적용시 튕기는 버그 고쳐주세요.\n",
      "매번 그러는건 아니지만\n",
      "2~3번 적용할때마다 멈추네요..\n",
      "특히 자동사냥돌릴때 적용하면 심해요.\n",
      "확인부탁드립니다.\n"
     ]
    },
    {
     "name": "stderr",
     "output_type": "stream",
     "text": [
      " 54%|█████████████████████████████████████████████████████████████████▏                                                      | 131/241 [08:02<06:47,  3.70s/it]"
     ]
    },
    {
     "name": "stdout",
     "output_type": "stream",
     "text": [
      "실레나 - 스레나(벤픽) - 실레나 -스레나(4성대전) - 실레나 - 스레나(20성대전)등등등\n",
      "이렇게 하고있는데 상시적으로 실레나 스레나 모두열어주면안되나요?\n",
      "롤처럼 ex:일반겜 랭겜 칼바람 / 별도로 이벤트성 단일모드,URF등등 이런게있듯이\n",
      "최근에 보상이늘어나면서 실레나참여도가 높아진건맞는데\n",
      "저도 그래서 이때까지해본적없는 실레나손대기도하고...\n",
      "근데 4성스레나가 좀더룬작하는거나 몹풀이 한정적이라 더재미잇게할수있는거같아서\n",
      "5성쓰는거보다 빛암벽에막히는게 비교적 좀 적기도하고\n",
      "대신에 프로필기록에 스페셜대전기록을 통합으로 갱신하지말고\n",
      "다른 던전처럼 별도로 갱신되게한다던지 그러한방법이 있지않나 생각해봤습니다.\n",
      "-\n",
      "-\n",
      "-\n",
      "-\n",
      "아그럼 5성이필요없다는판단이나올수도있어서 과금이줄어들어서 안될려나???...\n",
      "그래도 4성대전으로 명작하면서 충분히즐기다가 몹풀늘어나면 4~5성대전으로가도되니까..검토좀\n"
     ]
    },
    {
     "name": "stderr",
     "output_type": "stream",
     "text": [
      " 55%|█████████████████████████████████████████████████████████████████▋                                                      | 132/241 [08:06<06:45,  3.72s/it]"
     ]
    },
    {
     "name": "stdout",
     "output_type": "stream",
     "text": [
      "실레나 또는 스레나 하는데 오토를 해놓은것도 아니고 그냥 몹 선택 할때부터 시간 끌면서 자동으로 픽하게 하거나 1초 또는 0초 남겨놓고 픽을 하는 사람들, 그리고 게임 시작해서도 시간 다 끝날때까지 가만히 나두다가 자동으로 스킬 쓰도록 하는 사람들.\n",
      "이거 어떻게 제재 안됩니까??\n",
      "스레나 실레나 몇일간 정지라던지 아니면 자동으로 오토로 바뀌게 한다던지 이런 방법으로 해결 안됩니까??\n",
      "그렇게 하는 사람들 연결 상태가 안좋아서 그런것도 아닙니다. 고민 한다고 시간 끄는것도 아닙니다.\n",
      "어떻게 해결좀 해주세요.\n"
     ]
    },
    {
     "name": "stderr",
     "output_type": "stream",
     "text": [
      " 55%|██████████████████████████████████████████████████████████████████▏                                                     | 133/241 [08:10<06:41,  3.71s/it]"
     ]
    },
    {
     "name": "stdout",
     "output_type": "stream",
     "text": [
      "컴투스 자체적으로 싸이트 만들어서\n",
      "몬스터별 승률&픽률&벤률\n",
      "티어별로도 볼수있게 만들어라!!\n",
      "궁금하다\n"
     ]
    },
    {
     "name": "stderr",
     "output_type": "stream",
     "text": [
      " 56%|██████████████████████████████████████████████████████████████████▋                                                     | 134/241 [08:13<06:21,  3.57s/it]"
     ]
    },
    {
     "name": "stdout",
     "output_type": "stream",
     "text": [
      "이번 시즌 실레나 참여자가 대략 30만명\n",
      "이 수치는 월드아레나가 처음 도입된이후 꾸준히 감소하던 실레나 참여 인원수가\n",
      "초기 수준으로 회복된것으로 개발진에서도 관심을 가져야할 부분이라고 생각합니다.\n",
      "하지만 월드아레나 참여 인원수는 초기 수준을 회복해 갔지만\n",
      "각 티어당 인원수는 약 15-17만명이 참여하던 시즌을 기준으로 카운트가 되어\n",
      "상당히 많은 수의 참여 인원들이 원하는 티어를 달성하지 못해 매우 고통스러어 하는 모습이\n",
      "한눈에 보였는데요\n",
      "티어를 나누는 등수를 미리 딱 정하지 말고\n",
      "각 시즌마다 참여자의 추이를 보면서\n",
      "15만명의 소환사가 참여했다면 이렇게\n",
      "20만명의 소환사가 참여했다면 저렇게\n",
      "50만명이 참여 했다면 몇등까지 등등..\n",
      "이런식으로 실시간으로 참여인원을 모니터링 하여\n",
      "마감공지 1-2주 전에 각 티어당 달성 등수를 공지하고\n",
      "참여인원들은 그에 따른 준비를 할 수 있게 하는게 어떨가 생각 합니다.\n",
      "참여 인원은 두배로 늘었는데 보상을 이전 시즌에 맞추다 보니\n",
      "이번시즌은 너무나 힘든 시즌이 아니었나 생각이 드네요.\n",
      "이상입니다.\n"
     ]
    },
    {
     "name": "stderr",
     "output_type": "stream",
     "text": [
      " 56%|███████████████████████████████████████████████████████████████████▏                                                    | 135/241 [08:16<06:05,  3.45s/it]"
     ]
    },
    {
     "name": "stdout",
     "output_type": "stream",
     "text": [
      "지난 시즌 깜빡하고 배치도 안돌리고 이번에야 배치만 돌리려고 실레나 첫 판을 했습니다.\n",
      "그랬더니 오마이갓 ㅋㅋ 애들 룬이 빠져있어서 너무 난감했네요. 특히 불요괴는 기용했다가 노룬 방깍러로 전락 ㅋㅋㅋ 이겨서 다행이지만...\n",
      "솔직히 라이트 유저는 일반 룬세트랑 실레나 룬세트랑 다 설정하기 너무 빡셉니다. 일반 룬세트를 불러오는 버튼은 찾았는데 이거 한마리씩 눌러야 하더라고요. 6성만 수십마린데 그동안 누구 바꿔줬는지 기억도 안나서 일일히 하나씩 들어가서 동기화를 해줘야 하네요. 너무 고생스럽습니다.\n",
      "(룬해제 무료 아니었으면.. 진짜 끔찍하네요.) 이건 취소입니당 잘 몰랐네요..\n",
      "기존 룬과 동기화하는 버튼을 하나 만들어서 예전처럼 그냥 자연스럽게 동기화되게 만들어주셨으면 좋겠습니다. 지난시즌 못해서 생각도 못했는데 이렇게 불편할줄은 몰랐네요.\n"
     ]
    },
    {
     "name": "stderr",
     "output_type": "stream",
     "text": [
      " 56%|███████████████████████████████████████████████████████████████████▋                                                    | 136/241 [08:20<06:06,  3.49s/it]"
     ]
    },
    {
     "name": "stdout",
     "output_type": "stream",
     "text": [
      "새 시즌 공지할때 시즌 시작일, 마감일 공지 하고 시작하는건 어떨까요.\n"
     ]
    },
    {
     "name": "stderr",
     "output_type": "stream",
     "text": [
      " 57%|████████████████████████████████████████████████████████████████████▏                                                   | 137/241 [08:23<05:58,  3.45s/it]"
     ]
    },
    {
     "name": "stdout",
     "output_type": "stream",
     "text": [
      "폭주룬 먼가 개선이 좀 필요 해보입니다..\n",
      "실레나는 이제 개선이 되서 좀 그럭저럭인데 다른 곳은 폭주 특히 방댁 폭주 너무 심해요... 심한정도거 너무 선울 넘을때가 자주 일어납니다... 폭주룬 개선 부탁드립니다\n"
     ]
    },
    {
     "name": "stderr",
     "output_type": "stream",
     "text": [
      " 57%|████████████████████████████████████████████████████████████████████▋                                                   | 138/241 [08:27<06:02,  3.52s/it]"
     ]
    },
    {
     "name": "stdout",
     "output_type": "stream",
     "text": [
      "건의합니다.\n",
      "명작 완화 실레나 활성화 모두 이루어질거같아요!\n"
     ]
    },
    {
     "name": "stderr",
     "output_type": "stream",
     "text": [
      " 58%|█████████████████████████████████████████████████████████████████████▏                                                  | 139/241 [08:30<05:47,  3.41s/it]"
     ]
    },
    {
     "name": "stdout",
     "output_type": "stream",
     "text": [
      "추천 뜨는거 죄다 기본 빛암5성 한두개씩은 들고시작하는데 밑에티어는 뭘 참고해야하나요,,,\n"
     ]
    },
    {
     "name": "stderr",
     "output_type": "stream",
     "text": [
      " 58%|█████████████████████████████████████████████████████████████████████▋                                                  | 140/241 [08:33<05:50,  3.47s/it]"
     ]
    },
    {
     "name": "stdout",
     "output_type": "stream",
     "text": [
      "실레나 신고버튼 좀만들어주세요.. 매크로 때문에 맨날 한판하는데 드럽게 왜 걸려요;;\n"
     ]
    },
    {
     "name": "stderr",
     "output_type": "stream",
     "text": [
      " 59%|██████████████████████████████████████████████████████████████████████▏                                                 | 141/241 [08:37<05:43,  3.43s/it]"
     ]
    },
    {
     "name": "stdout",
     "output_type": "stream",
     "text": [
      "pve용룬으로 쓰려니... 던전 요구조건이 달라서 매번 룬 바꾸기 힘듭니다...\n"
     ]
    },
    {
     "name": "stderr",
     "output_type": "stream",
     "text": [
      " 59%|██████████████████████████████████████████████████████████████████████▋                                                 | 142/241 [08:40<05:32,  3.36s/it]"
     ]
    },
    {
     "name": "stdout",
     "output_type": "stream",
     "text": [
      "몬스터 가치 는 소환사 가 결정하는게\n",
      "너네 취지라며 ㅡㅡ\n",
      "매칭 상대에\n",
      "죄다 불해왕 요사 풍라클 픽 안박는 상대보기 너무 힘들다.\n",
      "저4마리 없으면 하기 힘들어질 정도로\n",
      "몬스터 가 획일화 됬는데 개편할 생각이 없는거냐\n",
      "아니면 모르는거냐?\n",
      "시즌 종료 하고 새 시즌 시작할때\n",
      "전시즌 사용률 top5\n",
      "는 다음시즌 에는 못쓰게 블락하면 되는거아님?\n",
      "그렇게하면 최소한 한시즌 마다 사용하는 몹도\n",
      "다양해지지 않을까?\n"
     ]
    },
    {
     "name": "stderr",
     "output_type": "stream",
     "text": [
      " 59%|███████████████████████████████████████████████████████████████████████▏                                                | 143/241 [08:43<05:28,  3.35s/it]"
     ]
    },
    {
     "name": "stdout",
     "output_type": "stream",
     "text": [
      "솔직히 한 10마리 내외로 쓰기는하지만 그래도 특정상황에 몹을 찾다가 픽시간 날리는게 한두번이 아닌것 같습니다.\n",
      "30마리정도로 설정할수있는 자주쓰는몬스터 숫자를 늘려주세요\n"
     ]
    },
    {
     "name": "stderr",
     "output_type": "stream",
     "text": [
      " 60%|███████████████████████████████████████████████████████████████████████▋                                                | 144/241 [08:47<05:25,  3.35s/it]"
     ]
    },
    {
     "name": "stdout",
     "output_type": "stream",
     "text": [
      "확인 부탁드립니다\n"
     ]
    },
    {
     "name": "stderr",
     "output_type": "stream",
     "text": [
      " 60%|████████████████████████████████████████████████████████████████████████▏                                               | 145/241 [08:50<05:34,  3.49s/it]"
     ]
    },
    {
     "name": "stdout",
     "output_type": "stream",
     "text": [
      "포인트 빨리 주세요\n"
     ]
    },
    {
     "name": "stderr",
     "output_type": "stream",
     "text": [
      " 61%|████████████████████████████████████████████████████████████████████████▋                                               | 146/241 [08:54<05:35,  3.53s/it]"
     ]
    },
    {
     "name": "stdout",
     "output_type": "stream",
     "text": [
      "실레나 배치 딱 한 판 하고 리플 돌려봤는데 이게 올라가네요. 리플레이 돌려도 저게 올라갑니다.\n"
     ]
    },
    {
     "name": "stderr",
     "output_type": "stream",
     "text": [
      " 61%|█████████████████████████████████████████████████████████████████████████▏                                              | 147/241 [08:58<05:35,  3.57s/it]"
     ]
    },
    {
     "name": "stdout",
     "output_type": "stream",
     "text": [
      "기존에 말풍선 이모티콘 + 말 그대로 실레나 대전에 참여한 몹들이 직접 감정표현을 할 수 있으면 더 재밌을 것 같아요!\n",
      "예를들면 물브라우니가 대전 중에 약올리는 춤을 춘다거나 메롱을 한다던지 뭐 그런..\n"
     ]
    },
    {
     "name": "stderr",
     "output_type": "stream",
     "text": [
      " 61%|█████████████████████████████████████████████████████████████████████████▋                                              | 148/241 [09:01<05:26,  3.51s/it]"
     ]
    },
    {
     "name": "stdout",
     "output_type": "stream",
     "text": [
      "지금 풍 키메라 실레나 형변을 하고 있어서 스킬을 쓰는데\n",
      "하얗게만 나오고 이펙트가 보이지 않고 있습니다\n",
      "다른 키메라 형변도 봤지만 하얗게만 나오고 이펙트 색이나 효과가 보이지 않고 있습니다.\n",
      "현재 아이폰을 사용 하고 있는데 (아이폰은 아이폰 12 최신형 쓰고 있습니다)\n",
      "해결 방안이나 점검 한번 부탁드립니다.\n",
      "다른 스킨들을 효과가 잘 보입니다\n",
      "유독 키메라 실레나 형변만 이러네요\n"
     ]
    },
    {
     "name": "stderr",
     "output_type": "stream",
     "text": [
      " 62%|██████████████████████████████████████████████████████████████████████████▏                                             | 149/241 [09:04<05:14,  3.42s/it]"
     ]
    },
    {
     "name": "stdout",
     "output_type": "stream",
     "text": [
      "형변보면 지난 시즌 최소 금별2~3티어이상인데 왜 동별은별 노는데 잔뜩 섞여가지고 양학하고 다니죠? 빡쳐서 못해먹겠네\n"
     ]
    },
    {
     "name": "stderr",
     "output_type": "stream",
     "text": [
      " 62%|██████████████████████████████████████████████████████████████████████████▋                                             | 150/241 [09:08<05:09,  3.41s/it]"
     ]
    },
    {
     "name": "stdout",
     "output_type": "stream",
     "text": [
      "감정표현 기능 있기 전만해도 19000등이면 금별 달았는데 지금은 어림도 없네요 ... 당연히 접은 유저들이 많아서 그렇겠죠.\n",
      "감정표현기능이 생기고 나서 아무래도 스트레스 받는 실레나가 더 스트레스 받습니다. 운빨 망겜인 하스스톤도 차단기능이 있어서 멘탈관리할 수 있게 해주는데 감정표현 차단 할 수 있는 기능 좀 넣어주세요 제발...\n"
     ]
    },
    {
     "name": "stderr",
     "output_type": "stream",
     "text": [
      " 63%|███████████████████████████████████████████████████████████████████████████▏                                            | 151/241 [09:11<05:12,  3.48s/it]"
     ]
    },
    {
     "name": "stdout",
     "output_type": "stream",
     "text": [
      "매번 마감할때마다 등수와 퍼센트를 보면 실레나 참여인원이 점점 줄어간다는 걸 느끼고 있습니다. 줄어가는 참여인원에 따라 금별에 장벽 또한 높아지고 있는 것 같습니다.\n",
      "서머너즈워를 하면서 실레나 금별 달고 날개 한번 사보는게 제 나름의 목표인데 이래가지고는 날개는 꿈도 못꾸겠다 싶어서 건의드립니다.\n",
      "실레나 승리 횟수를 카운트해서 승리를 일정 횟수이상 하면 날개 오라를 보상으로 지급하는 것은 어떨까합니다. 그렇게 되면 금별을 달지 못하더라도 날개 오라도 얻을 수 있게 되니 이로인해서 실레나의 활성화도 기대해볼 수 있을 것이라 생각합니다.\n"
     ]
    },
    {
     "name": "stderr",
     "output_type": "stream",
     "text": [
      " 63%|███████████████████████████████████████████████████████████████████████████▋                                            | 152/241 [09:15<05:14,  3.53s/it]"
     ]
    },
    {
     "name": "stdout",
     "output_type": "stream",
     "text": [
      "지난 시즌 오라를 얻기위해서는\n",
      "2주간? 열리는 스폐셜리그를 플레이하고 문양을 얻어야하는데\n",
      "기간도 짧고 모으기까지 시간도 많이걸리잖아요\n",
      "지금 일반실레나는 살게 없는데 실레나 형변이랑\n",
      "오라를 실레나명예로 살 수 있게 바꾸어줬으면 해요\n"
     ]
    },
    {
     "name": "stderr",
     "output_type": "stream",
     "text": [
      " 63%|████████████████████████████████████████████████████████████████████████████▏                                           | 153/241 [09:18<05:07,  3.49s/it]"
     ]
    },
    {
     "name": "stdout",
     "output_type": "stream",
     "text": [
      "실레나 현재 은1부터 안하면 휴면으로 점수까이는데\n",
      "그렇다보니 처음 실레나 시작하는 점수대도 휴면굇수들이 자주출몰하고\n",
      "너무 고인물화됨 이게 대체 매칭이 뭐지 싶네요\n",
      "휴면구간을 은3부터 하는게 어떨까요\n",
      "동별구간 휴면은 솔직히 좀 아닌듯\n",
      "이상 섬테리아 의견입니다\n"
     ]
    },
    {
     "name": "stderr",
     "output_type": "stream",
     "text": [
      " 64%|████████████████████████████████████████████████████████████████████████████▋                                           | 154/241 [09:22<05:18,  3.66s/it]"
     ]
    },
    {
     "name": "stdout",
     "output_type": "stream",
     "text": [
      "그것은 바로 뺏고 빼았는 스틸룰\n",
      "매칭되고나서\n",
      "처음 시작할때 프리벤처럼 몬스터를 하나 고르는데\n",
      "그것은 상대방의 보유몹 리스트에서 하나를 선택하는거임\n",
      "처음 도감에서 선택하는 상대보유몹은 불이 켜져있고 꺼져있는건 선택불가\n",
      "그 몹들 중 하나를 골라 상대는 그 빼앗은 몹을 사용할 수 있으며\n",
      "그 몹을 픽할 수 있는거임 상대 룬작, 스작 전부 그대로(굳이 픽하지 않아도 됨)\n",
      "빼앗긴 사람은 그 대상의 몬스터는 사용 불가되며\n",
      "자신과 상대가 만약 빼앗은 몹이 서로 동일하다면 룬작, 스작만 서로 바뀌는것임\n",
      "할 수 있으면 총 픽률이 높은 몬스터까지 보여주면 고맙고 ㅋㅋ 뺏고 뺏기는게 갸꿀잼일듯\n"
     ]
    },
    {
     "name": "stderr",
     "output_type": "stream",
     "text": [
      " 64%|█████████████████████████████████████████████████████████████████████████████▏                                          | 155/241 [09:26<05:10,  3.61s/it]"
     ]
    },
    {
     "name": "stdout",
     "output_type": "stream",
     "text": [
      "\n"
     ]
    },
    {
     "name": "stderr",
     "output_type": "stream",
     "text": [
      " 65%|█████████████████████████████████████████████████████████████████████████████▋                                          | 156/241 [09:44<11:18,  7.98s/it]"
     ]
    },
    {
     "name": "stdout",
     "output_type": "stream",
     "text": [
      "1.자동전투 때 실레나 가능하게 해주십쇼. 실레나 하는 사람도 별로 없는데 이렇게 해야 그나마 사람들이 할것 같습니다.\n",
      "2.룬 강화할 때 결과창 바로 뜨게 해주세요. 진짜 보고있으면 답답해 죽겠습니다. 요즘 자동전투로 룬도 많은데 15강 할 때 마다 게이지바를 보고 있으면 답답해 죽겠습니다. 어차피 효적 효저에 붙을 텐데 강화 게이지바 삭제하고 즉시 결과 볼 수 있게 개선좀 해주세요. 안되면 3 6 9 12강 할 때만 게이지바 보이게 개선해주십쇼.\n"
     ]
    },
    {
     "name": "stderr",
     "output_type": "stream",
     "text": [
      " 65%|██████████████████████████████████████████████████████████████████████████████▏                                         | 157/241 [09:48<09:20,  6.67s/it]"
     ]
    },
    {
     "name": "stdout",
     "output_type": "stream",
     "text": [
      "- 실레나 -\n",
      "몬스터 형상변환은 ★ 이상 마감해야 받을 수 있는데\n",
      "누구나 차별없이 한개정도 얻을 수 있는 방법이 추가되었으면 합니다.\n",
      "예를 들자면 매 시즌당 한번, 몬스터 형상변환을 실레나 포인트 1500점에 판매하는 겁니다.\n",
      "또는 4성 몬스터 형변을 지급하는 등의 방법으로 많은 유저가 실레나에 도전하는 바탕를 만들고\n",
      "자연스레 참여 유저가 증가함에 있어 전과 비교했을때 자신보다 한참 높은 티어를 만나 학살당하는\n",
      "일이 적어짐으로 이는 실레나 생태계에 좋은 패치방향이 될거라 생각합니다.\n",
      "- 스레나 -\n",
      "15시즌을 진행하는 현 상황에서 스레나에서 판매하는 형상변환 차수가 너무 적은거 같아서 건의합니다.\n",
      "스레나 형변은 3000포인트로 구매할 수 있는데 이를 차수에 따라 추가 비용을 적용하고 또 UI를 추가해서\n",
      "하염없이 기다리는 유저들에게 조금이나마 위안이 되게 끔 조정이 필요하다 생각됩니다.\n",
      "1~4시즌 3000포\n",
      "5~8시즌 6000포 [ 5시즌 가격 하향까지 30일 ]\n",
      "9~@시즌 미정 [ 22시즌 이후 판매 ] 등\n",
      "위 예시를 추가 설명하자면 시즌이 지남에따라 형변이 추가되고, 현재 적용되고 있는\n",
      "형변 판매시기에 맞춰서 차수를 추가하는 방향으로 변화시키는 겁니다. [ 1~5시즌 3000포 ]\n",
      "위 처럼 변경해서 이미 포인트를 다 쌓아 스레나 관심도 없는 유저들에게\n",
      "스레나를 참여하게 끔 동기부여를 해주는 겁니다.\n",
      "추가적으로 전 스레나에서 1000등이 이내에 들었는데 점수가 안되서 빨2 마감을 못하는\n",
      "기이한 현상 피해자로서 당시 크게 불만 없었지만 앞으로도 이런형상이 지속되면 이것도\n",
      "상당한 스트레스로 다가 올 수 있다 생각되었습니다.\n",
      "굳이 빨별 이상에 점수제한이 있어야하는지 이 점에 대해서도 다시 한번 검토해주셨으면 합니다.\n"
     ]
    },
    {
     "name": "stderr",
     "output_type": "stream",
     "text": [
      " 66%|██████████████████████████████████████████████████████████████████████████████▋                                         | 158/241 [09:52<08:08,  5.89s/it]"
     ]
    },
    {
     "name": "stdout",
     "output_type": "stream",
     "text": [
      "간단합니다\n",
      "실레나 상위권 유저들이 실레나 형변을 매번 기다리면서 실레나에 동기부여를 얻는것처럼\n",
      "금별,은별에도 똑같은 유인을 주면 됩니다\n",
      "금별 3 - 4성 실레나 형변 3\n",
      "2 - 4성 실레나 형변 2\n",
      "1 - 4성 실레나 형변 1\n",
      "은별 3 - 형변석 200개\n",
      "2 - 형변석 150개\n",
      "1 - 형변석 100개\n",
      "실레나 보상 업그레이드 가즈아아아\n"
     ]
    },
    {
     "name": "stderr",
     "output_type": "stream",
     "text": [
      " 66%|███████████████████████████████████████████████████████████████████████████████▏                                        | 159/241 [09:56<07:16,  5.32s/it]"
     ]
    },
    {
     "name": "stdout",
     "output_type": "stream",
     "text": [
      "실레나 진입장벽이 너무 높아서 금1 이상 올라가기가 너무 어려워요.\n",
      "1회라도 참여하면 진입장벽을 조금이라도 낮출 수도 있을 것 같고, 자기와 맞는 비슷한 레벨의 사람과 매칭도 잘 될 것 같아요.\n",
      "결국 나중엔 실레나 월레나를 많이 하는 컨텐츠로 갈 텐데, 어떠세요?\n"
     ]
    },
    {
     "name": "stderr",
     "output_type": "stream",
     "text": [
      " 66%|███████████████████████████████████████████████████████████████████████████████▋                                        | 160/241 [09:59<06:31,  4.84s/it]"
     ]
    },
    {
     "name": "stdout",
     "output_type": "stream",
     "text": [
      "나는 아레나하려는게아니라\n",
      "유저랑 이름그대로 실시간으로 맞붙고 싶은것인데\n",
      "전시즌 형상변환두른 유저들이\n",
      "마치 거던오토돌리는거마냥\n",
      "'어차피 룬으로 찍어누른다'는 마인드로\n",
      "잠수타는것이 '실시간 pvp'라는게 맞나싶네요.\n",
      "동별에서 만나는 상대의 50%이상이 잠수인데\n",
      "게임을 이겨도 컴퓨터와 싸운것같이 기분이더럽고\n",
      "게임을 져도 양학당했다는생각에 기분이더럽네요\n",
      "이부분이 실레나의 높은 진입장벽과 참여율 저조의\n",
      "큰부분이라고 생각합니다.\n",
      "실레나 2회 잠수시 자동패배처리\n",
      "잠수로패배가 지속될시\n",
      "실레나 영구정지라는 강력한 제재가 필요합니다\n"
     ]
    },
    {
     "name": "stderr",
     "output_type": "stream",
     "text": [
      " 67%|████████████████████████████████████████████████████████████████████████████████▏                                       | 161/241 [10:03<05:56,  4.46s/it]"
     ]
    },
    {
     "name": "stdout",
     "output_type": "stream",
     "text": [
      "명예점수 상향이나 또는 건물 가격하락 안해줄꺼면\n",
      "날개 +n 해서 총20~30개? 갯수 상향 건의합니다.\n",
      "(날충은10개 그대로)\n",
      "번개도 190개로 상향했는데 날개는 그대로네요.\n",
      "나는..(건물가격하락, 명점상승도 했으면...) 안해줄꺼면 날개 20~30개 상향도 나쁘지 않다고 생각됩니다.\n",
      "섬리니들 아레나 많이 할 수 있게 해주세요.\n",
      "1~2년은 데빌사고 건물올리기 바쁘고 소환서는 쳐다도 못보고..\n",
      "라이벌도 명점, 크리 상향도 같이 건의합니다.\n",
      "어차피 굇수들은 명건 끝나서 날개 갯수 오르든 상관읎지 않나요?\n",
      "☆포인트\n",
      "1.날개가 늘어나면 빨별층 힘들다?\n",
      "- 놉, 매일3개씩 줍줍에 빨별층은 오고가는 사람이 많아서 날충해야되는거 30~60개 크리 아낄 수있다. 시간은 한정적이라서 날충할거 안하는거뿐 크게 바뀌지 않을거같음\n",
      "2.명건이 안된 섬리니들, 명점 스트레스, 허탈, 허무, 하드겜 스트레스를 줄일수 있어 섬리니들이 오래할수있다.\n",
      "-야스, 당연히 될 수밖에ㅋㅋ1~2년동안 명건 올리는거..그나마 줄일수 있자너.. 명건만이라도 편하게.. 10개로는 라이벌도 못하고 복수만 주고받기 빠듯함\n",
      "날개충전 되기도 전에 매일 했는데도 200판을 못넘김\n",
      "크리는 전부 던전에 쓰고있어서 날충까지 못하고요.얼른 댓글 안달고 뭐행?\n"
     ]
    },
    {
     "name": "stderr",
     "output_type": "stream",
     "text": [
      " 67%|████████████████████████████████████████████████████████████████████████████████▋                                       | 162/241 [10:07<05:38,  4.28s/it]"
     ]
    },
    {
     "name": "stdout",
     "output_type": "stream",
     "text": [
      "이 게시판이 맞는지 모르겟는데\n",
      "fatarti 저인간 1승1패 주고 받고\n",
      "3번째판 또 걸린상황에서\n",
      "픽밴 다 주고 받은 그 픽창에서 자기 불리하게 되니까\n",
      "갑자기 튕기게 만들었습니다.\n",
      "칼하나 날아가고 점수는 그대로네요.\n",
      "마감 시즌에 날개1개 날려서 개빡칩니다.\n",
      "얼른 파헤쳐서 조져주세요.\n"
     ]
    },
    {
     "name": "stderr",
     "output_type": "stream",
     "text": [
      " 68%|█████████████████████████████████████████████████████████████████████████████████▏                                      | 163/241 [10:10<05:17,  4.07s/it]"
     ]
    },
    {
     "name": "stdout",
     "output_type": "stream",
     "text": [
      "MI~ 닉쓰는새끼 첫판은 제가지고 두번째판 쳐바르니까 저거쓰고 튕겨짐 기록도안남음.\n",
      "빛주날빌쓰는새끼인데 아 개빡치네진짜\n"
     ]
    },
    {
     "name": "stderr",
     "output_type": "stream",
     "text": [
      " 68%|█████████████████████████████████████████████████████████████████████████████████▋                                      | 164/241 [10:14<04:55,  3.84s/it]"
     ]
    },
    {
     "name": "stdout",
     "output_type": "stream",
     "text": [
      "제가 훨씬 유리한 상황인데 이렇게 갑자기 꺼져버리네요\n",
      "저번시즌에도 이렇게 뜨고 날개만 날라갔었는데 이번시즌도 똑같네요\n",
      "저만 이러는것도 아니고 다른분들도 동기화 버그 종종 보이고 건의사항 올리는걸로 아는데\n",
      "조치를 취하셔야하는거 아닌가요\n"
     ]
    },
    {
     "name": "stderr",
     "output_type": "stream",
     "text": [
      " 68%|██████████████████████████████████████████████████████████████████████████████████▏                                     | 165/241 [10:17<04:40,  3.69s/it]"
     ]
    },
    {
     "name": "stdout",
     "output_type": "stream",
     "text": [
      "거의 매일 실레나 하는 유저입니다.\n",
      "밴픽이 끝나고 대전 화면으로 이동하는 순간 정확히는 기억 안나나 '프로그램을 다시 설치하라는 문구'와 함께 튕겨져 나갔습니다.\n",
      "와이파이나 인터넷 끊김과는 전혀 다른 현상이었습니다.\n",
      "조사 및 제제 부탁 드립니다.\n",
      "이기긴 했는데 승점이 11점으로 표시 되네요.\n"
     ]
    },
    {
     "name": "stderr",
     "output_type": "stream",
     "text": [
      " 69%|██████████████████████████████████████████████████████████████████████████████████▋                                     | 166/241 [10:21<04:34,  3.65s/it]"
     ]
    },
    {
     "name": "stdout",
     "output_type": "stream",
     "text": [
      "실레나 룬 아티 일괄 적용 버튼좀 제발 ㅠㅠ\n",
      "하나하나 바꾸고 다시 끼워줄라니 힘들어요 ㅠㅠ\n"
     ]
    },
    {
     "name": "stderr",
     "output_type": "stream",
     "text": [
      " 69%|███████████████████████████████████████████████████████████████████████████████████▏                                    | 167/241 [10:24<04:34,  3.71s/it]"
     ]
    },
    {
     "name": "stdout",
     "output_type": "stream",
     "text": [
      "이거 쓰고 스킬 사용하고 싶어요.\n",
      "스킬 실패하면 회색 물브라 사용하고 ㅋㅋ\n",
      "스킬 성공하면 춤추고 ㅋㅋ\n"
     ]
    },
    {
     "name": "stderr",
     "output_type": "stream",
     "text": [
      " 70%|███████████████████████████████████████████████████████████████████████████████████▋                                    | 168/241 [10:28<04:35,  3.77s/it]"
     ]
    },
    {
     "name": "stdout",
     "output_type": "stream",
     "text": [
      "실레나 오랫동안 안할 시 점수 하락까지 몇일 남았습니다. 이런거 알 수 있게 표시해주세요 ㅠ..\n"
     ]
    },
    {
     "name": "stderr",
     "output_type": "stream",
     "text": [
      " 70%|████████████████████████████████████████████████████████████████████████████████████▏                                   | 169/241 [10:31<04:14,  3.54s/it]"
     ]
    },
    {
     "name": "stdout",
     "output_type": "stream",
     "text": [
      "\n"
     ]
    },
    {
     "name": "stderr",
     "output_type": "stream",
     "text": [
      " 71%|████████████████████████████████████████████████████████████████████████████████████▋                                   | 170/241 [10:45<07:35,  6.42s/it]"
     ]
    },
    {
     "name": "stdout",
     "output_type": "stream",
     "text": [
      " 실레나 유입인구도 점점 줄어드는데 등급별 퍼센테이지 조정좀 부탁드립니다. 금1 마감 10퍼센트하기가 너무 힘듭니다 ㅠ...      남겨주신 소중한 의견은 매일 확인하여 논의되고 있습니다. 감사합니다 :D\n"
     ]
    },
    {
     "name": "stderr",
     "output_type": "stream",
     "text": [
      " 71%|█████████████████████████████████████████████████████████████████████████████████████▏                                  | 171/241 [10:53<08:18,  7.12s/it]"
     ]
    },
    {
     "name": "stdout",
     "output_type": "stream",
     "text": [
      "   개븅신같은 게임지우는게 답이다   남겨주신 소중한 의견은 매일 확인하여 논의되고 있습니다. 감사합니다 :D\n"
     ]
    },
    {
     "name": "stderr",
     "output_type": "stream",
     "text": [
      " 71%|█████████████████████████████████████████████████████████████████████████████████████▋                                  | 172/241 [11:02<08:52,  7.71s/it]"
     ]
    },
    {
     "name": "stdout",
     "output_type": "stream",
     "text": [
      "\n"
     ]
    },
    {
     "name": "stderr",
     "output_type": "stream",
     "text": [
      " 72%|██████████████████████████████████████████████████████████████████████████████████████▏                                 | 173/241 [11:16<10:44,  9.48s/it]"
     ]
    },
    {
     "name": "stdout",
     "output_type": "stream",
     "text": [
      "실레나가 진짜 실력겜이 되려면  1)현재로썬 픽의 다양화와 카운터가 가장 쉬운대안임결론은 뭐다? 밸런스패치 다시하고34성 몹도 전략적으로 쓸수있게 해야함 2) 이건 주관적인 바램임또한 게임 내 턴별 스킬 외에 소환사가 전략적으로 선택할 다른 대안이 필요함 ex) 롤의 소환사 주문같은 형식실시간 아레나니까 턴에 상관없이 혹은 특정턴에 특정 소환사 스펠을 사용할 수 있다면 더 지능화된 게임이 가능예를들어 이번턴에 특정스펠을 사용하면 1턴간 상대와 나의 죽음이 없다던가 등의 전략적 요소 추가 필요당연 사용횟수등 1회로 제한한다던가 해서 ㅇㅇ ex) 배치별 혹은 특정자리 버프 등실레나에도 전후열같은 배치가 필요하다고 봄전열에서는 방어력5프로 증가 후열에서 공격력 5프로 증가 3) 몹 룬 현질하거나 덱구로 대회운영할거아니면룬드랍율부터 사람수준으로 좀 올리셈 \n"
     ]
    },
    {
     "name": "stderr",
     "output_type": "stream",
     "text": [
      " 72%|██████████████████████████████████████████████████████████████████████████████████████▋                                 | 174/241 [11:24<10:06,  9.06s/it]"
     ]
    },
    {
     "name": "stdout",
     "output_type": "stream",
     "text": [
      "   실레나하는 유저들을 늘리려면 노력한 만큼의 보상이 있어야 한다고 생각하는데 현재 보상은 너무 미약하다고 생각합니다 오라 하나 받으려 하기엔 금 1도 힘들고 은별들 보상은 별로 없으며 점수 올리기만힘들어서 실레나 안하게 됩니다 실레나 유저를 늘리기위해 금1이상 보상에 3성몹 형변 추가하고 은3이상 보상에 형변오라 넣으면 은3 이상 올리기위해 실레나 유저가 늘어날거라 생각합니다    남겨주신 소중한 의견은 매일 확인하여 논의되고 있습니다. 감사합니다 :D\n"
     ]
    },
    {
     "name": "stderr",
     "output_type": "stream",
     "text": [
      " 73%|███████████████████████████████████████████████████████████████████████████████████████▏                                | 175/241 [11:32<09:32,  8.67s/it]"
     ]
    },
    {
     "name": "stdout",
     "output_type": "stream",
     "text": [
      " 실레나랑 스레나를 즐기고 있는 동별 유저입니다.최근에 룬교체를 무료로 할 수 있는 업데이트로 룬주기가 부담스럽지 않아 실레나 스레나를 즐기고 있습니다.아지만 명예점수를 얻기엔 너무 힘들고 지치는 감이 있습니다.패배해도 1점정도는 돌려준다면 실레나 날개와 시간을 들여 즐긴 보상정도는 되지 않을까요실레나 스레나 패배시 명예 1점 건의드립니다    남겨주신 소중한 의견은 매일 확인하여 논의되고 있습니다. 감사합니다 :D\n"
     ]
    },
    {
     "name": "stderr",
     "output_type": "stream",
     "text": [
      " 73%|███████████████████████████████████████████████████████████████████████████████████████▋                                | 176/241 [11:45<10:42,  9.88s/it]"
     ]
    },
    {
     "name": "stdout",
     "output_type": "stream",
     "text": [
      "   이거 뭐임?다이겼는데 강제종료되면서 제목 문구 뜨꼬 승점 안들어옴 ㅡㅡ아 어처구니가없네... 이런경험 있으신가요??? 100%이긴 경기에서 이러니 당황스럽네요 남겨주신 소중한 의견은 매일 확인하여 논의되고 있습니다. 감사합니다 :D\n"
     ]
    },
    {
     "name": "stderr",
     "output_type": "stream",
     "text": [
      " 73%|████████████████████████████████████████████████████████████████████████████████████████▏                               | 177/241 [11:59<11:54, 11.16s/it]"
     ]
    },
    {
     "name": "stdout",
     "output_type": "stream",
     "text": [
      "  실레나룬 현제 일레나 던전이랑 동일하게 일괄 룬변경 버튼 만들어주세요몹하나하나 하는거말구요 한꺼번에 몹창에 전체몹을 돌려주는거요!   남겨주신 소중한 의견은 매일 확인하여 논의되고 있습니다. 감사합니다 :D\n"
     ]
    },
    {
     "name": "stderr",
     "output_type": "stream",
     "text": [
      " 74%|████████████████████████████████████████████████████████████████████████████████████████▋                               | 178/241 [12:12<12:22, 11.79s/it]"
     ]
    },
    {
     "name": "stdout",
     "output_type": "stream",
     "text": [
      "  관전방에서 보고 있는 상황에서관중들한테는 이모티콘이 안 보인다고 합니다. 같이 인성질 즐길 수 있게 관전 중인 사람들도이모티콘 볼 수 있게 패치해주세욬ㅋㅋ    남겨주신 소중한 의견은 매일 확인하여 논의되고 있습니다. 감사합니다 :D\n"
     ]
    },
    {
     "name": "stderr",
     "output_type": "stream",
     "text": [
      " 74%|█████████████████████████████████████████████████████████████████████████████████████████▏                              | 179/241 [12:20<10:58, 10.63s/it]"
     ]
    },
    {
     "name": "stdout",
     "output_type": "stream",
     "text": [
      "맨날 같은100원 짜리200원짜리 오라300원짜리사고싶어도 금1이 헬게이트구간이라 100명도전하면50명이상은실패하고그럴꺼면 시즌제로도입됫던 오라를 좀풀어주던지 은3권은 이상한 새새끼말고 200원짜리오라라도좀주세요형변석, 오라 과금으로팔라고해도 안팔꺼잖? 최후의보루처럼남겨두겠지 마지막 스포이드처럼     남겨주신 소중한 의견은 매일 확인하여 논의되고 있습니다. 감사합니다 :D\n"
     ]
    },
    {
     "name": "stderr",
     "output_type": "stream",
     "text": [
      " 75%|█████████████████████████████████████████████████████████████████████████████████████████▋                              | 180/241 [12:34<11:46, 11.58s/it]"
     ]
    },
    {
     "name": "stdout",
     "output_type": "stream",
     "text": [
      "  같은 길드원을 저격으로 만나준건지 우연으로 만난건지는 모르겠지만 만나자 서로 hi hello 인사를 나누며  부스팅하라며 룬조차 주지 않은 몹들로 어뷰징을 해줍니다.이게 e스포츠 게임인가요? 대회본선 진출자까지 제제따윈 없으니 이따위로 행동하는게 당연한 게임인데요?누군가는 속타들어가는거 참아가며 한판한판 돌립니다.정당한 게임이 될 수있게 조치좀 취해주세요.   남겨주신 소중한 의견은 매일 확인하여 논의되고 있습니다. 감사합니다 :D\n"
     ]
    },
    {
     "name": "stderr",
     "output_type": "stream",
     "text": [
      " 75%|██████████████████████████████████████████████████████████████████████████████████████████                              | 181/241 [12:42<10:35, 10.60s/it]"
     ]
    },
    {
     "name": "stdout",
     "output_type": "stream",
     "text": [
      "   실레나에서 룬 미착용인 몬스터가 있다면 간단하게 표시가 나오면 좋을것같아요! 남겨주신 소중한 의견은 매일 확인하여 논의되고 있습니다. 감사합니다 :D\n"
     ]
    },
    {
     "name": "stderr",
     "output_type": "stream",
     "text": [
      " 76%|██████████████████████████████████████████████████████████████████████████████████████████▌                             | 182/241 [12:55<11:00, 11.20s/it]"
     ]
    },
    {
     "name": "stdout",
     "output_type": "stream",
     "text": [
      "    1년된 섬린이인데요 실레나 하면서 아레나성적도 좀 보면서 매칭시켜 줬으면 좋겠어요 너무 고인물 겜이라 하기가 힘드네요 남겨주신 소중한 의견은 매일 확인하여 논의되고 있습니다. 감사합니다 :D\n"
     ]
    },
    {
     "name": "stderr",
     "output_type": "stream",
     "text": [
      " 76%|███████████████████████████████████████████████████████████████████████████████████████████                             | 183/241 [13:07<11:16, 11.67s/it]"
     ]
    },
    {
     "name": "stdout",
     "output_type": "stream",
     "text": [
      "  아이콘만 보며 몹 찾다가 어딧지 어딧지 하고 자동픽된 경우 있다 몹 하나하나 부를 명칭 메모로 저장해서 (간단하게 '물머메' 라고 하거나)저장했던 그 명칭으로 메모칸에 적으면 그 몹 바로 튀어나오게(중복이면 여러애들나오게)[이걸 이용해서 상대가 특정 픽을 하면 쓸 몹을 특정 글귀로 묶어놓거나]실레나 몹 선택창 구석에 조그마하게 '검색하기' 있으면 충분  그리고 밸패좀요  남겨주신 소중한 의견은 매일 확인하여 논의되고 있습니다. 감사합니다 :D\n"
     ]
    },
    {
     "name": "stderr",
     "output_type": "stream",
     "text": [
      " 76%|███████████████████████████████████████████████████████████████████████████████████████████▌                            | 184/241 [13:20<11:29, 12.10s/it]"
     ]
    },
    {
     "name": "stdout",
     "output_type": "stream",
     "text": [
      "일반 아레나는 어뷰징하면 몇주간 정지라던지제재를 하는걸로 알고있는데예전 중국인 사건이나Swc 우승자와 한국 레토진출자와의 어뷰징이나왜 제재를 안하는 건가요?클린한 운영 부탁드립니다.\n"
     ]
    },
    {
     "name": "stderr",
     "output_type": "stream",
     "text": [
      " 77%|████████████████████████████████████████████████████████████████████████████████████████████                            | 185/241 [13:28<10:01, 10.73s/it]"
     ]
    },
    {
     "name": "stdout",
     "output_type": "stream",
     "text": [
      "\n"
     ]
    },
    {
     "name": "stderr",
     "output_type": "stream",
     "text": [
      " 77%|████████████████████████████████████████████████████████████████████████████████████████████▌                           | 186/241 [13:41<10:25, 11.37s/it]"
     ]
    },
    {
     "name": "stdout",
     "output_type": "stream",
     "text": [
      "  드래곤볼 갖고싶음요  ㅠㅠㅠ  남겨주신 소중한 의견은 매일 확인하여 논의되고 있습니다. 감사합니다 :D\n"
     ]
    },
    {
     "name": "stderr",
     "output_type": "stream",
     "text": [
      " 78%|█████████████████████████████████████████████████████████████████████████████████████████████                           | 187/241 [13:54<10:42, 11.91s/it]"
     ]
    },
    {
     "name": "stdout",
     "output_type": "stream",
     "text": [
      "\n"
     ]
    },
    {
     "name": "stderr",
     "output_type": "stream",
     "text": [
      " 78%|█████████████████████████████████████████████████████████████████████████████████████████████▌                          | 188/241 [14:07<10:56, 12.39s/it]"
     ]
    },
    {
     "name": "stdout",
     "output_type": "stream",
     "text": [
      "점령전이나 아레나에서 남들이 제방덱 공격햇을때 이기고지는거 볼수잇게 해주시면 참좋을듯 갓패치아닙니까?!  방성같은거뜨면 궁굼해죽겟네요~~    남겨주신 소중한 의견은 매일 확인하여 논의되고 있습니다. 감사합니다 :D\n"
     ]
    },
    {
     "name": "stderr",
     "output_type": "stream",
     "text": [
      " 78%|██████████████████████████████████████████████████████████████████████████████████████████████                          | 189/241 [14:21<11:05, 12.79s/it]"
     ]
    },
    {
     "name": "stdout",
     "output_type": "stream",
     "text": [
      " 룬위에 있어야하는 기본룬세팅버튼이없어졌고그부근을누르면 비밀버튼마냥 적용되긴하네요  \n"
     ]
    },
    {
     "name": "stderr",
     "output_type": "stream",
     "text": [
      " 79%|██████████████████████████████████████████████████████████████████████████████████████████████▌                         | 190/241 [14:29<09:35, 11.28s/it]"
     ]
    },
    {
     "name": "stdout",
     "output_type": "stream",
     "text": [
      " 암무희 빛오컬 빛해왕 상향 해주세요 실레나에좀쓰게요    남겨주신 소중한 의견은 매일 확인하여 논의되고 있습니다. 감사합니다 :D\n"
     ]
    },
    {
     "name": "stderr",
     "output_type": "stream",
     "text": [
      " 79%|███████████████████████████████████████████████████████████████████████████████████████████████                         | 191/241 [14:42<09:45, 11.72s/it]"
     ]
    },
    {
     "name": "stdout",
     "output_type": "stream",
     "text": [
      "정복자, 수호자여야 구입가능한 이펙트들 등급제한 풀어주시는건 어떨까요어차피 포인트 모으기도 힘든데.. 모아도 구입할 수 없으니 초보자들 입장에서는 실레나를 즐길 이유가 없어서요물론 등급제한 풀리면 이펙트 구입해보려고 실레나 더 이용할 것 같습니다! 저와 비슷한 사람들도 있지 않을까요   남겨주신 소중한 의견은 매일 확인하여 논의되고 있습니다. 감사합니다 :D\n"
     ]
    },
    {
     "name": "stderr",
     "output_type": "stream",
     "text": [
      " 80%|███████████████████████████████████████████████████████████████████████████████████████████████▌                        | 192/241 [14:55<10:00, 12.25s/it]"
     ]
    },
    {
     "name": "stdout",
     "output_type": "stream",
     "text": [
      "\n"
     ]
    },
    {
     "name": "stderr",
     "output_type": "stream",
     "text": [
      " 80%|████████████████████████████████████████████████████████████████████████████████████████████████                        | 193/241 [15:08<09:49, 12.29s/it]"
     ]
    },
    {
     "name": "stdout",
     "output_type": "stream",
     "text": [
      " 아니 뭔 최하위권부터 고인물들인데 어케하노 평생 pve만 하다 접으라고? 신규유입많은 지금 물들어올때 노젓자 개투스야   남겨주신 소중한 의견은 매일 확인하여 논의되고 있습니다. 감사합니다 :D\n"
     ]
    },
    {
     "name": "stderr",
     "output_type": "stream",
     "text": [
      " 80%|████████████████████████████████████████████████████████████████████████████████████████████████▌                       | 194/241 [15:20<09:42, 12.39s/it]"
     ]
    },
    {
     "name": "stdout",
     "output_type": "stream",
     "text": [
      "\n"
     ]
    },
    {
     "name": "stderr",
     "output_type": "stream",
     "text": [
      " 81%|█████████████████████████████████████████████████████████████████████████████████████████████████                       | 195/241 [15:33<09:32, 12.45s/it]"
     ]
    },
    {
     "name": "stdout",
     "output_type": "stream",
     "text": [
      " 응 안돼 돌아가, 하지말고 생각해보셈 필요한기능ㄴ입니다.실레나가 점점더 많이하고있는데 상담받고이럴려면 필요하다고봄1. A라는몹이있으면 직접들어가서봐도 해당몹룬보여주기를  마을or 실레나룬작으로보여지게끔2. 몬스터토론장에서 친구몹볼때 설정한룬작으로보여지게끔한다던지 남겨주신 소중한 의견은 매일 확인하여 논의되고 있습니다. 감사합니다 :D\n"
     ]
    },
    {
     "name": "stderr",
     "output_type": "stream",
     "text": [
      " 81%|█████████████████████████████████████████████████████████████████████████████████████████████████▌                      | 196/241 [15:45<09:21, 12.48s/it]"
     ]
    },
    {
     "name": "stdout",
     "output_type": "stream",
     "text": [
      "레벨 ~30레벨 30~35레벨 35~40레벨 40~45레벨 50이상, 아레나 은별등급은별등급 시탑하드 클리어 여부레이드 5단계 1분 컷(뇌솔드, 뇌이드 양반)일반 아레나 최고등급 ~금2일반 아레나 최고등급 ~빨1일반 아레나 최고등급 빨2~빨3  + 일반 아레나 최고등급 ~금2 미만 한정으로 보상에 에너지,마나석,슈퍼 엔젤몬,4성 찬란, 무지개몬, 금단의 진화 주문서, 영웅 등급 이상 룬, 이벤트 상점 코인, 6성 갈면 주는 보석 등 을 준다면 좋을 것 같음저단계에서 고단계로 갈수록 보상은 좋아지고최고등급 기준 보상을 더욱 상승시키고(6성 갈면 주는 보석, 이벤트 상점 코인 추가 외에도 기존 보상 상향)그 아랫단계도 상승(위와 동일)금~2 기준은 지금과 동일이렇게 10단계 분류해서 매칭되게 변경좀  글고 스레나 신 룰로, 4개 선정한 몹으로만 랜덤매칭 되어 붙는 스레나 나오면 재밌을듯픽밴 할 필요 없이 바로 매칭되서 배틀, 이 얼마나 신속하고 시간 절약적인 아이디어임빛암 미포함 실레나도 나오면 좋을듯 남겨주신 소중한 의견은 매일 확인하여 논의되고 있습니다. 감사합니다 :D\n"
     ]
    },
    {
     "name": "stderr",
     "output_type": "stream",
     "text": [
      " 82%|██████████████████████████████████████████████████████████████████████████████████████████████████                      | 197/241 [15:59<09:18, 12.69s/it]"
     ]
    },
    {
     "name": "stdout",
     "output_type": "stream",
     "text": [
      "\n"
     ]
    },
    {
     "name": "stderr",
     "output_type": "stream",
     "text": [
      " 82%|██████████████████████████████████████████████████████████████████████████████████████████████████▌                     | 198/241 [16:11<09:01, 12.60s/it]"
     ]
    },
    {
     "name": "stdout",
     "output_type": "stream",
     "text": [
      "      재접속해도 이러던데 이거 상대방이 버그써서 그런건가요?이런적이 처음이라 당황스럽네요 남겨주신 소중한 의견은 매일 확인하여 논의되고 있습니다. 감사합니다 :D\n"
     ]
    },
    {
     "name": "stderr",
     "output_type": "stream",
     "text": [
      " 83%|███████████████████████████████████████████████████████████████████████████████████████████████████                     | 199/241 [16:20<07:59, 11.42s/it]"
     ]
    },
    {
     "name": "stdout",
     "output_type": "stream",
     "text": [
      "첫칸에 헬기사 좀 픽해놓고 싶어요    남겨주신 소중한 의견은 매일 확인하여 논의되고 있습니다. 감사합니다 :D\n"
     ]
    },
    {
     "name": "stderr",
     "output_type": "stream",
     "text": [
      " 83%|███████████████████████████████████████████████████████████████████████████████████████████████████▌                    | 200/241 [16:32<08:04, 11.83s/it]"
     ]
    },
    {
     "name": "stdout",
     "output_type": "stream",
     "text": [
      "   크기가 각자 따로따로   남겨주신 소중한 의견은 매일 확인하여 논의되고 있습니다. 감사합니다 :D\n"
     ]
    },
    {
     "name": "stderr",
     "output_type": "stream",
     "text": [
      " 83%|████████████████████████████████████████████████████████████████████████████████████████████████████                    | 201/241 [16:40<07:02, 10.56s/it]"
     ]
    },
    {
     "name": "stdout",
     "output_type": "stream",
     "text": [
      " 5속성중 불속성만 유일하게 스킬써도 우산펼치는 모션이 없네요. 불오컬트도 만들어주심 감사하겠습니다.물속성 2스, 풍속성 3스, 빛속성 3스, 암속성 2,3스에 우산펼치는 모션이있네요.\n"
     ]
    },
    {
     "name": "stderr",
     "output_type": "stream",
     "text": [
      " 84%|████████████████████████████████████████████████████████████████████████████████████████████████████▌                   | 202/241 [16:48<06:18,  9.71s/it]"
     ]
    },
    {
     "name": "stdout",
     "output_type": "stream",
     "text": [
      "    실레나는 그냥 실레나 포인트로 매주 데빌몬 구입하게만 해줘도 유입 많이 늘어남대신 점수를 좀 높게 책정 하면 됨 상위권은 1주일에 1번 살 정도로 하위권은 1.5-2주정도에 한개 살 정도로 포인트 책정 하면 사람들 실레나 많이 할듯 남겨주신 소중한 의견은 매일 확인하여 논의되고 있습니다. 감사합니다 :D\n"
     ]
    },
    {
     "name": "stderr",
     "output_type": "stream",
     "text": [
      " 84%|█████████████████████████████████████████████████████████████████████████████████████████████████████                   | 203/241 [17:00<06:42, 10.59s/it]"
     ]
    },
    {
     "name": "stdout",
     "output_type": "stream",
     "text": [
      " 실레나 채팅할수있게만들어주세요친구랑 겜하면서 채팅하고싶기도하고상대편이 한국사람이면 같이채팅하면서 재밌게할수있잖아요? 컴투스 힘내힘내!     남겨주신 소중한 의견은 매일 확인하여 논의되고 있습니다. 감사합니다 :D\n"
     ]
    },
    {
     "name": "stderr",
     "output_type": "stream",
     "text": [
      " 85%|█████████████████████████████████████████████████████████████████████████████████████████████████████▌                  | 204/241 [17:08<06:00,  9.73s/it]"
     ]
    },
    {
     "name": "stdout",
     "output_type": "stream",
     "text": [
      "\n"
     ]
    },
    {
     "name": "stderr",
     "output_type": "stream",
     "text": [
      " 85%|██████████████████████████████████████████████████████████████████████████████████████████████████████                  | 205/241 [17:20<06:18, 10.52s/it]"
     ]
    },
    {
     "name": "stdout",
     "output_type": "stream",
     "text": [
      "    리플레이 구경 중 빨3 애들 중에 조합이 신박(이상) 해서 시청하니 첨부드린 스샷을 보시다시피 의도적으로 서로 죽지도 죽이지도 못하는 조합으로 어뷰징을 하네요. 같은 국가유저인점에서 친분에 의한 무승부를 의도적으로 한듯한데 엄연히 어뷰징입니다. 저 경기 이후 증거인멸이라도 하듯 해당 리플레이만 칼삭제하더라구요. 리플레이는 자진삭제해도 해당 경기 로그는 당연히남아있을거라 생각합니다. 해당 경기 시점은 2020.3.29(일) 02:30~02:45 KST 쯤 입니다. 다른 유저들은 치열하게 스트레스 받아가면서 실레나하는데 컴투스분들의 공평하고 적절한 조치부탁드립니다.    남겨주신 소중한 의견은 매일 확인하여 논의되고 있습니다. 감사합니다 :D\n"
     ]
    },
    {
     "name": "stderr",
     "output_type": "stream",
     "text": [
      " 85%|██████████████████████████████████████████████████████████████████████████████████████████████████████▌                 | 206/241 [17:28<05:39,  9.69s/it]"
     ]
    },
    {
     "name": "stdout",
     "output_type": "stream",
     "text": [
      "지금은 월드 아레나, 글로벌적으로 연동되는 실레나잖아요?이걸 아시아/코리아/차이니즈/아메리카/유럽 등 지역을 나눠서 서버를 새로 만드는 건 어떨까요글로벌 월레나 보상은 좀 더 올리고지금 월레나 보상을 서버 내 실레나 보상으로 바꾸는 걸로  그러면 도전정신 좀 생길듯 전세계적으로 빨별권 들어야 형변 얻을 수 있는 ㅈ망 컨텐츠 구제 남겨주신 소중한 의견은 매일 확인하여 논의되고 있습니다. 감사합니다 :D\n"
     ]
    },
    {
     "name": "stderr",
     "output_type": "stream",
     "text": [
      " 86%|███████████████████████████████████████████████████████████████████████████████████████████████████████                 | 207/241 [17:41<05:59, 10.57s/it]"
     ]
    },
    {
     "name": "stdout",
     "output_type": "stream",
     "text": [
      " 금별조차 가기 힘든 저같은 은별레기들은 스레나해서 겨우겨우 얻는 3000포 짜리 형변밖에 기대할수읍슴 근데 그 3000포 형변도 들어오는데 엄청난 오랜 시간이 걸림 ㅡㅡ;   남겨주신 소중한 의견은 매일 확인하여 논의되고 있습니다. 감사합니다 :D\n"
     ]
    },
    {
     "name": "stderr",
     "output_type": "stream",
     "text": [
      " 86%|███████████████████████████████████████████████████████████████████████████████████████████████████████▌                | 208/241 [17:53<06:09, 11.20s/it]"
     ]
    },
    {
     "name": "stdout",
     "output_type": "stream",
     "text": [
      " 실레나 보상이 전체적으로 너무 짠것같습니다 참여율을 높이려면 아래티어의 보상을 좀더 높이는게 좋다고생각되는데 현재 보상이 검별,동1이 보상이없고 동2가 형변석3개동3이형변석5개 은1.2.3이 탈것이지급됩니다하지만사실상 탈것은 잘 신경도쓰지않고 저티어기준 참여하는 시간과 노력에비하여 너무낮은보상이 주어지는것같습니다 사실형변석3개면던전돌다가 먹는형변석갯수이고 5개도많지않은수이고요...그래서보상을 늘린다치면 예를들어서 검별?이 형변석10개동1이 형변석20개동2가 형변석 30개 동3이 형변석 40은별의 경우 은1이 탈것+형변석 10개 or 형변석60개은2이 탈것+형변석20개 or 형변석70개은3이 탈것+형변석30개 or 형변석80개금별도 아래티어 보상에 추가적으로 날개지급하고 빨별도 아래티어 보상에 추가적으로 시즌형변을 지급하는식으로 바꾼다하면  전체적인 참여가 늘것이라고 생각됩니다 감사합니다 남겨주신 소중한 의견은 매일 확인하여 논의되고 있습니다. 감사합니다 :D\n"
     ]
    },
    {
     "name": "stderr",
     "output_type": "stream",
     "text": [
      " 87%|████████████████████████████████████████████████████████████████████████████████████████████████████████                | 209/241 [18:02<05:29, 10.29s/it]"
     ]
    },
    {
     "name": "stdout",
     "output_type": "stream",
     "text": [
      "\n"
     ]
    },
    {
     "name": "stderr",
     "output_type": "stream",
     "text": [
      " 87%|████████████████████████████████████████████████████████████████████████████████████████████████████████▌               | 210/241 [18:15<05:50, 11.29s/it]"
     ]
    },
    {
     "name": "stdout",
     "output_type": "stream",
     "text": [
      " 아프리카, 트위치, 유튜브에서 실레나상담을받는사람들이 꾀있는데,마을룬작 / 실레나룬작 나뉜거+ 실레나룬작비용0원 정말탁월하신패치같습니다.추가적으로 실레나룬작으로 상담을받아야하는데 보여지지가않아 불편을겪습니다.고려해주시기바랍니다.    남겨주신 소중한 의견은 매일 확인하여 논의되고 있습니다. 감사합니다 :D\n"
     ]
    },
    {
     "name": "stderr",
     "output_type": "stream",
     "text": [
      " 88%|█████████████████████████████████████████████████████████████████████████████████████████████████████████               | 211/241 [18:29<05:56, 11.88s/it]"
     ]
    },
    {
     "name": "stdout",
     "output_type": "stream",
     "text": [
      "아프리카, 트위치, 유튜브에서 실레나상담을받는사람들이 꾀있는데,마을룬작 / 실레나룬작 나뉜거+ 실레나룬작비용0원 정말탁월하신패치같습니다.추가적으로 실레나룬작으로 상담을받아야하는데 보여지지가않아 불편을겪습니다.고려해주시기바랍니다.    남겨주신 소중한 의견은 매일 확인하여 논의되고 있습니다. 감사합니다 :D\n"
     ]
    },
    {
     "name": "stderr",
     "output_type": "stream",
     "text": [
      " 88%|█████████████████████████████████████████████████████████████████████████████████████████████████████████▌              | 212/241 [18:42<05:58, 12.35s/it]"
     ]
    },
    {
     "name": "stdout",
     "output_type": "stream",
     "text": [
      " 진지하게 실레나 별 등급 컷은 퍼센테이지 한정으로 하고 패배 시 점수 하락 폭 낮게 승리시 점수 상승 폭 높게 바꾸면 안돼나?   남겨주신 소중한 의견은 매일 확인하여 논의되고 있습니다. 감사합니다 :D\n"
     ]
    },
    {
     "name": "stderr",
     "output_type": "stream",
     "text": [
      " 88%|██████████████████████████████████████████████████████████████████████████████████████████████████████████              | 213/241 [18:56<05:55, 12.71s/it]"
     ]
    },
    {
     "name": "stdout",
     "output_type": "stream",
     "text": [
      "  현재 실레나는 고인물들만의 컨텐츠로 참여인원이 적다는게 가장 큰 단점입니다 그럼 왜 실레나를 안할까요? 이유는 간단합니다  첫째.진입장벽이 너무 높다  우선 50렙미만의 유저는 사실상 참여자체가 불가능하며 50렙을 찍었다 해도 양학러,패작러 등에 의해 하기가 정말 싫어집니다 뉴비들에게 최소한의 재미라도 얻을수있게 매칭을 같은 레벨로 맞춰줍시다 또한 아레나의 등급을 고려하여 배치때 매칭시켜 줬으면 좋겠네요    둘째.노력에 비해 보상이 터무니 없이 작다 날빌덱을 제외하고 평균시간이 최소5분이상이고,폭주나 한틱차이로 졌는데 보상은 1도 없고 점수만 떨어진다? 누가 재밌다고 계속 할까요? 이부분은 패배시 포인트 1점,무승부는 2점으로 개선합시다  셋째.실레나 상점및 시즌보상 개선이 필요하다 사실 실레나를 하는 큰이유중 하나가 pvp고유의 매력도 있다만,형변과 날개사려고 하는거잖아요? 근데 일주일에 조각5개는 너무 짜다고 생각합니다 3회제한 총15개로 보상 업그레이드합시다 그리고 금별 날개 사려고 하는 사람이 참 많을텐데 고인물들이 윗티어를 장악하고 있는이상 웬만해서는 금별문턱에도 가기 힘듦니다 은별-400개 동별-500개로 1회제한 구매가 가능하다면 참여인원이 증가할것 으로 기대됩니다 시즌보상이 가장 문제라고 생각하는데 현재 보상은 어이없게도 동별이 은별보다 좋은 상태이며  전체적인 보상이 작습니다 시즌보상좀 개선합시다 --  레전드-조각1000개+시즌날개 10개+시즌스킨 5개 빨3-조각700개+시즌날개 6개+시즌스킨3개 빨2-조각600개+시즌날개 5개+시즌스킨2개 빨1-조각500개+시즌날개 4개+시즌스킨1개 금3-조각400개+시즌날개 3개+300포짜리 날개 3개 금2-조각300개+시즌날개 2개+300포짜리 날개 2개 금1-조각250개+시즌날개 1개+300포짜리 날개 1개 은3-조각200개+200포짜리 날개 3개 은2-조각175개+200포짜리 날개 2개 은1-조각150개+200포짜리 날개 1개 동3-조각125개 동2-조각100개 동1-조각75개 입문자-조각50개  이정도는 해야 동기부여가지고 하지 않을까요? 현재보상을 좀보세요 제발남겨주신 소중한 의견은 매일 확인하여 논의되고 있습니다. 감사합니다 :D\n"
     ]
    },
    {
     "name": "stderr",
     "output_type": "stream",
     "text": [
      " 89%|██████████████████████████████████████████████████████████████████████████████████████████████████████████▌             | 214/241 [19:09<05:49, 12.96s/it]"
     ]
    },
    {
     "name": "stdout",
     "output_type": "stream",
     "text": [
      "초보들도 실레나를 하면서 상점 날개를 구매하고싶은 욕구가 클거같은데 현재 금1 문턱이 높아 포인트를 열심히 모아도 구매하기가 어렵습니다 ㅠ \n"
     ]
    },
    {
     "name": "stderr",
     "output_type": "stream",
     "text": [
      " 89%|███████████████████████████████████████████████████████████████████████████████████████████████████████████             | 215/241 [19:17<04:59, 11.51s/it]"
     ]
    },
    {
     "name": "stdout",
     "output_type": "stream",
     "text": [
      " 룬해제할때 일반 룬해제와 실레나 룬 동시 해제 같은거 선택해서 해제 할 수 있게 해주면 안댐?이거 룬해제 한번 싹 하고 팔려니깐 팔수가 없데근데 돈도 돈이지만 언제 찾아서 빼고 있나    남겨주신 소중한 의견은 매일 확인하여 논의되고 있습니다. 감사합니다 :D\n"
     ]
    },
    {
     "name": "stderr",
     "output_type": "stream",
     "text": [
      " 90%|███████████████████████████████████████████████████████████████████████████████████████████████████████████▌            | 216/241 [19:31<05:05, 12.20s/it]"
     ]
    },
    {
     "name": "stdout",
     "output_type": "stream",
     "text": [
      "보통 몹들을창고에넣어두고 안쓰는몹을뺴놓지만전반대입니다. 제친구와 길드원도불편해하는점입니다. 어쩌면 모두들불편해하는점일겁니다.실레나에서 안쓰는몹좀넣어놓을수있게해주세요첫줄에말씀드렷지만 쓰는몹을창고에넣어두는분들은 걍 창고눌러서 몹사용하면되지만저는 꺼내놓고하기에 헷갈려서 잘못누르는실수방지겸.실레나창고?를만들어주세요제발쫌그리고 아프가니스탄TV나 트윙키에서 BJ나 스트리머들한테 상담받아야하는데실레나룬작보여주고 상담받고싶은데 보여줄수있는기능도고안해주세요  feat.물발키리 머리색상 파란색으로좀바꿔주세요 모든몹들이 자기속성에맞는머리색과 눈동자색인데물발은 왜 풍발이랑 같은머리색입니까    남겨주신 소중한 의견은 매일 확인하여 논의되고 있습니다. 감사합니다 :D\n"
     ]
    },
    {
     "name": "stderr",
     "output_type": "stream",
     "text": [
      " 90%|████████████████████████████████████████████████████████████████████████████████████████████████████████████            | 217/241 [19:44<04:58, 12.45s/it]"
     ]
    },
    {
     "name": "stdout",
     "output_type": "stream",
     "text": [
      " 패치 될 때부터 이렇게될거 예상했긴한데 역시나 엄청불편하고 가끔이나마 하던 실레나 이젠 룬 바꿔끼기 귀찮아서 아예 안하게되네요, 어제 실레나 룬을 다빼버렸어야하는데 깜박해서 이거때매 룬판매도 안되고 아 쌍.... \n"
     ]
    },
    {
     "name": "stderr",
     "output_type": "stream",
     "text": [
      " 90%|████████████████████████████████████████████████████████████████████████████████████████████████████████████▌           | 218/241 [19:51<04:11, 10.94s/it]"
     ]
    },
    {
     "name": "stdout",
     "output_type": "stream",
     "text": [
      "   이거 상위 티어나 양쪽 다 관리하고 하지하위티어 어정쩡하게 룬 있는 사람들은 양쪽다 룬작 하고 하는게 얼마나 고된지 아시는지그냥 한쪽 세팅하고 동기화 버튼 누르면실레나에서 동기화 하면 일반까지 동기화일반에서 동기화 하면 실레나까지 동기화 되도록 기능 추가 해주세요.이거 룬만 바꾸다가 게임 접을 판이네요 남겨주신 소중한 의견은 매일 확인하여 논의되고 있습니다. 감사합니다 :D\n"
     ]
    },
    {
     "name": "stderr",
     "output_type": "stream",
     "text": [
      " 91%|█████████████████████████████████████████████████████████████████████████████████████████████████████████████           | 219/241 [20:05<04:20, 11.85s/it]"
     ]
    },
    {
     "name": "stdout",
     "output_type": "stream",
     "text": [
      "    위 사진들과 같이(불라클 평타에 기절 2번 뜸)다단히트에 절망룬이 각각 적용 되어 말도 안되는 확률을 보여줍니다 얼른 수정해주세요!!! 남겨주신 소중한 의견은 매일 확인하여 논의되고 있습니다. 감사합니다 :D\n"
     ]
    },
    {
     "name": "stderr",
     "output_type": "stream",
     "text": [
      " 91%|█████████████████████████████████████████████████████████████████████████████████████████████████████████████▌          | 220/241 [20:13<03:42, 10.60s/it]"
     ]
    },
    {
     "name": "stdout",
     "output_type": "stream",
     "text": [
      "    상대방 폭주4번 터지고난 폭주1번 터지던데왜 차별해? 남겨주신 소중한 의견은 매일 확인하여 논의되고 있습니다. 감사합니다 :D\n"
     ]
    },
    {
     "name": "stderr",
     "output_type": "stream",
     "text": [
      " 92%|██████████████████████████████████████████████████████████████████████████████████████████████████████████████          | 221/241 [20:21<03:14,  9.72s/it]"
     ]
    },
    {
     "name": "stdout",
     "output_type": "stream",
     "text": [
      "\n"
     ]
    },
    {
     "name": "stderr",
     "output_type": "stream",
     "text": [
      " 92%|██████████████████████████████████████████████████████████████████████████████████████████████████████████████▌         | 222/241 [20:33<03:20, 10.55s/it]"
     ]
    },
    {
     "name": "stdout",
     "output_type": "stream",
     "text": [
      "진심 불편합니다.의도는 평상시와 실레나 룬을 따로 관리해서 유저의 편의성을 높여주겠다던 의도였던거 같은데.저같이 단순한 사람은 두개로 관리가 안되네요. 룬옮기는데 돈도 두배로 들고..공격력 필요없는애가 룬을끼고있어서 공격력을 다른걸로 바꾸면, 실레나에서는 그룬을 다른애가 끼고있어 업그레이드가 아닌 다운그레이드된 결과도 나오고. 실레나에서 룬맞출때 일반에서 끼고있는거랑 동일하게 맞출수있는 버튼하나 만들어주는것도 괜찮을것 같고요그룬을 일반에서 누가 끼고있는지 실레나 룬세팅때 볼수라도 있게 해주던지..룬이 1300개가 넘는데 그걸 누가끼고 있는지 다 알수는 없지 않습니까..? \n"
     ]
    },
    {
     "name": "stderr",
     "output_type": "stream",
     "text": [
      " 93%|███████████████████████████████████████████████████████████████████████████████████████████████████████████████         | 223/241 [20:41<02:55,  9.76s/it]"
     ]
    },
    {
     "name": "stdout",
     "output_type": "stream",
     "text": [
      "(모바일 작성인점 양해바랍니다) \n"
     ]
    },
    {
     "name": "stderr",
     "output_type": "stream",
     "text": [
      " 93%|███████████████████████████████████████████████████████████████████████████████████████████████████████████████▌        | 224/241 [20:49<02:34,  9.09s/it]"
     ]
    },
    {
     "name": "stdout",
     "output_type": "stream",
     "text": [
      " 이랑 던젼룬 동기화 버튼 하나 만들어주시면 안돼나요 ㅋㅋㅋ룬이 어디갔는지를 찾기가.....에라이 초기화 버튼 만들어주세요오오오오오ㅠㅠㅠㅠ     남겨주신 소중한 의견은 매일 확인하여 논의되고 있습니다. 감사합니다 :D\n"
     ]
    },
    {
     "name": "stderr",
     "output_type": "stream",
     "text": [
      " 93%|████████████████████████████████████████████████████████████████████████████████████████████████████████████████        | 225/241 [20:57<02:21,  8.87s/it]"
     ]
    },
    {
     "name": "stdout",
     "output_type": "stream",
     "text": [
      " 게ㅆ발 빛브라, 불뱀, 빛카우3마리로 풍팬더한마리 씨발폭주한테지는게말이되냐? 방깍+버프다지우고나면 평평2스이씹지랄하는데 말이되냐고 개조같은거진짜    남겨주신 소중한 의견은 매일 확인하여 논의되고 있습니다. 감사합니다 :D\n"
     ]
    },
    {
     "name": "stderr",
     "output_type": "stream",
     "text": [
      " 94%|████████████████████████████████████████████████████████████████████████████████████████████████████████████████▌       | 226/241 [21:10<02:32, 10.15s/it]"
     ]
    },
    {
     "name": "stdout",
     "output_type": "stream",
     "text": [
      "실레나 할때마다 적으면 10마리 ~ 많으면 15마리인데..실레나 할때마다 전판 픽했던 몬스터들만 앞에 와있고 나머지는 섞여 있어서 찾기 힘드네요..껐다 켜도 몬스터들 다시 섞여 있어서 찾기 힘들어요 ㅠ실레나 몹들 눌러서 앞으로 나열해 정렬할수 있는 설정기능좀 넣어주세요..길전, 점령전에 쓰는 몬스터들 때문에 100마리를 보관소에 다 집어넣기도 그렇고..편의 기능을 건의할수 있다면 절실히 필요하다고 생각합니다..;;    남겨주신 소중한 의견은 매일 확인하여 논의되고 있습니다. 감사합니다 :D\n"
     ]
    },
    {
     "name": "stderr",
     "output_type": "stream",
     "text": [
      " 94%|█████████████████████████████████████████████████████████████████████████████████████████████████████████████████       | 227/241 [21:23<02:32, 10.89s/it]"
     ]
    },
    {
     "name": "stdout",
     "output_type": "stream",
     "text": [
      "\n"
     ]
    },
    {
     "name": "stderr",
     "output_type": "stream",
     "text": [
      " 95%|█████████████████████████████████████████████████████████████████████████████████████████████████████████████████▌      | 228/241 [21:36<02:29, 11.47s/it]"
     ]
    },
    {
     "name": "stdout",
     "output_type": "stream",
     "text": [
      "\n"
     ]
    },
    {
     "name": "stderr",
     "output_type": "stream",
     "text": [
      " 95%|██████████████████████████████████████████████████████████████████████████████████████████████████████████████████      | 229/241 [21:49<02:26, 12.17s/it]"
     ]
    },
    {
     "name": "stdout",
     "output_type": "stream",
     "text": [
      " 15강 알림 안갑니다 15강띄우고 자랑할생각에 설렜는데 ㅡㅡ;\n"
     ]
    },
    {
     "name": "stderr",
     "output_type": "stream",
     "text": [
      " 95%|██████████████████████████████████████████████████████████████████████████████████████████████████████████████████▌     | 230/241 [21:58<02:01, 11.02s/it]"
     ]
    },
    {
     "name": "stdout",
     "output_type": "stream",
     "text": [
      " 제가 미국 동부 시간 2/15/2020 8:35PM 즈음에 L'est와 같은 프로필 사진을 가진 유저와 실레나를 하고있었습니다.처음부터 끝까지 렉은 엄청 심했구요, 상대가 이기고 있었는데 제가 폭주가 터져 게임판이 뒤바뀌자 바로 튕기면서 게임이 동기화에 실패했다면서 기록도 안남고 점수도 안오르더군요. 기록도 안남아 제가 스크린샷 밑 동영상 증거파일이 없습니다. 더 재밌는 서머너즈워 게임을 할 수 있게 이런 유저들 좀 밴해주세요. 제 경험상 저 메세지가 뜬 경우는 패치 했을때 뿐입니다. 그때마저도 그냥 멈춘상태지 저 메세지 까진 잘 안뜹니다. 제발 찾아서 밴 해주세요. 필요하시다면 제 인게임 이름하고 서버 알려드릴게요. 어렵겠지만 찾아서 제재 부탁드립니다. 감사합니다.    남겨주신 소중한 의견은 매일 확인하여 논의되고 있습니다. 감사합니다 :D\n"
     ]
    },
    {
     "name": "stderr",
     "output_type": "stream",
     "text": [
      " 96%|███████████████████████████████████████████████████████████████████████████████████████████████████████████████████     | 231/241 [22:12<01:58, 11.87s/it]"
     ]
    },
    {
     "name": "stdout",
     "output_type": "stream",
     "text": [
      "룬에 강화나 변환석 바를때 혹시 실레나 다른 몹이 이 룬을 끼고있는지 아닌지 헷갈립니다.룬을 공유하고 있는 몹도 같이 보여지도록 개선해주세요.EX. 불하그 주려고 치확을 효저 변환했는데, 알고보니 실레나에서 풍라클이 쓰던 룬이면 매우 난감한 상황 발생아래 처럼 해주시면 감사하겠습니다.   남겨주신 소중한 의견은 매일 확인하여 논의되고 있습니다. 감사합니다 :D\n"
     ]
    },
    {
     "name": "stderr",
     "output_type": "stream",
     "text": [
      " 96%|███████████████████████████████████████████████████████████████████████████████████████████████████████████████████▌    | 232/241 [22:25<01:49, 12.17s/it]"
     ]
    },
    {
     "name": "stdout",
     "output_type": "stream",
     "text": [
      " UI 변경 되면 좀 편할거같습니다    남겨주신 소중한 의견은 매일 확인하여 논의되고 있습니다. 감사합니다 :D\n"
     ]
    },
    {
     "name": "stderr",
     "output_type": "stream",
     "text": [
      " 97%|████████████████████████████████████████████████████████████████████████████████████████████████████████████████████    | 233/241 [22:37<01:39, 12.40s/it]"
     ]
    },
    {
     "name": "stdout",
     "output_type": "stream",
     "text": [
      "마을/ 실레나구분해서 창고에몹넣게해주셈 실레나에서 각컨텐츠에서 필요한몹만꺼내놓을수잇또록.   남겨주신 소중한 의견은 매일 확인하여 논의되고 있습니다. 감사합니다 :D\n"
     ]
    },
    {
     "name": "stderr",
     "output_type": "stream",
     "text": [
      " 97%|████████████████████████████████████████████████████████████████████████████████████████████████████████████████████▌   | 234/241 [22:50<01:27, 12.50s/it]"
     ]
    },
    {
     "name": "stdout",
     "output_type": "stream",
     "text": [
      "    기본 몬스터 창에서 사용할 수 있는 몬스터 창과 실레나에서 사용하는 몹스터 창 따로 구분해줬으면 합니다.현 시스템은 기본 리스트에서 창고 넣으면 실레나 몬스터도 창고에 들어가진 상태가 되는 형식인데실레나에서만 사용하는 몹이 따로 있고 던전(길전 점령전 등) 사용하는 몹이 다른데같이 공유하게 되어 상당히 불편합니다. 남겨주신 소중한 의견은 매일 확인하여 논의되고 있습니다. 감사합니다 :D\n"
     ]
    },
    {
     "name": "stderr",
     "output_type": "stream",
     "text": [
      " 98%|█████████████████████████████████████████████████████████████████████████████████████████████████████████████████████   | 235/241 [23:04<01:16, 12.80s/it]"
     ]
    },
    {
     "name": "stdout",
     "output_type": "stream",
     "text": [
      " 쓸몹만 뺴놓으면되는데 창고같은기능있게끔 해주세요    남겨주신 소중한 의견은 매일 확인하여 논의되고 있습니다. 감사합니다 :D\n"
     ]
    },
    {
     "name": "stderr",
     "output_type": "stream",
     "text": [
      " 98%|█████████████████████████████████████████████████████████████████████████████████████████████████████████████████████▌  | 236/241 [23:16<01:03, 12.76s/it]"
     ]
    },
    {
     "name": "stdout",
     "output_type": "stream",
     "text": [
      "  위 영상 보면 아시겠지만 채팅에 문제없고 인터넷에 문제없습니다.영상 이전부터 멈춤 현상이 있었구요 풍드루이드 패시브가 빠진상태인데 막상 저런 상태가 되니 멈춰버리네요 자동진행도 안되고 계속 멈춰있다가 그냥 짜증나서 종료 해버렸습니다. 결국 배치전 패배로 이어지고 명예도 못받네요.비록 스펙이 좋지도 않고 점수 욕심이 있는거는 아니지만 허탈해서 글올립니다.\n"
     ]
    },
    {
     "name": "stderr",
     "output_type": "stream",
     "text": [
      " 98%|██████████████████████████████████████████████████████████████████████████████████████████████████████████████████████  | 237/241 [23:24<00:44, 11.25s/it]"
     ]
    },
    {
     "name": "stdout",
     "output_type": "stream",
     "text": [
      "빨별,금별도 100개에서 증가 안함\n",
      "[빨별은 실레나 형변주니까 안줘도 될거같기도 하고]은별부터 형변석 100개 고정\n"
     ]
    },
    {
     "name": "stderr",
     "output_type": "stream",
     "text": [
      " 99%|██████████████████████████████████████████████████████████████████████████████████████████████████████████████████████▌ | 238/241 [23:33<00:31, 10.48s/it]"
     ]
    },
    {
     "name": "stdout",
     "output_type": "stream",
     "text": [
      " 고대의 결정을 보상에 추가하면 좋을것 같습니다. 너무 많지 않게 적당히. 실레나 주력으로 하시는 분들은 파밍 잘 못하니까 결정 주면 좋고 낮으신분들도 시즌 두세번정도하면 전설 연마 보석등 먹을수있게 갯수 조절 잘하면 좋을거같네요.     남겨주신 소중한 의견은 매일 확인하여 논의되고 있습니다. 감사합니다 :D\n"
     ]
    },
    {
     "name": "stderr",
     "output_type": "stream",
     "text": [
      " 99%|███████████████████████████████████████████████████████████████████████████████████████████████████████████████████████ | 239/241 [23:41<00:19,  9.89s/it]"
     ]
    },
    {
     "name": "stdout",
     "output_type": "stream",
     "text": [
      " 현 실레나 금3인데위로 두단계인 빨2 이기면 7점 얻고밑으로 한단계인 금2 만나면 13점 깍이고 이게 정상입니까?진짜 금2만 만나면 심장이 멈춰요 덱수준이 금2 금3이 차이 많겠어요?금3 빨2가 차이 많겠어요? 도대체 무슨 기준인지 진짜 할맛안나네요 남겨주신 소중한 의견은 매일 확인하여 논의되고 있습니다. 감사합니다 :D\n"
     ]
    },
    {
     "name": "stderr",
     "output_type": "stream",
     "text": [
      "100%|███████████████████████████████████████████████████████████████████████████████████████████████████████████████████████▌| 240/241 [23:49<00:09,  9.34s/it]"
     ]
    },
    {
     "name": "stdout",
     "output_type": "stream",
     "text": [
      "1.물극지,풍하프년들은 옛날부터 버그심했는데 고쳐주시고쫌 매커니즘을 1도모르겠네2.이거 진짜웃자고그런게아니라 진지하게 물발키리 머리색상 파란색으로좀바꿔주세요다른몹들은 자기속성에맞는 머리색,모자색상가지고있는데 왜얘는 노란색인가요? 풍발하고 개성차이가없음3.실레나마감보상 동1~3 형변석 은1~3 탈것인데 탈것 ㄹㅇ진짜 쓸모없자나요 차라리 형변석도 같이주던지 뭡니까저게+실레나하는이유가 저같은 섬토콘트리아아직아빠쪽에있는섬정자같은경우엔 금1달아서 날개오오라 하나만사자고하는사람들이 대다수일껍니다. 은3에 구매할수있게하면좋겠지만 그럼 개나소나다사게될것이고 실레나참여도가 오히려 더떨어질수있으니 별도의 개선부탁드립니다. 추가적으로 오오라or 연성석(이건오바긴한데 갑자기떠오름) 새로운거 추가해서 포인트좀 다양하게쓸수있게개선좀부탁드립니다.쫌 일좀하시죠 저말고도더 구체적인 예시와 분석한글올리시면서 건의하는데듣지도않고   남겨주신 소중한 의견은 매일 확인하여 논의되고 있습니다. 감사합니다 :D\n"
     ]
    },
    {
     "name": "stderr",
     "output_type": "stream",
     "text": [
      "100%|████████████████████████████████████████████████████████████████████████████████████████████████████████████████████████| 241/241 [24:06<00:00,  6.00s/it]\n"
     ]
    }
   ],
   "source": [
    "df_suggestion_arena = pd.DataFrame()\n",
    "\n",
    "index = 0\n",
    "for x in tqdm(range(index,len(df_suggestion_keyword_arena))):\n",
    "    browser.get(f\"{df_suggestion_keyword_arena['url'].iloc[x]}\")  \n",
    "\n",
    "    browser.implicitly_wait(5)\n",
    "    \n",
    "    # iframe 제거하는 코드 - iframe에 해당하는 css selector 입력하면 된다.\n",
    "    browser.switch_to.frame(\"cafe_main\")\n",
    "\n",
    "    # url\n",
    "    url = df_suggestion_keyword_arena['url'].iloc[x]\n",
    "\n",
    "    browser.implicitly_wait(5)\n",
    "    \n",
    "    try:\n",
    "        \n",
    "        # 본문 텍스트\n",
    "        contents = browser.find_elements(By.CSS_SELECTOR, value = \"div.se-text > div.se-component-content\")\n",
    "        content = \"\"\n",
    "        for y in range(len(contents)):\n",
    "            content = content + contents[y].text + \"\"\n",
    "\n",
    "        if content.strip() == \"\":\n",
    "            # 예외적인 페이지가 존재 1\n",
    "            contents = browser.find_elements(By.CSS_SELECTOR, value = \"div.ContentRenderer > div > p\")\n",
    "            content = \"\"\n",
    "            for y in range(0,len(contents)-1): # 마지막줄 : 남겨주신 소중한 의견은 매일 확인하여 논의되고 있습니다. 감사합니다 :D -> 이거때문에 -1\n",
    "                content = content + contents[y].text + \"\"\n",
    "\n",
    "            if content.strip() == \"\":\n",
    "\n",
    "                # 예외적인 페이지가 존재 2\n",
    "                contents = browser.find_elements(By.CSS_SELECTOR, value = \"div.NHN_Writeform_Main > p\")\n",
    "                content = \"\"\n",
    "                for y in range(len(contents)):\n",
    "                    content = content + contents[y].text + \"\"\n",
    "                    \n",
    "    except:\n",
    "        print(f\"{df_suggestion_keyword_arena['url'].iloc[x]}\")\n",
    "\n",
    "    print(content)\n",
    "    series_addition = {\"url\" : [url], \"content\" : [content]}\n",
    "    df_addition = pd.DataFrame(series_addition)\n",
    "    df_suggestion_arena = pd.concat([df_suggestion_arena, df_addition], ignore_index = True)\n",
    "\n",
    "    time.sleep(1)\n"
   ]
  },
  {
   "cell_type": "markdown",
   "id": "86a44ac8-78e9-4cdd-953a-015ea401e0ef",
   "metadata": {},
   "source": [
    "### 엑셀 내보내기"
   ]
  },
  {
   "cell_type": "code",
   "execution_count": 13,
   "id": "991be82b-f8d1-4acb-b851-b1ecccc3a9c7",
   "metadata": {},
   "outputs": [],
   "source": [
    "df_suggestion_rampage.to_excel(\"dataset/df_suggestion_rampage.xlsx\")\n",
    "df_suggestion_arena.to_excel(\"dataset/df_suggestion_arena.xlsx\")"
   ]
  },
  {
   "cell_type": "code",
   "execution_count": null,
   "id": "76af34df-f750-4c13-bd4c-49d7966ec636",
   "metadata": {},
   "outputs": [],
   "source": []
  }
 ],
 "metadata": {
  "kernelspec": {
   "display_name": "Python 3 (ipykernel)",
   "language": "python",
   "name": "python3"
  },
  "language_info": {
   "codemirror_mode": {
    "name": "ipython",
    "version": 3
   },
   "file_extension": ".py",
   "mimetype": "text/x-python",
   "name": "python",
   "nbconvert_exporter": "python",
   "pygments_lexer": "ipython3",
   "version": "3.11.6"
  }
 },
 "nbformat": 4,
 "nbformat_minor": 5
}
